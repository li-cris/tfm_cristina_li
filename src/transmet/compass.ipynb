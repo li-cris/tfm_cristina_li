{
 "cells": [
  {
   "cell_type": "markdown",
   "metadata": {},
   "source": [
    "# Computing Reaction Flux Penalties With Compass"
   ]
  },
  {
   "cell_type": "markdown",
   "metadata": {},
   "source": [
    "This notebook is computing the reaction flux penalties for the Norman dataset with Compass.\n",
    "We use the \"preprocessed\" variant of the Norman dataset.\n",
    "This variant was filtered to contain only those cells that were also used in GEARS."
   ]
  },
  {
   "cell_type": "code",
   "execution_count": null,
   "metadata": {},
   "outputs": [],
   "source": [
    "import os\n",
    "\n",
    "from pert_dataset import PertDataset\n",
    "from utils import get_git_root\n",
    "\n",
    "# Load the Norman dataset.\n",
    "norman_ds = PertDataset(\n",
    "    name=\"norman\",\n",
    "    variant=\"preprocessed\",\n",
    "    dir_path=os.path.join(get_git_root(), \"datasets\"),\n",
    ")\n",
    "print(norman_ds)\n",
    "\n",
    "# Normalize the dataset.\n",
    "norman_ds.normalize_(type=\"CPM\")\n",
    "\n",
    "# Export the first 100 samples from the dataset to a TSV file.\n",
    "tsv_file_path = os.path.join(norman_ds.path, \"100_samples.tsv\")\n",
    "norman_ds.export_tsv(file_path=tsv_file_path, n_samples=100)\n",
    "\n",
    "# Export the entire dataset to a TSV file.\n",
    "# tsv_file_path = os.path.join(norman_ds.path, \"all_samples.tsv\")\n",
    "# norman_ds.export_tsv(file_path=tsv_file_path)"
   ]
  },
  {
   "cell_type": "markdown",
   "metadata": {},
   "source": [
    "Use the following command to run Compass (adjust the number of processes/threads as required):\n",
    "\n",
    "```sh\n",
    "compass \\\n",
    "    --data 100_samples.tsv \\\n",
    "    --model RECON2_mat \\\n",
    "    --species homo_sapiens \\\n",
    "    --num_processes 1 \\\n",
    "    --num_threads 1\n",
    "```"
   ]
  }
 ],
 "metadata": {
  "kernelspec": {
   "display_name": ".venv",
   "language": "python",
   "name": "python3"
  },
  "language_info": {
   "codemirror_mode": {
    "name": "ipython",
    "version": 3
   },
   "file_extension": ".py",
   "mimetype": "text/x-python",
   "name": "python",
   "nbconvert_exporter": "python",
   "pygments_lexer": "ipython3",
   "version": "3.12.7"
  }
 },
 "nbformat": 4,
 "nbformat_minor": 2
}
