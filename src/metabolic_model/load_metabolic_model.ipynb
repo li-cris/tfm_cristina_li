{
 "cells": [
  {
   "cell_type": "code",
   "execution_count": 4,
   "metadata": {},
   "outputs": [],
   "source": [
    "import os\n",
    "import sys\n",
    "\n",
    "# Add the root of the project to sys.path.\n",
    "sys.path.append(os.path.abspath(os.path.join(os.getcwd(), \"..\")))\n",
    "\n",
    "from meta_pert_dataset import (\n",
    "    MetaPertDataset,\n",
    "    load_metabolic_model,\n",
    "    print_dataset_metabolic_info,\n",
    ")\n",
    "from models.metabolic_model_transmet import print_subsystems_stats\n",
    "\n",
    "from utils.filesystem import get_git_root"
   ]
  },
  {
   "cell_type": "markdown",
   "metadata": {},
   "source": [
    "### Load metabolic model"
   ]
  },
  {
   "cell_type": "markdown",
   "metadata": {},
   "source": [
    "The metabolic model object is reused in every dataset."
   ]
  },
  {
   "cell_type": "code",
   "execution_count": 3,
   "metadata": {},
   "outputs": [
    {
     "name": "stdout",
     "output_type": "stream",
     "text": [
      "Initializing metabolic model 'RECON2_mat' with the following parameters:\n",
      "  species: homo_sapiens\n",
      "  media: default-media\n",
      "  isoform_summing: remove-summing\n",
      "  exchange_limit: 1.0\n",
      "Metabolic model initialized successfully.\n",
      "Removing empty gene associations...\n",
      "Empty gene associations removed.\n",
      "Converting gene symbols to Ensembl IDs...\n",
      "Some genes are not found in the cache. Requesting missing genes from the internet.\n",
      "Missing genes length: 43\n",
      "Requesting Ensembl IDs for batch 1 from the internet.\n",
      "Warning: The following genes were not found in the response: ['COX2', 'ATP5G1', 'ND1', 'ATP5L', 'PPAP2B', 'ADSS', 'ND4L', 'FUK', 'SETD8', 'ATHL1', 'GUCY1A3', 'ATP5G3', 'ND4', 'ATP5C1', 'ATP5B', 'ADSSL1', 'CYTB', 'PPAP2C', 'MUT', 'ND5', 'ATP5D', 'COL4A3BP', 'GUCY1B3', 'ND6', 'ATP5J2', 'ZADH2', 'TSTA3', 'COX1', 'ALPPL2', 'ND3', 'ND2', 'G6PC', 'ATP5A1', 'ATP5J', 'AGPAT6', 'ATP5G2', 'PROSC', 'ATP5H', 'COX3', 'CCBL1', 'GBA', 'PYCRL', 'ATP5F1']\n",
      "Warning: The following genes were not cached: ['COX2', 'ATP5G1', 'ND1', 'ATP5L', 'PPAP2B', 'ADSS', 'ND4L', 'FUK', 'SETD8', 'ATHL1', 'GUCY1A3', 'ATP5G3', 'ND4', 'ATP5C1', 'ATP5B', 'ADSSL1', 'CYTB', 'PPAP2C', 'MUT', 'ND5', 'ATP5D', 'COL4A3BP', 'GUCY1B3', 'ND6', 'ATP5J2', 'ZADH2', 'TSTA3', 'COX1', 'ALPPL2', 'ND3', 'ND2', 'G6PC', 'ATP5A1', 'ATP5J', 'AGPAT6', 'ATP5G2', 'PROSC', 'ATP5H', 'COX3', 'CCBL1', 'GBA', 'PYCRL', 'ATP5F1']\n",
      "Gene symbols converted to Ensembl IDs.\n",
      "Metabolic model loading complete.\n",
      "MetabolicModelTransmet object\n",
      "    name: RECON2_mat\n",
      "    Total number of subsystems: 100\n",
      "    Total number of reactions: 10211\n",
      "    Total number of associated genes: 1404\n",
      "Subsystems Statistics Report\n",
      "========================================\n",
      "Total number of subsystems: 100\n",
      "----------------------------------------\n",
      "Average number of reactions per subsystem: 74.40\n",
      "Subsystem with the maximum reactions: 'Transport, extracellular' with 1550 reactions\n",
      "Subsystem with the minimum reactions: 'Stilbene, coumarine and lignin synthesis' with 2 reactions\n",
      "----------------------------------------\n",
      "Average number of genes per subsystem: 22.44\n",
      "Subsystem with the maximum genes: 'Transport, extracellular' with 196 genes\n",
      "Subsystem with the minimum genes: 'Transport, nuclear' with 0 genes\n",
      "========================================\n"
     ]
    }
   ],
   "source": [
    "# Load the metabolic model\n",
    "recon2_mat_model = load_metabolic_model(\"RECON2_mat\")\n",
    "\n",
    "print(recon2_mat_model)\n",
    "\n",
    "print_subsystems_stats(recon2_mat_model)"
   ]
  },
  {
   "cell_type": "markdown",
   "metadata": {},
   "source": [
    "## Metabolic analyses of the datasets"
   ]
  },
  {
   "cell_type": "markdown",
   "metadata": {},
   "source": [
    "### Norman dataset"
   ]
  },
  {
   "cell_type": "code",
   "execution_count": 6,
   "metadata": {},
   "outputs": [
    {
     "name": "stdout",
     "output_type": "stream",
     "text": [
      "Loading: /mnt/md0/data/gdufort/transmet/datasets/norman/preprocessed/adata.h5ad\n",
      "Using provided metabolic model for dataset 'norman' with variant 'preprocessed'.\n",
      "Metabolic Model Information Report\n",
      "========================================\n",
      "Number of metabolic genes in the perturbation dataset: 1357\n",
      "Number of metabolic genes among the most variable genes: 253\n",
      "Percentage of variance captured by highly variable genes among all genes: 22.08%\n",
      "Percentage of variance captured by metabolic genes among highly variable genes: 5.06%\n",
      "Number of subsystems with metabolic genes in the perturbation dataset: 96/100\n",
      "Number of subsystems with metabolic genes in the most variable genes: 76/100\n",
      "\n",
      "Top 10 Subsystems by Variance Captured:\n",
      "----------------------------------------\n",
      "Subsystem: Transport, extracellular, Variance: 725.17, Percentage of metabolic variance: 12.65%, Genes in Most Variable: 47/196\n",
      "Subsystem: Nucleotide interconversion, Variance: 364.85, Percentage of metabolic variance: 6.36%, Genes in Most Variable: 14/109\n",
      "Subsystem: Oxidative phosphorylation, Variance: 279.54, Percentage of metabolic variance: 4.88%, Genes in Most Variable: 4/90\n",
      "Subsystem: Glycerophospholipid metabolism, Variance: 214.74, Percentage of metabolic variance: 3.75%, Genes in Most Variable: 10/68\n",
      "Subsystem: Inositol phosphate metabolism, Variance: 210.88, Percentage of metabolic variance: 3.68%, Genes in Most Variable: 13/58\n",
      "Subsystem: Phosphatidylinositol phosphate metabolism, Variance: 179.65, Percentage of metabolic variance: 3.13%, Genes in Most Variable: 2/41\n",
      "Subsystem: Fatty acid oxidation, Variance: 176.63, Percentage of metabolic variance: 3.08%, Genes in Most Variable: 15/61\n",
      "Subsystem: Sphingolipid metabolism, Variance: 166.68, Percentage of metabolic variance: 2.91%, Genes in Most Variable: 9/41\n",
      "Subsystem: Chondroitin synthesis, Variance: 157.19, Percentage of metabolic variance: 2.74%, Genes in Most Variable: 8/41\n",
      "Subsystem: Glycolysis/gluconeogenesis, Variance: 155.78, Percentage of metabolic variance: 2.72%, Genes in Most Variable: 18/71\n",
      "\n",
      "Total percentage of metabolic variance captured by the top 10 subsystems: 45.89%\n",
      "========================================\n"
     ]
    }
   ],
   "source": [
    "# Load the Norman dataset with the RECON2 metabolic model\n",
    "norman_meta_ds = MetaPertDataset(\n",
    "    name=\"norman\",\n",
    "    variant=\"preprocessed\",\n",
    "    dir_path=os.path.join(get_git_root(), \"datasets\"),\n",
    "    metabolic_model=recon2_mat_model,\n",
    ")\n",
    "# You can optionally directly load a model inside the class by setting\n",
    "# model_name=\"RECON2_mat\"\n",
    "\n",
    "# Normalize the dataset.\n",
    "norman_meta_ds.normalize_(type=\"CPM\")\n",
    "# Adds information about the most variable genes to the dataset.\n",
    "norman_meta_ds.most_variable_genes(n_top_genes=5000)\n",
    "\n",
    "print_dataset_metabolic_info(norman_meta_ds, top_n_subsystems=10)"
   ]
  },
  {
   "cell_type": "markdown",
   "metadata": {},
   "source": [
    "### Dixit dataset"
   ]
  },
  {
   "cell_type": "code",
   "execution_count": 5,
   "metadata": {},
   "outputs": [
    {
     "name": "stdout",
     "output_type": "stream",
     "text": [
      "Loading: /mnt/md0/data/gdufort/transmet/datasets/dixit/preprocessed/adata.h5ad\n",
      "Metabolic Model Information Report\n",
      "========================================\n",
      "Number of metabolic genes in the perturbation dataset: 1237\n",
      "Number of metabolic genes among the most variable genes: 337\n",
      "Percentage of variance captured by highly variable genes among all genes: 22.93%\n",
      "Percentage of variance captured by metabolic genes among highly variable genes: 6.75%\n",
      "Number of subsystems with metabolic genes in the perturbation dataset: 95\n",
      "Number of subsystems with metabolic genes in the most variable genes: 86\n",
      "\n",
      "Top 20 Subsystems by Variance Captured:\n",
      "----------------------------------------\n",
      "Subsystem: Transport, extracellular, Variance: 660.06, Percentage of metabolic variance: 12.34%, Genes in Most Variable: 62/196\n",
      "Subsystem: Nucleotide interconversion, Variance: 336.42, Percentage of metabolic variance: 6.29%, Genes in Most Variable: 14/109\n",
      "Subsystem: Oxidative phosphorylation, Variance: 267.24, Percentage of metabolic variance: 5.00%, Genes in Most Variable: 4/90\n",
      "Subsystem: Glycerophospholipid metabolism, Variance: 200.93, Percentage of metabolic variance: 3.76%, Genes in Most Variable: 6/68\n",
      "Subsystem: Inositol phosphate metabolism, Variance: 189.35, Percentage of metabolic variance: 3.54%, Genes in Most Variable: 7/58\n",
      "Subsystem: Phosphatidylinositol phosphate metabolism, Variance: 161.35, Percentage of metabolic variance: 3.02%, Genes in Most Variable: 7/41\n",
      "Subsystem: Fatty acid oxidation, Variance: 159.32, Percentage of metabolic variance: 2.98%, Genes in Most Variable: 14/61\n",
      "Subsystem: Sphingolipid metabolism, Variance: 150.32, Percentage of metabolic variance: 2.81%, Genes in Most Variable: 16/41\n",
      "Subsystem: N-glycan synthesis, Variance: 141.15, Percentage of metabolic variance: 2.64%, Genes in Most Variable: 21/36\n",
      "Subsystem: Chondroitin synthesis, Variance: 139.50, Percentage of metabolic variance: 2.61%, Genes in Most Variable: 10/41\n",
      "Subsystem: Glycolysis/gluconeogenesis, Variance: 139.02, Percentage of metabolic variance: 2.60%, Genes in Most Variable: 15/71\n",
      "Subsystem: Methionine and cysteine metabolism, Variance: 118.24, Percentage of metabolic variance: 2.21%, Genes in Most Variable: 5/29\n",
      "Subsystem: Transport, lysosomal, Variance: 114.80, Percentage of metabolic variance: 2.15%, Genes in Most Variable: 7/27\n",
      "Subsystem: Transport, mitochondrial, Variance: 108.38, Percentage of metabolic variance: 2.03%, Genes in Most Variable: 4/30\n",
      "Subsystem: Tryptophan metabolism, Variance: 105.73, Percentage of metabolic variance: 1.98%, Genes in Most Variable: 13/45\n",
      "Subsystem: Cholesterol metabolism, Variance: 95.75, Percentage of metabolic variance: 1.79%, Genes in Most Variable: 14/28\n",
      "Subsystem: Pyrimidine catabolism, Variance: 90.42, Percentage of metabolic variance: 1.69%, Genes in Most Variable: 3/23\n",
      "Subsystem: Aminosugar metabolism, Variance: 89.88, Percentage of metabolic variance: 1.68%, Genes in Most Variable: 4/26\n",
      "Subsystem: Pentose phosphate pathway, Variance: 87.42, Percentage of metabolic variance: 1.63%, Genes in Most Variable: 1/21\n",
      "Subsystem: beta-Alanine metabolism, Variance: 86.39, Percentage of metabolic variance: 1.61%, Genes in Most Variable: 7/20\n",
      "\n",
      "Total percentage of metabolic variance captured by the top 20 subsystems: 64.33%\n",
      "========================================\n"
     ]
    }
   ],
   "source": [
    "# Load the Dixit dataset with the RECON2 metabolic model\n",
    "dixit_meta_ds = MetaPertDataset(\n",
    "    name=\"dixit\",\n",
    "    variant=\"preprocessed\",\n",
    "    dir_path=os.path.join(get_git_root(), \"datasets\"),\n",
    "    metabolic_model=recon2_mat_model,\n",
    ")\n",
    "\n",
    "# Normalize the dataset.\n",
    "dixit_meta_ds.normalize_(type=\"CPM\")\n",
    "# Adds information about the most variable genes to the dataset.\n",
    "dixit_meta_ds.most_variable_genes(n_top_genes=5000)\n",
    "# Print the dataset metabolic information.\n",
    "print_dataset_metabolic_info(dixit_meta_ds, top_n_subsystems=20)"
   ]
  },
  {
   "cell_type": "markdown",
   "metadata": {},
   "source": [
    "### Adamson"
   ]
  },
  {
   "cell_type": "code",
   "execution_count": 6,
   "metadata": {},
   "outputs": [
    {
     "name": "stdout",
     "output_type": "stream",
     "text": [
      "Loading: /mnt/md0/data/gdufort/transmet/datasets/adamson/preprocessed/adata.h5ad\n"
     ]
    },
    {
     "name": "stderr",
     "output_type": "stream",
     "text": [
      "/home/gdufort/miniconda3/envs/pytorch/lib/python3.12/site-packages/anndata/_core/anndata.py:1818: UserWarning: Observation names are not unique. To make them unique, call `.obs_names_make_unique`.\n",
      "  utils.warn_names_duplicates(\"obs\")\n",
      "/home/gdufort/miniconda3/envs/pytorch/lib/python3.12/site-packages/anndata/_core/anndata.py:1818: UserWarning: Observation names are not unique. To make them unique, call `.obs_names_make_unique`.\n",
      "  utils.warn_names_duplicates(\"obs\")\n"
     ]
    },
    {
     "name": "stdout",
     "output_type": "stream",
     "text": [
      "Metabolic Model Information Report\n",
      "========================================\n",
      "Number of metabolic genes in the perturbation dataset: 1349\n",
      "Number of metabolic genes among the most variable genes: 236\n",
      "Percentage of variance captured by highly variable genes among all genes: 23.12%\n",
      "Percentage of variance captured by metabolic genes among highly variable genes: 4.72%\n",
      "Number of subsystems with metabolic genes in the perturbation dataset: 96\n",
      "Number of subsystems with metabolic genes in the most variable genes: 81\n",
      "\n",
      "Top 20 Subsystems by Variance Captured:\n",
      "----------------------------------------\n",
      "Subsystem: Transport, extracellular, Variance: 655.44, Percentage of metabolic variance: 12.31%, Genes in Most Variable: 42/196\n",
      "Subsystem: Nucleotide interconversion, Variance: 365.19, Percentage of metabolic variance: 6.86%, Genes in Most Variable: 22/109\n",
      "Subsystem: Oxidative phosphorylation, Variance: 278.20, Percentage of metabolic variance: 5.22%, Genes in Most Variable: 2/90\n",
      "Subsystem: Glycerophospholipid metabolism, Variance: 200.33, Percentage of metabolic variance: 3.76%, Genes in Most Variable: 7/68\n",
      "Subsystem: Inositol phosphate metabolism, Variance: 189.93, Percentage of metabolic variance: 3.57%, Genes in Most Variable: 9/58\n",
      "Subsystem: Phosphatidylinositol phosphate metabolism, Variance: 162.21, Percentage of metabolic variance: 3.05%, Genes in Most Variable: 4/41\n",
      "Subsystem: Fatty acid oxidation, Variance: 161.56, Percentage of metabolic variance: 3.03%, Genes in Most Variable: 15/61\n",
      "Subsystem: Sphingolipid metabolism, Variance: 158.40, Percentage of metabolic variance: 2.97%, Genes in Most Variable: 6/41\n",
      "Subsystem: Glycolysis/gluconeogenesis, Variance: 144.55, Percentage of metabolic variance: 2.71%, Genes in Most Variable: 13/71\n",
      "Subsystem: N-glycan synthesis, Variance: 137.27, Percentage of metabolic variance: 2.58%, Genes in Most Variable: 5/36\n",
      "Subsystem: Chondroitin synthesis, Variance: 133.17, Percentage of metabolic variance: 2.50%, Genes in Most Variable: 3/41\n",
      "Subsystem: Methionine and cysteine metabolism, Variance: 120.60, Percentage of metabolic variance: 2.26%, Genes in Most Variable: 5/29\n",
      "Subsystem: Transport, lysosomal, Variance: 111.69, Percentage of metabolic variance: 2.10%, Genes in Most Variable: 5/27\n",
      "Subsystem: Transport, mitochondrial, Variance: 108.78, Percentage of metabolic variance: 2.04%, Genes in Most Variable: 2/30\n",
      "Subsystem: Tryptophan metabolism, Variance: 103.87, Percentage of metabolic variance: 1.95%, Genes in Most Variable: 15/45\n",
      "Subsystem: Aminosugar metabolism, Variance: 100.27, Percentage of metabolic variance: 1.88%, Genes in Most Variable: 4/26\n",
      "Subsystem: Cholesterol metabolism, Variance: 99.49, Percentage of metabolic variance: 1.87%, Genes in Most Variable: 9/28\n",
      "Subsystem: Pentose phosphate pathway, Variance: 88.74, Percentage of metabolic variance: 1.67%, Genes in Most Variable: 4/21\n",
      "Subsystem: Pyrimidine catabolism, Variance: 88.32, Percentage of metabolic variance: 1.66%, Genes in Most Variable: 4/23\n",
      "Subsystem: Lysine metabolism, Variance: 83.42, Percentage of metabolic variance: 1.57%, Genes in Most Variable: 3/32\n",
      "\n",
      "Total percentage of metabolic variance captured by the top 20 subsystems: 65.56%\n",
      "========================================\n"
     ]
    }
   ],
   "source": [
    "# Load the Adamson dataset with the RECON2 metabolic model\n",
    "adamson_meta_ds = MetaPertDataset(\n",
    "    name=\"adamson\",\n",
    "    variant=\"preprocessed\",\n",
    "    dir_path=os.path.join(get_git_root(), \"datasets\"),\n",
    "    metabolic_model=recon2_mat_model,\n",
    ")\n",
    "\n",
    "# Normalize the dataset.\n",
    "adamson_meta_ds.normalize_(type=\"CPM\")\n",
    "# Adds information about the most variable genes to the dataset.\n",
    "adamson_meta_ds.most_variable_genes(n_top_genes=5000)\n",
    "# Print the dataset metabolic information\n",
    "print_dataset_metabolic_info(adamson_meta_ds, top_n_subsystems=20)"
   ]
  },
  {
   "cell_type": "markdown",
   "metadata": {},
   "source": [
    "### Replogle rpe1"
   ]
  },
  {
   "cell_type": "code",
   "execution_count": 9,
   "metadata": {},
   "outputs": [
    {
     "name": "stdout",
     "output_type": "stream",
     "text": [
      "Loading: /mnt/md0/data/gdufort/transmet/datasets/replogle_rpe1_essential/preprocessed/adata.h5ad\n",
      "Metabolic Model Information Report\n",
      "========================================\n",
      "Number of metabolic genes in the perturbation dataset: 709\n",
      "Number of metabolic genes among the most variable genes: 345\n",
      "Percentage of variance captured by highly variable genes among all genes: 57.89%\n",
      "Percentage of variance captured by metabolic genes among highly variable genes: 6.89%\n",
      "Number of subsystems with metabolic genes in the perturbation dataset: 88\n",
      "Number of subsystems with metabolic genes in the most variable genes: 84\n",
      "\n",
      "Top 20 Subsystems by Variance Captured:\n",
      "----------------------------------------\n",
      "Subsystem: Oxidative phosphorylation, Variance: 261.85, Percentage of metabolic variance: 7.91%, Genes in Most Variable: 3/90\n",
      "Subsystem: Nucleotide interconversion, Variance: 217.08, Percentage of metabolic variance: 6.56%, Genes in Most Variable: 29/109\n",
      "Subsystem: Transport, extracellular, Variance: 199.55, Percentage of metabolic variance: 6.03%, Genes in Most Variable: 33/196\n",
      "Subsystem: Phosphatidylinositol phosphate metabolism, Variance: 137.19, Percentage of metabolic variance: 4.14%, Genes in Most Variable: 12/41\n",
      "Subsystem: Glycerophospholipid metabolism, Variance: 124.39, Percentage of metabolic variance: 3.76%, Genes in Most Variable: 17/68\n",
      "Subsystem: Glycolysis/gluconeogenesis, Variance: 108.46, Percentage of metabolic variance: 3.28%, Genes in Most Variable: 20/71\n",
      "Subsystem: N-glycan synthesis, Variance: 106.37, Percentage of metabolic variance: 3.21%, Genes in Most Variable: 6/36\n",
      "Subsystem: Chondroitin synthesis, Variance: 101.05, Percentage of metabolic variance: 3.05%, Genes in Most Variable: 12/41\n",
      "Subsystem: Fatty acid oxidation, Variance: 96.67, Percentage of metabolic variance: 2.92%, Genes in Most Variable: 16/61\n",
      "Subsystem: Inositol phosphate metabolism, Variance: 93.26, Percentage of metabolic variance: 2.82%, Genes in Most Variable: 18/58\n",
      "Subsystem: Cholesterol metabolism, Variance: 89.21, Percentage of metabolic variance: 2.69%, Genes in Most Variable: 18/28\n",
      "Subsystem: Methionine and cysteine metabolism, Variance: 82.85, Percentage of metabolic variance: 2.50%, Genes in Most Variable: 10/29\n",
      "Subsystem: Transport, lysosomal, Variance: 75.52, Percentage of metabolic variance: 2.28%, Genes in Most Variable: 11/27\n",
      "Subsystem: Sphingolipid metabolism, Variance: 74.38, Percentage of metabolic variance: 2.25%, Genes in Most Variable: 11/41\n",
      "Subsystem: Transport, mitochondrial, Variance: 73.60, Percentage of metabolic variance: 2.22%, Genes in Most Variable: 8/30\n",
      "Subsystem: Citric acid cycle, Variance: 73.52, Percentage of metabolic variance: 2.22%, Genes in Most Variable: 6/28\n",
      "Subsystem: Pentose phosphate pathway, Variance: 70.72, Percentage of metabolic variance: 2.14%, Genes in Most Variable: 7/21\n",
      "Subsystem: Aminosugar metabolism, Variance: 65.40, Percentage of metabolic variance: 1.98%, Genes in Most Variable: 11/26\n",
      "Subsystem: Lysine metabolism, Variance: 64.22, Percentage of metabolic variance: 1.94%, Genes in Most Variable: 9/32\n",
      "Subsystem: Pyrimidine catabolism, Variance: 56.69, Percentage of metabolic variance: 1.71%, Genes in Most Variable: 8/23\n",
      "\n",
      "Total percentage of metabolic variance captured by the top 20 subsystems: 65.61%\n",
      "========================================\n"
     ]
    }
   ],
   "source": [
    "# Load the Replogle K562 dataset with the RECON2 metabolic model\n",
    "replogle_rpe1_meta_ds = MetaPertDataset(\n",
    "    name=\"replogle_rpe1_essential\",\n",
    "    variant=\"preprocessed\",\n",
    "    dir_path=os.path.join(get_git_root(), \"datasets\"),\n",
    "    metabolic_model=recon2_mat_model,\n",
    ")\n",
    "\n",
    "# Normalize the dataset.\n",
    "replogle_rpe1_meta_ds.normalize_(type=\"CPM\")\n",
    "# Adds information about the most variable genes to the dataset.\n",
    "replogle_rpe1_meta_ds.most_variable_genes(n_top_genes=5000)\n",
    "# Print the dataset metabolic information\n",
    "print_dataset_metabolic_info(replogle_rpe1_meta_ds, top_n_subsystems=20)\n"
   ]
  },
  {
   "cell_type": "markdown",
   "metadata": {},
   "source": [
    "### Replogle K562"
   ]
  },
  {
   "cell_type": "code",
   "execution_count": 10,
   "metadata": {},
   "outputs": [
    {
     "name": "stdout",
     "output_type": "stream",
     "text": [
      "Loading: /mnt/md0/data/gdufort/transmet/datasets/replogle_k562_essential/preprocessed/adata.h5ad\n",
      "Metabolic Model Information Report\n",
      "========================================\n",
      "Number of metabolic genes in the perturbation dataset: 680\n",
      "Number of metabolic genes among the most variable genes: 348\n",
      "Percentage of variance captured by highly variable genes among all genes: 59.07%\n",
      "Percentage of variance captured by metabolic genes among highly variable genes: 6.95%\n",
      "Number of subsystems with metabolic genes in the perturbation dataset: 90\n",
      "Number of subsystems with metabolic genes in the most variable genes: 86\n",
      "\n",
      "Top 20 Subsystems by Variance Captured:\n",
      "----------------------------------------\n",
      "Subsystem: Oxidative phosphorylation, Variance: 264.29, Percentage of metabolic variance: 8.41%, Genes in Most Variable: 20/90\n",
      "Subsystem: Nucleotide interconversion, Variance: 186.56, Percentage of metabolic variance: 5.94%, Genes in Most Variable: 23/109\n",
      "Subsystem: Transport, extracellular, Variance: 182.84, Percentage of metabolic variance: 5.82%, Genes in Most Variable: 28/196\n",
      "Subsystem: Phosphatidylinositol phosphate metabolism, Variance: 133.03, Percentage of metabolic variance: 4.23%, Genes in Most Variable: 16/41\n",
      "Subsystem: N-glycan synthesis, Variance: 128.69, Percentage of metabolic variance: 4.10%, Genes in Most Variable: 16/36\n",
      "Subsystem: Glycerophospholipid metabolism, Variance: 110.24, Percentage of metabolic variance: 3.51%, Genes in Most Variable: 15/68\n",
      "Subsystem: Glycolysis/gluconeogenesis, Variance: 103.88, Percentage of metabolic variance: 3.31%, Genes in Most Variable: 14/71\n",
      "Subsystem: Cholesterol metabolism, Variance: 99.34, Percentage of metabolic variance: 3.16%, Genes in Most Variable: 22/28\n",
      "Subsystem: Inositol phosphate metabolism, Variance: 94.77, Percentage of metabolic variance: 3.02%, Genes in Most Variable: 23/58\n",
      "Subsystem: Methionine and cysteine metabolism, Variance: 93.30, Percentage of metabolic variance: 2.97%, Genes in Most Variable: 11/29\n",
      "Subsystem: Transport, lysosomal, Variance: 75.31, Percentage of metabolic variance: 2.40%, Genes in Most Variable: 13/27\n",
      "Subsystem: Fatty acid oxidation, Variance: 74.40, Percentage of metabolic variance: 2.37%, Genes in Most Variable: 20/61\n",
      "Subsystem: Sphingolipid metabolism, Variance: 74.27, Percentage of metabolic variance: 2.36%, Genes in Most Variable: 12/41\n",
      "Subsystem: Transport, mitochondrial, Variance: 73.36, Percentage of metabolic variance: 2.34%, Genes in Most Variable: 5/30\n",
      "Subsystem: Citric acid cycle, Variance: 73.24, Percentage of metabolic variance: 2.33%, Genes in Most Variable: 4/28\n",
      "Subsystem: Lysine metabolism, Variance: 68.90, Percentage of metabolic variance: 2.19%, Genes in Most Variable: 7/32\n",
      "Subsystem: Chondroitin synthesis, Variance: 64.04, Percentage of metabolic variance: 2.04%, Genes in Most Variable: 9/41\n",
      "Subsystem: Pentose phosphate pathway, Variance: 60.09, Percentage of metabolic variance: 1.91%, Genes in Most Variable: 5/21\n",
      "Subsystem: Aminosugar metabolism, Variance: 59.88, Percentage of metabolic variance: 1.91%, Genes in Most Variable: 8/26\n",
      "Subsystem: O-glycan synthesis, Variance: 51.07, Percentage of metabolic variance: 1.63%, Genes in Most Variable: 10/22\n",
      "\n",
      "Total percentage of metabolic variance captured by the top 20 subsystems: 65.94%\n",
      "========================================\n"
     ]
    }
   ],
   "source": [
    "# Load the Replogle K562 dataset with the RECON2 metabolic model\n",
    "replogle_k562_meta_ds = MetaPertDataset(\n",
    "    name=\"replogle_k562_essential\",\n",
    "    variant=\"preprocessed\",\n",
    "    dir_path=os.path.join(get_git_root(), \"datasets\"),\n",
    "    metabolic_model=recon2_mat_model,\n",
    ")\n",
    "\n",
    "# Normalize the dataset.\n",
    "replogle_k562_meta_ds.normalize_(type=\"CPM\")\n",
    "# Adds information about the most variable genes to the dataset.\n",
    "replogle_k562_meta_ds.most_variable_genes(n_top_genes=5000)\n",
    "# Print the dataset metabolic information\n",
    "print_dataset_metabolic_info(replogle_k562_meta_ds, top_n_subsystems=20)"
   ]
  }
 ],
 "metadata": {
  "kernelspec": {
   "display_name": "pytorch",
   "language": "python",
   "name": "python3"
  },
  "language_info": {
   "codemirror_mode": {
    "name": "ipython",
    "version": 3
   },
   "file_extension": ".py",
   "mimetype": "text/x-python",
   "name": "python",
   "nbconvert_exporter": "python",
   "pygments_lexer": "ipython3",
   "version": "3.12.2"
  }
 },
 "nbformat": 4,
 "nbformat_minor": 2
}
