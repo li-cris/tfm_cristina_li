{
 "cells": [
  {
   "cell_type": "code",
   "execution_count": 4,
   "metadata": {},
   "outputs": [],
   "source": [
    "import os\n",
    "import sys\n",
    "\n",
    "# Add the root of the project to sys.path.\n",
    "sys.path.append(os.path.abspath(os.path.join(os.getcwd(), \"..\")))\n",
    "\n",
    "from meta_pert_dataset import (\n",
    "    MetaPertDataset,\n",
    "    load_metabolic_model,\n",
    "    plot_subsystem_graph,\n",
    "    print_dataset_metabolic_info,\n",
    ")\n",
    "from models.metabolic_model_transmet import print_subsystems_stats\n",
    "\n",
    "from utils.filesystem import get_git_root"
   ]
  },
  {
   "cell_type": "markdown",
   "metadata": {},
   "source": [
    "### Load metabolic model"
   ]
  },
  {
   "cell_type": "markdown",
   "metadata": {},
   "source": [
    "The metabolic model object is reused in every dataset."
   ]
  },
  {
   "cell_type": "code",
   "execution_count": null,
   "metadata": {},
   "outputs": [],
   "source": [
    "# Load the metabolic model\n",
    "recon2_mat_model = load_metabolic_model(\"RECON2_mat\")\n",
    "\n",
    "print(recon2_mat_model)\n",
    "\n",
    "print_subsystems_stats(recon2_mat_model)"
   ]
  },
  {
   "cell_type": "markdown",
   "metadata": {},
   "source": [
    "## Metabolic analyses of the datasets"
   ]
  },
  {
   "cell_type": "markdown",
   "metadata": {},
   "source": [
    "### Norman dataset"
   ]
  },
  {
   "cell_type": "code",
   "execution_count": null,
   "metadata": {},
   "outputs": [],
   "source": [
    "# Load the Norman dataset with the RECON2 metabolic model\n",
    "norman_meta_ds = MetaPertDataset(\n",
    "    name=\"norman\",\n",
    "    variant=\"preprocessed\",\n",
    "    dir_path=os.path.join(get_git_root(), \"datasets\"),\n",
    "    metabolic_model=recon2_mat_model,\n",
    ")\n",
    "# You can optionally directly load a model inside the class by setting\n",
    "# model_name=\"RECON2_mat\"\n",
    "\n",
    "# Normalize the dataset.\n",
    "norman_meta_ds.normalize_(type=\"CPM\")\n",
    "# Adds information about the most variable genes to the dataset.\n",
    "norman_meta_ds.most_variable_genes(n_top_genes=5000)\n",
    "\n",
    "print_dataset_metabolic_info(norman_meta_ds, top_n_subsystems=10)"
   ]
  },
  {
   "cell_type": "code",
   "execution_count": null,
   "metadata": {},
   "outputs": [],
   "source": [
    "plot_subsystem_graph(\n",
    "    \"Chondroitin synthesis\",\n",
    "    norman_meta_ds,\n",
    "    base_figsize=(5, 5),\n",
    "    omit_single_direction_metabolites=True,\n",
    "    differentiate_highly_variable_genes=True,\n",
    ")"
   ]
  },
  {
   "cell_type": "markdown",
   "metadata": {},
   "source": [
    "### Dixit dataset"
   ]
  },
  {
   "cell_type": "code",
   "execution_count": null,
   "metadata": {},
   "outputs": [],
   "source": [
    "# Load the Dixit dataset with the RECON2 metabolic model\n",
    "dixit_meta_ds = MetaPertDataset(\n",
    "    name=\"dixit\",\n",
    "    variant=\"preprocessed\",\n",
    "    dir_path=os.path.join(get_git_root(), \"datasets\"),\n",
    "    metabolic_model=recon2_mat_model,\n",
    ")\n",
    "\n",
    "# Normalize the dataset.\n",
    "dixit_meta_ds.normalize_(type=\"CPM\")\n",
    "# Adds information about the most variable genes to the dataset.\n",
    "dixit_meta_ds.most_variable_genes(n_top_genes=5000)\n",
    "# Print the dataset metabolic information.\n",
    "print_dataset_metabolic_info(dixit_meta_ds, top_n_subsystems=20)"
   ]
  },
  {
   "cell_type": "markdown",
   "metadata": {},
   "source": [
    "### Adamson"
   ]
  },
  {
   "cell_type": "code",
   "execution_count": null,
   "metadata": {},
   "outputs": [],
   "source": [
    "# Load the Adamson dataset with the RECON2 metabolic model\n",
    "adamson_meta_ds = MetaPertDataset(\n",
    "    name=\"adamson\",\n",
    "    variant=\"preprocessed\",\n",
    "    dir_path=os.path.join(get_git_root(), \"datasets\"),\n",
    "    metabolic_model=recon2_mat_model,\n",
    ")\n",
    "\n",
    "# Normalize the dataset.\n",
    "adamson_meta_ds.normalize_(type=\"CPM\")\n",
    "# Adds information about the most variable genes to the dataset.\n",
    "adamson_meta_ds.most_variable_genes(n_top_genes=5000)\n",
    "# Print the dataset metabolic information\n",
    "print_dataset_metabolic_info(adamson_meta_ds, top_n_subsystems=20)"
   ]
  },
  {
   "cell_type": "markdown",
   "metadata": {},
   "source": [
    "### Replogle rpe1"
   ]
  },
  {
   "cell_type": "code",
   "execution_count": null,
   "metadata": {},
   "outputs": [],
   "source": [
    "# Load the Replogle K562 dataset with the RECON2 metabolic model\n",
    "replogle_rpe1_meta_ds = MetaPertDataset(\n",
    "    name=\"replogle_rpe1_essential\",\n",
    "    variant=\"preprocessed\",\n",
    "    dir_path=os.path.join(get_git_root(), \"datasets\"),\n",
    "    metabolic_model=recon2_mat_model,\n",
    ")\n",
    "\n",
    "# Normalize the dataset.\n",
    "replogle_rpe1_meta_ds.normalize_(type=\"CPM\")\n",
    "# Adds information about the most variable genes to the dataset.\n",
    "replogle_rpe1_meta_ds.most_variable_genes(n_top_genes=5000)\n",
    "# Print the dataset metabolic information\n",
    "print_dataset_metabolic_info(replogle_rpe1_meta_ds, top_n_subsystems=20)\n"
   ]
  },
  {
   "cell_type": "markdown",
   "metadata": {},
   "source": [
    "### Replogle K562"
   ]
  },
  {
   "cell_type": "code",
   "execution_count": null,
   "metadata": {},
   "outputs": [],
   "source": [
    "# Load the Replogle K562 dataset with the RECON2 metabolic model\n",
    "replogle_k562_meta_ds = MetaPertDataset(\n",
    "    name=\"replogle_k562_essential\",\n",
    "    variant=\"preprocessed\",\n",
    "    dir_path=os.path.join(get_git_root(), \"datasets\"),\n",
    "    metabolic_model=recon2_mat_model,\n",
    ")\n",
    "\n",
    "# Normalize the dataset.\n",
    "replogle_k562_meta_ds.normalize_(type=\"CPM\")\n",
    "# Adds information about the most variable genes to the dataset.\n",
    "replogle_k562_meta_ds.most_variable_genes(n_top_genes=5000)\n",
    "# Print the dataset metabolic information\n",
    "print_dataset_metabolic_info(replogle_k562_meta_ds, top_n_subsystems=20)"
   ]
  }
 ],
 "metadata": {
  "kernelspec": {
   "display_name": "pytorch",
   "language": "python",
   "name": "python3"
  },
  "language_info": {
   "codemirror_mode": {
    "name": "ipython",
    "version": 3
   },
   "file_extension": ".py",
   "mimetype": "text/x-python",
   "name": "python",
   "nbconvert_exporter": "python",
   "pygments_lexer": "ipython3",
   "version": "3.12.2"
  }
 },
 "nbformat": 4,
 "nbformat_minor": 2
}
