{
 "cells": [
  {
   "cell_type": "code",
   "execution_count": 1,
   "metadata": {},
   "outputs": [],
   "source": [
    "import os\n",
    "import sys\n",
    "\n",
    "# Add the root of the project to sys.path.\n",
    "sys.path.append(os.path.abspath(os.path.join(os.getcwd(), \"..\")))\n",
    "from graph_visualization import plot_subsystem_graph\n",
    "from meta_pert_dataset import MetaPertDataset\n",
    "from metabolic_utils import print_dataset_metabolic_info, print_subsystems_stats\n",
    "from models import init_model_transmet\n",
    "\n",
    "from utils.filesystem import get_git_root"
   ]
  },
  {
   "cell_type": "markdown",
   "metadata": {},
   "source": [
    "### Load metabolic model"
   ]
  },
  {
   "cell_type": "markdown",
   "metadata": {},
   "source": [
    "The metabolic model object is reused in every dataset."
   ]
  },
  {
   "cell_type": "code",
   "execution_count": null,
   "metadata": {},
   "outputs": [],
   "source": [
    "# Load the metabolic model\n",
    "recon2_mat_model = init_model_transmet(\"RECON2_mat\")"
   ]
  },
  {
   "cell_type": "code",
   "execution_count": null,
   "metadata": {},
   "outputs": [],
   "source": [
    "print(recon2_mat_model)"
   ]
  },
  {
   "cell_type": "code",
   "execution_count": null,
   "metadata": {},
   "outputs": [],
   "source": [
    "print_subsystems_stats(recon2_mat_model)"
   ]
  },
  {
   "cell_type": "markdown",
   "metadata": {},
   "source": [
    "## Metabolic analyses of the datasets"
   ]
  },
  {
   "cell_type": "markdown",
   "metadata": {},
   "source": [
    "### Norman dataset"
   ]
  },
  {
   "cell_type": "code",
   "execution_count": null,
   "metadata": {},
   "outputs": [],
   "source": [
    "# Load the Norman dataset with the RECON2 metabolic model\n",
    "norman_meta_ds = MetaPertDataset(\n",
    "    name=\"norman\",\n",
    "    variant=\"preprocessed\",\n",
    "    dir_path=os.path.join(get_git_root(), \"datasets\"),\n",
    "    metabolic_model=recon2_mat_model,\n",
    ")\n",
    "# You can optionally directly load a model inside the class by setting\n",
    "# model_name=\"RECON2_mat\""
   ]
  },
  {
   "cell_type": "code",
   "execution_count": null,
   "metadata": {},
   "outputs": [],
   "source": [
    "# Normalize the dataset.\n",
    "norman_meta_ds.normalize_(type=\"CPM\")\n",
    "# Adds information about the most variable genes to the dataset.\n",
    "norman_meta_ds.most_variable_genes(n_top_genes=5000)\n",
    "\n",
    "print_dataset_metabolic_info(norman_meta_ds, top_n_subsystems=20)"
   ]
  },
  {
   "cell_type": "markdown",
   "metadata": {},
   "source": [
    "Load Compass reaction activation output for 100 cells of the norman dataset"
   ]
  },
  {
   "cell_type": "code",
   "execution_count": null,
   "metadata": {},
   "outputs": [],
   "source": [
    "norman_meta_ds.load_compass_results(\"reactions.tsv\")\n",
    "norman_meta_ds.calculate_reaction_stats()"
   ]
  },
  {
   "cell_type": "markdown",
   "metadata": {},
   "source": [
    "Plot an example metabolic graph associated to a subsystem. Highly variable genes are colored in yellow, the rest are gray. Reactions with no highly variable genes associated, and their connections are colored gray. Metabolites with no highly variable reactions associated are colored gray."
   ]
  },
  {
   "cell_type": "code",
   "execution_count": null,
   "metadata": {},
   "outputs": [],
   "source": [
    "plot_subsystem_graph(\n",
    "    \"Inositol phosphate metabolism\",\n",
    "    norman_meta_ds,\n",
    "    plot_by_connected_component=True,\n",
    "    omit_single_direction_metabolites_flag=True,\n",
    "    differentiate_highly_variable_genes_flag=True,\n",
    "    differentiate_perturbed_genes_flag=True,\n",
    "    plot_reaction_graph_flag=False,\n",
    "    differentiate_gene_expression_mean_flag=False,\n",
    "    differentiate_reaction_activation_mean_flag=False,\n",
    "    differentiate_gene_expression_variance_flag=True,\n",
    "    differentiate_reaction_activation_variance_flag=True,\n",
    ")"
   ]
  },
  {
   "cell_type": "markdown",
   "metadata": {},
   "source": [
    "### Dixit dataset"
   ]
  },
  {
   "cell_type": "code",
   "execution_count": null,
   "metadata": {},
   "outputs": [],
   "source": [
    "# Load the Dixit dataset with the RECON2 metabolic model\n",
    "dixit_meta_ds = MetaPertDataset(\n",
    "    name=\"dixit\",\n",
    "    variant=\"preprocessed\",\n",
    "    dir_path=os.path.join(get_git_root(), \"datasets\"),\n",
    "    metabolic_model=recon2_mat_model,\n",
    ")\n",
    "\n",
    "# Normalize the dataset.\n",
    "dixit_meta_ds.normalize_(type=\"CPM\")\n",
    "# Adds information about the most variable genes to the dataset.\n",
    "dixit_meta_ds.most_variable_genes(n_top_genes=5000)\n",
    "# Print the dataset metabolic information.\n",
    "print_dataset_metabolic_info(dixit_meta_ds, top_n_subsystems=20)"
   ]
  },
  {
   "cell_type": "code",
   "execution_count": null,
   "metadata": {},
   "outputs": [],
   "source": [
    "plot_subsystem_graph(\n",
    "    \"Glycolysis/gluconeogenesis\",\n",
    "    norman_meta_ds,\n",
    "    plot_by_connected_component=False,\n",
    "    omit_single_direction_metabolites_flag=True,\n",
    "    differentiate_highly_variable_genes_flag=True,\n",
    "    differentiate_perturbed_genes_flag=True,\n",
    "    plot_reaction_graph_flag=False,\n",
    "    differentiate_gene_expression_mean_flag=False,\n",
    "    differentiate_reaction_activation_mean_flag=False,\n",
    "    differentiate_gene_expression_variance_flag=False,\n",
    "    differentiate_reaction_activation_variance_flag=False,\n",
    ")\n"
   ]
  },
  {
   "cell_type": "markdown",
   "metadata": {},
   "source": [
    "### Adamson"
   ]
  },
  {
   "cell_type": "code",
   "execution_count": null,
   "metadata": {},
   "outputs": [],
   "source": [
    "# Load the Adamson dataset with the RECON2 metabolic model\n",
    "adamson_meta_ds = MetaPertDataset(\n",
    "    name=\"adamson\",\n",
    "    variant=\"preprocessed\",\n",
    "    dir_path=os.path.join(get_git_root(), \"datasets\"),\n",
    "    metabolic_model=recon2_mat_model,\n",
    ")\n",
    "\n",
    "# Normalize the dataset.\n",
    "adamson_meta_ds.normalize_(type=\"CPM\")\n",
    "# Adds information about the most variable genes to the dataset.\n",
    "adamson_meta_ds.most_variable_genes(n_top_genes=5000)\n",
    "# Print the dataset metabolic information\n",
    "print_dataset_metabolic_info(adamson_meta_ds, top_n_subsystems=20)"
   ]
  },
  {
   "cell_type": "code",
   "execution_count": null,
   "metadata": {},
   "outputs": [],
   "source": [
    "plot_subsystem_graph(\n",
    "    \"Sphingolipid metabolism\",\n",
    "    adamson_meta_ds,\n",
    "    base_figsize=(5, 5),\n",
    "    omit_single_direction_metabolites=True,\n",
    "    differentiate_highly_variable_genes=True,\n",
    ")\n"
   ]
  },
  {
   "cell_type": "markdown",
   "metadata": {},
   "source": [
    "### Replogle rpe1"
   ]
  },
  {
   "cell_type": "code",
   "execution_count": null,
   "metadata": {},
   "outputs": [],
   "source": [
    "# Load the Replogle K562 dataset with the RECON2 metabolic model\n",
    "replogle_rpe1_meta_ds = MetaPertDataset(\n",
    "    name=\"replogle_rpe1_essential\",\n",
    "    variant=\"preprocessed\",\n",
    "    dir_path=os.path.join(get_git_root(), \"datasets\"),\n",
    "    metabolic_model=recon2_mat_model,\n",
    ")\n",
    "\n",
    "# Normalize the dataset.\n",
    "replogle_rpe1_meta_ds.normalize_(type=\"CPM\")\n",
    "# Adds information about the most variable genes to the dataset.\n",
    "replogle_rpe1_meta_ds.most_variable_genes(n_top_genes=5000)\n",
    "# Print the dataset metabolic information\n",
    "print_dataset_metabolic_info(replogle_rpe1_meta_ds, top_n_subsystems=20)\n"
   ]
  },
  {
   "cell_type": "code",
   "execution_count": null,
   "metadata": {},
   "outputs": [],
   "source": [
    "plot_subsystem_graph(\n",
    "    \"Sphingolipid metabolism\",\n",
    "    replogle_rpe1_meta_ds,\n",
    "    base_figsize=(5, 5),\n",
    "    omit_single_direction_metabolites=True,\n",
    "    differentiate_highly_variable_genes=True,\n",
    ")\n"
   ]
  },
  {
   "cell_type": "markdown",
   "metadata": {},
   "source": [
    "### Replogle K562"
   ]
  },
  {
   "cell_type": "code",
   "execution_count": null,
   "metadata": {},
   "outputs": [],
   "source": [
    "# Load the Replogle K562 dataset with the RECON2 metabolic model\n",
    "replogle_k562_meta_ds = MetaPertDataset(\n",
    "    name=\"replogle_k562_essential\",\n",
    "    variant=\"preprocessed\",\n",
    "    dir_path=os.path.join(get_git_root(), \"datasets\"),\n",
    "    metabolic_model=recon2_mat_model,\n",
    ")\n",
    "\n",
    "# Normalize the dataset.\n",
    "replogle_k562_meta_ds.normalize_(type=\"CPM\")\n",
    "# Adds information about the most variable genes to the dataset.\n",
    "replogle_k562_meta_ds.most_variable_genes(n_top_genes=5000)\n",
    "# Print the dataset metabolic information\n",
    "print_dataset_metabolic_info(replogle_k562_meta_ds, top_n_subsystems=30)"
   ]
  },
  {
   "cell_type": "code",
   "execution_count": null,
   "metadata": {},
   "outputs": [],
   "source": [
    "plot_subsystem_graph(\n",
    "    \"Fatty acid synthesis\",\n",
    "    replogle_k562_meta_ds,\n",
    "    plot_by_connected_component=True,\n",
    "    differentiate_highly_variable_genes_flag=True,\n",
    "    differentiate_perturbed_genes_flag=True,\n",
    "    plot_reaction_graph_flag=False,\n",
    ")\n"
   ]
  },
  {
   "cell_type": "code",
   "execution_count": null,
   "metadata": {},
   "outputs": [],
   "source": []
  }
 ],
 "metadata": {
  "kernelspec": {
   "display_name": "pytorch",
   "language": "python",
   "name": "python3"
  },
  "language_info": {
   "codemirror_mode": {
    "name": "ipython",
    "version": 3
   },
   "file_extension": ".py",
   "mimetype": "text/x-python",
   "name": "python",
   "nbconvert_exporter": "python",
   "pygments_lexer": "ipython3",
   "version": "3.12.2"
  }
 },
 "nbformat": 4,
 "nbformat_minor": 2
}
