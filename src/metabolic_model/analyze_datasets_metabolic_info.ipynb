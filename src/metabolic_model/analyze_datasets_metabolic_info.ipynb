{
 "cells": [
  {
   "cell_type": "code",
   "execution_count": 12,
   "metadata": {},
   "outputs": [],
   "source": [
    "import os\n",
    "import sys\n",
    "\n",
    "# Add the root of the project to sys.path.\n",
    "sys.path.append(os.path.abspath(os.path.join(os.getcwd(), \"..\")))\n",
    "from graph_visualization import plot_subsystem_graph\n",
    "from meta_pert_dataset import MetaPertDataset\n",
    "from metabolic_utils import print_dataset_metabolic_info, print_subsystems_stats\n",
    "from models import init_model_transmet\n",
    "\n",
    "from utils.filesystem import get_git_root"
   ]
  },
  {
   "cell_type": "markdown",
   "metadata": {},
   "source": [
    "### Load metabolic model"
   ]
  },
  {
   "cell_type": "markdown",
   "metadata": {},
   "source": [
    "The metabolic model object is reused in every dataset."
   ]
  },
  {
   "cell_type": "code",
   "execution_count": 13,
   "metadata": {},
   "outputs": [
    {
     "name": "stdout",
     "output_type": "stream",
     "text": [
      "Initializing metabolic model 'RECON2_mat' with the following parameters:\n",
      "  species: homo_sapiens\n",
      "  media: default-media\n",
      "  isoform_summing: remove-summing\n",
      "  exchange_limit: 1.0\n",
      "Metabolic model initialized successfully.\n",
      "Removing empty gene associations...\n",
      "Empty gene associations removed.\n",
      "Converting gene symbols to Ensembl IDs...\n",
      "Gene symbols converted to Ensembl IDs.\n",
      "Metabolic model loading complete.\n"
     ]
    }
   ],
   "source": [
    "# Load the metabolic model\n",
    "recon2_mat_model = init_model_transmet(\"RECON2_mat\")"
   ]
  },
  {
   "cell_type": "code",
   "execution_count": 14,
   "metadata": {},
   "outputs": [
    {
     "name": "stdout",
     "output_type": "stream",
     "text": [
      "MetabolicModelTransmet object\n",
      "    name: RECON2_mat\n",
      "    Total number of subsystems: 100\n",
      "    Total number of reactions: 10211\n",
      "    Total number of associated genes: 1404\n"
     ]
    }
   ],
   "source": [
    "print(recon2_mat_model)"
   ]
  },
  {
   "cell_type": "code",
   "execution_count": null,
   "metadata": {},
   "outputs": [],
   "source": [
    "print_subsystems_stats(recon2_mat_model)"
   ]
  },
  {
   "cell_type": "markdown",
   "metadata": {},
   "source": [
    "## Metabolic analyses of the datasets"
   ]
  },
  {
   "cell_type": "markdown",
   "metadata": {},
   "source": [
    "### Norman dataset"
   ]
  },
  {
   "cell_type": "code",
   "execution_count": 16,
   "metadata": {},
   "outputs": [
    {
     "name": "stdout",
     "output_type": "stream",
     "text": [
      "Loading: /mnt/md0/data/gdufort/transmet/datasets/norman/preprocessed/adata.h5ad\n",
      "Using provided metabolic model for dataset 'norman' with variant 'preprocessed'.\n",
      "Number of unique perturbed genes: 105\n"
     ]
    }
   ],
   "source": [
    "# Load the Norman dataset with the RECON2 metabolic model\n",
    "norman_meta_ds = MetaPertDataset(\n",
    "    name=\"norman\",\n",
    "    variant=\"preprocessed\",\n",
    "    dir_path=os.path.join(get_git_root(), \"datasets\"),\n",
    "    metabolic_model=recon2_mat_model,\n",
    ")\n",
    "# You can optionally directly load a model inside the class by setting\n",
    "# model_name=\"RECON2_mat\""
   ]
  },
  {
   "cell_type": "code",
   "execution_count": 17,
   "metadata": {},
   "outputs": [
    {
     "name": "stdout",
     "output_type": "stream",
     "text": [
      "Metabolic Model Information Report\n",
      "========================================\n",
      "Number of metabolic genes in the dataset: 1357\n",
      "Number of metabolic genes in the dataset that are perturbed: 5\n",
      "Number of metabolic genes among the most variable genes: 253\n",
      "Number of metabolic genes among the most variable genes that are perturbed: 2\n",
      "Percentage of variance captured by highly variable genes among all genes: 22.08%\n",
      "Percentage of variance captured by metabolic genes among highly variable genes: 5.06%\n",
      "Number of subsystems with metabolic genes in the dataset: 99/100\n",
      "Number of subsystems with metabolic genes in the most variable genes: 83/100\n",
      "\n",
      "Top 20 Subsystems by Variance Captured:\n",
      "----------------------------------------\n",
      "Subsystem: Transport, extracellular, Variance: 1798.04, Percentage of metabolic variance: 31.22%, Genes in Most Variable: 109/621, Perturbed Genes: 3/621\n",
      "Subsystem: Transport, mitochondrial, Variance: 831.12, Percentage of metabolic variance: 14.43%, Genes in Most Variable: 49/227, Perturbed Genes: 2/227\n",
      "Subsystem: Transport, lysosomal, Variance: 338.99, Percentage of metabolic variance: 5.89%, Genes in Most Variable: 22/79, Perturbed Genes: 0/79\n",
      "Subsystem: Exchange/demand reaction, Variance: 337.63, Percentage of metabolic variance: 5.86%, Genes in Most Variable: 35/185, Perturbed Genes: 1/185\n",
      "Subsystem: Transport, endoplasmic reticular, Variance: 291.64, Percentage of metabolic variance: 5.06%, Genes in Most Variable: 26/141, Perturbed Genes: 2/141\n",
      "Subsystem: Fatty acid oxidation, Variance: 270.15, Percentage of metabolic variance: 4.69%, Genes in Most Variable: 44/219, Perturbed Genes: 1/219\n",
      "Subsystem: Nucleotide interconversion, Variance: 167.59, Percentage of metabolic variance: 2.91%, Genes in Most Variable: 26/111, Perturbed Genes: 0/111\n",
      "Subsystem: Transport, nuclear, Variance: 111.23, Percentage of metabolic variance: 1.93%, Genes in Most Variable: 23/74, Perturbed Genes: 1/74\n",
      "Subsystem: Glycolysis/gluconeogenesis, Variance: 106.68, Percentage of metabolic variance: 1.85%, Genes in Most Variable: 14/57, Perturbed Genes: 1/57\n",
      "Subsystem: Bile acid synthesis, Variance: 97.18, Percentage of metabolic variance: 1.69%, Genes in Most Variable: 21/83, Perturbed Genes: 0/83\n",
      "Subsystem: Vitamin B12 metabolism, Variance: 94.56, Percentage of metabolic variance: 1.64%, Genes in Most Variable: 4/22, Perturbed Genes: 0/22\n",
      "Subsystem: Unassigned, Variance: 77.99, Percentage of metabolic variance: 1.35%, Genes in Most Variable: 20/102, Perturbed Genes: 0/102\n",
      "Subsystem: Tyrosine metabolism, Variance: 74.67, Percentage of metabolic variance: 1.30%, Genes in Most Variable: 21/77, Perturbed Genes: 1/77\n",
      "Subsystem: Sphingolipid metabolism, Variance: 65.86, Percentage of metabolic variance: 1.14%, Genes in Most Variable: 11/47, Perturbed Genes: 0/47\n",
      "Subsystem: Methionine and cysteine metabolism, Variance: 65.67, Percentage of metabolic variance: 1.14%, Genes in Most Variable: 7/30, Perturbed Genes: 0/30\n",
      "Subsystem: NAD metabolism, Variance: 64.19, Percentage of metabolic variance: 1.11%, Genes in Most Variable: 7/26, Perturbed Genes: 0/26\n",
      "Subsystem: Pyrimidine catabolism, Variance: 46.01, Percentage of metabolic variance: 0.80%, Genes in Most Variable: 7/35, Perturbed Genes: 0/35\n",
      "Subsystem: Fatty acid synthesis, Variance: 45.91, Percentage of metabolic variance: 0.80%, Genes in Most Variable: 9/47, Perturbed Genes: 0/47\n",
      "Subsystem: Ubiquinone synthesis, Variance: 45.88, Percentage of metabolic variance: 0.80%, Genes in Most Variable: 3/19, Perturbed Genes: 0/19\n",
      "Subsystem: Inositol phosphate metabolism, Variance: 42.05, Percentage of metabolic variance: 0.73%, Genes in Most Variable: 5/36, Perturbed Genes: 2/36\n",
      "\n",
      "Total percentage of metabolic variance captured by the top 20 subsystems: 86.35%\n",
      "========================================\n"
     ]
    }
   ],
   "source": [
    "# Normalize the dataset.\n",
    "norman_meta_ds.normalize_(type=\"CPM\")\n",
    "# Adds information about the most variable genes to the dataset.\n",
    "norman_meta_ds.most_variable_genes(n_top_genes=5000)\n",
    "\n",
    "print_dataset_metabolic_info(norman_meta_ds, top_n_subsystems=20)"
   ]
  },
  {
   "cell_type": "code",
   "execution_count": null,
   "metadata": {},
   "outputs": [],
   "source": [
    "norman_meta_ds.load_compass_results(\"reactions.tsv\")\n",
    "norman_meta_ds.calculate_reaction_stats()"
   ]
  },
  {
   "cell_type": "markdown",
   "metadata": {},
   "source": [
    "Plot an example metabolic graph associated to a subsystem. Highly variable genes are colored in yellow, the rest are gray. Reactions with no highly variable genes associated, and their connections are colored gray. Metabolites with no highly variable reactions associated are colored gray."
   ]
  },
  {
   "cell_type": "code",
   "execution_count": null,
   "metadata": {},
   "outputs": [],
   "source": [
    "plot_subsystem_graph(\n",
    "    \"Glycolysis/gluconeogenesis\",\n",
    "    norman_meta_ds,\n",
    "    plot_by_connected_component=True,\n",
    "    omit_single_direction_metabolites_flag=False,\n",
    "    differentiate_highly_variable_genes_flag=False,\n",
    "    differentiate_perturbed_genes_flag=False,\n",
    "    plot_reaction_graph_flag=False,\n",
    "    differentiate_reaction_activation_mean_flag=False,\n",
    "    differentiate_reaction_activation_variance_flag=False,\n",
    ")"
   ]
  },
  {
   "cell_type": "markdown",
   "metadata": {},
   "source": [
    "### Dixit dataset"
   ]
  },
  {
   "cell_type": "code",
   "execution_count": null,
   "metadata": {},
   "outputs": [],
   "source": [
    "# Load the Dixit dataset with the RECON2 metabolic model\n",
    "dixit_meta_ds = MetaPertDataset(\n",
    "    name=\"dixit\",\n",
    "    variant=\"preprocessed\",\n",
    "    dir_path=os.path.join(get_git_root(), \"datasets\"),\n",
    "    metabolic_model=recon2_mat_model,\n",
    ")\n",
    "\n",
    "# Normalize the dataset.\n",
    "dixit_meta_ds.normalize_(type=\"CPM\")\n",
    "# Adds information about the most variable genes to the dataset.\n",
    "dixit_meta_ds.most_variable_genes(n_top_genes=5000)\n",
    "# Print the dataset metabolic information.\n",
    "print_dataset_metabolic_info(dixit_meta_ds, top_n_subsystems=20)"
   ]
  },
  {
   "cell_type": "code",
   "execution_count": null,
   "metadata": {},
   "outputs": [],
   "source": [
    "plot_subsystem_graph(\n",
    "    \"Sphingolipid metabolism\",\n",
    "    dixit_meta_ds,\n",
    "    base_figsize=(5, 5),\n",
    "    omit_single_direction_metabolites=True,\n",
    "    differentiate_highly_variable_genes=True,\n",
    "    plot_reaction_graph=True,\n",
    ")\n"
   ]
  },
  {
   "cell_type": "markdown",
   "metadata": {},
   "source": [
    "### Adamson"
   ]
  },
  {
   "cell_type": "code",
   "execution_count": null,
   "metadata": {},
   "outputs": [],
   "source": [
    "# Load the Adamson dataset with the RECON2 metabolic model\n",
    "adamson_meta_ds = MetaPertDataset(\n",
    "    name=\"adamson\",\n",
    "    variant=\"preprocessed\",\n",
    "    dir_path=os.path.join(get_git_root(), \"datasets\"),\n",
    "    metabolic_model=recon2_mat_model,\n",
    ")\n",
    "\n",
    "# Normalize the dataset.\n",
    "adamson_meta_ds.normalize_(type=\"CPM\")\n",
    "# Adds information about the most variable genes to the dataset.\n",
    "adamson_meta_ds.most_variable_genes(n_top_genes=5000)\n",
    "# Print the dataset metabolic information\n",
    "print_dataset_metabolic_info(adamson_meta_ds, top_n_subsystems=20)"
   ]
  },
  {
   "cell_type": "code",
   "execution_count": null,
   "metadata": {},
   "outputs": [],
   "source": [
    "plot_subsystem_graph(\n",
    "    \"Sphingolipid metabolism\",\n",
    "    adamson_meta_ds,\n",
    "    base_figsize=(5, 5),\n",
    "    omit_single_direction_metabolites=True,\n",
    "    differentiate_highly_variable_genes=True,\n",
    ")\n"
   ]
  },
  {
   "cell_type": "markdown",
   "metadata": {},
   "source": [
    "### Replogle rpe1"
   ]
  },
  {
   "cell_type": "code",
   "execution_count": null,
   "metadata": {},
   "outputs": [],
   "source": [
    "# Load the Replogle K562 dataset with the RECON2 metabolic model\n",
    "replogle_rpe1_meta_ds = MetaPertDataset(\n",
    "    name=\"replogle_rpe1_essential\",\n",
    "    variant=\"preprocessed\",\n",
    "    dir_path=os.path.join(get_git_root(), \"datasets\"),\n",
    "    metabolic_model=recon2_mat_model,\n",
    ")\n",
    "\n",
    "# Normalize the dataset.\n",
    "replogle_rpe1_meta_ds.normalize_(type=\"CPM\")\n",
    "# Adds information about the most variable genes to the dataset.\n",
    "replogle_rpe1_meta_ds.most_variable_genes(n_top_genes=5000)\n",
    "# Print the dataset metabolic information\n",
    "print_dataset_metabolic_info(replogle_rpe1_meta_ds, top_n_subsystems=20)\n"
   ]
  },
  {
   "cell_type": "code",
   "execution_count": null,
   "metadata": {},
   "outputs": [],
   "source": [
    "plot_subsystem_graph(\n",
    "    \"Sphingolipid metabolism\",\n",
    "    replogle_rpe1_meta_ds,\n",
    "    base_figsize=(5, 5),\n",
    "    omit_single_direction_metabolites=True,\n",
    "    differentiate_highly_variable_genes=True,\n",
    ")\n"
   ]
  },
  {
   "cell_type": "markdown",
   "metadata": {},
   "source": [
    "### Replogle K562"
   ]
  },
  {
   "cell_type": "code",
   "execution_count": null,
   "metadata": {},
   "outputs": [],
   "source": [
    "# Load the Replogle K562 dataset with the RECON2 metabolic model\n",
    "replogle_k562_meta_ds = MetaPertDataset(\n",
    "    name=\"replogle_k562_essential\",\n",
    "    variant=\"preprocessed\",\n",
    "    dir_path=os.path.join(get_git_root(), \"datasets\"),\n",
    "    metabolic_model=recon2_mat_model,\n",
    ")\n",
    "\n",
    "# Normalize the dataset.\n",
    "replogle_k562_meta_ds.normalize_(type=\"CPM\")\n",
    "# Adds information about the most variable genes to the dataset.\n",
    "replogle_k562_meta_ds.most_variable_genes(n_top_genes=5000)\n",
    "# Print the dataset metabolic information\n",
    "print_dataset_metabolic_info(replogle_k562_meta_ds, top_n_subsystems=30)"
   ]
  },
  {
   "cell_type": "code",
   "execution_count": null,
   "metadata": {},
   "outputs": [],
   "source": [
    "plot_subsystem_graph(\n",
    "    \"Fatty acid synthesis\",\n",
    "    replogle_k562_meta_ds,\n",
    "    plot_by_connected_component=True,\n",
    "    differentiate_highly_variable_genes_flag=True,\n",
    "    differentiate_perturbed_genes_flag=True,\n",
    "    plot_reaction_graph_flag=False,\n",
    ")\n"
   ]
  },
  {
   "cell_type": "code",
   "execution_count": null,
   "metadata": {},
   "outputs": [],
   "source": []
  }
 ],
 "metadata": {
  "kernelspec": {
   "display_name": "pytorch",
   "language": "python",
   "name": "python3"
  },
  "language_info": {
   "codemirror_mode": {
    "name": "ipython",
    "version": 3
   },
   "file_extension": ".py",
   "mimetype": "text/x-python",
   "name": "python",
   "nbconvert_exporter": "python",
   "pygments_lexer": "ipython3",
   "version": "3.12.2"
  }
 },
 "nbformat": 4,
 "nbformat_minor": 2
}
