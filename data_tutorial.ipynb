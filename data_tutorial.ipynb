{
 "cells": [
  {
   "cell_type": "markdown",
   "metadata": {},
   "source": [
    "# Data Tutorial"
   ]
  },
  {
   "cell_type": "markdown",
   "metadata": {},
   "source": [
    "First, we set up a logger for this notebook.\n",
    "Note that the `PertData` class also makes use of Python's `logging` module."
   ]
  },
  {
   "cell_type": "code",
   "execution_count": null,
   "metadata": {},
   "outputs": [],
   "source": [
    "import logging\n",
    "import sys\n",
    "\n",
    "# Configure the root logger\n",
    "logging.basicConfig(\n",
    "    level=logging.INFO,\n",
    "    format=\"%(asctime)s - %(levelname)s - %(message)s\",\n",
    "    handlers=[logging.StreamHandler(sys.stdout)],\n",
    ")\n",
    "\n",
    "# Create a logger for this notebook\n",
    "log = logging.getLogger(__name__)"
   ]
  },
  {
   "cell_type": "markdown",
   "metadata": {},
   "source": [
    "Next, we create `PertData` object.\n",
    "We specify that we want to load the `\"norman\"` dataset."
   ]
  },
  {
   "cell_type": "code",
   "execution_count": null,
   "metadata": {},
   "outputs": [],
   "source": [
    "from causal_hts_modeling.pertdata import PertData\n",
    "from causal_hts_modeling.utils import get_git_root\n",
    "\n",
    "pert_data = PertData(data_dir=f\"{get_git_root()}/data\", dataset_name=\"norman\")"
   ]
  },
  {
   "cell_type": "markdown",
   "metadata": {},
   "source": [
    "Then we can access the the **gene expression matrix** and the **perturbations vector**."
   ]
  },
  {
   "cell_type": "code",
   "execution_count": null,
   "metadata": {},
   "outputs": [],
   "source": [
    "log.info(f\"Gene expression matrix (X) shape: {pert_data.X.shape}\")\n",
    "log.info(f\"Perturbations vector (y) shape: {pert_data.y.shape}\")\n",
    "log.info(f\"Found {len(pert_data.y.unique())} different perturbations\")"
   ]
  },
  {
   "cell_type": "markdown",
   "metadata": {},
   "source": [
    "We can also access different variants of the **perturbations vector**."
   ]
  },
  {
   "cell_type": "code",
   "execution_count": null,
   "metadata": {},
   "outputs": [],
   "source": [
    "n = 5\n",
    "log.info(f\"First {n} elements of y:\")\n",
    "print(f\"{pert_data.y[:n]}\")\n",
    "log.info(f\"First {n} elements of y_fixed:\")\n",
    "print(f\"{pert_data.y_fixed[:n]}\")\n",
    "log.info(f\"First {n} elements of y_binary:\")\n",
    "print(f\"{pert_data.y_binary[:n]}\")"
   ]
  }
 ],
 "metadata": {
  "kernelspec": {
   "display_name": ".venv",
   "language": "python",
   "name": "python3"
  },
  "language_info": {
   "codemirror_mode": {
    "name": "ipython",
    "version": 3
   },
   "file_extension": ".py",
   "mimetype": "text/x-python",
   "name": "python",
   "nbconvert_exporter": "python",
   "pygments_lexer": "ipython3",
   "version": "3.10.12"
  }
 },
 "nbformat": 4,
 "nbformat_minor": 2
}
