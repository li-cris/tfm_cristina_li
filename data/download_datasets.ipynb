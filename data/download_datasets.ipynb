{
 "cells": [
  {
   "cell_type": "markdown",
   "metadata": {},
   "source": [
    "# Dataset download for Transmet\n",
    "\n",
    "This script downloads the original datasets to be used with Transmet.\n",
    "\n",
    "Currently, the only fully processed dataset is Norman.\n",
    "\n",
    "The datasets are stored in h5ad format in the `processed` folder.\n"
   ]
  },
  {
   "cell_type": "markdown",
   "metadata": {},
   "source": [
    "### Needed libraries"
   ]
  },
  {
   "cell_type": "code",
   "execution_count": 45,
   "metadata": {},
   "outputs": [],
   "source": [
    "import os\n",
    "import sys\n",
    "import scanpy as sc\n",
    "import pandas as pd\n",
    "import gzip\n",
    "\n",
    "sys.path.append(\"../gene_expression\")\n",
    "import utils"
   ]
  },
  {
   "cell_type": "markdown",
   "metadata": {},
   "source": [
    "### Needed functions"
   ]
  },
  {
   "cell_type": "code",
   "execution_count": 46,
   "metadata": {},
   "outputs": [],
   "source": [
    "def download_and_extract_tar(tar_link, dir_name):\n",
    "    os.system(\"mkdir -p \" + dir_name)\n",
    "    utils.download_file(tar_link, dir_name + \"/data.tar\")\n",
    "    utils.extract_tar(dir_name + \"/data.tar\", dir_name)\n",
    "\n",
    "\n",
    "def modify_features_file(genes_path):\n",
    "    \"\"\"Modifies the features file to append 'Gene Expression' if not already present.\"\"\"\n",
    "    temp_file_path = \"temp_genes.tsv.gz\"\n",
    "\n",
    "    with gzip.open(genes_path, \"rt\") as f_in:\n",
    "        lines = f_in.readlines()\n",
    "\n",
    "    if not lines[0].strip().endswith(\"Gene Expression\"):\n",
    "        with gzip.open(temp_file_path, \"wt\") as f_out:\n",
    "            for line in lines:\n",
    "                line = line.strip() + \"\\tGene Expression\\n\"\n",
    "                f_out.write(line)\n",
    "        os.replace(temp_file_path, genes_path)\n",
    "        print(f\"Modified {genes_path} to add 'Gene Expression'.\")\n",
    "    else:\n",
    "        print(\n",
    "            f\"'Gene Expression' already present in {genes_path}, no modification needed.\"\n",
    "        )\n",
    "\n",
    "\n",
    "def filter_barcodes_and_add_condition(adata, barcode_file):\n",
    "    \"\"\"\n",
    "    Filters the AnnData object to keep only cells present in the barcode-to-cell-type mapping file and adds condition info.\n",
    "\n",
    "    Args:\n",
    "    - adata (AnnData): AnnData object containing the gene expression data.\n",
    "    - barcode_file (str): Path to the barcode file containing cell barcodes and their corresponding conditions.\n",
    "    \"\"\"\n",
    "    barcode_df = pd.read_csv(barcode_file, sep=\",\")\n",
    "    barcodes_to_keep = barcode_df[\"cell_barcode\"].values\n",
    "    adata = adata[adata.obs_names.isin(barcodes_to_keep)].copy()\n",
    "\n",
    "    barcode_dict = dict(zip(barcode_df[\"cell_barcode\"], barcode_df[\"condition\"]))\n",
    "    adata.obs[\"condition\"] = adata.obs_names.map(barcode_dict)\n",
    "\n",
    "    print(f\"Filtered AnnData to {adata.shape[0]} cells based on barcodes.\")\n",
    "    return adata\n",
    "\n",
    "\n",
    "def save_h5ad(adata, output_path):\n",
    "    \"\"\"Saves the AnnData object to an HDF5 file.\"\"\"\n",
    "    adata.write_h5ad(output_path)\n",
    "    print(f\"AnnData object saved to {output_path}.\")"
   ]
  },
  {
   "cell_type": "markdown",
   "metadata": {},
   "source": [
    "### Create data directories\n",
    "\n",
    "All the data is stored in the `data` directory. There are two subdirectories: `raw` and `processed`. The `raw` directory stores the raw data files as uploaded to the NCBI original paper dataset. The `processed` directory stores, for each perturbed dataset, an `h5ad` file that contains the raw counts and the normalized data."
   ]
  },
  {
   "cell_type": "code",
   "execution_count": null,
   "metadata": {},
   "outputs": [],
   "source": [
    "# Create the directory for the raw data\n",
    "raw_data_dir = \"raw\"\n",
    "os.system(\"mkdir -p \" + raw_data_dir)\n",
    "\n",
    "# Create the directory for the processed data\n",
    "processed_data_dir = \"processed\"\n",
    "os.system(\"mkdir -p \" + processed_data_dir)"
   ]
  },
  {
   "cell_type": "markdown",
   "metadata": {},
   "source": [
    "# Norman\n",
    "\n",
    "The original dataset from Norman et al., titled \"Exploring genetic interaction manifolds constructed from rich single-cell phenotypes,\" is available at [GEO: GSE133344](https://www.ncbi.nlm.nih.gov/geo/query/acc.cgi?acc=GSE133344)."
   ]
  },
  {
   "cell_type": "code",
   "execution_count": 48,
   "metadata": {},
   "outputs": [],
   "source": [
    "# Norman directory\n",
    "norman_dir = raw_data_dir + \"/norman\"\n",
    "os.system(\"mkdir -p \" + norman_dir)\n",
    "# Use the function for Norman dataset\n",
    "if not os.path.exists(norman_dir + \"/raw_barcodes.tsv.gz\"):\n",
    "    utils.download_file(\n",
    "        \"https://www.ncbi.nlm.nih.gov/geo/download/?acc=GSE133344&format=file&file=GSE133344%5Fraw%5Fbarcodes%2Etsv%2Egz\",\n",
    "        norman_dir + \"/raw_barcodes.tsv.gz\",\n",
    "    )\n",
    "if not os.path.exists(norman_dir + \"/raw_cell_identities.csv.gz\"):\n",
    "    utils.download_file(\n",
    "        \"https://www.ncbi.nlm.nih.gov/geo/download/?acc=GSE133344&format=file&file=GSE133344%5Fraw%5Fcell%5Fidentities%2Ecsv%2Egz\",\n",
    "        norman_dir + \"/raw_cell_identities.csv.gz\",\n",
    "    )\n",
    "if not os.path.exists(norman_dir + \"/raw_features.tsv.gz\"):\n",
    "    utils.download_file(\n",
    "        \"https://www.ncbi.nlm.nih.gov/geo/download/?acc=GSE133344&format=file&file=GSE133344%5Fraw%5Fgenes%2Etsv%2Egz\",\n",
    "        norman_dir + \"/raw_features.tsv.gz\",\n",
    "    )\n",
    "if not os.path.exists(norman_dir + \"/raw_matrix.mtx.gz\"):\n",
    "    utils.download_file(\n",
    "        \"https://ftp.ncbi.nlm.nih.gov/geo/series/GSE133nnn/GSE133344/suppl/GSE133344%5Fraw%5Fmatrix%2Emtx%2Egz\",\n",
    "        norman_dir + \"/raw_matrix.mtx.gz\",\n",
    "    )"
   ]
  },
  {
   "cell_type": "markdown",
   "metadata": {},
   "source": [
    "The features.tsv.gz file needs to have a third column with the value \"Gene Expression\""
   ]
  },
  {
   "cell_type": "code",
   "execution_count": null,
   "metadata": {},
   "outputs": [],
   "source": [
    "modify_features_file(norman_dir + \"/raw_features.tsv.gz\")"
   ]
  },
  {
   "cell_type": "markdown",
   "metadata": {},
   "source": [
    "Define a prefix for the files in the Norman dataset. This is needed to run sc.read_10x_mtx method from scanpy."
   ]
  },
  {
   "cell_type": "code",
   "execution_count": 13,
   "metadata": {},
   "outputs": [],
   "source": [
    "norman_prefix = \"raw_\""
   ]
  },
  {
   "cell_type": "markdown",
   "metadata": {},
   "source": [
    "Load the Norman data into an AnnData object. This make take a few minutes."
   ]
  },
  {
   "cell_type": "code",
   "execution_count": null,
   "metadata": {},
   "outputs": [],
   "source": [
    "adata = sc.read_10x_mtx(\n",
    "    norman_dir, var_names=\"gene_ids\", cache=False, prefix=norman_prefix\n",
    ")\n",
    "print(adata)"
   ]
  },
  {
   "cell_type": "markdown",
   "metadata": {},
   "source": [
    "Filter the Anne data to keep only cells present in the gears barcodes file"
   ]
  },
  {
   "cell_type": "code",
   "execution_count": null,
   "metadata": {},
   "outputs": [],
   "source": [
    "adata = filter_barcodes_and_add_condition(adata, \"gears_barcodes/norman_barcodes.csv\")\n",
    "print(adata)"
   ]
  },
  {
   "cell_type": "markdown",
   "metadata": {},
   "source": [
    "Output the adata into a .h5ad file"
   ]
  },
  {
   "cell_type": "code",
   "execution_count": null,
   "metadata": {},
   "outputs": [],
   "source": [
    "save_h5ad(adata, \"processed/norman.h5ad\")"
   ]
  },
  {
   "cell_type": "markdown",
   "metadata": {},
   "source": [
    "# Dixit"
   ]
  },
  {
   "cell_type": "code",
   "execution_count": null,
   "metadata": {},
   "outputs": [],
   "source": [
    "dixit_tar_link = \"https://www.ncbi.nlm.nih.gov/geo/download/?acc=GSE90063&format=file\"\n",
    "\n",
    "# Dixit directory\n",
    "dixit_dir = raw_data_dir + \"/dixit\"\n",
    "# Use the function for Dixit dataset\n",
    "download_and_extract_tar(dixit_tar_link, dixit_dir)"
   ]
  },
  {
   "cell_type": "markdown",
   "metadata": {},
   "source": [
    "There are several experiments in the Dixit dataset, however, GEARS only uses two of the experiments, whose files have the following prefix:"
   ]
  },
  {
   "cell_type": "code",
   "execution_count": 43,
   "metadata": {},
   "outputs": [],
   "source": [
    "prefix_p7d = \"GSM2396858_k562_tfs_7\"\n",
    "prefix_cc7d = \"GSM2396861_k562_ccycle_\""
   ]
  },
  {
   "cell_type": "code",
   "execution_count": null,
   "metadata": {},
   "outputs": [],
   "source": [
    "# GSM2396858_k562_tfs_7_cellnames.csv.gz\n",
    "# GSM2396858_k562_tfs_7_genenames.csv.gz\n",
    "# GSM2396858_k562_tfs_7.mtx.txt.gz"
   ]
  },
  {
   "cell_type": "code",
   "execution_count": null,
   "metadata": {},
   "outputs": [],
   "source": [
    "# Load adata_p7d\n",
    "adata_p7d = sc.read_10x_mtx(\n",
    "    dixit_dir, var_names=\"gene_ids\", cache=False, prefix=prefix_p7d\n",
    ")"
   ]
  },
  {
   "cell_type": "markdown",
   "metadata": {},
   "source": [
    "# Adamson"
   ]
  },
  {
   "cell_type": "code",
   "execution_count": null,
   "metadata": {},
   "outputs": [],
   "source": [
    "raw_tar = \"https://www.ncbi.nlm.nih.gov/geo/download/?acc=GSE90546&format=file\"\n",
    "\n",
    "# Raw directory"
   ]
  }
 ],
 "metadata": {
  "kernelspec": {
   "display_name": "pytorch",
   "language": "python",
   "name": "python3"
  },
  "language_info": {
   "codemirror_mode": {
    "name": "ipython",
    "version": 3
   },
   "file_extension": ".py",
   "mimetype": "text/x-python",
   "name": "python",
   "nbconvert_exporter": "python",
   "pygments_lexer": "ipython3",
   "version": "3.12.2"
  }
 },
 "nbformat": 4,
 "nbformat_minor": 2
}
