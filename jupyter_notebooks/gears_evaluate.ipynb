{
 "cells": [
  {
   "cell_type": "markdown",
   "metadata": {},
   "source": [
    "## Load data and modules"
   ]
  },
  {
   "cell_type": "code",
   "execution_count": 1,
   "metadata": {},
   "outputs": [
    {
     "name": "stdout",
     "output_type": "stream",
     "text": [
      "/workspace/tfm/sypp/src/gears\n"
     ]
    }
   ],
   "source": [
    "import os\n",
    "import sys\n",
    "from gears import PertData\n",
    "import pandas as pd\n",
    "import numpy as np\n",
    "import torch\n",
    "from anndata import AnnData\n",
    "\n",
    "path = os.path.abspath('../sypp/src/gears/')\n",
    "print(path)\n",
    "sys.path.insert(0, path)\n",
    "\n",
    "from mmd_loss import MMDLoss\n",
    "from scipy.sparse import csr_matrix"
   ]
  },
  {
   "cell_type": "code",
   "execution_count": 2,
   "metadata": {},
   "outputs": [
    {
     "name": "stdout",
     "output_type": "stream",
     "text": [
      "/workspace/tfm/cris_test\n"
     ]
    }
   ],
   "source": [
    "!pwd"
   ]
  },
  {
   "cell_type": "code",
   "execution_count": 3,
   "metadata": {},
   "outputs": [],
   "source": [
    "import train_predict_evaluate as gr"
   ]
  },
  {
   "cell_type": "code",
   "execution_count": 4,
   "metadata": {},
   "outputs": [
    {
     "name": "stdout",
     "output_type": "stream",
     "text": [
      "Split: simulation\n",
      "Seed: 7\n",
      "Hidden size: 64\n",
      "Device: cuda:0\n",
      "Model name: gears_norman_split_simulation_seed_7_hidden_size_64\n"
     ]
    }
   ],
   "source": [
    "DATA_DIR_PATH = \"data\"\n",
    "MODELS_DIR_PATH = \"models\"\n",
    "RESULTS_DIR_PATH = \"results\"\n",
    "\n",
    "PREDICT_SINGLE = False\n",
    "PREDICT_DOUBLE = True\n",
    "PREDICT_COMBO = False\n",
    "\n",
    "split = \"simulation\"\n",
    "seed = 7\n",
    "hidden_size = 64\n",
    "device = \"cuda:0\"\n",
    "train_model = \"gears_norman_split_{}_seed_{}_hidden_size_{}\".format(split, str(seed), str(hidden_size))\n",
    "\n",
    "print(\"Split: {}\".format(split))\n",
    "print(\"Seed: {}\".format(seed))\n",
    "print(\"Hidden size: {}\".format(hidden_size))\n",
    "print(\"Device: {}\".format(device))\n",
    "print(\"Model name: {}\".format(train_model))"
   ]
  },
  {
   "cell_type": "code",
   "execution_count": 5,
   "metadata": {},
   "outputs": [
    {
     "name": "stderr",
     "output_type": "stream",
     "text": [
      "Found local copy...\n"
     ]
    },
    {
     "name": "stdout",
     "output_type": "stream",
     "text": [
      "Loading 'norman' data.\n"
     ]
    },
    {
     "name": "stderr",
     "output_type": "stream",
     "text": [
      "Found local copy...\n",
      "Found local copy...\n",
      "These perturbations are not in the GO graph and their perturbation can thus not be predicted\n",
      "['RHOXF2BB+ctrl' 'LYL1+IER5L' 'ctrl+IER5L' 'KIAA1804+ctrl' 'IER5L+ctrl'\n",
      " 'RHOXF2BB+ZBTB25' 'RHOXF2BB+SET']\n",
      "Local copy of pyg dataset is detected. Loading...\n",
      "Done!\n"
     ]
    }
   ],
   "source": [
    "print(\"Loading 'norman' data.\")\n",
    "norman = PertData(data_path=DATA_DIR_PATH)\n",
    "norman.load(data_name=\"norman\")\n",
    "\n"
   ]
  },
  {
   "cell_type": "code",
   "execution_count": 7,
   "metadata": {},
   "outputs": [
    {
     "name": "stdout",
     "output_type": "stream",
     "text": [
      "ctrl             7353\n",
      "KLF1             1641\n",
      "BAK1             1171\n",
      "CEBPE            1039\n",
      "ETS2             1031\n",
      "                 ... \n",
      "PLK4+STIL          66\n",
      "SAMD1+TGFBR2       59\n",
      "CEBPB+JUN          52\n",
      "CBL+UBASH3A        50\n",
      "C3orf72+FOXL2      49\n",
      "Name: condition_fixed, Length: 231, dtype: int64\n"
     ]
    }
   ],
   "source": [
    "# Joining names after cleaning\n",
    "splitting = norman.adata.obs['condition'].str.split('+')\n",
    "for i in range(len(splitting)):\n",
    "  if len(splitting[i]) == 2:\n",
    "    if 'ctrl' in splitting[i]:\n",
    "      splitting[i].remove('ctrl')\n",
    "\n",
    "join_names = splitting.apply(lambda x: '+'.join(sorted(x)))\n",
    "norman.adata.obs['condition_fixed'] = join_names\n",
    "\n",
    "print(norman.adata.obs[\"condition_fixed\"].value_counts())"
   ]
  },
  {
   "cell_type": "code",
   "execution_count": 8,
   "metadata": {},
   "outputs": [],
   "source": [
    "# Keeping only single perturbations\n",
    "filter_mask = ~norman.adata.obs[\"condition_fixed\"].str.contains(r\"\\+\") # mask for those NOT containing +\n",
    "indexes_to_keep = filter_mask[filter_mask].index # mask that finds indeces in norman adata that aren't double perturbations\n",
    "adata_single = norman.adata[indexes_to_keep].copy()"
   ]
  },
  {
   "cell_type": "code",
   "execution_count": 9,
   "metadata": {},
   "outputs": [],
   "source": [
    "norman.adata = adata_single"
   ]
  },
  {
   "cell_type": "code",
   "execution_count": 10,
   "metadata": {},
   "outputs": [
    {
     "data": {
      "text/plain": [
       "AnnData object with n_obs × n_vars = 54931 × 5045\n",
       "    obs: 'condition', 'cell_type', 'dose_val', 'control', 'condition_name', 'condition_fixed'\n",
       "    var: 'gene_name'\n",
       "    uns: 'non_dropout_gene_idx', 'non_zeros_gene_idx', 'rank_genes_groups_cov_all', 'top_non_dropout_de_20', 'top_non_zero_de_20'\n",
       "    layers: 'counts'"
      ]
     },
     "execution_count": 10,
     "metadata": {},
     "output_type": "execute_result"
    }
   ],
   "source": [
    "norman.adata"
   ]
  },
  {
   "cell_type": "code",
   "execution_count": null,
   "metadata": {},
   "outputs": [],
   "source": [
    "print(\"Preparing data split.\")\n",
    "norman.prepare_split(split=split, seed=seed)\n",
    "norman.get_dataloader(batch_size=32)"
   ]
  },
  {
   "cell_type": "markdown",
   "metadata": {},
   "source": [
    "# Viewing norman adata"
   ]
  },
  {
   "cell_type": "code",
   "execution_count": 6,
   "metadata": {},
   "outputs": [
    {
     "data": {
      "text/plain": [
       "View of AnnData object with n_obs × n_vars = 89357 × 5045\n",
       "    obs: 'condition', 'cell_type', 'dose_val', 'control', 'condition_name'\n",
       "    var: 'gene_name'\n",
       "    uns: 'non_dropout_gene_idx', 'non_zeros_gene_idx', 'rank_genes_groups_cov_all', 'top_non_dropout_de_20', 'top_non_zero_de_20'\n",
       "    layers: 'counts'"
      ]
     },
     "execution_count": 6,
     "metadata": {},
     "output_type": "execute_result"
    }
   ],
   "source": [
    "adata = norman.adata\n",
    "adata"
   ]
  },
  {
   "cell_type": "code",
   "execution_count": 49,
   "metadata": {},
   "outputs": [
    {
     "data": {
      "text/plain": [
       "array([[-1.2677131 ,  0.3949115 , -1.8902024 , ..., -0.35562468,\n",
       "         0.7723939 ,  0.8741959 ],\n",
       "       [ 4.022818  , -0.9024711 ,  1.4014624 , ...,  0.230336  ,\n",
       "        -0.31203324, -0.9256998 ],\n",
       "       [-1.3033295 ,  0.9107142 , -4.4119644 , ..., -1.2908779 ,\n",
       "        -0.7256522 , -0.1357323 ],\n",
       "       ...,\n",
       "       [-0.34366938, -3.828863  , -2.655515  , ..., -0.9446328 ,\n",
       "         0.20317978,  0.3438815 ],\n",
       "       [ 2.8531785 , -0.42617828,  1.3527629 , ...,  0.26374182,\n",
       "         0.1769151 , -0.51693   ],\n",
       "       [-0.3083173 , -0.39469552, -2.7931988 , ..., -0.52865636,\n",
       "         0.68107224, -0.30872697]], dtype=float32)"
      ]
     },
     "execution_count": 49,
     "metadata": {},
     "output_type": "execute_result"
    }
   ],
   "source": [
    "adata.obsm[\"X_pca\"]"
   ]
  },
  {
   "cell_type": "code",
   "execution_count": 25,
   "metadata": {},
   "outputs": [
    {
     "name": "stdout",
     "output_type": "stream",
     "text": [
      "ctrl             7353\n",
      "KLF1             1641\n",
      "BAK1             1171\n",
      "CEBPE            1039\n",
      "ETS2             1031\n",
      "                 ... \n",
      "PLK4+STIL          66\n",
      "SAMD1+TGFBR2       59\n",
      "CEBPB+JUN          52\n",
      "CBL+UBASH3A        50\n",
      "C3orf72+FOXL2      49\n",
      "Name: condition_fixed, Length: 231, dtype: int64\n"
     ]
    }
   ],
   "source": [
    "splitting = adata.obs['condition'].str.split('+')\n",
    "for i in range(len(splitting)):\n",
    "  if len(splitting[i]) == 2:\n",
    "    if 'ctrl' in splitting[i]:\n",
    "      splitting[i].remove('ctrl')\n",
    "\n",
    "join_names = splitting.apply(lambda x: '+'.join(sorted(x)))\n",
    "adata.obs['condition_fixed'] = join_names\n",
    "\n",
    "print(adata.obs[\"condition_fixed\"].value_counts())"
   ]
  },
  {
   "cell_type": "code",
   "execution_count": 26,
   "metadata": {},
   "outputs": [],
   "source": [
    "filter_mask = ~adata.obs[\"condition_fixed\"].str.contains(r\"\\+\") # mask for those NOT containing +\n",
    "indexes_to_keep = filter_mask[filter_mask].index # mask that finds indeces in norman adata that aren't double perturbations\n",
    "adata_single = adata[indexes_to_keep].copy()"
   ]
  },
  {
   "cell_type": "code",
   "execution_count": 69,
   "metadata": {},
   "outputs": [
    {
     "name": "stdout",
     "output_type": "stream",
     "text": [
      "Top 200 genes with highest variances:\n",
      "HBZ            : 1.69\n",
      "HIST1H4C       : 1.69\n",
      "HBG2           : 1.15\n",
      "HIST1H1C       : 0.85\n",
      "HBG1           : 0.73\n",
      "NEAT1          : 0.70\n",
      "UBE2S          : 0.62\n",
      "GYPB           : 0.61\n",
      "MALAT1         : 0.58\n",
      "TOP2A          : 0.57\n",
      "VIM            : 0.57\n",
      "HMGB2          : 0.56\n",
      "SH3BGRL3       : 0.55\n",
      "RP11-301G19.1  : 0.53\n",
      "HIST1H2BJ      : 0.51\n",
      "CENPF          : 0.49\n",
      "GAL            : 0.48\n",
      "MT-ND6         : 0.48\n",
      "RP11-717F1.1   : 0.47\n",
      "APOE           : 0.47\n",
      "PTTG1          : 0.47\n",
      "CKS1B          : 0.46\n",
      "CKS2           : 0.46\n",
      "TUBB           : 0.46\n",
      "GYPA           : 0.46\n",
      "KIAA0101       : 0.45\n",
      "S100A11        : 0.45\n",
      "PHF19          : 0.44\n",
      "PSMA4          : 0.44\n",
      "HNRNPH1        : 0.43\n",
      "CACYBP         : 0.43\n",
      "KRT18          : 0.43\n",
      "LDHA           : 0.43\n",
      "BTG1           : 0.43\n",
      "CFD            : 0.42\n",
      "SLC25A37       : 0.42\n",
      "AIF1           : 0.42\n",
      "LGALS1         : 0.41\n",
      "NME1           : 0.41\n",
      "HSPA8          : 0.41\n",
      "BLVRB          : 0.41\n",
      "HN1            : 0.41\n",
      "SRM            : 0.41\n",
      "MYL4           : 0.40\n",
      "BIRC5          : 0.40\n",
      "CYBA           : 0.40\n",
      "ODC1           : 0.40\n",
      "MDK            : 0.40\n",
      "TUBA1C         : 0.40\n",
      "PITX1          : 0.40\n",
      "AC079466.1     : 0.40\n",
      "CKB            : 0.40\n",
      "PRDX1          : 0.40\n",
      "EMP3           : 0.39\n",
      "PSMB3          : 0.39\n",
      "STMN1          : 0.39\n",
      "DDX21          : 0.39\n",
      "PSMB1          : 0.39\n",
      "ATF7IP2        : 0.39\n",
      "UFD1L          : 0.39\n",
      "LMO4           : 0.39\n",
      "HSP90B1        : 0.39\n",
      "PRDX4          : 0.39\n",
      "NUDC           : 0.38\n",
      "HSP90AA1       : 0.38\n",
      "TEX30          : 0.38\n",
      "COMT           : 0.38\n",
      "PRDX2          : 0.38\n",
      "DNAJA1         : 0.38\n",
      "TPX2           : 0.37\n",
      "ARPC3          : 0.37\n",
      "TUBB4B         : 0.37\n",
      "TFRC           : 0.37\n",
      "SNHG9          : 0.37\n",
      "BCYRN1         : 0.37\n",
      "ATF4           : 0.37\n",
      "PYCARD         : 0.37\n",
      "LAPTM5         : 0.37\n",
      "TESC           : 0.37\n",
      "IFITM2         : 0.37\n",
      "WDR43          : 0.36\n",
      "CLIC1          : 0.36\n",
      "PRSS57         : 0.36\n",
      "LDHB           : 0.36\n",
      "LY6E           : 0.36\n",
      "ARPC1B         : 0.36\n",
      "ENO1           : 0.36\n",
      "THUMPD3-AS1    : 0.36\n",
      "MYC            : 0.36\n",
      "UBC            : 0.36\n",
      "POLR2J3        : 0.36\n",
      "CALM2          : 0.36\n",
      "KCNH2          : 0.35\n",
      "SMC4           : 0.35\n",
      "TMEM54         : 0.35\n",
      "SVIP           : 0.35\n",
      "KRT8           : 0.35\n",
      "MEF2C          : 0.35\n",
      "HSPD1          : 0.35\n",
      "VAMP8          : 0.35\n",
      "LYL1           : 0.35\n",
      "CLTA           : 0.35\n",
      "DBI            : 0.35\n",
      "MSN            : 0.35\n",
      "ANXA2          : 0.35\n",
      "NCL            : 0.35\n",
      "PPIB           : 0.35\n",
      "TMSB10         : 0.35\n",
      "MYL12A         : 0.35\n",
      "SMYD3          : 0.35\n",
      "DEK            : 0.35\n",
      "H1FX           : 0.35\n",
      "TIMP1          : 0.35\n",
      "CALR           : 0.35\n",
      "ARGLU1         : 0.35\n",
      "MT2A           : 0.35\n",
      "MARCKSL1       : 0.35\n",
      "CCNA2          : 0.35\n",
      "COL18A1        : 0.34\n",
      "PSMB2          : 0.34\n",
      "PTPN7          : 0.34\n",
      "ITM2B          : 0.34\n",
      "ANP32E         : 0.34\n",
      "GPSM3          : 0.34\n",
      "ALAS2          : 0.34\n",
      "SEPP1          : 0.34\n",
      "SOCS2          : 0.34\n",
      "TNNT1          : 0.34\n",
      "CMTM6          : 0.34\n",
      "AP001171.1     : 0.34\n",
      "WBP5           : 0.34\n",
      "ARPC5          : 0.34\n",
      "XIST           : 0.34\n",
      "EIF2S3         : 0.34\n",
      "CLSPN          : 0.34\n",
      "PPP1R18        : 0.34\n",
      "NUCKS1         : 0.34\n",
      "LIMD2          : 0.34\n",
      "MT-ND4L        : 0.34\n",
      "PPP1R14A       : 0.34\n",
      "GSTP1          : 0.34\n",
      "SQLE           : 0.34\n",
      "CD99           : 0.34\n",
      "PDE4DIP        : 0.34\n",
      "TUBA1B         : 0.34\n",
      "MPC2           : 0.33\n",
      "TKT            : 0.33\n",
      "METTL9         : 0.33\n",
      "RTN4           : 0.33\n",
      "GMPPA          : 0.33\n",
      "PSAP           : 0.33\n",
      "RHOBTB3        : 0.33\n",
      "CDC42          : 0.33\n",
      "CAP1           : 0.33\n",
      "QPRT           : 0.33\n",
      "PNISR          : 0.33\n",
      "CTSL           : 0.33\n",
      "NENF           : 0.33\n",
      "GADD45A        : 0.33\n",
      "CELF2          : 0.33\n",
      "RHOC           : 0.33\n",
      "ATP6V0E1       : 0.33\n",
      "HMGN2          : 0.33\n",
      "CAPZA1         : 0.33\n",
      "GYPC           : 0.33\n",
      "POLR2E         : 0.32\n",
      "DSCR8          : 0.32\n",
      "ACTG1          : 0.32\n",
      "FRG1           : 0.32\n",
      "CST3           : 0.32\n",
      "LAPTM4B        : 0.32\n",
      "APOC1          : 0.32\n",
      "EIF4A2         : 0.32\n",
      "CLU            : 0.32\n",
      "HIST1H2AC      : 0.32\n",
      "LMO2           : 0.32\n",
      "FABP5          : 0.32\n",
      "UBB            : 0.32\n",
      "HBA1           : 0.32\n",
      "CD63           : 0.32\n",
      "MTRNR2L8       : 0.32\n",
      "MKI67          : 0.32\n",
      "S100A13        : 0.32\n",
      "TMEM219        : 0.31\n",
      "SDF2L1         : 0.31\n",
      "MAPK1          : 0.31\n",
      "RANBP1         : 0.31\n",
      "TMEM59         : 0.31\n",
      "KPNA2          : 0.31\n",
      "PCNA           : 0.31\n",
      "BPTF           : 0.31\n",
      "CCND3          : 0.31\n",
      "RPL22L1        : 0.31\n",
      "MSRB1          : 0.31\n",
      "TAOK3          : 0.31\n",
      "PTMA           : 0.31\n",
      "HHEX           : 0.31\n",
      "P4HB           : 0.31\n",
      "SRSF3          : 0.31\n",
      "BNIP3L         : 0.31\n"
     ]
    }
   ],
   "source": [
    "# Number of top genes to select.\n",
    "d = 200\n",
    "\n",
    "# Compute the gene variances.\n",
    "# axis=0 calculates variance along a column = var of each gene\n",
    "gene_variances = adata_single.X.toarray().var(axis=0)  # type: ignore\n",
    "\n",
    "# Sort the gene variances in descending order and get the indexes of the top d genes.\n",
    "# [::-1] sorts all; -1 inverts sort (descending instead of ascending)\n",
    "sorted_indexes = gene_variances.argsort()[::-1]\n",
    "\n",
    "# Get the indexes of the top d genes (!!!!!!!!!!!!!!!!!)\n",
    "top_gene_indexes = sorted_indexes[:d]\n",
    "\n",
    "# Get the gene names of the top d genes.\n",
    "top_genes = adata_single.var[\"gene_name\"].iloc[top_gene_indexes]\n",
    "\n",
    "# Get the variances of the top d genes. Before sorting.\n",
    "top_variances = gene_variances[top_gene_indexes]\n",
    "\n",
    "# Print the top d genes with the highest variances.\n",
    "print(f\"Top {d} genes with highest variances:\")\n",
    "for gene, variance in zip(top_genes, top_variances):\n",
    "    print(f\"{gene:15}: {variance:.2f}\")\n",
    "\n",
    "# Create a new AnnData object with only the top d genes.\n",
    "adata_single_top_genes = adata_single[:, top_gene_indexes].copy()"
   ]
  },
  {
   "cell_type": "code",
   "execution_count": 59,
   "metadata": {},
   "outputs": [
    {
     "data": {
      "text/html": [
       "<div>\n",
       "<style scoped>\n",
       "    .dataframe tbody tr th:only-of-type {\n",
       "        vertical-align: middle;\n",
       "    }\n",
       "\n",
       "    .dataframe tbody tr th {\n",
       "        vertical-align: top;\n",
       "    }\n",
       "\n",
       "    .dataframe thead th {\n",
       "        text-align: right;\n",
       "    }\n",
       "</style>\n",
       "<table border=\"1\" class=\"dataframe\">\n",
       "  <thead>\n",
       "    <tr style=\"text-align: right;\">\n",
       "      <th></th>\n",
       "      <th>gene_name</th>\n",
       "    </tr>\n",
       "    <tr>\n",
       "      <th>gene_id</th>\n",
       "      <th></th>\n",
       "    </tr>\n",
       "  </thead>\n",
       "  <tbody>\n",
       "    <tr>\n",
       "      <th>ENSG00000130656</th>\n",
       "      <td>HBZ</td>\n",
       "    </tr>\n",
       "    <tr>\n",
       "      <th>ENSG00000197061</th>\n",
       "      <td>HIST1H4C</td>\n",
       "    </tr>\n",
       "    <tr>\n",
       "      <th>ENSG00000196565</th>\n",
       "      <td>HBG2</td>\n",
       "    </tr>\n",
       "    <tr>\n",
       "      <th>ENSG00000187837</th>\n",
       "      <td>HIST1H1C</td>\n",
       "    </tr>\n",
       "    <tr>\n",
       "      <th>ENSG00000213934</th>\n",
       "      <td>HBG1</td>\n",
       "    </tr>\n",
       "    <tr>\n",
       "      <th>...</th>\n",
       "      <td>...</td>\n",
       "    </tr>\n",
       "    <tr>\n",
       "      <th>ENSG00000125148</th>\n",
       "      <td>MT2A</td>\n",
       "    </tr>\n",
       "    <tr>\n",
       "      <th>ENSG00000175130</th>\n",
       "      <td>MARCKSL1</td>\n",
       "    </tr>\n",
       "    <tr>\n",
       "      <th>ENSG00000145386</th>\n",
       "      <td>CCNA2</td>\n",
       "    </tr>\n",
       "    <tr>\n",
       "      <th>ENSG00000182871</th>\n",
       "      <td>COL18A1</td>\n",
       "    </tr>\n",
       "    <tr>\n",
       "      <th>ENSG00000126067</th>\n",
       "      <td>PSMB2</td>\n",
       "    </tr>\n",
       "  </tbody>\n",
       "</table>\n",
       "<p>120 rows × 1 columns</p>\n",
       "</div>"
      ],
      "text/plain": [
       "                gene_name\n",
       "gene_id                  \n",
       "ENSG00000130656       HBZ\n",
       "ENSG00000197061  HIST1H4C\n",
       "ENSG00000196565      HBG2\n",
       "ENSG00000187837  HIST1H1C\n",
       "ENSG00000213934      HBG1\n",
       "...                   ...\n",
       "ENSG00000125148      MT2A\n",
       "ENSG00000175130  MARCKSL1\n",
       "ENSG00000145386     CCNA2\n",
       "ENSG00000182871   COL18A1\n",
       "ENSG00000126067     PSMB2\n",
       "\n",
       "[120 rows x 1 columns]"
      ]
     },
     "execution_count": 59,
     "metadata": {},
     "output_type": "execute_result"
    }
   ],
   "source": [
    "adata_subset.var"
   ]
  },
  {
   "cell_type": "code",
   "execution_count": 70,
   "metadata": {},
   "outputs": [
    {
     "data": {
      "image/png": "[encoded data removed]",
      "text/plain": [
       "<Figure size 640x480 with 2 Axes>"
      ]
     },
     "metadata": {},
     "output_type": "display_data"
    }
   ],
   "source": [
    "import scanpy as sc\n",
    "subset_cells = np.random.choice(adata_single_top_genes.obs_names, size=2000, replace=False)\n",
    "adata_subset = adata_single_top_genes[subset_cells, :]\n",
    "sc.tl.pca(adata_subset)  # Recalculate PCA on the subset\n",
    "sc.pl.pca(adata_subset, color=\"control\", components=[\"1,2\"], ncols=2, title=\"control vs pert\")"
   ]
  },
  {
   "cell_type": "code",
   "execution_count": 68,
   "metadata": {},
   "outputs": [
    {
     "data": {
      "image/png": "[encoded data removed]",
      "text/plain": [
       "<Figure size 640x480 with 2 Axes>"
      ]
     },
     "metadata": {},
     "output_type": "display_data"
    }
   ],
   "source": [
    "import scanpy as sc\n",
    "subset_cells = np.random.choice(adata_single_top_genes.obs_names, size=1000, replace=False)\n",
    "adata_subset = adata_single_top_genes[subset_cells, :]\n",
    "sc.tl.pca(adata_subset)  # Recalculate PCA on the subset\n",
    "sc.pl.pca(adata_subset, color=\"ENSG00000130656\", components=[\"1,2\"], ncols=2, title=\"HBZ expression\")"
   ]
  },
  {
   "cell_type": "code",
   "execution_count": null,
   "metadata": {},
   "outputs": [
    {
     "name": "stdout",
     "output_type": "stream",
     "text": [
      "Evaluating double 1/128: FOXA3+FOXA1\n",
      "MMD (true vs. control):     0.301503\n",
      "MMD (true vs. predicted):   6.048503\n",
      "MSE (true vs. control):     0.086242\n",
      "MSE (true vs. predicted):   0.057547\n",
      "Evaluating double 2/128: SGK1+TBX2\n",
      "MMD (true vs. control):     0.311693\n",
      "MMD (true vs. predicted):   6.144230\n",
      "MSE (true vs. control):     0.078591\n",
      "MSE (true vs. predicted):   0.055485\n",
      "Evaluating double 3/128: DUSP9+ETS2\n"
     ]
    },
    {
     "ename": "",
     "evalue": "",
     "output_type": "error",
     "traceback": [
      "\u001b[1;31mThe Kernel crashed while executing code in the current cell or a previous cell. \n",
      "\u001b[1;31mPlease review the code in the cell(s) to identify a possible cause of the failure. \n",
      "\u001b[1;31mClick <a href='https://aka.ms/vscodeJupyterKernelCrash'>here</a> for more info. \n",
      "\u001b[1;31mView Jupyter <a href='command:jupyter.viewOutput'>log</a> for further details."
     ]
    },
    {
     "ename": "",
     "evalue": "",
     "output_type": "error",
     "traceback": [
      "\u001b[1;31mCanceled future for execute_request message before replies were done"
     ]
    },
    {
     "ename": "",
     "evalue": "",
     "output_type": "error",
     "traceback": [
      "\u001b[1;31mCanceled future for execute_request message before replies were done. \n",
      "\u001b[1;31mView Jupyter <a href='command:jupyter.viewOutput'>log</a> for further details."
     ]
    }
   ],
   "source": [
    "# gr.evaluate_double(adata=norman.adata, model_name=train_model)"
   ]
  },
  {
   "cell_type": "markdown",
   "metadata": {},
   "source": [
    "Evaluating double 1/128: FOXA3+FOXA1\n",
    "MMD (true vs. control):     0.301503\n",
    "MMD (true vs. predicted):   6.048503\n",
    "MSE (true vs. control):     0.086242\n",
    "MSE (true vs. predicted):   0.057547\n",
    "Evaluating double 2/128: SGK1+TBX2\n",
    "MMD (true vs. control):     0.311693\n",
    "MMD (true vs. predicted):   6.144230\n",
    "MSE (true vs. control):     0.078591\n",
    "MSE (true vs. predicted):   0.055485\n",
    "Evaluating double 3/128: DUSP9+ETS2"
   ]
  },
  {
   "cell_type": "code",
   "execution_count": 7,
   "metadata": {},
   "outputs": [],
   "source": [
    "df = pd.read_csv(\n",
    "        filepath_or_buffer=\"./results/gears_norman_split_simulation_seed_7_hidden_size_64_double.csv\")\n",
    "adata = norman.adata"
   ]
  },
  {
   "cell_type": "code",
   "execution_count": 7,
   "metadata": {},
   "outputs": [
    {
     "name": "stdout",
     "output_type": "stream",
     "text": [
      "(128, 5046)\n",
      "(89357, 5045)\n"
     ]
    }
   ],
   "source": [
    "# predict df has an extra double column\n",
    "print(df.shape)\n",
    "print(adata.shape)"
   ]
  },
  {
   "cell_type": "code",
   "execution_count": 8,
   "metadata": {},
   "outputs": [
    {
     "data": {
      "text/plain": [
       "View of AnnData object with n_obs × n_vars = 89357 × 5045\n",
       "    obs: 'condition', 'cell_type', 'dose_val', 'control', 'condition_name'\n",
       "    var: 'gene_name'\n",
       "    uns: 'non_dropout_gene_idx', 'non_zeros_gene_idx', 'rank_genes_groups_cov_all', 'top_non_dropout_de_20', 'top_non_zero_de_20'\n",
       "    layers: 'counts'"
      ]
     },
     "execution_count": 8,
     "metadata": {},
     "output_type": "execute_result"
    }
   ],
   "source": [
    "adata"
   ]
  },
  {
   "cell_type": "code",
   "execution_count": 9,
   "metadata": {},
   "outputs": [
    {
     "data": {
      "text/plain": [
       "0        FOXA3_FOXA1\n",
       "1          SGK1_TBX2\n",
       "2         DUSP9_ETS2\n",
       "3      CDKN1C_CDKN1B\n",
       "4        FOXA3_FOXL2\n",
       "           ...      \n",
       "123      FOXA1_FOXF1\n",
       "124         IRF1_SET\n",
       "125        CBL_PTPN9\n",
       "126       CEBPB_OSR2\n",
       "127       CBL_TGFBR2\n",
       "Name: double, Length: 128, dtype: object"
      ]
     },
     "execution_count": 9,
     "metadata": {},
     "output_type": "execute_result"
    }
   ],
   "source": [
    "df[\"double\"]"
   ]
  },
  {
   "cell_type": "code",
   "execution_count": 10,
   "metadata": {},
   "outputs": [],
   "source": [
    "# SGK1_TBX2 is done correctly\n",
    "# DUSP9_ETS2 crashes, >600 samples in norman.adata\n",
    "double = \"SGK1_TBX2\"\n",
    "pred_geps = df.loc[df[\"double\"] == double]\n",
    "pred_geps = pred_geps.iloc[0, 1:].tolist()\n",
    "\n",
    "\n",
    "pred_geps = np.array([pred_geps])"
   ]
  },
  {
   "cell_type": "code",
   "execution_count": 11,
   "metadata": {},
   "outputs": [
    {
     "data": {
      "text/plain": [
       "array([[ 1.0962215e-21,  1.0269225e-01,  1.5303849e-01, ...,\n",
       "         3.7186550e+00,  7.4551366e-03, -4.2565677e-25]])"
      ]
     },
     "execution_count": 11,
     "metadata": {},
     "output_type": "execute_result"
    }
   ],
   "source": [
    "pred_geps"
   ]
  },
  {
   "cell_type": "code",
   "execution_count": 12,
   "metadata": {},
   "outputs": [
    {
     "name": "stdout",
     "output_type": "stream",
     "text": [
      "Evaluating double 2/128: SGK1+TBX2\n"
     ]
    }
   ],
   "source": [
    "pred_geps_copy = df.loc[df[\"double\"] == double]\n",
    "\n",
    "print(f\"Evaluating double {df[df['double'] == double].index[0] + 1}/{len(df['double'])}: {double.replace('_', '+')}\")\n",
    "double = double.replace(\"_\", \"+\")\n",
    "true_geps = adata[adata.obs[\"condition\"] == double]\n",
    "\n",
    "if true_geps.n_obs>250:\n",
    "    n = 250\n",
    "    random_indices = np.random.choice(true_geps.n_obs, size=n, replace=False)\n",
    "    true_geps = true_geps[random_indices, :]   \n",
    "else:\n",
    "    n = true_geps.n_obs\n",
    "pred_geps_copy = pred_geps_copy.iloc[0, 1:].tolist()\n",
    "pred_geps_copy = csr_matrix(np.tile(pred_geps, reps=(n, 1)))"
   ]
  },
  {
   "cell_type": "code",
   "execution_count": 13,
   "metadata": {},
   "outputs": [],
   "source": [
    "all_ctrl_geps = adata[adata.obs[\"condition\"] == \"ctrl\"]\n",
    "random_indices = np.random.choice(all_ctrl_geps.n_obs, size=n, replace=False)\n",
    "ctrl_geps = all_ctrl_geps[random_indices, :]\n",
    "pred_geps = csr_matrix(pred_geps)"
   ]
  },
  {
   "cell_type": "code",
   "execution_count": 14,
   "metadata": {},
   "outputs": [
    {
     "name": "stdout",
     "output_type": "stream",
     "text": [
      "Shape of true_geps: (250, 5045)\n",
      "Shape of ctrl_geps: (250, 5045)\n",
      "Shape of pred_geps: (1, 5045)\n",
      "Shape of pred_geps_copy: (250, 5045)\n"
     ]
    }
   ],
   "source": [
    "print(\"Shape of true_geps: {}\".format(true_geps.shape))\n",
    "print(\"Shape of ctrl_geps: {}\".format(pred_geps_copy.shape))\n",
    "print(\"Shape of pred_geps: {}\".format(pred_geps.shape))\n",
    "print(\"Shape of pred_geps_copy: {}\".format(pred_geps_copy.shape))"
   ]
  },
  {
   "cell_type": "code",
   "execution_count": 15,
   "metadata": {},
   "outputs": [
    {
     "name": "stdout",
     "output_type": "stream",
     "text": [
      "Shape of ctrl_geps_tensor: 250 5045\n",
      "Shape of pred_geps_tensor: 1 5045\n",
      "Shape of true_geps_tensor: 250 5045\n"
     ]
    }
   ],
   "source": [
    "true_geps_tensor = torch.tensor(true_geps.X.toarray())\n",
    "ctrl_geps_tensor = torch.tensor(ctrl_geps.X.toarray())\n",
    "pred_geps_tensor = torch.tensor(pred_geps.toarray())\n",
    "print(\"Shape of ctrl_geps_tensor: {} {}\".format(ctrl_geps_tensor.shape[0], ctrl_geps_tensor.shape[1]))\n",
    "print(\"Shape of pred_geps_tensor: {} {}\".format(pred_geps_tensor.shape[0], pred_geps_tensor.shape[1]))\n",
    "print(\"Shape of true_geps_tensor: {} {}\".format(true_geps_tensor.shape[0], true_geps_tensor.shape[1]))"
   ]
  },
  {
   "cell_type": "code",
   "execution_count": 16,
   "metadata": {},
   "outputs": [
    {
     "data": {
      "text/plain": [
       "tensor([[ 1.0962e-21,  1.0269e-01,  1.5304e-01,  ...,  3.7187e+00,\n",
       "          7.4551e-03, -4.2566e-25]], dtype=torch.float64)"
      ]
     },
     "execution_count": 16,
     "metadata": {},
     "output_type": "execute_result"
    }
   ],
   "source": [
    "pred_geps_tensor"
   ]
  },
  {
   "cell_type": "code",
   "execution_count": 17,
   "metadata": {},
   "outputs": [],
   "source": [
    "mmd_sigma = 200.0\n",
    "kernel_num = 10\n",
    "mmd_loss = MMDLoss(fix_sigma=mmd_sigma, kernel_num=kernel_num)"
   ]
  },
  {
   "cell_type": "code",
   "execution_count": 18,
   "metadata": {},
   "outputs": [
    {
     "name": "stdout",
     "output_type": "stream",
     "text": [
      "XX mean: 3.256816864013672\n",
      "YY mean: 2.7831904888153076\n",
      "2*XY mean: 5.699377059936523\n"
     ]
    }
   ],
   "source": [
    "mmd_true_vs_ctrl = mmd_loss.forward(\n",
    "                source=ctrl_geps_tensor, target=true_geps_tensor\n",
    "            )"
   ]
  },
  {
   "cell_type": "code",
   "execution_count": 19,
   "metadata": {},
   "outputs": [
    {
     "name": "stdout",
     "output_type": "stream",
     "text": [
      "XX mean: 10.0\n",
      "YY mean: 2.783190601949038\n",
      "2*XY mean: 6.7160238794992875\n"
     ]
    }
   ],
   "source": [
    "mmd_true_vs_pred = mmd_loss.forward(\n",
    "                source=pred_geps_tensor, target=true_geps_tensor\n",
    "            )"
   ]
  },
  {
   "cell_type": "code",
   "execution_count": 20,
   "metadata": {},
   "outputs": [],
   "source": [
    "mse_true_vs_ctrl = torch.mean((true_geps_tensor - ctrl_geps_tensor) ** 2).item()\n",
    "mse_true_vs_pred = torch.mean((true_geps_tensor - pred_geps_tensor) ** 2).item()"
   ]
  },
  {
   "cell_type": "code",
   "execution_count": 21,
   "metadata": {},
   "outputs": [
    {
     "name": "stdout",
     "output_type": "stream",
     "text": [
      "MMD (true vs. control):     0.340631\n",
      "MMD (true vs. predicted):   6.067167\n",
      "MSE (true vs. control):     0.078852\n",
      "MSE (true vs. predicted):   0.054228\n"
     ]
    }
   ],
   "source": [
    "print(f\"MMD (true vs. control):   {mmd_true_vs_ctrl:10.6f}\")\n",
    "print(f\"MMD (true vs. predicted): {mmd_true_vs_pred:10.6f}\")\n",
    "print(f\"MSE (true vs. control):   {mse_true_vs_ctrl:10.6f}\")\n",
    "print(f\"MSE (true vs. predicted): {mse_true_vs_pred:10.6f}\")\n",
    "\n",
    "\n",
    "# print(f\"{double},{n},{mmd_true_vs_ctrl},{mmd_true_vs_pred},{mse_true_vs_ctrl},{mse_true_vs_pred}\",file=f)"
   ]
  },
  {
   "cell_type": "markdown",
   "metadata": {},
   "source": [
    "## MMD and sample distribution"
   ]
  },
  {
   "cell_type": "markdown",
   "metadata": {},
   "source": [
    "MMD, Max Mean Discrepancy, determines distance between distributions. MMD loss calculated above is particularly high because XX is not an actual distribution, it's just 1 point. When there is no variation to speak of in a sample group (in this case for prediction GEP), if there is an actual distance between points, "
   ]
  },
  {
   "cell_type": "code",
   "execution_count": 22,
   "metadata": {},
   "outputs": [
    {
     "name": "stdout",
     "output_type": "stream",
     "text": [
      "Shape of ctrl_geps_tensor: 250 5045\n",
      "Shape of pred_geps_tensor: 1 5045\n",
      "Shape of pred_geps_dist_tensor: 100 5045\n",
      "Shape of true_geps_tensor: 250 5045\n"
     ]
    }
   ],
   "source": [
    "# Increasing pred_gep size and adding some random noise\n",
    "num = 100\n",
    "\n",
    "double = \"DUSP9_ETS2\"\n",
    "pred_geps_dist = df.loc[df[\"double\"] == double]\n",
    "pred_geps_dist = pred_geps_dist.iloc[0, 1:].tolist()\n",
    "pred_geps_dist = csr_matrix(np.tile(pred_geps_dist, reps=(num, 1)))\n",
    "\n",
    "# noise\n",
    "noise = csr_matrix(1 + (np.random.randn(*pred_geps_dist[1:, :].shape) * 0.20))\n",
    "pred_geps_dist = pred_geps_dist.toarray()\n",
    "pred_geps_dist[1:, :] *= noise.toarray()\n",
    "\n",
    "# new tensor\n",
    "pred_geps_dist_tensor = torch.tensor(pred_geps_dist)\n",
    "\n",
    "print(\"Shape of ctrl_geps_tensor: {} {}\".format(ctrl_geps_tensor.shape[0], ctrl_geps_tensor.shape[1]))\n",
    "print(\"Shape of pred_geps_tensor: {} {}\".format(pred_geps_tensor.shape[0], pred_geps_tensor.shape[1]))\n",
    "print(\"Shape of pred_geps_dist_tensor: {} {}\".format(pred_geps_dist_tensor.shape[0], pred_geps_dist_tensor.shape[1]))\n",
    "print(\"Shape of true_geps_tensor: {} {}\".format(true_geps_tensor.shape[0], true_geps_tensor.shape[1]))"
   ]
  },
  {
   "cell_type": "code",
   "execution_count": 23,
   "metadata": {},
   "outputs": [],
   "source": [
    "mmd_sigma = 200.0\n",
    "kernel_num = 10\n",
    "mmd_loss = MMDLoss(fix_sigma=mmd_sigma, kernel_num=kernel_num)"
   ]
  },
  {
   "cell_type": "code",
   "execution_count": 24,
   "metadata": {},
   "outputs": [
    {
     "name": "stdout",
     "output_type": "stream",
     "text": [
      "XX mean: 3.256816864013672\n",
      "YY mean: 2.7831904888153076\n",
      "2*XY mean: 5.699377059936523\n"
     ]
    }
   ],
   "source": [
    "mmd_true_vs_ctrl = mmd_loss.forward(\n",
    "                source=ctrl_geps_tensor, target=true_geps_tensor\n",
    "            )"
   ]
  },
  {
   "cell_type": "code",
   "execution_count": 25,
   "metadata": {},
   "outputs": [
    {
     "name": "stdout",
     "output_type": "stream",
     "text": [
      "XX mean: 10.0\n",
      "YY mean: 2.783190601949038\n",
      "2*XY mean: 6.7160238794992875\n"
     ]
    }
   ],
   "source": [
    "mmd_true_vs_pred = mmd_loss.forward(\n",
    "                source=pred_geps_tensor, target=true_geps_tensor\n",
    "            )"
   ]
  },
  {
   "cell_type": "code",
   "execution_count": 26,
   "metadata": {},
   "outputs": [
    {
     "name": "stdout",
     "output_type": "stream",
     "text": [
      "XX mean: 5.2856672548366275\n",
      "YY mean: 2.783190601949038\n",
      "2*XY mean: 6.625836981478683\n"
     ]
    }
   ],
   "source": [
    "mmd_true_vs_pred_dist = mmd_loss.forward(\n",
    "                source=pred_geps_dist_tensor, target=true_geps_tensor\n",
    "            )"
   ]
  },
  {
   "cell_type": "code",
   "execution_count": 27,
   "metadata": {},
   "outputs": [],
   "source": [
    "mse_true_vs_ctrl = torch.mean((true_geps_tensor - ctrl_geps_tensor) ** 2).item()\n",
    "mse_true_vs_pred = torch.mean((true_geps_tensor - pred_geps_tensor) ** 2).item()\n",
    "mse_true_vs_pred_dist = torch.mean((true_geps_tensor[:num] - pred_geps_dist_tensor) ** 2).item() # MSE requires tensors to be same shape"
   ]
  },
  {
   "cell_type": "code",
   "execution_count": 28,
   "metadata": {},
   "outputs": [
    {
     "name": "stdout",
     "output_type": "stream",
     "text": [
      "MMD (true vs. control):     0.340631\n",
      "MMD (true vs. predicted):   6.067167\n",
      "MMD (true vs. predicted_dist):   1.443021\n",
      "MSE (true vs. control):     0.078852\n",
      "MSE (true vs. predicted):   0.054228\n",
      "MSE (true vs. predicted_dist):   0.056254\n"
     ]
    }
   ],
   "source": [
    "print(f\"MMD (true vs. control):   {mmd_true_vs_ctrl:10.6f}\")\n",
    "print(f\"MMD (true vs. predicted): {mmd_true_vs_pred:10.6f}\")\n",
    "print(f\"MMD (true vs. predicted_dist): {mmd_true_vs_pred_dist:10.6f}\")\n",
    "print(f\"MSE (true vs. control):   {mse_true_vs_ctrl:10.6f}\")\n",
    "print(f\"MSE (true vs. predicted): {mse_true_vs_pred:10.6f}\")\n",
    "print(f\"MSE (true vs. predicted_dist): {mse_true_vs_pred_dist:10.6f}\")"
   ]
  },
  {
   "cell_type": "markdown",
   "metadata": {},
   "source": [
    "## MMD and bandwidth"
   ]
  },
  {
   "cell_type": "markdown",
   "metadata": {},
   "source": [
    "Below: function to obtain all bandwidths and kernel for each one."
   ]
  },
  {
   "cell_type": "code",
   "execution_count": 29,
   "metadata": {},
   "outputs": [],
   "source": [
    "def gaussian_kernel_mmd_loss(\n",
    "    source, target, kernel_mul=2.0, kernel_num=5, fix_sigma=None\n",
    "):\n",
    "    n_samples = int(source.size()[0]) + int(target.size()[0])\n",
    "    batch_size = int(source.size()[0])\n",
    "    total = torch.cat([source, target], dim=0)\n",
    "    total0 = total.unsqueeze(0).expand(\n",
    "        int(total.size(0)), int(total.size(0)), int(total.size(1))\n",
    "    )\n",
    "    total1 = total.unsqueeze(1).expand(\n",
    "        int(total.size(0)), int(total.size(0)), int(total.size(1))\n",
    "    )\n",
    "    l2_distance = ((total0 - total1) ** 2).sum(2)\n",
    "    if fix_sigma:\n",
    "        bandwidth = fix_sigma\n",
    "    else:\n",
    "        bandwidth = torch.sum(l2_distance.data) / (n_samples**2 - n_samples)\n",
    "    bandwidth /= kernel_mul ** (kernel_num // 2)\n",
    "    bandwidth_list = [bandwidth * (kernel_mul**i) for i in range(kernel_num)]\n",
    "    loss_list = []\n",
    "    for bandwidth_temp in bandwidth_list:\n",
    "        kernel = torch.exp(-l2_distance / bandwidth_temp)\n",
    "        XX = kernel[:batch_size, :batch_size]  # noqa: N806\n",
    "        YY = kernel[batch_size:, batch_size:]  # noqa: N806\n",
    "        XY = kernel[:batch_size, batch_size:]\n",
    "        loss = torch.mean(XX) + torch.mean(YY) - 2*torch.mean(XY)\n",
    "        loss_list.append(loss)\n",
    "    return bandwidth_list, loss_list\n",
    "\n",
    "    "
   ]
  },
  {
   "cell_type": "code",
   "execution_count": 30,
   "metadata": {},
   "outputs": [],
   "source": [
    "# Loss contribution of each kernel with pred_geps\n",
    "mmd_sigma = 200.0\n",
    "kernel_num = 10\n",
    "bandwidth_list, loss_list_1 = gaussian_kernel_mmd_loss(source=pred_geps_tensor, target=true_geps_tensor,\n",
    "                                                            kernel_num = kernel_num, fix_sigma=mmd_sigma)"
   ]
  },
  {
   "cell_type": "code",
   "execution_count": 31,
   "metadata": {},
   "outputs": [],
   "source": [
    "# Loss contribution of each kernel with 100 pred_geps with random noise\n",
    "bandwidth_list, loss_list_100 = gaussian_kernel_mmd_loss(source=pred_geps_dist_tensor, target=true_geps_tensor,\n",
    "                                                            kernel_num = kernel_num, fix_sigma=mmd_sigma)"
   ]
  },
  {
   "cell_type": "code",
   "execution_count": 32,
   "metadata": {},
   "outputs": [
    {
     "data": {
      "text/plain": [
       "<function matplotlib.pyplot.show(close=None, block=None)>"
      ]
     },
     "execution_count": 32,
     "metadata": {},
     "output_type": "execute_result"
    },
    {
     "data": {
      "image/png": "[encoded data removed]",
      "text/plain": [
       "<Figure size 640x480 with 1 Axes>"
      ]
     },
     "metadata": {},
     "output_type": "display_data"
    }
   ],
   "source": [
    "import matplotlib.pyplot as plt\n",
    "plt.plot(bandwidth_list, loss_list_1, 'r-', label = \"XX =  1 sample\")\n",
    "plt.plot(bandwidth_list, loss_list_100, 'b-', label = \"XX = 100 samples\")\n",
    "plt.legend()\n",
    "plt.title(\"Kernel comparison in MMD\")\n",
    "plt.xlabel(\"Bandwidth\")\n",
    "plt.ylabel(\"Loss\")\n",
    "plt.show"
   ]
  },
  {
   "cell_type": "markdown",
   "metadata": {},
   "source": [
    "### Attempting MMD with all pred_geps vs. full set of true_geps"
   ]
  },
  {
   "cell_type": "code",
   "execution_count": 33,
   "metadata": {},
   "outputs": [],
   "source": [
    "pred_geps_all = df.iloc[:, 1:]"
   ]
  },
  {
   "cell_type": "code",
   "execution_count": 35,
   "metadata": {},
   "outputs": [],
   "source": [
    "double_indices = []\n",
    "for double in df[\"double\"]:\n",
    "    double = double.replace(\"_\", \"+\")\n",
    "    true_geps_temp = adata[adata.obs[\"condition\"] == double]\n",
    "    random_index = np.random.choice(true_geps_temp.obs_names, size = 1, replace = False)\n",
    "    double_indices.append(random_index[0])"
   ]
  },
  {
   "cell_type": "code",
   "execution_count": 37,
   "metadata": {},
   "outputs": [],
   "source": [
    "true_geps = adata[double_indices].copy()"
   ]
  },
  {
   "cell_type": "code",
   "execution_count": 38,
   "metadata": {},
   "outputs": [],
   "source": [
    "n = true_geps.n_obs\n",
    "all_ctrl_geps = adata[adata.obs[\"condition\"] == \"ctrl\"]\n",
    "random_indices = np.random.choice(\n",
    "    all_ctrl_geps.n_obs, size=n, replace=False\n",
    ")\n",
    "ctrl_geps = all_ctrl_geps[random_indices, :]"
   ]
  },
  {
   "cell_type": "code",
   "execution_count": 39,
   "metadata": {},
   "outputs": [],
   "source": [
    "true_geps_tensor = torch.tensor(true_geps.X.toarray())\n",
    "ctrl_geps_tensor = torch.tensor(ctrl_geps.X.toarray())\n",
    "pred_geps_tensor = torch.tensor(pred_geps_all.values)"
   ]
  },
  {
   "cell_type": "code",
   "execution_count": 40,
   "metadata": {},
   "outputs": [],
   "source": [
    "mmd_sigma = 100.0\n",
    "kernel_num = 10\n",
    "mmd_loss = MMDLoss(kernel_num=kernel_num)\n"
   ]
  },
  {
   "cell_type": "code",
   "execution_count": 41,
   "metadata": {},
   "outputs": [
    {
     "name": "stdout",
     "output_type": "stream",
     "text": [
      "XX mean: 4.239979267120361\n",
      "YY mean: 3.600895643234253\n",
      "2*XY mean: 7.638129711151123\n"
     ]
    }
   ],
   "source": [
    "mmd_true_vs_ctrl = mmd_loss.forward(\n",
    "                source=ctrl_geps_tensor, target=true_geps_tensor\n",
    "            )"
   ]
  },
  {
   "cell_type": "code",
   "execution_count": 42,
   "metadata": {},
   "outputs": [
    {
     "name": "stdout",
     "output_type": "stream",
     "text": [
      "XX mean: 7.542480133442857\n",
      "YY mean: 3.116010433686599\n",
      "2*XY mean: 7.67836660081531\n"
     ]
    }
   ],
   "source": [
    "mmd_true_vs_pred = mmd_loss.forward(\n",
    "    source=pred_geps_tensor, target=true_geps_tensor\n",
    ")"
   ]
  },
  {
   "cell_type": "code",
   "execution_count": 43,
   "metadata": {},
   "outputs": [],
   "source": [
    "mse_true_vs_ctrl = torch.mean(\n",
    "    (true_geps_tensor - ctrl_geps_tensor) ** 2\n",
    ").item()\n",
    "mse_true_vs_pred = torch.mean(\n",
    "    (true_geps_tensor - pred_geps_tensor) ** 2\n",
    ").item()"
   ]
  },
  {
   "cell_type": "code",
   "execution_count": 44,
   "metadata": {},
   "outputs": [
    {
     "name": "stdout",
     "output_type": "stream",
     "text": [
      "MMD (true vs. control):     0.202745\n",
      "MMD (true vs. predicted):   2.980124\n",
      "MSE (true vs. control):     0.080550\n",
      "MSE (true vs. predicted):   0.053156\n"
     ]
    }
   ],
   "source": [
    "print(f\"MMD (true vs. control):   {mmd_true_vs_ctrl:10.6f}\")\n",
    "print(f\"MMD (true vs. predicted): {mmd_true_vs_pred:10.6f}\")\n",
    "print(f\"MSE (true vs. control):   {mse_true_vs_ctrl:10.6f}\")\n",
    "print(f\"MSE (true vs. predicted): {mse_true_vs_pred:10.6f}\")\n"
   ]
  },
  {
   "cell_type": "markdown",
   "metadata": {},
   "source": [
    "### Attempting MMD with substraction of pred_gep-ctrl_gep and true_gep-ctrl_gep"
   ]
  },
  {
   "cell_type": "markdown",
   "metadata": {},
   "source": [
    "Trying: MMD </br>\n",
    "True vs Predict as: </br>\n",
    "true-control vs pred-control </br>\n",
    "Control randomly sampled </br>\n",
    "Usually in DEG analysis, the difference is measured wrt a control. In this case, we have an abundant sample size of control expression profiles. It might be worth a try to compute MMD as the discrepancy in two distributions of gene profiles over control.\n"
   ]
  },
  {
   "cell_type": "code",
   "execution_count": 11,
   "metadata": {},
   "outputs": [],
   "source": [
    "# SGK1_TBX2 is done correctly\n",
    "# DUSP9_ETS2 crashes, >600 samples in norman.adata\n",
    "double = \"SGK1_TBX2\"\n",
    "pred_geps = df.loc[df[\"double\"] == double]\n",
    "pred_geps = pred_geps.iloc[0, 1:].tolist()\n",
    "\n",
    "pred_geps = np.array([pred_geps])"
   ]
  },
  {
   "cell_type": "code",
   "execution_count": 12,
   "metadata": {},
   "outputs": [
    {
     "name": "stdout",
     "output_type": "stream",
     "text": [
      "MMD (true vs. control):     0.166667\n",
      "MMD (true vs. predicted):   0.571652\n",
      "MSE (true vs. control):     0.080671\n",
      "MSE (true vs. predicted):   0.053418\n"
     ]
    }
   ],
   "source": [
    "# print(f\"Evaluating double {df[df['double'] == double].index[0] + 1}/{len(df['double'])}: {double.replace('_', '+')}\")\n",
    "double = double.replace(\"_\", \"+\")\n",
    "true_geps = adata[adata.obs[\"condition\"] == double]\n",
    "\n",
    "# Limiting n\n",
    "if true_geps.n_obs>250:\n",
    "    n = 250\n",
    "    random_indices = np.random.choice(true_geps.n_obs, size=n, replace=False)\n",
    "    true_geps = true_geps[random_indices, :]   \n",
    "else:\n",
    "    n = true_geps.n_obs\n",
    "\n",
    "# Obtaining random sample of ctrl GEP\n",
    "all_ctrl_geps = adata[adata.obs[\"condition\"] == \"ctrl\"]\n",
    "random_indices = np.random.choice(\n",
    "    all_ctrl_geps.n_obs, size=n, replace=False\n",
    ")\n",
    "ctrl_geps = all_ctrl_geps[random_indices, :]\n",
    "pred_geps = csr_matrix(np.tile(pred_geps, reps=(n, 1)))\n",
    "\n",
    "# Another random ctrl_gep\n",
    "random_indices_2 = np.random.choice(\n",
    "    all_ctrl_geps.n_obs, size=n, replace=False\n",
    ")\n",
    "ctrl_geps_2 = all_ctrl_geps[random_indices_2, :]\n",
    "\n",
    "# Tensor conversion and differential expression\n",
    "ctrl_geps_tensor = torch.tensor(ctrl_geps.X.toarray())\n",
    "ctrl_ctrl_geps_tensor = torch.tensor(ctrl_geps_2.X.toarray()) - ctrl_geps_tensor\n",
    "true_ctrl_geps_tensor = torch.tensor(true_geps.X.toarray()) - ctrl_geps_tensor\n",
    "pred_ctrl_geps_tensor = torch.tensor(pred_geps.toarray()) - ctrl_geps_tensor\n",
    "\n",
    "# MMD\n",
    "kernel_num = 10\n",
    "sigma_num = 200\n",
    "mmd_loss = MMDLoss(kernel_num=kernel_num, fix_sigma=sigma_num)\n",
    "\n",
    "mmd_true_vs_ctrl = mmd_loss.forward(\n",
    "                source=ctrl_ctrl_geps_tensor, target=true_ctrl_geps_tensor\n",
    "            )\n",
    "\n",
    "mmd_true_vs_pred = mmd_loss.forward(\n",
    "    source=pred_ctrl_geps_tensor, target=true_ctrl_geps_tensor\n",
    ")\n",
    "\n",
    "# MSE\n",
    "mse_true_vs_ctrl = torch.mean(\n",
    "    (true_ctrl_geps_tensor - ctrl_ctrl_geps_tensor) ** 2\n",
    ").item()\n",
    "mse_true_vs_pred = torch.mean(\n",
    "    (true_ctrl_geps_tensor - pred_ctrl_geps_tensor) ** 2\n",
    ").item()\n",
    "\n",
    "print(f\"MMD (true vs. control):   {mmd_true_vs_ctrl:10.6f}\")\n",
    "print(f\"MMD (true vs. predicted): {mmd_true_vs_pred:10.6f}\")\n",
    "print(f\"MSE (true vs. control):   {mse_true_vs_ctrl:10.6f}\")\n",
    "print(f\"MSE (true vs. predicted): {mse_true_vs_pred:10.6f}\")"
   ]
  },
  {
   "cell_type": "markdown",
   "metadata": {},
   "source": []
  },
  {
   "cell_type": "markdown",
   "metadata": {},
   "source": []
  }
 ],
 "metadata": {
  "kernelspec": {
   "display_name": "Python 3 (ipykernel)",
   "language": "python",
   "name": "python3"
  },
  "language_info": {
   "codemirror_mode": {
    "name": "ipython",
    "version": 3
   },
   "file_extension": ".py",
   "mimetype": "text/x-python",
   "name": "python",
   "nbconvert_exporter": "python",
   "pygments_lexer": "ipython3",
   "version": "3.11.10"
  }
 },
 "nbformat": 4,
 "nbformat_minor": 2
}
