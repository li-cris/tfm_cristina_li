{
 "cells": [
  {
   "cell_type": "markdown",
   "id": "a687cde9",
   "metadata": {},
   "source": [
    "# SENA demo"
   ]
  },
  {
   "cell_type": "code",
   "execution_count": null,
   "id": "61ae5021",
   "metadata": {},
   "outputs": [],
   "source": [
    "# imports\n",
    "import json\n",
    "import logging\n",
    "import os\n",
    "import sys\n",
    "import pickle\n",
    "import random\n",
    "import torch\n",
    "import numpy as np\n",
    "import pandas as pd\n",
    "from dataclasses import asdict, dataclass, field\n",
    "from typing import Any, Optional, List\n",
    "import scanpy as sc\n",
    "from torch.utils.data import DataLoader, TensorDataset\n",
    "from scipy.stats import pearsonr\n",
    "\n",
    "\n",
    "# SENA repo imports\n",
    "# Found in ../SENA/src\n",
    "from utils import Norman2019DataLoader # review Acuerdate de añadir utils a la carpeta de sena\n",
    "from train import train\n",
    "\n",
    "# Own sena-related imports\n",
    "# Importable from pip install -e ../sypp\n",
    "from sena.sena_utils import check_and_load_paths\n",
    "from data_utils.metrics import MMDLoss, compute_kld\n",
    "from sena.sena_utils import find_pert_pairs\n"
   ]
  },
  {
   "cell_type": "code",
   "execution_count": 3,
   "id": "56348f0b",
   "metadata": {},
   "outputs": [],
   "source": [
    "# Set up logging\n",
    "logging.basicConfig(\n",
    "    level=logging.INFO,\n",
    "    format=\"%(asctime)s - %(levelname)s - %(message)s\",\n",
    "    handlers=[\n",
    "        logging.FileHandler(\"training.log\"),  # Logs to a file\n",
    "        logging.StreamHandler(),  # Also logs to the console\n",
    "    ],\n",
    ")"
   ]
  },
  {
   "cell_type": "code",
   "execution_count": 4,
   "id": "e1a4a0ab",
   "metadata": {},
   "outputs": [],
   "source": [
    "@dataclass\n",
    "class Options:\n",
    "    name: str = \"demo_test\" # args\n",
    "    model: str = \"sena\"\n",
    "    dataset_name: str = \"Norman2019_reduced\" # args\n",
    "    batch_size: int = 32\n",
    "    sena_lambda: float = 0 # args\n",
    "    lr: float = 1e-3\n",
    "    epochs: int = 30 # args\n",
    "    grad_clip: bool = False\n",
    "    mxAlpha: float = 1.0\n",
    "    mxBeta: float = 1.0\n",
    "    mxTemp: float = 100.0\n",
    "    lmbda: float = 0.1\n",
    "    MMD_sigma: float = 200.0\n",
    "    kernel_num: int = 10\n",
    "    matched_IO: bool = False\n",
    "    latdim: int = 105 # args\n",
    "    seed: int = 42 # args\n",
    "    num_runs: int = 1 # args\n",
    "    dim: Optional[int] = None\n",
    "    cdim: Optional[int] = None\n",
    "    log: bool = False\n",
    "    mlflow_port: int = 5678\n",
    "    sena_eval_mode: List[str] = field(default_factory=lambda: [\"double\"]) # args\n",
    "    numint: int = 2\n",
    "    pool_size: int = 50 # args"
   ]
  },
  {
   "cell_type": "markdown",
   "id": "fd19277f",
   "metadata": {},
   "source": [
    "## Some code"
   ]
  },
  {
   "cell_type": "code",
   "execution_count": 5,
   "id": "884b59d8",
   "metadata": {},
   "outputs": [],
   "source": [
    "def set_seeds(seed: int) -> None:\n",
    "    \"\"\"Set random seeds for reproducibility.\"\"\"\n",
    "    torch.manual_seed(seed)\n",
    "    np.random.seed(seed)\n",
    "    random.seed(seed)"
   ]
  },
  {
   "cell_type": "code",
   "execution_count": 6,
   "id": "b5487c3a",
   "metadata": {},
   "outputs": [],
   "source": [
    "# Set up configuration for logging\n",
    "def save_config(opts: Options, save_dir: str) -> None:\n",
    "    \"\"\"Save the configuration options to a JSON file.\"\"\"\n",
    "    config_path = os.path.join(save_dir, \"config.json\")\n",
    "    with open(config_path, \"w\") as f:\n",
    "        json.dump(asdict(opts), f, indent=4)"
   ]
  },
  {
   "cell_type": "code",
   "execution_count": 7,
   "id": "79f0cc8f",
   "metadata": {},
   "outputs": [],
   "source": [
    "# Save dataloader as pickle\n",
    "def save_pickle(data: Any, filepath: str) -> None:\n",
    "    \"\"\"Save data to a pickle file.\"\"\"\n",
    "    with open(filepath, \"wb\") as f:\n",
    "        pickle.dump(data, f, protocol=pickle.HIGHEST_PROTOCOL)"
   ]
  },
  {
   "cell_type": "code",
   "execution_count": 8,
   "id": "e6e4747c",
   "metadata": {},
   "outputs": [],
   "source": [
    "def compute_metrics(gt_x_list, pred_x_list, gt_y_list,\n",
    "                    pred_y_list, c_y_list, mu_list, var_list,\n",
    "                    MSE_pred_true_temp, KLD_pred_true_temp, MMD_pred_true_temp,\n",
    "                    MSE_ctrl_true_temp, KLD_ctrl_true_temp, MMD_ctrl_true_temp,\n",
    "                    mmd_loss_func):\n",
    "    \"\"\"\n",
    "    asdf\n",
    "    \"\"\"\n",
    "    gt_x = torch.vstack(gt_x_list)\n",
    "    pred_x = torch.vstack(pred_x_list)\n",
    "    gt_y = torch.vstack(gt_y_list)\n",
    "    pred_y = torch.vstack(pred_y_list)\n",
    "    c_y = torch.vstack(c_y_list)\n",
    "    mu = torch.vstack(mu_list)\n",
    "    var = torch.vstack(var_list)\n",
    "\n",
    "    # Compute MSE\n",
    "    MSE_pred_true = torch.mean((gt_y - pred_y)**2)\n",
    "    MSE_ctrl_true = torch.mean((gt_y - gt_x)**2)\n",
    "\n",
    "    # Compute MMD\n",
    "    MMD_pred_true = mmd_loss_func(gt_y, pred_y)\n",
    "    MMD_ctrl_true = mmd_loss_func(gt_y, gt_x)\n",
    "\n",
    "    # Compute KLD\n",
    "    KLD_pred_true = compute_kld(gt_y, pred_y)\n",
    "    KLD_ctrl_true = compute_kld(gt_y, gt_x)\n",
    "\n",
    "\n",
    "    # Save temporal calculations\n",
    "    MSE_pred_true_temp.append(MSE_pred_true.item())\n",
    "    MSE_ctrl_true_temp.append(MSE_ctrl_true.item())\n",
    "\n",
    "    MMD_pred_true_temp.append(MMD_pred_true.item())\n",
    "    MMD_ctrl_true_temp.append(MMD_ctrl_true.item())\n",
    "\n",
    "    KLD_pred_true_temp.append(KLD_pred_true.item())\n",
    "    KLD_ctrl_true_temp.append(KLD_ctrl_true.item())\n",
    "\n",
    "    return (gt_x_list, pred_x_list, gt_y_list,\n",
    "            pred_y_list, c_y_list, mu_list, var_list,\n",
    "            MSE_pred_true_temp, KLD_pred_true_temp, MMD_pred_true_temp,\n",
    "            MSE_ctrl_true_temp, KLD_ctrl_true_temp, MMD_ctrl_true_temp)"
   ]
  },
  {
   "cell_type": "code",
   "execution_count": 9,
   "id": "abd18803",
   "metadata": {},
   "outputs": [],
   "source": [
    "def evaluate_double(model,\n",
    "                    dataloader,\n",
    "                    data_path,\n",
    "                    ptb_genes,\n",
    "                    config,\n",
    "                    results_dir_path: str,\n",
    "                    device: str,\n",
    "                    run_name: str,\n",
    "                    numint: int = 2) -> None:\n",
    "    \"\"\"\n",
    "    W\n",
    "    \"\"\"\n",
    "    # Load config\n",
    "    pool_size = config.get(\"pool_size\", 150)\n",
    "    MMD_sigma = config.get(\"MMD_sigma\", 200.0)\n",
    "    kernel_num = config.get(\"kernel_num\", 10)\n",
    "    # matched_IO = config.get(\"matched_IO\", False)\n",
    "    temp = config.get(\"temp\", 1000.0)\n",
    "    seed = config.get(\"seed\", 42)\n",
    "    # latdim = config.get(\"latdim\", 105)\n",
    "    # model_name = config.get(\"name\", \"example\")\n",
    "    batch_size = 5\n",
    "    top_deg = 20\n",
    "\n",
    "    set_seeds(seed)\n",
    "\n",
    "    # Load raw data, Norman for now\n",
    "    if os.path.exists(data_path):\n",
    "        adata = sc.read_h5ad(data_path)\n",
    "    else:\n",
    "        raise FileNotFoundError(f\"Data file not found at {data_path}\")\n",
    "\n",
    "\n",
    "    # Only keeps the matrix\n",
    "    ctrl_adata = adata[adata.obs[\"condition\"] == \"ctrl\"].X.copy()\n",
    "    baseline_ctrl = np.mean(ctrl_adata.toarray(), axis=0)\n",
    "\n",
    "    # Load double perturbation data\n",
    "    ptb_targets = sorted(adata.obs[\"guide_ids\"].unique().tolist())[1:]\n",
    "    double_adata = adata[\n",
    "        (adata.obs[\"guide_ids\"].str.contains(\",\"))\n",
    "        & (\n",
    "            adata.obs[\"guide_ids\"].map(\n",
    "                lambda x: all([y in ptb_targets for y in x.split(\",\")])\n",
    "            )\n",
    "        )\n",
    "    ]\n",
    "\n",
    "    # Randomply sampling same subset of control data based on seed\n",
    "    ctrl_random = ctrl_adata[np.random.choice(ctrl_adata.shape[0], pool_size, replace=True)]\n",
    "\n",
    "    print(\"Proceeding with evaluation of intervened pairs.\")\n",
    "    # Make results file path.\n",
    "    results_file_path = os.path.join(\n",
    "        results_dir_path, f\"{run_name}_double_metrics.csv\"\n",
    "        )\n",
    "\n",
    "    # Finding perturbation pairs for model and shape of c (for each dataloader)\n",
    "    all_pairs, _, c_shape = find_pert_pairs(dataloader=dataloader, device=device)\n",
    "\n",
    "    # Prepare writing results to file\n",
    "    with open(file=results_file_path, mode=\"w\") as f:\n",
    "            print(\n",
    "                f\"double,mmd_true_vs_ctrl,mmd_true_vs_pred,mse_true_vs_ctrl,mse_true_vs_pred,kld_true_vs_ctrl,kld_true_vs_pred,PearsonTop{top_deg}_true_vs_ctrl,Pearson_pval_true_vs_ctrl,PearsonTop{top_deg}_true_vs_pred,Pearson_pval_true_vs_pred\",\n",
    "                file=f,\n",
    "            )\n",
    "\n",
    "            # Initialise lists  \n",
    "            pred_x_list, gt_x_list = [], []\n",
    "            gt_y_list, pred_y_list = [], []\n",
    "            c_y_list, mu_list, var_list = [], [], []\n",
    "            MSE_pred_true_temp, KLD_pred_true_temp, MMD_pred_true_temp = [], [], []\n",
    "            MSE_ctrl_true_temp, KLD_ctrl_true_temp, MMD_ctrl_true_temp = [], [], []\n",
    "            full_preds = []\n",
    "            predictions_list = [] # initialise dataframe to save mean predictions for each double\n",
    "\n",
    "            # Initialise MMD function\n",
    "            mmd_loss_func = MMDLoss(fix_sigma=MMD_sigma, kernel_num=kernel_num)\n",
    "\n",
    "            for num, unique_pairs in enumerate(all_pairs):\n",
    "                gene_pair = \"+\".join([ptb_genes[unique_pairs[0]], ptb_genes[unique_pairs[1]]])\n",
    "                print(f\"Evaluating for intervention pair {num+1}/{len(all_pairs)}: {gene_pair}\")\n",
    "\n",
    "                # Turning control samples into tensor\n",
    "                ctrl_geps_tensor = torch.tensor(ctrl_random.toarray()).double()\n",
    "                # ctrl_geps_tensor = torch.tensor(ctrl_random.toarray())\n",
    "\n",
    "                # Get equivalent double adata or random sample\n",
    "                unique_pairs_set = set([ptb_genes[unique_pairs[0]], ptb_genes[unique_pairs[1]]])\n",
    "                double_samples = double_adata[double_adata.obs[\"guide_ids\"].map(\n",
    "                     lambda x: all([y in unique_pairs_set for y in x.split(\",\")])\n",
    "                )]\n",
    "\n",
    "                if double_samples.n_obs == 0:\n",
    "                    print(f\"0 samples found for {gene_pair}. Taking random samples from whole adata.\")\n",
    "                    true_geps = adata.copy()\n",
    "                    random_indices = np.random.choice(\n",
    "                        adata.n_obs, size=pool_size, replace=True\n",
    "                        )\n",
    "                    true_geps = true_geps[random_indices, :]\n",
    "\n",
    "                elif double_samples.n_obs < pool_size:\n",
    "                    print(f\"Warning: Not enough samples for {gene_pair}. Randomly selecting samples from {double_samples.n_obs} samples.\")\n",
    "                    true_geps = double_samples.copy()\n",
    "                    true_geps = true_geps[np.random.choice(double_samples.n_obs, size=pool_size, replace=True), :]\n",
    "\n",
    "                else:\n",
    "                    random_indices = np.random.choice(double_samples.n_obs, size=pool_size, replace=False)\n",
    "                    true_geps = double_samples[random_indices, :]\n",
    "\n",
    "                # Turning true samples from predictions into tensor\n",
    "                baseline_true = np.mean(true_geps.X.toarray(), axis=0)\n",
    "                true_geps_tensor = torch.tensor(true_geps.X.toarray()).double()\n",
    "\n",
    "                # Saving both in same Tensor Dataset\n",
    "                ctrl_double_dataset = TensorDataset(ctrl_geps_tensor, true_geps_tensor)\n",
    "                ctrl_double_loader = DataLoader(ctrl_double_dataset, batch_size=32, shuffle=False)\n",
    "\n",
    "                for i, (x, y) in enumerate(ctrl_double_loader):\n",
    "                    x = x.to(device)\n",
    "                    y = y.to(device)\n",
    "\n",
    "                    c_shape_loader = c_shape[0, :].repeat(32*batch_size, 1)\n",
    "                    c1 = torch.zeros_like(c_shape_loader).double().to(device)\n",
    "                    c1[:, unique_pairs[0]] = 1\n",
    "                    c2 = torch.zeros_like(c_shape_loader).double().to(device)\n",
    "                    c2[:, unique_pairs[1]] = 1\n",
    "\n",
    "                    if len(x) < len(c1):\n",
    "                        c1 = c1[:len(x), :]\n",
    "                        c2 = c2[:len(x), :]\n",
    "\n",
    "                    with torch.no_grad():\n",
    "                        y_hat, x_recon, z_mu, z_var, _, _ = model(\n",
    "                            x, c1, c2, num_interv=numint, temp=temp)\n",
    "\n",
    "                    gt_x_list.append(x.cpu())\n",
    "                    pred_x_list.append(x_recon.cpu())\n",
    "\n",
    "                    gt_y_list.append(y.cpu())\n",
    "                    pred_y_list.append(y_hat.cpu())\n",
    "                    full_preds.append(y_hat.cpu())\n",
    "\n",
    "                    c_y_list.append(c_shape.cpu())\n",
    "                    mu_list.append(z_mu.cpu())\n",
    "                    var_list.append(z_var.cpu())\n",
    "\n",
    "\n",
    "                    # Limit stacked tensors while iterating through desired indices\n",
    "                    if len(gt_x_list) >= batch_size:\n",
    "\n",
    "                        (gt_x_list, pred_x_list, gt_y_list,\n",
    "                        pred_y_list, c_y_list, mu_list, var_list,\n",
    "                        MSE_pred_true_temp, KLD_pred_true_temp, MMD_pred_true_temp,\n",
    "                        MSE_ctrl_true_temp, KLD_ctrl_true_temp, MMD_ctrl_true_temp) = compute_metrics(gt_x_list, pred_x_list, gt_y_list,\n",
    "                                                                                                    pred_y_list, c_y_list, mu_list, var_list,\n",
    "                                                                                                    MSE_pred_true_temp, KLD_pred_true_temp, MMD_pred_true_temp,\n",
    "                                                                                                    MSE_ctrl_true_temp, KLD_ctrl_true_temp, MMD_ctrl_true_temp,\n",
    "                                                                                                    mmd_loss_func)\n",
    "\n",
    "                        # Reset lists\n",
    "                        pred_x_list, gt_x_list = [], []\n",
    "                        gt_y_list, pred_y_list = [], []\n",
    "                        c_y_list, mu_list, var_list = [], [], []\n",
    "\n",
    "                # Once iterated through all indices, check rest of stacked tensors\n",
    "                if len(gt_x_list) > 0:\n",
    "\n",
    "                    (gt_x_list, pred_x_list, gt_y_list,\n",
    "                    pred_y_list, c_y_list, mu_list, var_list,\n",
    "                    MSE_pred_true_temp, KLD_pred_true_temp, MMD_pred_true_temp,\n",
    "                    MSE_ctrl_true_temp, KLD_ctrl_true_temp, MMD_ctrl_true_temp) = compute_metrics(gt_x_list, pred_x_list, gt_y_list,\n",
    "                                                                                                pred_y_list, c_y_list, mu_list, var_list,\n",
    "                                                                                                MSE_pred_true_temp, KLD_pred_true_temp, MMD_pred_true_temp,\n",
    "                                                                                                MSE_ctrl_true_temp, KLD_ctrl_true_temp, MMD_ctrl_true_temp,\n",
    "                                                                                                mmd_loss_func)\n",
    "\n",
    "\n",
    "                # After each unique pair, print and save metrics\n",
    "                print(f\"MMD (true vs. control):     {np.mean(MMD_ctrl_true_temp):.6f}\")\n",
    "                print(f\"MMD (true vs. predicted):   {np.mean(MMD_pred_true_temp):.6f}\")\n",
    "                print(f\"MSE (true vs. control):     {np.mean(MSE_ctrl_true_temp):.6f}\")\n",
    "                print(f\"MSE (true vs. predicted):   {np.mean(MSE_pred_true_temp):.6f}\")\n",
    "                print(f\"KLD (true vs. control):     {np.mean(KLD_ctrl_true_temp):.6f}\")\n",
    "                print(f\"KLD (true vs. predicted):   {np.mean(KLD_pred_true_temp):.6f}\")\n",
    "\n",
    "                # Calculating Pearson with mean GEPs\n",
    "                mean_pred = torch.vstack(full_preds).mean(dim=0).cpu()\n",
    "                true_deg = baseline_true-baseline_ctrl\n",
    "                pred_deg = mean_pred.numpy()-baseline_ctrl\n",
    "                ctrl_ctrl_deg = baseline_ctrl-baseline_ctrl\n",
    "                deg_idx = np.argsort(abs(true_deg))[-top_deg:] # DEG from true pert value\n",
    "\n",
    "                pred_true_pearson_stat,  pred_true_pearson_pval = pearsonr(true_deg[deg_idx], pred_deg[deg_idx])\n",
    "                ctrl_true_pearson_stat,  ctrl_true_pearson_pval = pearsonr(true_deg[deg_idx], ctrl_ctrl_deg[deg_idx])\n",
    "\n",
    "                print(f\"Pearson Top {top_deg} DEG (true vs. control): {ctrl_true_pearson_stat:.6f} | p-value: {ctrl_true_pearson_pval:.6f}\")\n",
    "                print(f\"Pearson Top {top_deg} DEG (true vs. predicted): {pred_true_pearson_stat:.6f} | p-value: {pred_true_pearson_pval:.6f}\")\n",
    "\n",
    "                # Save results to file\n",
    "                print(f\"{gene_pair},{np.mean(MMD_ctrl_true_temp)},{np.mean(MMD_pred_true_temp)},{np.mean(MSE_ctrl_true_temp)},{np.mean(MSE_pred_true_temp)},{np.mean(KLD_ctrl_true_temp)},{np.mean(KLD_pred_true_temp)},{ctrl_true_pearson_stat},{ctrl_true_pearson_pval},{pred_true_pearson_stat},{pred_true_pearson_pval}\",\n",
    "                    file=f,\n",
    "                )\n",
    "\n",
    "                # Saving and updating predictions\n",
    "                prediction_row = [gene_pair] + mean_pred.tolist()\n",
    "                predictions_list.append(prediction_row)\n",
    "\n",
    "\n",
    "                # Reset lists\n",
    "                pred_x_list, gt_x_list = [], []\n",
    "                gt_y_list, pred_y_list = [], []\n",
    "                c_y_list, mu_list, var_list = [], [], []\n",
    "                MSE_pred_true_temp, KLD_pred_true_temp, MMD_pred_true_temp = [], [], []\n",
    "                MSE_ctrl_true_temp, KLD_ctrl_true_temp, MMD_ctrl_true_temp = [], [], []\n",
    "\n",
    "\n",
    "            # Save prediction data\n",
    "            prediction_colnames = ['double'] + adata.var_names.tolist()\n",
    "            prediction_df = pd.DataFrame(predictions_list, columns=prediction_colnames)\n",
    "            prediction_file_path = os.path.join(results_dir_path, f\"{run_name}_double_prediction.csv\")\n",
    "            prediction_df.to_csv(prediction_file_path)\n",
    "            print(f\"Saved predictions at {prediction_file_path}\")\n",
    "\n",
    "\n",
    "\n",
    "# Still need to save predictions somewhere (forgot)"
   ]
  },
  {
   "cell_type": "markdown",
   "id": "fcd4a200",
   "metadata": {},
   "source": [
    "## SENA"
   ]
  },
  {
   "cell_type": "markdown",
   "id": "f46c0946",
   "metadata": {},
   "source": [
    "Argument setup"
   ]
  },
  {
   "cell_type": "code",
   "execution_count": 10,
   "id": "93c7cbf2",
   "metadata": {},
   "outputs": [
    {
     "name": "stderr",
     "output_type": "stream",
     "text": [
      "2025-06-30 15:29:52,893 - INFO - Configuration: Options(name='demo_test', model='sena', dataset_name='Norman2019_reduced', batch_size=32, sena_lambda=0, lr=0.001, epochs=30, grad_clip=False, mxAlpha=1.0, mxBeta=1.0, mxTemp=100.0, lmbda=0.1, MMD_sigma=200.0, kernel_num=10, matched_IO=False, latdim=105, seed=42, num_runs=1, dim=None, cdim=None, log=False, mlflow_port=5678, sena_eval_mode=['double'], numint=2, pool_size=50)\n"
     ]
    }
   ],
   "source": [
    "savedir = '../cris_test/models/'\n",
    "eval_dir = '../cris_test/results/'\n",
    "name = 'demo_test'\n",
    "opts = Options()\n",
    "device = torch.device('cuda' if torch.cuda.is_available() else 'cpu')\n",
    "logging.info(f\"Configuration: {opts}\")\n",
    "\n",
    "# Build the save directory path\n",
    "savedir = os.path.join(savedir, name)\n",
    "os.makedirs(savedir, exist_ok=True)\n",
    "\n",
    "eval_dir = os.path.join(eval_dir, name)\n",
    "os.makedirs(eval_dir, exist_ok=True)"
   ]
  },
  {
   "cell_type": "markdown",
   "id": "885b2e84",
   "metadata": {},
   "source": [
    "## Training"
   ]
  },
  {
   "cell_type": "code",
   "execution_count": 11,
   "id": "1e70ec21",
   "metadata": {},
   "outputs": [
    {
     "name": "stderr",
     "output_type": "stream",
     "text": [
      "2025-06-30 15:31:21,033 - INFO - Loading Norman2019_reduced dataset\n"
     ]
    }
   ],
   "source": [
    "# Set up current seed for specific run and name for current run\n",
    "current_run = 0\n",
    "current_seed = opts.seed\n",
    "run_name = f\"{opts.name}_seed_{current_seed}\"\n",
    "set_seeds(current_seed)\n",
    "\n",
    "# Update directory for each run\n",
    "savedir = os.path.join(savedir, run_name)\n",
    "os.makedirs(savedir, exist_ok=True)\n",
    "\n",
    "\n",
    "logging.info(f\"Loading {opts.dataset_name} dataset\")\n",
    "# Dataset choice\n",
    "if 'Norman2019' in opts.dataset_name:\n",
    "    data_handler = Norman2019DataLoader(batch_size=opts.batch_size, dataname=opts.dataset_name)\n",
    "\n",
    "else:\n",
    "    raise ValueError(f\"Dataset {opts.dataset_name} is not supported yet.\")\n",
    "\n",
    "# Get data from single-gene perturbation\n",
    "(\n",
    "    dataloader,\n",
    "    dataloader2,\n",
    "    dim,\n",
    "    cdim,\n",
    "    ptb_targets,\n",
    ") = data_handler.get_data(mode=\"train\")\n",
    "\n",
    "# Get data from double perturbation\n",
    "dataloader_double, _, _, _ = data_handler.get_data(mode=\"test\")\n",
    "\n",
    "# Dimensions for SENA\n",
    "opts.dim = dim\n",
    "opts.cdim = cdim\n",
    "\n",
    "# I think this is not needed, but I leave it here for now\n",
    "if opts.latdim is None:\n",
    "    opts.latdim = opts.cdim\n"
   ]
  },
  {
   "cell_type": "code",
   "execution_count": 12,
   "id": "d1d69247",
   "metadata": {},
   "outputs": [],
   "source": [
    "# Save configurations and data\n",
    "save_config(opts, savedir)\n",
    "save_pickle(ptb_targets, os.path.join(savedir, \"ptb_targets.pkl\"))\n",
    "save_pickle(dataloader2, os.path.join(savedir, \"test_data_single_node.pkl\"))\n",
    "save_pickle(dataloader, os.path.join(savedir, \"train_data.pkl\"))\n",
    "save_pickle(dataloader_double, os.path.join(savedir, \"double_data.pkl\"))\n",
    "\n",
    "# Review: currently only for double\n",
    "data_file_map = {\n",
    "    \"train\": \"train_data.pkl\",\n",
    "    \"test\": \"test_data_single_node.pkl\",\n",
    "    \"double\": \"double_data.pkl\",\n",
    "}"
   ]
  },
  {
   "cell_type": "code",
   "execution_count": 13,
   "id": "7cdab599",
   "metadata": {},
   "outputs": [
    {
     "name": "stderr",
     "output_type": "stream",
     "text": [
      "2025-06-30 15:31:46,671 - INFO - Started training on device: cuda\n"
     ]
    },
    {
     "name": "stdout",
     "output_type": "stream",
     "text": [
      "Initialising SENA run: 1, seed: 42\n"
     ]
    },
    {
     "name": "stderr",
     "output_type": "stream",
     "text": [
      "2025-06-30 15:31:48,289 - INFO - Training for 30 epochs...\n",
      "Epoch 1/30: 100%|█████████████████████████████████████████████████████████████████████████████████████████████████████████| 105/105 [00:05<00:00, 20.23batch/s]\n",
      "2025-06-30 15:31:53,486 - INFO - Epoch 1: Loss=0.079592, MMD=3.961621, MSE=0.072350, KL=0.008230, L1=0.072413\n",
      "2025-06-30 15:31:53,556 - INFO - Best model saved at epoch 1\n",
      "Epoch 2/30: 100%|█████████████████████████████████████████████████████████████████████████████████████████████████████████| 105/105 [00:03<00:00, 32.74batch/s]\n",
      "2025-06-30 15:31:56,767 - INFO - Epoch 2: Loss=0.040006, MMD=4.035532, MSE=0.033806, KL=0.025455, L1=0.062003\n",
      "Epoch 3/30: 100%|█████████████████████████████████████████████████████████████████████████████████████████████████████████| 105/105 [00:03<00:00, 31.36batch/s]\n",
      "2025-06-30 15:32:00,119 - INFO - Epoch 3: Loss=0.038498, MMD=4.503899, MSE=0.033384, KL=0.038342, L1=0.051149\n",
      "Epoch 4/30: 100%|█████████████████████████████████████████████████████████████████████████████████████████████████████████| 105/105 [00:03<00:00, 32.85batch/s]\n",
      "2025-06-30 15:32:03,319 - INFO - Epoch 4: Loss=0.037464, MMD=4.697941, MSE=0.033351, KL=0.047852, L1=0.041134\n",
      "Epoch 5/30: 100%|█████████████████████████████████████████████████████████████████████████████████████████████████████████| 105/105 [00:04<00:00, 24.67batch/s]\n",
      "2025-06-30 15:32:07,581 - INFO - Epoch 5: Loss=0.035826, MMD=4.669435, MSE=0.032561, KL=0.055585, L1=0.032648\n",
      "Epoch 6/30: 100%|█████████████████████████████████████████████████████████████████████████████████████████████████████████| 105/105 [00:03<00:00, 26.86batch/s]\n",
      "2025-06-30 15:32:11,501 - INFO - Epoch 6: Loss=0.032646, MMD=3.593725, MSE=0.030031, KL=0.066866, L1=0.026158\n",
      "2025-06-30 15:32:11,578 - INFO - Best model saved at epoch 6\n",
      "Epoch 7/30: 100%|█████████████████████████████████████████████████████████████████████████████████████████████████████████| 105/105 [00:04<00:00, 23.31batch/s]\n",
      "2025-06-30 15:32:16,086 - INFO - Epoch 7: Loss=0.176995, MMD=1.060901, MSE=0.056160, KL=0.031599, L1=0.029571\n",
      "2025-06-30 15:32:16,152 - INFO - Best model saved at epoch 7\n",
      "Epoch 8/30: 100%|█████████████████████████████████████████████████████████████████████████████████████████████████████████| 105/105 [00:03<00:00, 26.44batch/s]\n",
      "2025-06-30 15:32:20,127 - INFO - Epoch 8: Loss=0.215465, MMD=0.709904, MSE=0.054745, KL=0.019167, L1=0.029636\n",
      "2025-06-30 15:32:20,201 - INFO - Best model saved at epoch 8\n",
      "Epoch 9/30: 100%|█████████████████████████████████████████████████████████████████████████████████████████████████████████| 105/105 [00:03<00:00, 27.33batch/s]\n",
      "2025-06-30 15:32:24,046 - INFO - Epoch 9: Loss=0.281420, MMD=0.667578, MSE=0.055927, KL=0.014201, L1=0.029677\n",
      "Epoch 10/30: 100%|████████████████████████████████████████████████████████████████████████████████████████████████████████| 105/105 [00:03<00:00, 33.81batch/s]\n",
      "2025-06-30 15:32:27,158 - INFO - Epoch 10: Loss=0.335214, MMD=0.624411, MSE=0.054705, KL=0.011810, L1=0.029937\n",
      "Epoch 11/30: 100%|████████████████████████████████████████████████████████████████████████████████████████████████████████| 105/105 [00:03<00:00, 34.36batch/s]\n",
      "2025-06-30 15:32:30,225 - INFO - Epoch 11: Loss=0.406676, MMD=0.626220, MSE=0.055687, KL=0.010255, L1=0.030883\n",
      "Epoch 12/30: 100%|████████████████████████████████████████████████████████████████████████████████████████████████████████| 105/105 [00:03<00:00, 32.83batch/s]\n",
      "2025-06-30 15:32:33,427 - INFO - Epoch 12: Loss=0.455520, MMD=0.596667, MSE=0.054123, KL=0.009109, L1=0.031386\n",
      "Epoch 13/30: 100%|████████████████████████████████████████████████████████████████████████████████████████████████████████| 105/105 [00:03<00:00, 33.19batch/s]\n",
      "2025-06-30 15:32:36,593 - INFO - Epoch 13: Loss=0.511680, MMD=0.583893, MSE=0.053513, KL=0.008283, L1=0.031568\n",
      "Epoch 14/30: 100%|████████████████████████████████████████████████████████████████████████████████████████████████████████| 105/105 [00:04<00:00, 23.32batch/s]\n",
      "2025-06-30 15:32:41,098 - INFO - Epoch 14: Loss=0.568723, MMD=0.574493, MSE=0.053701, KL=0.007587, L1=0.031636\n",
      "Epoch 15/30: 100%|████████████████████████████████████████████████████████████████████████████████████████████████████████| 105/105 [00:05<00:00, 20.05batch/s]\n",
      "2025-06-30 15:32:46,339 - INFO - Epoch 15: Loss=0.633958, MMD=0.575622, MSE=0.053714, KL=0.006873, L1=0.031743\n",
      "Epoch 16/30: 100%|████████████████████████████████████████████████████████████████████████████████████████████████████████| 105/105 [00:04<00:00, 21.27batch/s]\n",
      "2025-06-30 15:32:51,277 - INFO - Epoch 16: Loss=0.622526, MMD=0.564686, MSE=0.053015, KL=0.006210, L1=0.031907\n",
      "Epoch 17/30: 100%|████████████████████████████████████████████████████████████████████████████████████████████████████████| 105/105 [00:04<00:00, 23.39batch/s]\n",
      "2025-06-30 15:32:55,770 - INFO - Epoch 17: Loss=0.624174, MMD=0.566278, MSE=0.052805, KL=0.005965, L1=0.032075\n",
      "Epoch 18/30: 100%|████████████████████████████████████████████████████████████████████████████████████████████████████████| 105/105 [00:04<00:00, 24.62batch/s]\n",
      "2025-06-30 15:33:00,041 - INFO - Epoch 18: Loss=0.613534, MMD=0.556031, MSE=0.052158, KL=0.005666, L1=0.032570\n",
      "Epoch 19/30: 100%|████████████████████████████████████████████████████████████████████████████████████████████████████████| 105/105 [00:04<00:00, 21.92batch/s]\n",
      "2025-06-30 15:33:04,834 - INFO - Epoch 19: Loss=0.616124, MMD=0.558967, MSE=0.051604, KL=0.005406, L1=0.032766\n",
      "Epoch 20/30: 100%|████████████████████████████████████████████████████████████████████████████████████████████████████████| 105/105 [00:05<00:00, 19.30batch/s]\n",
      "2025-06-30 15:33:10,278 - INFO - Epoch 20: Loss=0.610091, MMD=0.552810, MSE=0.051638, KL=0.005022, L1=0.032638\n",
      "Epoch 21/30: 100%|████████████████████████████████████████████████████████████████████████████████████████████████████████| 105/105 [00:04<00:00, 21.86batch/s]\n",
      "2025-06-30 15:33:15,084 - INFO - Epoch 21: Loss=0.601877, MMD=0.545360, MSE=0.050651, KL=0.004985, L1=0.032419\n",
      "Epoch 22/30: 100%|████████████████████████████████████████████████████████████████████████████████████████████████████████| 105/105 [00:04<00:00, 22.71batch/s]\n",
      "2025-06-30 15:33:19,710 - INFO - Epoch 22: Loss=0.603438, MMD=0.547368, MSE=0.050062, KL=0.004809, L1=0.032233\n",
      "Epoch 23/30: 100%|████████████████████████████████████████████████████████████████████████████████████████████████████████| 105/105 [00:04<00:00, 22.14batch/s]\n",
      "2025-06-30 15:33:24,454 - INFO - Epoch 23: Loss=0.600170, MMD=0.544450, MSE=0.049522, KL=0.004737, L1=0.032068\n",
      "Epoch 24/30: 100%|████████████████████████████████████████████████████████████████████████████████████████████████████████| 105/105 [00:04<00:00, 22.48batch/s]\n",
      "2025-06-30 15:33:29,130 - INFO - Epoch 24: Loss=0.593362, MMD=0.538016, MSE=0.048902, KL=0.004768, L1=0.031817\n",
      "Epoch 25/30: 100%|████████████████████████████████████████████████████████████████████████████████████████████████████████| 105/105 [00:04<00:00, 24.74batch/s]\n",
      "2025-06-30 15:33:33,379 - INFO - Epoch 25: Loss=0.599457, MMD=0.544104, MSE=0.048743, KL=0.004682, L1=0.031598\n",
      "Epoch 26/30: 100%|████████████████████████████████████████████████████████████████████████████████████████████████████████| 105/105 [00:03<00:00, 31.39batch/s]\n",
      "2025-06-30 15:33:36,730 - INFO - Epoch 26: Loss=0.596716, MMD=0.541304, MSE=0.048532, KL=0.004718, L1=0.031549\n",
      "Epoch 27/30: 100%|████████████████████████████████████████████████████████████████████████████████████████████████████████| 105/105 [00:03<00:00, 33.48batch/s]\n",
      "2025-06-30 15:33:39,869 - INFO - Epoch 27: Loss=0.587879, MMD=0.532937, MSE=0.047907, KL=0.004632, L1=0.031349\n",
      "Epoch 28/30: 100%|████████████████████████████████████████████████████████████████████████████████████████████████████████| 105/105 [00:03<00:00, 33.38batch/s]\n",
      "2025-06-30 15:33:43,018 - INFO - Epoch 28: Loss=0.586740, MMD=0.532261, MSE=0.047330, KL=0.004501, L1=0.031221\n",
      "Epoch 29/30: 100%|████████████████████████████████████████████████████████████████████████████████████████████████████████| 105/105 [00:03<00:00, 32.76batch/s]\n",
      "2025-06-30 15:33:46,225 - INFO - Epoch 29: Loss=0.585892, MMD=0.531466, MSE=0.047099, KL=0.004471, L1=0.030917\n",
      "Epoch 30/30: 100%|████████████████████████████████████████████████████████████████████████████████████████████████████████| 105/105 [00:03<00:00, 33.46batch/s]\n",
      "2025-06-30 15:33:49,368 - INFO - Epoch 30: Loss=0.589452, MMD=0.534431, MSE=0.047589, KL=0.004365, L1=0.030669\n",
      "2025-06-30 15:33:49,369 - INFO - Training completed for run 1 with seed 42\n"
     ]
    }
   ],
   "source": [
    "# Running process for SENA\n",
    "print(f\"Initialising SENA run: {current_run+1}, seed: {current_seed}\")\n",
    "train(dataloader=dataloader,\n",
    "        opts=opts,\n",
    "        device=device,\n",
    "        savedir=savedir,\n",
    "        logger=logging, # Review\n",
    "        data_handler=data_handler)\n",
    "\n",
    "logging.info(f\"Training completed for run {current_run + 1} with seed {current_seed}\")\n"
   ]
  },
  {
   "cell_type": "markdown",
   "id": "592d41d8",
   "metadata": {},
   "source": [
    "## Predict -  Evaluate"
   ]
  },
  {
   "cell_type": "code",
   "execution_count": 14,
   "id": "6b43ae3c",
   "metadata": {},
   "outputs": [
    {
     "name": "stderr",
     "output_type": "stream",
     "text": [
      "2025-06-30 15:33:54,308 - INFO - Model and data saved in ../cris_test/models/demo_test/demo_test_seed_42.\n"
     ]
    }
   ],
   "source": [
    "# Predict and evaluate\n",
    "\n",
    "# Load the model and data for evaluation\n",
    "config_path = os.path.join(savedir, \"config.json\")\n",
    "model_path = os.path.join(savedir, \"best_model.pt\")\n",
    "# This is to load the appropriate pickle, 'double' by default\n",
    "data_path = os.path.join(savedir, data_file_map[opts.sena_eval_mode[0]])\n",
    "ptb_path = os.path.join(savedir, \"ptb_targets.pkl\")\n",
    "logging.info(f\"Model and data saved in {savedir}.\")\n",
    "\n",
    "# Loading required data from .pkl files for evaluation\n",
    "(dataloader, model, ptb_genes, config) = check_and_load_paths(model_path=model_path, \n",
    "            data_path=data_path,\n",
    "            ptb_path=ptb_path,\n",
    "            config_path=config_path,\n",
    "            mode=opts.sena_eval_mode,\n",
    "            savedir=savedir)\n"
   ]
  },
  {
   "cell_type": "code",
   "execution_count": 18,
   "id": "b66b3d59",
   "metadata": {},
   "outputs": [
    {
     "name": "stdout",
     "output_type": "stream",
     "text": [
      "Proceeding with evaluation of intervened pairs.\n"
     ]
    },
    {
     "name": "stderr",
     "output_type": "stream",
     "text": [
      "Finding intervention pairs: 100%|████████████████████████████████████████████████████████████████████████████████████████████| 131/131 [00:01<00:00, 91.12it/s]\n"
     ]
    },
    {
     "name": "stdout",
     "output_type": "stream",
     "text": [
      "Evaluating for intervention pair 1/131: AHR+FEV\n",
      "MMD (true vs. control):     0.866754\n",
      "MMD (true vs. predicted):   0.891912\n",
      "MSE (true vs. control):     0.118583\n",
      "MSE (true vs. predicted):   0.126756\n",
      "KLD (true vs. control):     0.090812\n",
      "KLD (true vs. predicted):   0.096792\n",
      "Pearson Top 20 DEG (true vs. control): nan | p-value: nan\n",
      "Pearson Top 20 DEG (true vs. predicted): -0.393490 | p-value: 0.086076\n",
      "Evaluating for intervention pair 2/131: AHR+KLF1\n"
     ]
    },
    {
     "name": "stderr",
     "output_type": "stream",
     "text": [
      "/opt/conda/lib/python3.10/site-packages/scipy/stats/_stats_py.py:4068: PearsonRConstantInputWarning: An input array is constant; the correlation coefficient is not defined.\n",
      "  warnings.warn(PearsonRConstantInputWarning())\n"
     ]
    },
    {
     "name": "stdout",
     "output_type": "stream",
     "text": [
      "MMD (true vs. control):     0.506677\n",
      "MMD (true vs. predicted):   0.565586\n",
      "MSE (true vs. control):     0.071022\n",
      "MSE (true vs. predicted):   0.075731\n",
      "KLD (true vs. control):     0.012072\n",
      "KLD (true vs. predicted):   0.017185\n",
      "Pearson Top 20 DEG (true vs. control): nan | p-value: nan\n",
      "Pearson Top 20 DEG (true vs. predicted): 0.254020 | p-value: 0.279823\n",
      "Evaluating for intervention pair 3/131: BAK1+BCL2L11\n"
     ]
    },
    {
     "name": "stderr",
     "output_type": "stream",
     "text": [
      "/opt/conda/lib/python3.10/site-packages/scipy/stats/_stats_py.py:4068: PearsonRConstantInputWarning: An input array is constant; the correlation coefficient is not defined.\n",
      "  warnings.warn(PearsonRConstantInputWarning())\n"
     ]
    },
    {
     "name": "stdout",
     "output_type": "stream",
     "text": [
      "MMD (true vs. control):     0.392806\n",
      "MMD (true vs. predicted):   0.466893\n",
      "MSE (true vs. control):     0.066550\n",
      "MSE (true vs. predicted):   0.071575\n",
      "KLD (true vs. control):     0.003831\n",
      "KLD (true vs. predicted):   0.004644\n",
      "Pearson Top 20 DEG (true vs. control): nan | p-value: nan\n",
      "Pearson Top 20 DEG (true vs. predicted): 0.708671 | p-value: 0.000470\n",
      "Evaluating for intervention pair 4/131: BAK1+KLF1\n"
     ]
    },
    {
     "name": "stderr",
     "output_type": "stream",
     "text": [
      "/opt/conda/lib/python3.10/site-packages/scipy/stats/_stats_py.py:4068: PearsonRConstantInputWarning: An input array is constant; the correlation coefficient is not defined.\n",
      "  warnings.warn(PearsonRConstantInputWarning())\n"
     ]
    },
    {
     "name": "stdout",
     "output_type": "stream",
     "text": [
      "MMD (true vs. control):     0.485175\n",
      "MMD (true vs. predicted):   0.603236\n",
      "MSE (true vs. control):     0.068348\n",
      "MSE (true vs. predicted):   0.072059\n",
      "KLD (true vs. control):     0.010004\n",
      "KLD (true vs. predicted):   0.010587\n",
      "Pearson Top 20 DEG (true vs. control): nan | p-value: nan\n",
      "Pearson Top 20 DEG (true vs. predicted): 0.196517 | p-value: 0.406310\n",
      "Evaluating for intervention pair 5/131: BAK1+TMSB4X\n"
     ]
    },
    {
     "name": "stderr",
     "output_type": "stream",
     "text": [
      "/opt/conda/lib/python3.10/site-packages/scipy/stats/_stats_py.py:4068: PearsonRConstantInputWarning: An input array is constant; the correlation coefficient is not defined.\n",
      "  warnings.warn(PearsonRConstantInputWarning())\n"
     ]
    },
    {
     "name": "stdout",
     "output_type": "stream",
     "text": [
      "MMD (true vs. control):     0.422107\n",
      "MMD (true vs. predicted):   0.475627\n",
      "MSE (true vs. control):     0.069899\n",
      "MSE (true vs. predicted):   0.073665\n",
      "KLD (true vs. control):     0.025339\n",
      "KLD (true vs. predicted):   0.021995\n",
      "Pearson Top 20 DEG (true vs. control): nan | p-value: nan\n",
      "Pearson Top 20 DEG (true vs. predicted): 0.766091 | p-value: 0.000082\n",
      "Evaluating for intervention pair 6/131: BCL2L11+TGFBR2\n"
     ]
    },
    {
     "name": "stderr",
     "output_type": "stream",
     "text": [
      "/opt/conda/lib/python3.10/site-packages/scipy/stats/_stats_py.py:4068: PearsonRConstantInputWarning: An input array is constant; the correlation coefficient is not defined.\n",
      "  warnings.warn(PearsonRConstantInputWarning())\n"
     ]
    },
    {
     "name": "stdout",
     "output_type": "stream",
     "text": [
      "MMD (true vs. control):     0.409420\n",
      "MMD (true vs. predicted):   0.473103\n",
      "MSE (true vs. control):     0.067039\n",
      "MSE (true vs. predicted):   0.077887\n",
      "KLD (true vs. control):     0.004425\n",
      "KLD (true vs. predicted):   0.005353\n",
      "Pearson Top 20 DEG (true vs. control): nan | p-value: nan\n",
      "Pearson Top 20 DEG (true vs. predicted): 0.594789 | p-value: 0.005672\n",
      "Evaluating for intervention pair 7/131: BPGM+SAMD1\n"
     ]
    },
    {
     "name": "stderr",
     "output_type": "stream",
     "text": [
      "/opt/conda/lib/python3.10/site-packages/scipy/stats/_stats_py.py:4068: PearsonRConstantInputWarning: An input array is constant; the correlation coefficient is not defined.\n",
      "  warnings.warn(PearsonRConstantInputWarning())\n"
     ]
    },
    {
     "name": "stdout",
     "output_type": "stream",
     "text": [
      "MMD (true vs. control):     0.565420\n",
      "MMD (true vs. predicted):   0.611233\n",
      "MSE (true vs. control):     0.080118\n",
      "MSE (true vs. predicted):   0.081510\n",
      "KLD (true vs. control):     0.029664\n",
      "KLD (true vs. predicted):   0.027958\n"
     ]
    },
    {
     "name": "stderr",
     "output_type": "stream",
     "text": [
      "/opt/conda/lib/python3.10/site-packages/scipy/stats/_stats_py.py:4068: PearsonRConstantInputWarning: An input array is constant; the correlation coefficient is not defined.\n",
      "  warnings.warn(PearsonRConstantInputWarning())\n"
     ]
    },
    {
     "name": "stdout",
     "output_type": "stream",
     "text": [
      "Pearson Top 20 DEG (true vs. control): nan | p-value: nan\n",
      "Pearson Top 20 DEG (true vs. predicted): 0.515049 | p-value: 0.020129\n",
      "Evaluating for intervention pair 8/131: BPGM+ZBTB1\n",
      "MMD (true vs. control):     0.512971\n",
      "MMD (true vs. predicted):   0.580419\n",
      "MSE (true vs. control):     0.077212\n",
      "MSE (true vs. predicted):   0.087301\n",
      "KLD (true vs. control):     0.015835\n",
      "KLD (true vs. predicted):   0.017466\n"
     ]
    },
    {
     "name": "stderr",
     "output_type": "stream",
     "text": [
      "/opt/conda/lib/python3.10/site-packages/scipy/stats/_stats_py.py:4068: PearsonRConstantInputWarning: An input array is constant; the correlation coefficient is not defined.\n",
      "  warnings.warn(PearsonRConstantInputWarning())\n"
     ]
    },
    {
     "name": "stdout",
     "output_type": "stream",
     "text": [
      "Pearson Top 20 DEG (true vs. control): nan | p-value: nan\n",
      "Pearson Top 20 DEG (true vs. predicted): 0.209088 | p-value: 0.376319\n",
      "Evaluating for intervention pair 9/131: C19orf26+TGFBR2\n",
      "MMD (true vs. control):     0.492490\n",
      "MMD (true vs. predicted):   0.559957\n",
      "MSE (true vs. control):     0.072769\n",
      "MSE (true vs. predicted):   0.075161\n",
      "KLD (true vs. control):     0.014440\n",
      "KLD (true vs. predicted):   0.015153\n"
     ]
    },
    {
     "name": "stderr",
     "output_type": "stream",
     "text": [
      "/opt/conda/lib/python3.10/site-packages/scipy/stats/_stats_py.py:4068: PearsonRConstantInputWarning: An input array is constant; the correlation coefficient is not defined.\n",
      "  warnings.warn(PearsonRConstantInputWarning())\n"
     ]
    },
    {
     "name": "stdout",
     "output_type": "stream",
     "text": [
      "Pearson Top 20 DEG (true vs. control): nan | p-value: nan\n",
      "Pearson Top 20 DEG (true vs. predicted): 0.372360 | p-value: 0.105926\n",
      "Evaluating for intervention pair 10/131: C3orf72+FOXL2\n",
      "MMD (true vs. control):     0.485748\n",
      "MMD (true vs. predicted):   0.493031\n",
      "MSE (true vs. control):     0.087920\n",
      "MSE (true vs. predicted):   0.089886\n",
      "KLD (true vs. control):     0.011432\n",
      "KLD (true vs. predicted):   0.007932\n"
     ]
    },
    {
     "name": "stderr",
     "output_type": "stream",
     "text": [
      "/opt/conda/lib/python3.10/site-packages/scipy/stats/_stats_py.py:4068: PearsonRConstantInputWarning: An input array is constant; the correlation coefficient is not defined.\n",
      "  warnings.warn(PearsonRConstantInputWarning())\n"
     ]
    },
    {
     "name": "stdout",
     "output_type": "stream",
     "text": [
      "Pearson Top 20 DEG (true vs. control): nan | p-value: nan\n",
      "Pearson Top 20 DEG (true vs. predicted): 0.413686 | p-value: 0.069807\n",
      "Evaluating for intervention pair 11/131: CBFA2T3+FEV\n",
      "MMD (true vs. control):     0.851738\n",
      "MMD (true vs. predicted):   0.906968\n",
      "MSE (true vs. control):     0.118011\n",
      "MSE (true vs. predicted):   0.119477\n",
      "KLD (true vs. control):     0.041020\n",
      "KLD (true vs. predicted):   0.045116\n"
     ]
    },
    {
     "name": "stderr",
     "output_type": "stream",
     "text": [
      "/opt/conda/lib/python3.10/site-packages/scipy/stats/_stats_py.py:4068: PearsonRConstantInputWarning: An input array is constant; the correlation coefficient is not defined.\n",
      "  warnings.warn(PearsonRConstantInputWarning())\n"
     ]
    },
    {
     "name": "stdout",
     "output_type": "stream",
     "text": [
      "Pearson Top 20 DEG (true vs. control): nan | p-value: nan\n",
      "Pearson Top 20 DEG (true vs. predicted): 0.215748 | p-value: 0.360952\n",
      "Evaluating for intervention pair 12/131: CBFA2T3+POU3F2\n",
      "MMD (true vs. control):     0.515964\n",
      "MMD (true vs. predicted):   0.535670\n",
      "MSE (true vs. control):     0.087494\n",
      "MSE (true vs. predicted):   0.087842\n",
      "KLD (true vs. control):     0.010464\n",
      "KLD (true vs. predicted):   0.008905\n"
     ]
    },
    {
     "name": "stderr",
     "output_type": "stream",
     "text": [
      "/opt/conda/lib/python3.10/site-packages/scipy/stats/_stats_py.py:4068: PearsonRConstantInputWarning: An input array is constant; the correlation coefficient is not defined.\n",
      "  warnings.warn(PearsonRConstantInputWarning())\n"
     ]
    },
    {
     "name": "stdout",
     "output_type": "stream",
     "text": [
      "Pearson Top 20 DEG (true vs. control): nan | p-value: nan\n",
      "Pearson Top 20 DEG (true vs. predicted): 0.580970 | p-value: 0.007226\n",
      "Evaluating for intervention pair 13/131: CBFA2T3+PRDM1\n",
      "MMD (true vs. control):     0.643161\n",
      "MMD (true vs. predicted):   0.623204\n",
      "MSE (true vs. control):     0.103372\n",
      "MSE (true vs. predicted):   0.105892\n",
      "KLD (true vs. control):     0.020800\n",
      "KLD (true vs. predicted):   0.019474\n"
     ]
    },
    {
     "name": "stderr",
     "output_type": "stream",
     "text": [
      "/opt/conda/lib/python3.10/site-packages/scipy/stats/_stats_py.py:4068: PearsonRConstantInputWarning: An input array is constant; the correlation coefficient is not defined.\n",
      "  warnings.warn(PearsonRConstantInputWarning())\n"
     ]
    },
    {
     "name": "stdout",
     "output_type": "stream",
     "text": [
      "Pearson Top 20 DEG (true vs. control): nan | p-value: nan\n",
      "Pearson Top 20 DEG (true vs. predicted): 0.631328 | p-value: 0.002833\n",
      "Evaluating for intervention pair 14/131: CBL+CNN1\n",
      "MMD (true vs. control):     0.649553\n",
      "MMD (true vs. predicted):   0.646928\n",
      "MSE (true vs. control):     0.087300\n",
      "MSE (true vs. predicted):   0.094550\n",
      "KLD (true vs. control):     0.031407\n",
      "KLD (true vs. predicted):   0.032811\n"
     ]
    },
    {
     "name": "stderr",
     "output_type": "stream",
     "text": [
      "/opt/conda/lib/python3.10/site-packages/scipy/stats/_stats_py.py:4068: PearsonRConstantInputWarning: An input array is constant; the correlation coefficient is not defined.\n",
      "  warnings.warn(PearsonRConstantInputWarning())\n"
     ]
    },
    {
     "name": "stdout",
     "output_type": "stream",
     "text": [
      "Pearson Top 20 DEG (true vs. control): nan | p-value: nan\n",
      "Pearson Top 20 DEG (true vs. predicted): 0.525641 | p-value: 0.017299\n",
      "Evaluating for intervention pair 15/131: CBL+PTPN12\n",
      "MMD (true vs. control):     0.543882\n",
      "MMD (true vs. predicted):   0.597664\n",
      "MSE (true vs. control):     0.075395\n",
      "MSE (true vs. predicted):   0.079042\n",
      "KLD (true vs. control):     0.020641\n",
      "KLD (true vs. predicted):   0.021070\n"
     ]
    },
    {
     "name": "stderr",
     "output_type": "stream",
     "text": [
      "/opt/conda/lib/python3.10/site-packages/scipy/stats/_stats_py.py:4068: PearsonRConstantInputWarning: An input array is constant; the correlation coefficient is not defined.\n",
      "  warnings.warn(PearsonRConstantInputWarning())\n"
     ]
    },
    {
     "name": "stdout",
     "output_type": "stream",
     "text": [
      "Pearson Top 20 DEG (true vs. control): nan | p-value: nan\n",
      "Pearson Top 20 DEG (true vs. predicted): 0.333403 | p-value: 0.150859\n",
      "Evaluating for intervention pair 16/131: CBL+PTPN9\n",
      "MMD (true vs. control):     0.554632\n",
      "MMD (true vs. predicted):   0.566128\n",
      "MSE (true vs. control):     0.083219\n",
      "MSE (true vs. predicted):   0.088124\n",
      "KLD (true vs. control):     0.019069\n",
      "KLD (true vs. predicted):   0.019640\n"
     ]
    },
    {
     "name": "stderr",
     "output_type": "stream",
     "text": [
      "/opt/conda/lib/python3.10/site-packages/scipy/stats/_stats_py.py:4068: PearsonRConstantInputWarning: An input array is constant; the correlation coefficient is not defined.\n",
      "  warnings.warn(PearsonRConstantInputWarning())\n"
     ]
    },
    {
     "name": "stdout",
     "output_type": "stream",
     "text": [
      "Pearson Top 20 DEG (true vs. control): nan | p-value: nan\n",
      "Pearson Top 20 DEG (true vs. predicted): 0.379215 | p-value: 0.099154\n",
      "Evaluating for intervention pair 17/131: CBL+TGFBR2\n",
      "MMD (true vs. control):     0.487495\n",
      "MMD (true vs. predicted):   0.529786\n",
      "MSE (true vs. control):     0.070422\n",
      "MSE (true vs. predicted):   0.076111\n",
      "KLD (true vs. control):     0.011833\n",
      "KLD (true vs. predicted):   0.010722\n"
     ]
    },
    {
     "name": "stderr",
     "output_type": "stream",
     "text": [
      "/opt/conda/lib/python3.10/site-packages/scipy/stats/_stats_py.py:4068: PearsonRConstantInputWarning: An input array is constant; the correlation coefficient is not defined.\n",
      "  warnings.warn(PearsonRConstantInputWarning())\n"
     ]
    },
    {
     "name": "stdout",
     "output_type": "stream",
     "text": [
      "Pearson Top 20 DEG (true vs. control): nan | p-value: nan\n",
      "Pearson Top 20 DEG (true vs. predicted): 0.620315 | p-value: 0.003523\n",
      "Evaluating for intervention pair 18/131: CBL+UBASH3A\n",
      "MMD (true vs. control):     0.485802\n",
      "MMD (true vs. predicted):   0.561762\n",
      "MSE (true vs. control):     0.084879\n",
      "MSE (true vs. predicted):   0.096106\n",
      "KLD (true vs. control):     0.010460\n",
      "KLD (true vs. predicted):   0.010720\n"
     ]
    },
    {
     "name": "stderr",
     "output_type": "stream",
     "text": [
      "/opt/conda/lib/python3.10/site-packages/scipy/stats/_stats_py.py:4068: PearsonRConstantInputWarning: An input array is constant; the correlation coefficient is not defined.\n",
      "  warnings.warn(PearsonRConstantInputWarning())\n"
     ]
    },
    {
     "name": "stdout",
     "output_type": "stream",
     "text": [
      "Pearson Top 20 DEG (true vs. control): nan | p-value: nan\n",
      "Pearson Top 20 DEG (true vs. predicted): 0.646090 | p-value: 0.002087\n",
      "Evaluating for intervention pair 19/131: CBL+UBASH3B\n",
      "MMD (true vs. control):     0.644266\n",
      "MMD (true vs. predicted):   0.681825\n",
      "MSE (true vs. control):     0.086740\n",
      "MSE (true vs. predicted):   0.088756\n",
      "KLD (true vs. control):     0.028415\n",
      "KLD (true vs. predicted):   0.030463\n"
     ]
    },
    {
     "name": "stderr",
     "output_type": "stream",
     "text": [
      "/opt/conda/lib/python3.10/site-packages/scipy/stats/_stats_py.py:4068: PearsonRConstantInputWarning: An input array is constant; the correlation coefficient is not defined.\n",
      "  warnings.warn(PearsonRConstantInputWarning())\n"
     ]
    },
    {
     "name": "stdout",
     "output_type": "stream",
     "text": [
      "Pearson Top 20 DEG (true vs. control): nan | p-value: nan\n",
      "Pearson Top 20 DEG (true vs. predicted): 0.294735 | p-value: 0.207139\n",
      "Evaluating for intervention pair 20/131: CDKN1A+CDKN1B\n",
      "MMD (true vs. control):     0.547990\n",
      "MMD (true vs. predicted):   0.562687\n",
      "MSE (true vs. control):     0.078903\n",
      "MSE (true vs. predicted):   0.075846\n",
      "KLD (true vs. control):     0.011344\n",
      "KLD (true vs. predicted):   0.013211\n"
     ]
    },
    {
     "name": "stderr",
     "output_type": "stream",
     "text": [
      "/opt/conda/lib/python3.10/site-packages/scipy/stats/_stats_py.py:4068: PearsonRConstantInputWarning: An input array is constant; the correlation coefficient is not defined.\n",
      "  warnings.warn(PearsonRConstantInputWarning())\n"
     ]
    },
    {
     "name": "stdout",
     "output_type": "stream",
     "text": [
      "Pearson Top 20 DEG (true vs. control): nan | p-value: nan\n",
      "Pearson Top 20 DEG (true vs. predicted): 0.141988 | p-value: 0.550412\n",
      "Evaluating for intervention pair 21/131: CDKN1A+CDKN1C\n",
      "MMD (true vs. control):     0.510143\n",
      "MMD (true vs. predicted):   0.534778\n",
      "MSE (true vs. control):     0.078724\n",
      "MSE (true vs. predicted):   0.085609\n",
      "KLD (true vs. control):     0.009716\n",
      "KLD (true vs. predicted):   0.012735\n"
     ]
    },
    {
     "name": "stderr",
     "output_type": "stream",
     "text": [
      "/opt/conda/lib/python3.10/site-packages/scipy/stats/_stats_py.py:4068: PearsonRConstantInputWarning: An input array is constant; the correlation coefficient is not defined.\n",
      "  warnings.warn(PearsonRConstantInputWarning())\n"
     ]
    },
    {
     "name": "stdout",
     "output_type": "stream",
     "text": [
      "Pearson Top 20 DEG (true vs. control): nan | p-value: nan\n",
      "Pearson Top 20 DEG (true vs. predicted): 0.314780 | p-value: 0.176453\n",
      "Evaluating for intervention pair 22/131: CDKN1B+CDKN1C\n",
      "MMD (true vs. control):     0.491739\n",
      "MMD (true vs. predicted):   0.516199\n",
      "MSE (true vs. control):     0.076088\n",
      "MSE (true vs. predicted):   0.078934\n",
      "KLD (true vs. control):     0.008915\n",
      "KLD (true vs. predicted):   0.008060\n"
     ]
    },
    {
     "name": "stderr",
     "output_type": "stream",
     "text": [
      "/opt/conda/lib/python3.10/site-packages/scipy/stats/_stats_py.py:4068: PearsonRConstantInputWarning: An input array is constant; the correlation coefficient is not defined.\n",
      "  warnings.warn(PearsonRConstantInputWarning())\n"
     ]
    },
    {
     "name": "stdout",
     "output_type": "stream",
     "text": [
      "Pearson Top 20 DEG (true vs. control): nan | p-value: nan\n",
      "Pearson Top 20 DEG (true vs. predicted): 0.186878 | p-value: 0.430161\n",
      "Evaluating for intervention pair 23/131: CEBPA+CEBPB\n",
      "MMD (true vs. control):     0.923397\n",
      "MMD (true vs. predicted):   0.954747\n",
      "MSE (true vs. control):     0.135339\n",
      "MSE (true vs. predicted):   0.134105\n",
      "KLD (true vs. control):     0.043389\n",
      "KLD (true vs. predicted):   0.039190\n",
      "Pearson Top 20 DEG (true vs. control): nan | p-value: nan\n",
      "Pearson Top 20 DEG (true vs. predicted): 0.303818 | p-value: 0.192824\n",
      "Evaluating for intervention pair 24/131: CEBPA+CEBPE\n"
     ]
    },
    {
     "name": "stderr",
     "output_type": "stream",
     "text": [
      "/opt/conda/lib/python3.10/site-packages/scipy/stats/_stats_py.py:4068: PearsonRConstantInputWarning: An input array is constant; the correlation coefficient is not defined.\n",
      "  warnings.warn(PearsonRConstantInputWarning())\n"
     ]
    },
    {
     "name": "stdout",
     "output_type": "stream",
     "text": [
      "MMD (true vs. control):     0.753673\n",
      "MMD (true vs. predicted):   0.730033\n",
      "MSE (true vs. control):     0.119727\n",
      "MSE (true vs. predicted):   0.128463\n",
      "KLD (true vs. control):     0.029700\n",
      "KLD (true vs. predicted):   0.027534\n",
      "Pearson Top 20 DEG (true vs. control): nan | p-value: nan\n",
      "Pearson Top 20 DEG (true vs. predicted): 0.408186 | p-value: 0.073989\n",
      "Evaluating for intervention pair 25/131: CEBPA+JUN\n"
     ]
    },
    {
     "name": "stderr",
     "output_type": "stream",
     "text": [
      "/opt/conda/lib/python3.10/site-packages/scipy/stats/_stats_py.py:4068: PearsonRConstantInputWarning: An input array is constant; the correlation coefficient is not defined.\n",
      "  warnings.warn(PearsonRConstantInputWarning())\n"
     ]
    },
    {
     "name": "stdout",
     "output_type": "stream",
     "text": [
      "MMD (true vs. control):     1.009434\n",
      "MMD (true vs. predicted):   0.961922\n",
      "MSE (true vs. control):     0.137726\n",
      "MSE (true vs. predicted):   0.143859\n",
      "KLD (true vs. control):     0.053822\n",
      "KLD (true vs. predicted):   0.055336\n",
      "Pearson Top 20 DEG (true vs. control): nan | p-value: nan\n",
      "Pearson Top 20 DEG (true vs. predicted): 0.260080 | p-value: 0.268114\n",
      "Evaluating for intervention pair 26/131: CEBPA+KLF1\n"
     ]
    },
    {
     "name": "stderr",
     "output_type": "stream",
     "text": [
      "/opt/conda/lib/python3.10/site-packages/scipy/stats/_stats_py.py:4068: PearsonRConstantInputWarning: An input array is constant; the correlation coefficient is not defined.\n",
      "  warnings.warn(PearsonRConstantInputWarning())\n"
     ]
    },
    {
     "name": "stdout",
     "output_type": "stream",
     "text": [
      "MMD (true vs. control):     0.803885\n",
      "MMD (true vs. predicted):   0.768370\n",
      "MSE (true vs. control):     0.114698\n",
      "MSE (true vs. predicted):   0.123057\n",
      "KLD (true vs. control):     0.022964\n",
      "KLD (true vs. predicted):   0.024333\n",
      "Pearson Top 20 DEG (true vs. control): nan | p-value: nan\n",
      "Pearson Top 20 DEG (true vs. predicted): 0.208364 | p-value: 0.378013\n",
      "Evaluating for intervention pair 27/131: CEBPA+ZC3HAV1\n"
     ]
    },
    {
     "name": "stderr",
     "output_type": "stream",
     "text": [
      "/opt/conda/lib/python3.10/site-packages/scipy/stats/_stats_py.py:4068: PearsonRConstantInputWarning: An input array is constant; the correlation coefficient is not defined.\n",
      "  warnings.warn(PearsonRConstantInputWarning())\n"
     ]
    },
    {
     "name": "stdout",
     "output_type": "stream",
     "text": [
      "MMD (true vs. control):     0.756221\n",
      "MMD (true vs. predicted):   0.764030\n",
      "MSE (true vs. control):     0.125321\n",
      "MSE (true vs. predicted):   0.128205\n",
      "KLD (true vs. control):     0.030134\n",
      "KLD (true vs. predicted):   0.029555\n"
     ]
    },
    {
     "name": "stderr",
     "output_type": "stream",
     "text": [
      "/opt/conda/lib/python3.10/site-packages/scipy/stats/_stats_py.py:4068: PearsonRConstantInputWarning: An input array is constant; the correlation coefficient is not defined.\n",
      "  warnings.warn(PearsonRConstantInputWarning())\n"
     ]
    },
    {
     "name": "stdout",
     "output_type": "stream",
     "text": [
      "Pearson Top 20 DEG (true vs. control): nan | p-value: nan\n",
      "Pearson Top 20 DEG (true vs. predicted): 0.148231 | p-value: 0.532834\n",
      "Evaluating for intervention pair 28/131: CEBPB+CEBPE\n",
      "MMD (true vs. control):     0.691036\n",
      "MMD (true vs. predicted):   0.686929\n",
      "MSE (true vs. control):     0.115818\n",
      "MSE (true vs. predicted):   0.115281\n",
      "KLD (true vs. control):     0.018612\n",
      "KLD (true vs. predicted):   0.016162\n",
      "Pearson Top 20 DEG (true vs. control): nan | p-value: nan\n",
      "Pearson Top 20 DEG (true vs. predicted): 0.328208 | p-value: 0.157723\n",
      "Evaluating for intervention pair 29/131: CEBPB+FOSB\n"
     ]
    },
    {
     "name": "stderr",
     "output_type": "stream",
     "text": [
      "/opt/conda/lib/python3.10/site-packages/scipy/stats/_stats_py.py:4068: PearsonRConstantInputWarning: An input array is constant; the correlation coefficient is not defined.\n",
      "  warnings.warn(PearsonRConstantInputWarning())\n"
     ]
    },
    {
     "name": "stdout",
     "output_type": "stream",
     "text": [
      "MMD (true vs. control):     0.722854\n",
      "MMD (true vs. predicted):   0.748091\n",
      "MSE (true vs. control):     0.109526\n",
      "MSE (true vs. predicted):   0.110191\n",
      "KLD (true vs. control):     0.021501\n",
      "KLD (true vs. predicted):   0.020725\n"
     ]
    },
    {
     "name": "stderr",
     "output_type": "stream",
     "text": [
      "/opt/conda/lib/python3.10/site-packages/scipy/stats/_stats_py.py:4068: PearsonRConstantInputWarning: An input array is constant; the correlation coefficient is not defined.\n",
      "  warnings.warn(PearsonRConstantInputWarning())\n"
     ]
    },
    {
     "name": "stdout",
     "output_type": "stream",
     "text": [
      "Pearson Top 20 DEG (true vs. control): nan | p-value: nan\n",
      "Pearson Top 20 DEG (true vs. predicted): 0.324533 | p-value: 0.162705\n",
      "Evaluating for intervention pair 30/131: CEBPB+JUN\n",
      "MMD (true vs. control):     0.758293\n",
      "MMD (true vs. predicted):   0.813462\n",
      "MSE (true vs. control):     0.114181\n",
      "MSE (true vs. predicted):   0.113718\n",
      "KLD (true vs. control):     0.038768\n",
      "KLD (true vs. predicted):   0.041686\n"
     ]
    },
    {
     "name": "stderr",
     "output_type": "stream",
     "text": [
      "/opt/conda/lib/python3.10/site-packages/scipy/stats/_stats_py.py:4068: PearsonRConstantInputWarning: An input array is constant; the correlation coefficient is not defined.\n",
      "  warnings.warn(PearsonRConstantInputWarning())\n"
     ]
    },
    {
     "name": "stdout",
     "output_type": "stream",
     "text": [
      "Pearson Top 20 DEG (true vs. control): nan | p-value: nan\n",
      "Pearson Top 20 DEG (true vs. predicted): 0.481976 | p-value: 0.031398\n",
      "Evaluating for intervention pair 31/131: CEBPB+LYL1\n",
      "MMD (true vs. control):     0.487193\n",
      "MMD (true vs. predicted):   0.510982\n",
      "MSE (true vs. control):     0.076636\n",
      "MSE (true vs. predicted):   0.078735\n",
      "KLD (true vs. control):     0.006455\n",
      "KLD (true vs. predicted):   0.006627\n",
      "Pearson Top 20 DEG (true vs. control): nan | p-value: nan\n",
      "Pearson Top 20 DEG (true vs. predicted): 0.321148 | p-value: 0.167390\n",
      "Evaluating for intervention pair 32/131: CEBPB+MAPK1\n"
     ]
    },
    {
     "name": "stderr",
     "output_type": "stream",
     "text": [
      "/opt/conda/lib/python3.10/site-packages/scipy/stats/_stats_py.py:4068: PearsonRConstantInputWarning: An input array is constant; the correlation coefficient is not defined.\n",
      "  warnings.warn(PearsonRConstantInputWarning())\n"
     ]
    },
    {
     "name": "stdout",
     "output_type": "stream",
     "text": [
      "MMD (true vs. control):     0.619985\n",
      "MMD (true vs. predicted):   0.653924\n",
      "MSE (true vs. control):     0.082681\n",
      "MSE (true vs. predicted):   0.081534\n",
      "KLD (true vs. control):     0.016874\n",
      "KLD (true vs. predicted):   0.017455\n",
      "Pearson Top 20 DEG (true vs. control): nan | p-value: nan\n",
      "Pearson Top 20 DEG (true vs. predicted): 0.389215 | p-value: 0.089851\n",
      "Evaluating for intervention pair 33/131: CEBPB+OSR2\n"
     ]
    },
    {
     "name": "stderr",
     "output_type": "stream",
     "text": [
      "/opt/conda/lib/python3.10/site-packages/scipy/stats/_stats_py.py:4068: PearsonRConstantInputWarning: An input array is constant; the correlation coefficient is not defined.\n",
      "  warnings.warn(PearsonRConstantInputWarning())\n"
     ]
    },
    {
     "name": "stdout",
     "output_type": "stream",
     "text": [
      "MMD (true vs. control):     0.683635\n",
      "MMD (true vs. predicted):   0.737617\n",
      "MSE (true vs. control):     0.102357\n",
      "MSE (true vs. predicted):   0.103301\n",
      "KLD (true vs. control):     0.016249\n",
      "KLD (true vs. predicted):   0.017091\n",
      "Pearson Top 20 DEG (true vs. control): nan | p-value: nan\n",
      "Pearson Top 20 DEG (true vs. predicted): 0.338143 | p-value: 0.144783\n",
      "Evaluating for intervention pair 34/131: CEBPB+PTPN12\n"
     ]
    },
    {
     "name": "stderr",
     "output_type": "stream",
     "text": [
      "/opt/conda/lib/python3.10/site-packages/scipy/stats/_stats_py.py:4068: PearsonRConstantInputWarning: An input array is constant; the correlation coefficient is not defined.\n",
      "  warnings.warn(PearsonRConstantInputWarning())\n"
     ]
    },
    {
     "name": "stdout",
     "output_type": "stream",
     "text": [
      "MMD (true vs. control):     0.447665\n",
      "MMD (true vs. predicted):   0.493291\n",
      "MSE (true vs. control):     0.078588\n",
      "MSE (true vs. predicted):   0.081849\n",
      "KLD (true vs. control):     0.005263\n",
      "KLD (true vs. predicted):   0.006431\n",
      "Pearson Top 20 DEG (true vs. control): nan | p-value: nan\n",
      "Pearson Top 20 DEG (true vs. predicted): 0.536801 | p-value: 0.014672\n",
      "Evaluating for intervention pair 35/131: CEBPE+CNN1\n"
     ]
    },
    {
     "name": "stderr",
     "output_type": "stream",
     "text": [
      "/opt/conda/lib/python3.10/site-packages/scipy/stats/_stats_py.py:4068: PearsonRConstantInputWarning: An input array is constant; the correlation coefficient is not defined.\n",
      "  warnings.warn(PearsonRConstantInputWarning())\n"
     ]
    },
    {
     "name": "stdout",
     "output_type": "stream",
     "text": [
      "MMD (true vs. control):     0.507347\n",
      "MMD (true vs. predicted):   0.522805\n",
      "MSE (true vs. control):     0.082765\n",
      "MSE (true vs. predicted):   0.083220\n",
      "KLD (true vs. control):     0.006558\n",
      "KLD (true vs. predicted):   0.005875\n",
      "Pearson Top 20 DEG (true vs. control): nan | p-value: nan\n",
      "Pearson Top 20 DEG (true vs. predicted): 0.637108 | p-value: 0.002518\n",
      "Evaluating for intervention pair 36/131: CEBPE+ETS2\n"
     ]
    },
    {
     "name": "stderr",
     "output_type": "stream",
     "text": [
      "/opt/conda/lib/python3.10/site-packages/scipy/stats/_stats_py.py:4068: PearsonRConstantInputWarning: An input array is constant; the correlation coefficient is not defined.\n",
      "  warnings.warn(PearsonRConstantInputWarning())\n"
     ]
    },
    {
     "name": "stdout",
     "output_type": "stream",
     "text": [
      "MMD (true vs. control):     0.625265\n",
      "MMD (true vs. predicted):   0.660436\n",
      "MSE (true vs. control):     0.085655\n",
      "MSE (true vs. predicted):   0.089192\n",
      "KLD (true vs. control):     0.014548\n",
      "KLD (true vs. predicted):   0.014353\n",
      "Pearson Top 20 DEG (true vs. control): nan | p-value: nan\n",
      "Pearson Top 20 DEG (true vs. predicted): 0.238048 | p-value: 0.312180\n",
      "Evaluating for intervention pair 37/131: CEBPE+FOSB\n"
     ]
    },
    {
     "name": "stderr",
     "output_type": "stream",
     "text": [
      "/opt/conda/lib/python3.10/site-packages/scipy/stats/_stats_py.py:4068: PearsonRConstantInputWarning: An input array is constant; the correlation coefficient is not defined.\n",
      "  warnings.warn(PearsonRConstantInputWarning())\n"
     ]
    },
    {
     "name": "stdout",
     "output_type": "stream",
     "text": [
      "MMD (true vs. control):     0.691411\n",
      "MMD (true vs. predicted):   0.758789\n",
      "MSE (true vs. control):     0.105872\n",
      "MSE (true vs. predicted):   0.106542\n",
      "KLD (true vs. control):     0.020708\n",
      "KLD (true vs. predicted):   0.018052\n"
     ]
    },
    {
     "name": "stderr",
     "output_type": "stream",
     "text": [
      "/opt/conda/lib/python3.10/site-packages/scipy/stats/_stats_py.py:4068: PearsonRConstantInputWarning: An input array is constant; the correlation coefficient is not defined.\n",
      "  warnings.warn(PearsonRConstantInputWarning())\n"
     ]
    },
    {
     "name": "stdout",
     "output_type": "stream",
     "text": [
      "Pearson Top 20 DEG (true vs. control): nan | p-value: nan\n",
      "Pearson Top 20 DEG (true vs. predicted): 0.332392 | p-value: 0.152179\n",
      "Evaluating for intervention pair 38/131: CEBPE+KLF1\n",
      "MMD (true vs. control):     0.453517\n",
      "MMD (true vs. predicted):   0.497371\n",
      "MSE (true vs. control):     0.072790\n",
      "MSE (true vs. predicted):   0.079439\n",
      "KLD (true vs. control):     0.007073\n",
      "KLD (true vs. predicted):   0.011363\n",
      "Pearson Top 20 DEG (true vs. control): nan | p-value: nan\n",
      "Pearson Top 20 DEG (true vs. predicted): 0.275914 | p-value: 0.238994\n",
      "Evaluating for intervention pair 39/131: CEBPE+PTPN12\n"
     ]
    },
    {
     "name": "stderr",
     "output_type": "stream",
     "text": [
      "/opt/conda/lib/python3.10/site-packages/scipy/stats/_stats_py.py:4068: PearsonRConstantInputWarning: An input array is constant; the correlation coefficient is not defined.\n",
      "  warnings.warn(PearsonRConstantInputWarning())\n"
     ]
    },
    {
     "name": "stdout",
     "output_type": "stream",
     "text": [
      "MMD (true vs. control):     0.432355\n",
      "MMD (true vs. predicted):   0.478860\n",
      "MSE (true vs. control):     0.073758\n",
      "MSE (true vs. predicted):   0.076057\n",
      "KLD (true vs. control):     0.003943\n",
      "KLD (true vs. predicted):   0.003738\n"
     ]
    },
    {
     "name": "stderr",
     "output_type": "stream",
     "text": [
      "/opt/conda/lib/python3.10/site-packages/scipy/stats/_stats_py.py:4068: PearsonRConstantInputWarning: An input array is constant; the correlation coefficient is not defined.\n",
      "  warnings.warn(PearsonRConstantInputWarning())\n"
     ]
    },
    {
     "name": "stdout",
     "output_type": "stream",
     "text": [
      "Pearson Top 20 DEG (true vs. control): nan | p-value: nan\n",
      "Pearson Top 20 DEG (true vs. predicted): 0.541407 | p-value: 0.013686\n",
      "Evaluating for intervention pair 40/131: CEBPE+RUNX1T1\n",
      "MMD (true vs. control):     0.453771\n",
      "MMD (true vs. predicted):   0.491777\n",
      "MSE (true vs. control):     0.074232\n",
      "MSE (true vs. predicted):   0.084027\n",
      "KLD (true vs. control):     0.005235\n",
      "KLD (true vs. predicted):   0.004521\n",
      "Pearson Top 20 DEG (true vs. control): nan | p-value: nan\n",
      "Pearson Top 20 DEG (true vs. predicted): 0.377118 | p-value: 0.101191\n",
      "Evaluating for intervention pair 41/131: CEBPE+SET\n"
     ]
    },
    {
     "name": "stderr",
     "output_type": "stream",
     "text": [
      "/opt/conda/lib/python3.10/site-packages/scipy/stats/_stats_py.py:4068: PearsonRConstantInputWarning: An input array is constant; the correlation coefficient is not defined.\n",
      "  warnings.warn(PearsonRConstantInputWarning())\n"
     ]
    },
    {
     "name": "stdout",
     "output_type": "stream",
     "text": [
      "MMD (true vs. control):     0.531007\n",
      "MMD (true vs. predicted):   0.603172\n",
      "MSE (true vs. control):     0.076272\n",
      "MSE (true vs. predicted):   0.078351\n",
      "KLD (true vs. control):     0.013991\n",
      "KLD (true vs. predicted):   0.014339\n"
     ]
    },
    {
     "name": "stderr",
     "output_type": "stream",
     "text": [
      "/opt/conda/lib/python3.10/site-packages/scipy/stats/_stats_py.py:4068: PearsonRConstantInputWarning: An input array is constant; the correlation coefficient is not defined.\n",
      "  warnings.warn(PearsonRConstantInputWarning())\n"
     ]
    },
    {
     "name": "stdout",
     "output_type": "stream",
     "text": [
      "Pearson Top 20 DEG (true vs. control): nan | p-value: nan\n",
      "Pearson Top 20 DEG (true vs. predicted): -0.043792 | p-value: 0.854547\n",
      "Evaluating for intervention pair 42/131: CEBPE+SPI1\n",
      "MMD (true vs. control):     0.898448\n",
      "MMD (true vs. predicted):   0.910223\n",
      "MSE (true vs. control):     0.125388\n",
      "MSE (true vs. predicted):   0.124468\n",
      "KLD (true vs. control):     0.040335\n",
      "KLD (true vs. predicted):   0.038240\n",
      "Pearson Top 20 DEG (true vs. control): nan | p-value: nan\n",
      "Pearson Top 20 DEG (true vs. predicted): 0.472801 | p-value: 0.035268\n",
      "Evaluating for intervention pair 43/131: CEBPE+ZC3HAV1\n"
     ]
    },
    {
     "name": "stderr",
     "output_type": "stream",
     "text": [
      "/opt/conda/lib/python3.10/site-packages/scipy/stats/_stats_py.py:4068: PearsonRConstantInputWarning: An input array is constant; the correlation coefficient is not defined.\n",
      "  warnings.warn(PearsonRConstantInputWarning())\n"
     ]
    },
    {
     "name": "stdout",
     "output_type": "stream",
     "text": [
      "MMD (true vs. control):     0.441482\n",
      "MMD (true vs. predicted):   0.521383\n",
      "MSE (true vs. control):     0.067558\n",
      "MSE (true vs. predicted):   0.077771\n",
      "KLD (true vs. control):     0.004800\n",
      "KLD (true vs. predicted):   0.007226\n",
      "Pearson Top 20 DEG (true vs. control): nan | p-value: nan\n",
      "Pearson Top 20 DEG (true vs. predicted): 0.186131 | p-value: 0.432039\n",
      "Evaluating for intervention pair 44/131: CLDN6+KLF1\n"
     ]
    },
    {
     "name": "stderr",
     "output_type": "stream",
     "text": [
      "/opt/conda/lib/python3.10/site-packages/scipy/stats/_stats_py.py:4068: PearsonRConstantInputWarning: An input array is constant; the correlation coefficient is not defined.\n",
      "  warnings.warn(PearsonRConstantInputWarning())\n"
     ]
    },
    {
     "name": "stdout",
     "output_type": "stream",
     "text": [
      "MMD (true vs. control):     0.626850\n",
      "MMD (true vs. predicted):   0.622349\n",
      "MSE (true vs. control):     0.083306\n",
      "MSE (true vs. predicted):   0.087143\n",
      "KLD (true vs. control):     0.029339\n",
      "KLD (true vs. predicted):   0.028849\n"
     ]
    },
    {
     "name": "stderr",
     "output_type": "stream",
     "text": [
      "/opt/conda/lib/python3.10/site-packages/scipy/stats/_stats_py.py:4068: PearsonRConstantInputWarning: An input array is constant; the correlation coefficient is not defined.\n",
      "  warnings.warn(PearsonRConstantInputWarning())\n"
     ]
    },
    {
     "name": "stdout",
     "output_type": "stream",
     "text": [
      "Pearson Top 20 DEG (true vs. control): nan | p-value: nan\n",
      "Pearson Top 20 DEG (true vs. predicted): 0.335573 | p-value: 0.148055\n",
      "Evaluating for intervention pair 45/131: CNN1+ETS2\n",
      "MMD (true vs. control):     0.448862\n",
      "MMD (true vs. predicted):   0.457055\n",
      "MSE (true vs. control):     0.073816\n",
      "MSE (true vs. predicted):   0.079953\n",
      "KLD (true vs. control):     0.004384\n",
      "KLD (true vs. predicted):   0.003046\n",
      "Pearson Top 20 DEG (true vs. control): nan | p-value: nan\n",
      "Pearson Top 20 DEG (true vs. predicted): 0.624873 | p-value: 0.003222\n",
      "Evaluating for intervention pair 46/131: CNN1+MAPK1\n"
     ]
    },
    {
     "name": "stderr",
     "output_type": "stream",
     "text": [
      "/opt/conda/lib/python3.10/site-packages/scipy/stats/_stats_py.py:4068: PearsonRConstantInputWarning: An input array is constant; the correlation coefficient is not defined.\n",
      "  warnings.warn(PearsonRConstantInputWarning())\n"
     ]
    },
    {
     "name": "stdout",
     "output_type": "stream",
     "text": [
      "MMD (true vs. control):     0.472555\n",
      "MMD (true vs. predicted):   0.497749\n",
      "MSE (true vs. control):     0.078331\n",
      "MSE (true vs. predicted):   0.078415\n",
      "KLD (true vs. control):     0.005376\n",
      "KLD (true vs. predicted):   0.003768\n",
      "Pearson Top 20 DEG (true vs. control): nan | p-value: nan\n",
      "Pearson Top 20 DEG (true vs. predicted): 0.624401 | p-value: 0.003252\n",
      "Evaluating for intervention pair 47/131: CNN1+UBASH3A\n"
     ]
    },
    {
     "name": "stderr",
     "output_type": "stream",
     "text": [
      "/opt/conda/lib/python3.10/site-packages/scipy/stats/_stats_py.py:4068: PearsonRConstantInputWarning: An input array is constant; the correlation coefficient is not defined.\n",
      "  warnings.warn(PearsonRConstantInputWarning())\n"
     ]
    },
    {
     "name": "stdout",
     "output_type": "stream",
     "text": [
      "MMD (true vs. control):     0.654756\n",
      "MMD (true vs. predicted):   0.651303\n",
      "MSE (true vs. control):     0.091855\n",
      "MSE (true vs. predicted):   0.092965\n",
      "KLD (true vs. control):     0.030012\n",
      "KLD (true vs. predicted):   0.027832\n"
     ]
    },
    {
     "name": "stderr",
     "output_type": "stream",
     "text": [
      "/opt/conda/lib/python3.10/site-packages/scipy/stats/_stats_py.py:4068: PearsonRConstantInputWarning: An input array is constant; the correlation coefficient is not defined.\n",
      "  warnings.warn(PearsonRConstantInputWarning())\n"
     ]
    },
    {
     "name": "stdout",
     "output_type": "stream",
     "text": [
      "Pearson Top 20 DEG (true vs. control): nan | p-value: nan\n",
      "Pearson Top 20 DEG (true vs. predicted): 0.643466 | p-value: 0.002206\n",
      "Evaluating for intervention pair 48/131: CNN1+UBASH3B\n",
      "MMD (true vs. control):     0.671337\n",
      "MMD (true vs. predicted):   0.655077\n",
      "MSE (true vs. control):     0.087805\n",
      "MSE (true vs. predicted):   0.094948\n",
      "KLD (true vs. control):     0.037779\n",
      "KLD (true vs. predicted):   0.035140\n",
      "Pearson Top 20 DEG (true vs. control): nan | p-value: nan\n",
      "Pearson Top 20 DEG (true vs. predicted): 0.449365 | p-value: 0.046844\n",
      "Evaluating for intervention pair 49/131: COL2A1+KLF1\n"
     ]
    },
    {
     "name": "stderr",
     "output_type": "stream",
     "text": [
      "/opt/conda/lib/python3.10/site-packages/scipy/stats/_stats_py.py:4068: PearsonRConstantInputWarning: An input array is constant; the correlation coefficient is not defined.\n",
      "  warnings.warn(PearsonRConstantInputWarning())\n"
     ]
    },
    {
     "name": "stdout",
     "output_type": "stream",
     "text": [
      "MMD (true vs. control):     0.570714\n",
      "MMD (true vs. predicted):   0.616022\n",
      "MSE (true vs. control):     0.072781\n",
      "MSE (true vs. predicted):   0.077102\n",
      "KLD (true vs. control):     0.014555\n",
      "KLD (true vs. predicted):   0.011534\n"
     ]
    },
    {
     "name": "stderr",
     "output_type": "stream",
     "text": [
      "/opt/conda/lib/python3.10/site-packages/scipy/stats/_stats_py.py:4068: PearsonRConstantInputWarning: An input array is constant; the correlation coefficient is not defined.\n",
      "  warnings.warn(PearsonRConstantInputWarning())\n"
     ]
    },
    {
     "name": "stdout",
     "output_type": "stream",
     "text": [
      "Pearson Top 20 DEG (true vs. control): nan | p-value: nan\n",
      "Pearson Top 20 DEG (true vs. predicted): 0.201181 | p-value: 0.395034\n",
      "Evaluating for intervention pair 50/131: DLX2+SNAI1\n",
      "MMD (true vs. control):     0.554415\n",
      "MMD (true vs. predicted):   0.578593\n",
      "MSE (true vs. control):     0.088595\n",
      "MSE (true vs. predicted):   0.087087\n",
      "KLD (true vs. control):     0.012057\n",
      "KLD (true vs. predicted):   0.012888\n",
      "Pearson Top 20 DEG (true vs. control): nan | p-value: nan\n",
      "Pearson Top 20 DEG (true vs. predicted): 0.637772 | p-value: 0.002484\n",
      "Evaluating for intervention pair 51/131: DLX2+ZBTB10\n"
     ]
    },
    {
     "name": "stderr",
     "output_type": "stream",
     "text": [
      "/opt/conda/lib/python3.10/site-packages/scipy/stats/_stats_py.py:4068: PearsonRConstantInputWarning: An input array is constant; the correlation coefficient is not defined.\n",
      "  warnings.warn(PearsonRConstantInputWarning())\n"
     ]
    },
    {
     "name": "stdout",
     "output_type": "stream",
     "text": [
      "MMD (true vs. control):     0.781989\n",
      "MMD (true vs. predicted):   0.796371\n",
      "MSE (true vs. control):     0.117002\n",
      "MSE (true vs. predicted):   0.116836\n",
      "KLD (true vs. control):     0.041944\n",
      "KLD (true vs. predicted):   0.047083\n",
      "Pearson Top 20 DEG (true vs. control): nan | p-value: nan\n",
      "Pearson Top 20 DEG (true vs. predicted): 0.530553 | p-value: 0.016100\n",
      "Evaluating for intervention pair 52/131: DUSP9+ETS2\n"
     ]
    },
    {
     "name": "stderr",
     "output_type": "stream",
     "text": [
      "/opt/conda/lib/python3.10/site-packages/scipy/stats/_stats_py.py:4068: PearsonRConstantInputWarning: An input array is constant; the correlation coefficient is not defined.\n",
      "  warnings.warn(PearsonRConstantInputWarning())\n"
     ]
    },
    {
     "name": "stdout",
     "output_type": "stream",
     "text": [
      "MMD (true vs. control):     0.495721\n",
      "MMD (true vs. predicted):   0.542357\n",
      "MSE (true vs. control):     0.077887\n",
      "MSE (true vs. predicted):   0.078873\n",
      "KLD (true vs. control):     0.008291\n",
      "KLD (true vs. predicted):   0.009834\n",
      "Pearson Top 20 DEG (true vs. control): nan | p-value: nan\n",
      "Pearson Top 20 DEG (true vs. predicted): 0.581465 | p-value: 0.007164\n",
      "Evaluating for intervention pair 53/131: DUSP9+IGDCC3\n"
     ]
    },
    {
     "name": "stderr",
     "output_type": "stream",
     "text": [
      "/opt/conda/lib/python3.10/site-packages/scipy/stats/_stats_py.py:4068: PearsonRConstantInputWarning: An input array is constant; the correlation coefficient is not defined.\n",
      "  warnings.warn(PearsonRConstantInputWarning())\n"
     ]
    },
    {
     "name": "stdout",
     "output_type": "stream",
     "text": [
      "MMD (true vs. control):     0.634454\n",
      "MMD (true vs. predicted):   0.668632\n",
      "MSE (true vs. control):     0.085108\n",
      "MSE (true vs. predicted):   0.087448\n",
      "KLD (true vs. control):     0.024214\n",
      "KLD (true vs. predicted):   0.024965\n",
      "Pearson Top 20 DEG (true vs. control): nan | p-value: nan\n",
      "Pearson Top 20 DEG (true vs. predicted): 0.514583 | p-value: 0.020261\n",
      "Evaluating for intervention pair 54/131: DUSP9+KLF1\n"
     ]
    },
    {
     "name": "stderr",
     "output_type": "stream",
     "text": [
      "/opt/conda/lib/python3.10/site-packages/scipy/stats/_stats_py.py:4068: PearsonRConstantInputWarning: An input array is constant; the correlation coefficient is not defined.\n",
      "  warnings.warn(PearsonRConstantInputWarning())\n"
     ]
    },
    {
     "name": "stdout",
     "output_type": "stream",
     "text": [
      "MMD (true vs. control):     0.719314\n",
      "MMD (true vs. predicted):   0.781964\n",
      "MSE (true vs. control):     0.083882\n",
      "MSE (true vs. predicted):   0.087292\n",
      "KLD (true vs. control):     0.054786\n",
      "KLD (true vs. predicted):   0.060397\n",
      "Pearson Top 20 DEG (true vs. control): nan | p-value: nan\n",
      "Pearson Top 20 DEG (true vs. predicted): 0.298506 | p-value: 0.201112\n",
      "Evaluating for intervention pair 55/131: DUSP9+MAPK1\n"
     ]
    },
    {
     "name": "stderr",
     "output_type": "stream",
     "text": [
      "/opt/conda/lib/python3.10/site-packages/scipy/stats/_stats_py.py:4068: PearsonRConstantInputWarning: An input array is constant; the correlation coefficient is not defined.\n",
      "  warnings.warn(PearsonRConstantInputWarning())\n"
     ]
    },
    {
     "name": "stdout",
     "output_type": "stream",
     "text": [
      "MMD (true vs. control):     0.450244\n",
      "MMD (true vs. predicted):   0.477288\n",
      "MSE (true vs. control):     0.071983\n",
      "MSE (true vs. predicted):   0.071840\n",
      "KLD (true vs. control):     0.004554\n",
      "KLD (true vs. predicted):   0.004515\n",
      "Pearson Top 20 DEG (true vs. control): nan | p-value: nan\n",
      "Pearson Top 20 DEG (true vs. predicted): 0.562552 | p-value: 0.009821\n",
      "Evaluating for intervention pair 56/131: DUSP9+PRTG\n"
     ]
    },
    {
     "name": "stderr",
     "output_type": "stream",
     "text": [
      "/opt/conda/lib/python3.10/site-packages/scipy/stats/_stats_py.py:4068: PearsonRConstantInputWarning: An input array is constant; the correlation coefficient is not defined.\n",
      "  warnings.warn(PearsonRConstantInputWarning())\n"
     ]
    },
    {
     "name": "stdout",
     "output_type": "stream",
     "text": [
      "MMD (true vs. control):     0.660612\n",
      "MMD (true vs. predicted):   0.722770\n",
      "MSE (true vs. control):     0.088134\n",
      "MSE (true vs. predicted):   0.088617\n",
      "KLD (true vs. control):     0.030720\n",
      "KLD (true vs. predicted):   0.032172\n"
     ]
    },
    {
     "name": "stderr",
     "output_type": "stream",
     "text": [
      "/opt/conda/lib/python3.10/site-packages/scipy/stats/_stats_py.py:4068: PearsonRConstantInputWarning: An input array is constant; the correlation coefficient is not defined.\n",
      "  warnings.warn(PearsonRConstantInputWarning())\n"
     ]
    },
    {
     "name": "stdout",
     "output_type": "stream",
     "text": [
      "Pearson Top 20 DEG (true vs. control): nan | p-value: nan\n",
      "Pearson Top 20 DEG (true vs. predicted): 0.592119 | p-value: 0.005949\n",
      "Evaluating for intervention pair 57/131: DUSP9+SNAI1\n",
      "MMD (true vs. control):     0.722477\n",
      "MMD (true vs. predicted):   0.690951\n",
      "MSE (true vs. control):     0.099699\n",
      "MSE (true vs. predicted):   0.106770\n",
      "KLD (true vs. control):     0.023255\n",
      "KLD (true vs. predicted):   0.026548\n"
     ]
    },
    {
     "name": "stderr",
     "output_type": "stream",
     "text": [
      "/opt/conda/lib/python3.10/site-packages/scipy/stats/_stats_py.py:4068: PearsonRConstantInputWarning: An input array is constant; the correlation coefficient is not defined.\n",
      "  warnings.warn(PearsonRConstantInputWarning())\n"
     ]
    },
    {
     "name": "stdout",
     "output_type": "stream",
     "text": [
      "Pearson Top 20 DEG (true vs. control): nan | p-value: nan\n",
      "Pearson Top 20 DEG (true vs. predicted): 0.604701 | p-value: 0.004736\n",
      "Evaluating for intervention pair 58/131: ELMSAN1+LHX1\n",
      "MMD (true vs. control):     0.501994\n",
      "MMD (true vs. predicted):   0.576176\n",
      "MSE (true vs. control):     0.077683\n",
      "MSE (true vs. predicted):   0.083737\n",
      "KLD (true vs. control):     0.006136\n",
      "KLD (true vs. predicted):   0.008024\n",
      "Pearson Top 20 DEG (true vs. control): nan | p-value: nan\n",
      "Pearson Top 20 DEG (true vs. predicted): 0.479431 | p-value: 0.032437\n",
      "Evaluating for intervention pair 59/131: ELMSAN1+MAP2K3\n"
     ]
    },
    {
     "name": "stderr",
     "output_type": "stream",
     "text": [
      "/opt/conda/lib/python3.10/site-packages/scipy/stats/_stats_py.py:4068: PearsonRConstantInputWarning: An input array is constant; the correlation coefficient is not defined.\n",
      "  warnings.warn(PearsonRConstantInputWarning())\n"
     ]
    },
    {
     "name": "stdout",
     "output_type": "stream",
     "text": [
      "MMD (true vs. control):     0.501927\n",
      "MMD (true vs. predicted):   0.586335\n",
      "MSE (true vs. control):     0.069094\n",
      "MSE (true vs. predicted):   0.075739\n",
      "KLD (true vs. control):     0.008764\n",
      "KLD (true vs. predicted):   0.014907\n",
      "Pearson Top 20 DEG (true vs. control): nan | p-value: nan\n",
      "Pearson Top 20 DEG (true vs. predicted): 0.309621 | p-value: 0.184036\n",
      "Evaluating for intervention pair 60/131: ELMSAN1+MAP2K6\n"
     ]
    },
    {
     "name": "stderr",
     "output_type": "stream",
     "text": [
      "/opt/conda/lib/python3.10/site-packages/scipy/stats/_stats_py.py:4068: PearsonRConstantInputWarning: An input array is constant; the correlation coefficient is not defined.\n",
      "  warnings.warn(PearsonRConstantInputWarning())\n"
     ]
    },
    {
     "name": "stdout",
     "output_type": "stream",
     "text": [
      "MMD (true vs. control):     0.464879\n",
      "MMD (true vs. predicted):   0.538958\n",
      "MSE (true vs. control):     0.063651\n",
      "MSE (true vs. predicted):   0.070613\n",
      "KLD (true vs. control):     0.007482\n",
      "KLD (true vs. predicted):   0.009272\n",
      "Pearson Top 20 DEG (true vs. control): nan | p-value: nan\n",
      "Pearson Top 20 DEG (true vs. predicted): 0.178699 | p-value: 0.450965\n",
      "Evaluating for intervention pair 61/131: ELMSAN1+ZBTB10\n"
     ]
    },
    {
     "name": "stderr",
     "output_type": "stream",
     "text": [
      "/opt/conda/lib/python3.10/site-packages/scipy/stats/_stats_py.py:4068: PearsonRConstantInputWarning: An input array is constant; the correlation coefficient is not defined.\n",
      "  warnings.warn(PearsonRConstantInputWarning())\n"
     ]
    },
    {
     "name": "stdout",
     "output_type": "stream",
     "text": [
      "MMD (true vs. control):     0.626237\n",
      "MMD (true vs. predicted):   0.608185\n",
      "MSE (true vs. control):     0.100719\n",
      "MSE (true vs. predicted):   0.105280\n",
      "KLD (true vs. control):     0.025851\n",
      "KLD (true vs. predicted):   0.027161\n"
     ]
    },
    {
     "name": "stderr",
     "output_type": "stream",
     "text": [
      "/opt/conda/lib/python3.10/site-packages/scipy/stats/_stats_py.py:4068: PearsonRConstantInputWarning: An input array is constant; the correlation coefficient is not defined.\n",
      "  warnings.warn(PearsonRConstantInputWarning())\n"
     ]
    },
    {
     "name": "stdout",
     "output_type": "stream",
     "text": [
      "Pearson Top 20 DEG (true vs. control): nan | p-value: nan\n",
      "Pearson Top 20 DEG (true vs. predicted): 0.448209 | p-value: 0.047483\n",
      "Evaluating for intervention pair 62/131: ETS2+IGDCC3\n",
      "MMD (true vs. control):     0.457624\n",
      "MMD (true vs. predicted):   0.485613\n",
      "MSE (true vs. control):     0.073477\n",
      "MSE (true vs. predicted):   0.082432\n",
      "KLD (true vs. control):     0.005459\n",
      "KLD (true vs. predicted):   0.004882\n"
     ]
    },
    {
     "name": "stderr",
     "output_type": "stream",
     "text": [
      "/opt/conda/lib/python3.10/site-packages/scipy/stats/_stats_py.py:4068: PearsonRConstantInputWarning: An input array is constant; the correlation coefficient is not defined.\n",
      "  warnings.warn(PearsonRConstantInputWarning())\n"
     ]
    },
    {
     "name": "stdout",
     "output_type": "stream",
     "text": [
      "Pearson Top 20 DEG (true vs. control): nan | p-value: nan\n",
      "Pearson Top 20 DEG (true vs. predicted): 0.680235 | p-value: 0.000966\n",
      "Evaluating for intervention pair 63/131: ETS2+IKZF3\n",
      "MMD (true vs. control):     0.655467\n",
      "MMD (true vs. predicted):   0.668431\n",
      "MSE (true vs. control):     0.088579\n",
      "MSE (true vs. predicted):   0.098250\n",
      "KLD (true vs. control):     0.041152\n",
      "KLD (true vs. predicted):   0.041492\n"
     ]
    },
    {
     "name": "stderr",
     "output_type": "stream",
     "text": [
      "/opt/conda/lib/python3.10/site-packages/scipy/stats/_stats_py.py:4068: PearsonRConstantInputWarning: An input array is constant; the correlation coefficient is not defined.\n",
      "  warnings.warn(PearsonRConstantInputWarning())\n"
     ]
    },
    {
     "name": "stdout",
     "output_type": "stream",
     "text": [
      "Pearson Top 20 DEG (true vs. control): nan | p-value: nan\n",
      "Pearson Top 20 DEG (true vs. predicted): 0.322261 | p-value: 0.165840\n",
      "Evaluating for intervention pair 64/131: ETS2+MAP7D1\n",
      "MMD (true vs. control):     0.527652\n",
      "MMD (true vs. predicted):   0.533469\n",
      "MSE (true vs. control):     0.079019\n",
      "MSE (true vs. predicted):   0.082969\n",
      "KLD (true vs. control):     0.012525\n",
      "KLD (true vs. predicted):   0.008174\n",
      "Pearson Top 20 DEG (true vs. control): nan | p-value: nan\n",
      "Pearson Top 20 DEG (true vs. predicted): 0.414060 | p-value: 0.069529\n",
      "Evaluating for intervention pair 65/131: ETS2+MAPK1\n"
     ]
    },
    {
     "name": "stderr",
     "output_type": "stream",
     "text": [
      "/opt/conda/lib/python3.10/site-packages/scipy/stats/_stats_py.py:4068: PearsonRConstantInputWarning: An input array is constant; the correlation coefficient is not defined.\n",
      "  warnings.warn(PearsonRConstantInputWarning())\n"
     ]
    },
    {
     "name": "stdout",
     "output_type": "stream",
     "text": [
      "MMD (true vs. control):     0.714092\n",
      "MMD (true vs. predicted):   0.705728\n",
      "MSE (true vs. control):     0.090566\n",
      "MSE (true vs. predicted):   0.090748\n",
      "KLD (true vs. control):     0.023505\n",
      "KLD (true vs. predicted):   0.017553\n"
     ]
    },
    {
     "name": "stderr",
     "output_type": "stream",
     "text": [
      "/opt/conda/lib/python3.10/site-packages/scipy/stats/_stats_py.py:4068: PearsonRConstantInputWarning: An input array is constant; the correlation coefficient is not defined.\n",
      "  warnings.warn(PearsonRConstantInputWarning())\n"
     ]
    },
    {
     "name": "stdout",
     "output_type": "stream",
     "text": [
      "Pearson Top 20 DEG (true vs. control): nan | p-value: nan\n",
      "Pearson Top 20 DEG (true vs. predicted): 0.339589 | p-value: 0.142962\n",
      "Evaluating for intervention pair 66/131: ETS2+PRTG\n",
      "MMD (true vs. control):     0.489658\n",
      "MMD (true vs. predicted):   0.524901\n",
      "MSE (true vs. control):     0.076722\n",
      "MSE (true vs. predicted):   0.077554\n",
      "KLD (true vs. control):     0.008060\n",
      "KLD (true vs. predicted):   0.006641\n"
     ]
    },
    {
     "name": "stderr",
     "output_type": "stream",
     "text": [
      "/opt/conda/lib/python3.10/site-packages/scipy/stats/_stats_py.py:4068: PearsonRConstantInputWarning: An input array is constant; the correlation coefficient is not defined.\n",
      "  warnings.warn(PearsonRConstantInputWarning())\n"
     ]
    },
    {
     "name": "stdout",
     "output_type": "stream",
     "text": [
      "Pearson Top 20 DEG (true vs. control): nan | p-value: nan\n",
      "Pearson Top 20 DEG (true vs. predicted): 0.818347 | p-value: 0.000010\n",
      "Evaluating for intervention pair 67/131: ETS2+TGFBR2\n",
      "MMD (true vs. control):     0.449300\n",
      "MMD (true vs. predicted):   0.503105\n",
      "MSE (true vs. control):     0.070132\n",
      "MSE (true vs. predicted):   0.075423\n",
      "KLD (true vs. control):     0.006743\n",
      "KLD (true vs. predicted):   0.008032\n"
     ]
    },
    {
     "name": "stderr",
     "output_type": "stream",
     "text": [
      "/opt/conda/lib/python3.10/site-packages/scipy/stats/_stats_py.py:4068: PearsonRConstantInputWarning: An input array is constant; the correlation coefficient is not defined.\n",
      "  warnings.warn(PearsonRConstantInputWarning())\n"
     ]
    },
    {
     "name": "stdout",
     "output_type": "stream",
     "text": [
      "Pearson Top 20 DEG (true vs. control): nan | p-value: nan\n",
      "Pearson Top 20 DEG (true vs. predicted): 0.569516 | p-value: 0.008763\n",
      "Evaluating for intervention pair 68/131: FEV+ISL2\n",
      "MMD (true vs. control):     0.757393\n",
      "MMD (true vs. predicted):   0.779687\n",
      "MSE (true vs. control):     0.101270\n",
      "MSE (true vs. predicted):   0.102000\n",
      "KLD (true vs. control):     0.030272\n",
      "KLD (true vs. predicted):   0.032114\n"
     ]
    },
    {
     "name": "stderr",
     "output_type": "stream",
     "text": [
      "/opt/conda/lib/python3.10/site-packages/scipy/stats/_stats_py.py:4068: PearsonRConstantInputWarning: An input array is constant; the correlation coefficient is not defined.\n",
      "  warnings.warn(PearsonRConstantInputWarning())\n"
     ]
    },
    {
     "name": "stdout",
     "output_type": "stream",
     "text": [
      "Pearson Top 20 DEG (true vs. control): nan | p-value: nan\n",
      "Pearson Top 20 DEG (true vs. predicted): 0.426193 | p-value: 0.060962\n",
      "Evaluating for intervention pair 69/131: FEV+MAP7D1\n",
      "MMD (true vs. control):     0.634119\n",
      "MMD (true vs. predicted):   0.644936\n",
      "MSE (true vs. control):     0.090063\n",
      "MSE (true vs. predicted):   0.099510\n",
      "KLD (true vs. control):     0.020658\n",
      "KLD (true vs. predicted):   0.023972\n"
     ]
    },
    {
     "name": "stderr",
     "output_type": "stream",
     "text": [
      "/opt/conda/lib/python3.10/site-packages/scipy/stats/_stats_py.py:4068: PearsonRConstantInputWarning: An input array is constant; the correlation coefficient is not defined.\n",
      "  warnings.warn(PearsonRConstantInputWarning())\n"
     ]
    },
    {
     "name": "stdout",
     "output_type": "stream",
     "text": [
      "Pearson Top 20 DEG (true vs. control): nan | p-value: nan\n",
      "Pearson Top 20 DEG (true vs. predicted): 0.358293 | p-value: 0.120858\n",
      "Evaluating for intervention pair 70/131: FOSB+IKZF3\n",
      "MMD (true vs. control):     0.512329\n",
      "MMD (true vs. predicted):   0.564931\n",
      "MSE (true vs. control):     0.080998\n",
      "MSE (true vs. predicted):   0.083449\n",
      "KLD (true vs. control):     0.014085\n",
      "KLD (true vs. predicted):   0.013271\n",
      "Pearson Top 20 DEG (true vs. control): nan | p-value: nan\n",
      "Pearson Top 20 DEG (true vs. predicted): 0.488784 | p-value: 0.028749\n",
      "Evaluating for intervention pair 71/131: FOSB+OSR2\n"
     ]
    },
    {
     "name": "stderr",
     "output_type": "stream",
     "text": [
      "/opt/conda/lib/python3.10/site-packages/scipy/stats/_stats_py.py:4068: PearsonRConstantInputWarning: An input array is constant; the correlation coefficient is not defined.\n",
      "  warnings.warn(PearsonRConstantInputWarning())\n"
     ]
    },
    {
     "name": "stdout",
     "output_type": "stream",
     "text": [
      "MMD (true vs. control):     0.621709\n",
      "MMD (true vs. predicted):   0.713853\n",
      "MSE (true vs. control):     0.090782\n",
      "MSE (true vs. predicted):   0.095156\n",
      "KLD (true vs. control):     0.012366\n",
      "KLD (true vs. predicted):   0.015647\n"
     ]
    },
    {
     "name": "stderr",
     "output_type": "stream",
     "text": [
      "/opt/conda/lib/python3.10/site-packages/scipy/stats/_stats_py.py:4068: PearsonRConstantInputWarning: An input array is constant; the correlation coefficient is not defined.\n",
      "  warnings.warn(PearsonRConstantInputWarning())\n"
     ]
    },
    {
     "name": "stdout",
     "output_type": "stream",
     "text": [
      "Pearson Top 20 DEG (true vs. control): nan | p-value: nan\n",
      "Pearson Top 20 DEG (true vs. predicted): 0.113973 | p-value: 0.632331\n",
      "Evaluating for intervention pair 72/131: FOSB+PTPN12\n",
      "MMD (true vs. control):     0.421737\n",
      "MMD (true vs. predicted):   0.458239\n",
      "MSE (true vs. control):     0.069720\n",
      "MSE (true vs. predicted):   0.072640\n",
      "KLD (true vs. control):     0.004230\n",
      "KLD (true vs. predicted):   0.007661\n"
     ]
    },
    {
     "name": "stderr",
     "output_type": "stream",
     "text": [
      "/opt/conda/lib/python3.10/site-packages/scipy/stats/_stats_py.py:4068: PearsonRConstantInputWarning: An input array is constant; the correlation coefficient is not defined.\n",
      "  warnings.warn(PearsonRConstantInputWarning())\n"
     ]
    },
    {
     "name": "stdout",
     "output_type": "stream",
     "text": [
      "Pearson Top 20 DEG (true vs. control): nan | p-value: nan\n",
      "Pearson Top 20 DEG (true vs. predicted): 0.402251 | p-value: 0.078707\n",
      "Evaluating for intervention pair 73/131: FOSB+UBASH3B\n",
      "MMD (true vs. control):     0.410372\n",
      "MMD (true vs. predicted):   0.453646\n",
      "MSE (true vs. control):     0.071235\n",
      "MSE (true vs. predicted):   0.071523\n",
      "KLD (true vs. control):     0.003277\n",
      "KLD (true vs. predicted):   0.003870\n"
     ]
    },
    {
     "name": "stderr",
     "output_type": "stream",
     "text": [
      "/opt/conda/lib/python3.10/site-packages/scipy/stats/_stats_py.py:4068: PearsonRConstantInputWarning: An input array is constant; the correlation coefficient is not defined.\n",
      "  warnings.warn(PearsonRConstantInputWarning())\n"
     ]
    },
    {
     "name": "stdout",
     "output_type": "stream",
     "text": [
      "Pearson Top 20 DEG (true vs. control): nan | p-value: nan\n",
      "Pearson Top 20 DEG (true vs. predicted): 0.588717 | p-value: 0.006317\n",
      "Evaluating for intervention pair 74/131: FOXA1+FOXA3\n",
      "MMD (true vs. control):     0.563419\n",
      "MMD (true vs. predicted):   0.604946\n",
      "MSE (true vs. control):     0.087970\n",
      "MSE (true vs. predicted):   0.081462\n",
      "KLD (true vs. control):     0.008731\n",
      "KLD (true vs. predicted):   0.006876\n",
      "Pearson Top 20 DEG (true vs. control): nan | p-value: nan\n",
      "Pearson Top 20 DEG (true vs. predicted): 0.691226 | p-value: 0.000738\n",
      "Evaluating for intervention pair 75/131: FOXA1+FOXF1\n"
     ]
    },
    {
     "name": "stderr",
     "output_type": "stream",
     "text": [
      "/opt/conda/lib/python3.10/site-packages/scipy/stats/_stats_py.py:4068: PearsonRConstantInputWarning: An input array is constant; the correlation coefficient is not defined.\n",
      "  warnings.warn(PearsonRConstantInputWarning())\n"
     ]
    },
    {
     "name": "stdout",
     "output_type": "stream",
     "text": [
      "MMD (true vs. control):     0.468946\n",
      "MMD (true vs. predicted):   0.486911\n",
      "MSE (true vs. control):     0.081758\n",
      "MSE (true vs. predicted):   0.089712\n",
      "KLD (true vs. control):     0.005157\n",
      "KLD (true vs. predicted):   0.008847\n"
     ]
    },
    {
     "name": "stderr",
     "output_type": "stream",
     "text": [
      "/opt/conda/lib/python3.10/site-packages/scipy/stats/_stats_py.py:4068: PearsonRConstantInputWarning: An input array is constant; the correlation coefficient is not defined.\n",
      "  warnings.warn(PearsonRConstantInputWarning())\n"
     ]
    },
    {
     "name": "stdout",
     "output_type": "stream",
     "text": [
      "Pearson Top 20 DEG (true vs. control): nan | p-value: nan\n",
      "Pearson Top 20 DEG (true vs. predicted): 0.757854 | p-value: 0.000108\n",
      "Evaluating for intervention pair 76/131: FOXA1+FOXL2\n",
      "MMD (true vs. control):     0.507791\n",
      "MMD (true vs. predicted):   0.553199\n",
      "MSE (true vs. control):     0.089772\n",
      "MSE (true vs. predicted):   0.089881\n",
      "KLD (true vs. control):     0.007135\n",
      "KLD (true vs. predicted):   0.009314\n",
      "Pearson Top 20 DEG (true vs. control): nan | p-value: nan\n",
      "Pearson Top 20 DEG (true vs. predicted): 0.530522 | p-value: 0.016108\n",
      "Evaluating for intervention pair 77/131: FOXA1+HOXB9\n"
     ]
    },
    {
     "name": "stderr",
     "output_type": "stream",
     "text": [
      "/opt/conda/lib/python3.10/site-packages/scipy/stats/_stats_py.py:4068: PearsonRConstantInputWarning: An input array is constant; the correlation coefficient is not defined.\n",
      "  warnings.warn(PearsonRConstantInputWarning())\n"
     ]
    },
    {
     "name": "stdout",
     "output_type": "stream",
     "text": [
      "MMD (true vs. control):     0.636015\n",
      "MMD (true vs. predicted):   0.655635\n",
      "MSE (true vs. control):     0.101108\n",
      "MSE (true vs. predicted):   0.100538\n",
      "KLD (true vs. control):     0.019207\n",
      "KLD (true vs. predicted):   0.018333\n",
      "Pearson Top 20 DEG (true vs. control): nan | p-value: nan\n",
      "Pearson Top 20 DEG (true vs. predicted): 0.384481 | p-value: 0.094172\n",
      "Evaluating for intervention pair 78/131: FOXA1+KLF1\n"
     ]
    },
    {
     "name": "stderr",
     "output_type": "stream",
     "text": [
      "/opt/conda/lib/python3.10/site-packages/scipy/stats/_stats_py.py:4068: PearsonRConstantInputWarning: An input array is constant; the correlation coefficient is not defined.\n",
      "  warnings.warn(PearsonRConstantInputWarning())\n"
     ]
    },
    {
     "name": "stdout",
     "output_type": "stream",
     "text": [
      "MMD (true vs. control):     0.505055\n",
      "MMD (true vs. predicted):   0.542003\n",
      "MSE (true vs. control):     0.080760\n",
      "MSE (true vs. predicted):   0.084850\n",
      "KLD (true vs. control):     0.009016\n",
      "KLD (true vs. predicted):   0.014019\n",
      "Pearson Top 20 DEG (true vs. control): nan | p-value: nan\n",
      "Pearson Top 20 DEG (true vs. predicted): 0.606136 | p-value: 0.004612\n",
      "Evaluating for intervention pair 79/131: FOXA3+FOXF1\n"
     ]
    },
    {
     "name": "stderr",
     "output_type": "stream",
     "text": [
      "/opt/conda/lib/python3.10/site-packages/scipy/stats/_stats_py.py:4068: PearsonRConstantInputWarning: An input array is constant; the correlation coefficient is not defined.\n",
      "  warnings.warn(PearsonRConstantInputWarning())\n"
     ]
    },
    {
     "name": "stdout",
     "output_type": "stream",
     "text": [
      "MMD (true vs. control):     0.528451\n",
      "MMD (true vs. predicted):   0.530151\n",
      "MSE (true vs. control):     0.091048\n",
      "MSE (true vs. predicted):   0.096283\n",
      "KLD (true vs. control):     0.008621\n",
      "KLD (true vs. predicted):   0.008918\n"
     ]
    },
    {
     "name": "stderr",
     "output_type": "stream",
     "text": [
      "/opt/conda/lib/python3.10/site-packages/scipy/stats/_stats_py.py:4068: PearsonRConstantInputWarning: An input array is constant; the correlation coefficient is not defined.\n",
      "  warnings.warn(PearsonRConstantInputWarning())\n"
     ]
    },
    {
     "name": "stdout",
     "output_type": "stream",
     "text": [
      "Pearson Top 20 DEG (true vs. control): nan | p-value: nan\n",
      "Pearson Top 20 DEG (true vs. predicted): 0.765341 | p-value: 0.000084\n",
      "Evaluating for intervention pair 80/131: FOXA3+FOXL2\n",
      "MMD (true vs. control):     0.640028\n",
      "MMD (true vs. predicted):   0.603760\n",
      "MSE (true vs. control):     0.101849\n",
      "MSE (true vs. predicted):   0.105522\n",
      "KLD (true vs. control):     0.018432\n",
      "KLD (true vs. predicted):   0.015944\n"
     ]
    },
    {
     "name": "stderr",
     "output_type": "stream",
     "text": [
      "/opt/conda/lib/python3.10/site-packages/scipy/stats/_stats_py.py:4068: PearsonRConstantInputWarning: An input array is constant; the correlation coefficient is not defined.\n",
      "  warnings.warn(PearsonRConstantInputWarning())\n"
     ]
    },
    {
     "name": "stdout",
     "output_type": "stream",
     "text": [
      "Pearson Top 20 DEG (true vs. control): nan | p-value: nan\n",
      "Pearson Top 20 DEG (true vs. predicted): 0.552199 | p-value: 0.011584\n",
      "Evaluating for intervention pair 81/131: FOXA3+HOXB9\n",
      "MMD (true vs. control):     0.588103\n",
      "MMD (true vs. predicted):   0.612766\n",
      "MSE (true vs. control):     0.096976\n",
      "MSE (true vs. predicted):   0.097157\n",
      "KLD (true vs. control):     0.014410\n",
      "KLD (true vs. predicted):   0.013283\n"
     ]
    },
    {
     "name": "stderr",
     "output_type": "stream",
     "text": [
      "/opt/conda/lib/python3.10/site-packages/scipy/stats/_stats_py.py:4068: PearsonRConstantInputWarning: An input array is constant; the correlation coefficient is not defined.\n",
      "  warnings.warn(PearsonRConstantInputWarning())\n"
     ]
    },
    {
     "name": "stdout",
     "output_type": "stream",
     "text": [
      "Pearson Top 20 DEG (true vs. control): nan | p-value: nan\n",
      "Pearson Top 20 DEG (true vs. predicted): 0.716829 | p-value: 0.000376\n",
      "Evaluating for intervention pair 82/131: FOXF1+FOXL2\n",
      "MMD (true vs. control):     0.576943\n",
      "MMD (true vs. predicted):   0.582612\n",
      "MSE (true vs. control):     0.094909\n",
      "MSE (true vs. predicted):   0.095505\n",
      "KLD (true vs. control):     0.014883\n",
      "KLD (true vs. predicted):   0.015539\n"
     ]
    },
    {
     "name": "stderr",
     "output_type": "stream",
     "text": [
      "/opt/conda/lib/python3.10/site-packages/scipy/stats/_stats_py.py:4068: PearsonRConstantInputWarning: An input array is constant; the correlation coefficient is not defined.\n",
      "  warnings.warn(PearsonRConstantInputWarning())\n"
     ]
    },
    {
     "name": "stdout",
     "output_type": "stream",
     "text": [
      "Pearson Top 20 DEG (true vs. control): nan | p-value: nan\n",
      "Pearson Top 20 DEG (true vs. predicted): 0.441594 | p-value: 0.051265\n",
      "Evaluating for intervention pair 83/131: FOXF1+HOXB9\n",
      "MMD (true vs. control):     0.560807\n",
      "MMD (true vs. predicted):   0.568561\n",
      "MSE (true vs. control):     0.089751\n",
      "MSE (true vs. predicted):   0.093085\n",
      "KLD (true vs. control):     0.010528\n",
      "KLD (true vs. predicted):   0.011683\n"
     ]
    },
    {
     "name": "stderr",
     "output_type": "stream",
     "text": [
      "/opt/conda/lib/python3.10/site-packages/scipy/stats/_stats_py.py:4068: PearsonRConstantInputWarning: An input array is constant; the correlation coefficient is not defined.\n",
      "  warnings.warn(PearsonRConstantInputWarning())\n"
     ]
    },
    {
     "name": "stdout",
     "output_type": "stream",
     "text": [
      "Pearson Top 20 DEG (true vs. control): nan | p-value: nan\n",
      "Pearson Top 20 DEG (true vs. predicted): 0.494641 | p-value: 0.026613\n",
      "Evaluating for intervention pair 84/131: FOXL2+HOXB9\n",
      "MMD (true vs. control):     0.643500\n",
      "MMD (true vs. predicted):   0.645095\n",
      "MSE (true vs. control):     0.099368\n",
      "MSE (true vs. predicted):   0.104635\n",
      "KLD (true vs. control):     0.021683\n",
      "KLD (true vs. predicted):   0.021906\n"
     ]
    },
    {
     "name": "stderr",
     "output_type": "stream",
     "text": [
      "/opt/conda/lib/python3.10/site-packages/scipy/stats/_stats_py.py:4068: PearsonRConstantInputWarning: An input array is constant; the correlation coefficient is not defined.\n",
      "  warnings.warn(PearsonRConstantInputWarning())\n"
     ]
    },
    {
     "name": "stdout",
     "output_type": "stream",
     "text": [
      "Pearson Top 20 DEG (true vs. control): nan | p-value: nan\n",
      "Pearson Top 20 DEG (true vs. predicted): 0.656024 | p-value: 0.001684\n",
      "Evaluating for intervention pair 85/131: FOXL2+MEIS1\n",
      "MMD (true vs. control):     0.491413\n",
      "MMD (true vs. predicted):   0.462011\n",
      "MSE (true vs. control):     0.081736\n",
      "MSE (true vs. predicted):   0.088188\n",
      "KLD (true vs. control):     0.006407\n",
      "KLD (true vs. predicted):   0.003995\n"
     ]
    },
    {
     "name": "stderr",
     "output_type": "stream",
     "text": [
      "/opt/conda/lib/python3.10/site-packages/scipy/stats/_stats_py.py:4068: PearsonRConstantInputWarning: An input array is constant; the correlation coefficient is not defined.\n",
      "  warnings.warn(PearsonRConstantInputWarning())\n"
     ]
    },
    {
     "name": "stdout",
     "output_type": "stream",
     "text": [
      "Pearson Top 20 DEG (true vs. control): nan | p-value: nan\n",
      "Pearson Top 20 DEG (true vs. predicted): 0.680983 | p-value: 0.000949\n",
      "Evaluating for intervention pair 86/131: FOXL2+POU3F2\n",
      "MMD (true vs. control):     0.537515\n",
      "MMD (true vs. predicted):   0.578737\n",
      "MSE (true vs. control):     0.090812\n",
      "MSE (true vs. predicted):   0.091047\n",
      "KLD (true vs. control):     0.015797\n",
      "KLD (true vs. predicted):   0.015559\n"
     ]
    },
    {
     "name": "stderr",
     "output_type": "stream",
     "text": [
      "/opt/conda/lib/python3.10/site-packages/scipy/stats/_stats_py.py:4068: PearsonRConstantInputWarning: An input array is constant; the correlation coefficient is not defined.\n",
      "  warnings.warn(PearsonRConstantInputWarning())\n"
     ]
    },
    {
     "name": "stdout",
     "output_type": "stream",
     "text": [
      "Pearson Top 20 DEG (true vs. control): nan | p-value: nan\n",
      "Pearson Top 20 DEG (true vs. predicted): 0.738027 | p-value: 0.000203\n",
      "Evaluating for intervention pair 87/131: FOXL2+ZNF318\n",
      "MMD (true vs. control):     0.469375\n",
      "MMD (true vs. predicted):   0.490762\n",
      "MSE (true vs. control):     0.076751\n",
      "MSE (true vs. predicted):   0.077078\n",
      "KLD (true vs. control):     0.006373\n",
      "KLD (true vs. predicted):   0.009252\n"
     ]
    },
    {
     "name": "stderr",
     "output_type": "stream",
     "text": [
      "/opt/conda/lib/python3.10/site-packages/scipy/stats/_stats_py.py:4068: PearsonRConstantInputWarning: An input array is constant; the correlation coefficient is not defined.\n",
      "  warnings.warn(PearsonRConstantInputWarning())\n"
     ]
    },
    {
     "name": "stdout",
     "output_type": "stream",
     "text": [
      "Pearson Top 20 DEG (true vs. control): nan | p-value: nan\n",
      "Pearson Top 20 DEG (true vs. predicted): 0.759149 | p-value: 0.000104\n",
      "Evaluating for intervention pair 88/131: HOXC13+ZC3HAV1\n",
      "MMD (true vs. control):     0.431747\n",
      "MMD (true vs. predicted):   0.533228\n",
      "MSE (true vs. control):     0.078688\n",
      "MSE (true vs. predicted):   0.080598\n",
      "KLD (true vs. control):     0.006804\n",
      "KLD (true vs. predicted):   0.014585\n"
     ]
    },
    {
     "name": "stderr",
     "output_type": "stream",
     "text": [
      "/opt/conda/lib/python3.10/site-packages/scipy/stats/_stats_py.py:4068: PearsonRConstantInputWarning: An input array is constant; the correlation coefficient is not defined.\n",
      "  warnings.warn(PearsonRConstantInputWarning())\n"
     ]
    },
    {
     "name": "stdout",
     "output_type": "stream",
     "text": [
      "Pearson Top 20 DEG (true vs. control): nan | p-value: nan\n",
      "Pearson Top 20 DEG (true vs. predicted): 0.583645 | p-value: 0.006900\n",
      "Evaluating for intervention pair 89/131: IER5L+LYL1\n",
      "MMD (true vs. control):     0.606480\n",
      "MMD (true vs. predicted):   0.590395\n",
      "MSE (true vs. control):     0.088659\n",
      "MSE (true vs. predicted):   0.095686\n",
      "KLD (true vs. control):     0.020230\n",
      "KLD (true vs. predicted):   0.019466\n"
     ]
    },
    {
     "name": "stderr",
     "output_type": "stream",
     "text": [
      "/opt/conda/lib/python3.10/site-packages/scipy/stats/_stats_py.py:4068: PearsonRConstantInputWarning: An input array is constant; the correlation coefficient is not defined.\n",
      "  warnings.warn(PearsonRConstantInputWarning())\n"
     ]
    },
    {
     "name": "stdout",
     "output_type": "stream",
     "text": [
      "Pearson Top 20 DEG (true vs. control): nan | p-value: nan\n",
      "Pearson Top 20 DEG (true vs. predicted): 0.643261 | p-value: 0.002216\n",
      "Evaluating for intervention pair 90/131: IGDCC3+MAPK1\n",
      "MMD (true vs. control):     0.450277\n",
      "MMD (true vs. predicted):   0.489247\n",
      "MSE (true vs. control):     0.074949\n",
      "MSE (true vs. predicted):   0.077197\n",
      "KLD (true vs. control):     0.006911\n",
      "KLD (true vs. predicted):   0.004201\n"
     ]
    },
    {
     "name": "stderr",
     "output_type": "stream",
     "text": [
      "/opt/conda/lib/python3.10/site-packages/scipy/stats/_stats_py.py:4068: PearsonRConstantInputWarning: An input array is constant; the correlation coefficient is not defined.\n",
      "  warnings.warn(PearsonRConstantInputWarning())\n"
     ]
    },
    {
     "name": "stdout",
     "output_type": "stream",
     "text": [
      "Pearson Top 20 DEG (true vs. control): nan | p-value: nan\n",
      "Pearson Top 20 DEG (true vs. predicted): 0.718219 | p-value: 0.000362\n",
      "Evaluating for intervention pair 91/131: IGDCC3+PRTG\n",
      "MMD (true vs. control):     0.523475\n",
      "MMD (true vs. predicted):   0.502180\n",
      "MSE (true vs. control):     0.079152\n",
      "MSE (true vs. predicted):   0.083703\n",
      "KLD (true vs. control):     0.013383\n",
      "KLD (true vs. predicted):   0.010977\n",
      "Pearson Top 20 DEG (true vs. control): nan | p-value: nan\n",
      "Pearson Top 20 DEG (true vs. predicted): 0.550717 | p-value: 0.011856\n",
      "Evaluating for intervention pair 92/131: IGDCC3+TGFBR2\n"
     ]
    },
    {
     "name": "stderr",
     "output_type": "stream",
     "text": [
      "/opt/conda/lib/python3.10/site-packages/scipy/stats/_stats_py.py:4068: PearsonRConstantInputWarning: An input array is constant; the correlation coefficient is not defined.\n",
      "  warnings.warn(PearsonRConstantInputWarning())\n"
     ]
    },
    {
     "name": "stdout",
     "output_type": "stream",
     "text": [
      "MMD (true vs. control):     0.499187\n",
      "MMD (true vs. predicted):   0.546221\n",
      "MSE (true vs. control):     0.075951\n",
      "MSE (true vs. predicted):   0.077568\n",
      "KLD (true vs. control):     0.013362\n",
      "KLD (true vs. predicted):   0.016643\n",
      "Pearson Top 20 DEG (true vs. control): nan | p-value: nan\n",
      "Pearson Top 20 DEG (true vs. predicted): 0.518704 | p-value: 0.019114\n",
      "Evaluating for intervention pair 93/131: IGDCC3+ZBTB25\n"
     ]
    },
    {
     "name": "stderr",
     "output_type": "stream",
     "text": [
      "/opt/conda/lib/python3.10/site-packages/scipy/stats/_stats_py.py:4068: PearsonRConstantInputWarning: An input array is constant; the correlation coefficient is not defined.\n",
      "  warnings.warn(PearsonRConstantInputWarning())\n"
     ]
    },
    {
     "name": "stdout",
     "output_type": "stream",
     "text": [
      "MMD (true vs. control):     0.593958\n",
      "MMD (true vs. predicted):   0.537290\n",
      "MSE (true vs. control):     0.083117\n",
      "MSE (true vs. predicted):   0.086853\n",
      "KLD (true vs. control):     0.025375\n",
      "KLD (true vs. predicted):   0.022002\n"
     ]
    },
    {
     "name": "stderr",
     "output_type": "stream",
     "text": [
      "/opt/conda/lib/python3.10/site-packages/scipy/stats/_stats_py.py:4068: PearsonRConstantInputWarning: An input array is constant; the correlation coefficient is not defined.\n",
      "  warnings.warn(PearsonRConstantInputWarning())\n"
     ]
    },
    {
     "name": "stdout",
     "output_type": "stream",
     "text": [
      "Pearson Top 20 DEG (true vs. control): nan | p-value: nan\n",
      "Pearson Top 20 DEG (true vs. predicted): 0.647730 | p-value: 0.002015\n",
      "Evaluating for intervention pair 94/131: IKZF3+MAP2K3\n",
      "MMD (true vs. control):     0.596378\n",
      "MMD (true vs. predicted):   0.698247\n",
      "MSE (true vs. control):     0.081036\n",
      "MSE (true vs. predicted):   0.084338\n",
      "KLD (true vs. control):     0.038973\n",
      "KLD (true vs. predicted):   0.042915\n"
     ]
    },
    {
     "name": "stderr",
     "output_type": "stream",
     "text": [
      "/opt/conda/lib/python3.10/site-packages/scipy/stats/_stats_py.py:4068: PearsonRConstantInputWarning: An input array is constant; the correlation coefficient is not defined.\n",
      "  warnings.warn(PearsonRConstantInputWarning())\n"
     ]
    },
    {
     "name": "stdout",
     "output_type": "stream",
     "text": [
      "Pearson Top 20 DEG (true vs. control): nan | p-value: nan\n",
      "Pearson Top 20 DEG (true vs. predicted): 0.232945 | p-value: 0.322971\n",
      "Evaluating for intervention pair 95/131: IKZF3+MAP2K6\n",
      "MMD (true vs. control):     0.635882\n",
      "MMD (true vs. predicted):   0.714120\n",
      "MSE (true vs. control):     0.087411\n",
      "MSE (true vs. predicted):   0.093994\n",
      "KLD (true vs. control):     0.041967\n",
      "KLD (true vs. predicted):   0.050884\n",
      "Pearson Top 20 DEG (true vs. control): nan | p-value: nan\n",
      "Pearson Top 20 DEG (true vs. predicted): 0.360263 | p-value: 0.118680\n",
      "Evaluating for intervention pair 96/131: IKZF3+MAPK1\n"
     ]
    },
    {
     "name": "stderr",
     "output_type": "stream",
     "text": [
      "/opt/conda/lib/python3.10/site-packages/scipy/stats/_stats_py.py:4068: PearsonRConstantInputWarning: An input array is constant; the correlation coefficient is not defined.\n",
      "  warnings.warn(PearsonRConstantInputWarning())\n"
     ]
    },
    {
     "name": "stdout",
     "output_type": "stream",
     "text": [
      "MMD (true vs. control):     0.606353\n",
      "MMD (true vs. predicted):   0.613194\n",
      "MSE (true vs. control):     0.087898\n",
      "MSE (true vs. predicted):   0.093017\n",
      "KLD (true vs. control):     0.020954\n",
      "KLD (true vs. predicted):   0.020464\n"
     ]
    },
    {
     "name": "stderr",
     "output_type": "stream",
     "text": [
      "/opt/conda/lib/python3.10/site-packages/scipy/stats/_stats_py.py:4068: PearsonRConstantInputWarning: An input array is constant; the correlation coefficient is not defined.\n",
      "  warnings.warn(PearsonRConstantInputWarning())\n"
     ]
    },
    {
     "name": "stdout",
     "output_type": "stream",
     "text": [
      "Pearson Top 20 DEG (true vs. control): nan | p-value: nan\n",
      "Pearson Top 20 DEG (true vs. predicted): 0.406913 | p-value: 0.074983\n",
      "Evaluating for intervention pair 97/131: IRF1+SET\n",
      "MMD (true vs. control):     0.694205\n",
      "MMD (true vs. predicted):   0.693060\n",
      "MSE (true vs. control):     0.085982\n",
      "MSE (true vs. predicted):   0.094514\n",
      "KLD (true vs. control):     0.028745\n",
      "KLD (true vs. predicted):   0.028831\n"
     ]
    },
    {
     "name": "stderr",
     "output_type": "stream",
     "text": [
      "/opt/conda/lib/python3.10/site-packages/scipy/stats/_stats_py.py:4068: PearsonRConstantInputWarning: An input array is constant; the correlation coefficient is not defined.\n",
      "  warnings.warn(PearsonRConstantInputWarning())\n"
     ]
    },
    {
     "name": "stdout",
     "output_type": "stream",
     "text": [
      "Pearson Top 20 DEG (true vs. control): nan | p-value: nan\n",
      "Pearson Top 20 DEG (true vs. predicted): 0.348456 | p-value: 0.132156\n",
      "Evaluating for intervention pair 98/131: KIF18B+KIF2C\n",
      "MMD (true vs. control):     0.427963\n",
      "MMD (true vs. predicted):   0.558276\n",
      "MSE (true vs. control):     0.083684\n",
      "MSE (true vs. predicted):   0.086517\n",
      "KLD (true vs. control):     0.002865\n",
      "KLD (true vs. predicted):   0.008743\n"
     ]
    },
    {
     "name": "stderr",
     "output_type": "stream",
     "text": [
      "/opt/conda/lib/python3.10/site-packages/scipy/stats/_stats_py.py:4068: PearsonRConstantInputWarning: An input array is constant; the correlation coefficient is not defined.\n",
      "  warnings.warn(PearsonRConstantInputWarning())\n"
     ]
    },
    {
     "name": "stdout",
     "output_type": "stream",
     "text": [
      "Pearson Top 20 DEG (true vs. control): nan | p-value: nan\n",
      "Pearson Top 20 DEG (true vs. predicted): 0.452070 | p-value: 0.045376\n",
      "Evaluating for intervention pair 99/131: KLF1+MAP2K6\n",
      "MMD (true vs. control):     0.489718\n",
      "MMD (true vs. predicted):   0.564004\n",
      "MSE (true vs. control):     0.069033\n",
      "MSE (true vs. predicted):   0.072668\n",
      "KLD (true vs. control):     0.010695\n",
      "KLD (true vs. predicted):   0.010823\n",
      "Pearson Top 20 DEG (true vs. control): nan | p-value: nan\n",
      "Pearson Top 20 DEG (true vs. predicted): 0.184796 | p-value: 0.435407\n",
      "Evaluating for intervention pair 100/131: KLF1+SET\n"
     ]
    },
    {
     "name": "stderr",
     "output_type": "stream",
     "text": [
      "/opt/conda/lib/python3.10/site-packages/scipy/stats/_stats_py.py:4068: PearsonRConstantInputWarning: An input array is constant; the correlation coefficient is not defined.\n",
      "  warnings.warn(PearsonRConstantInputWarning())\n"
     ]
    },
    {
     "name": "stdout",
     "output_type": "stream",
     "text": [
      "MMD (true vs. control):     0.540769\n",
      "MMD (true vs. predicted):   0.640577\n",
      "MSE (true vs. control):     0.072815\n",
      "MSE (true vs. predicted):   0.077483\n",
      "KLD (true vs. control):     0.014849\n",
      "KLD (true vs. predicted):   0.015684\n"
     ]
    },
    {
     "name": "stderr",
     "output_type": "stream",
     "text": [
      "/opt/conda/lib/python3.10/site-packages/scipy/stats/_stats_py.py:4068: PearsonRConstantInputWarning: An input array is constant; the correlation coefficient is not defined.\n",
      "  warnings.warn(PearsonRConstantInputWarning())\n"
     ]
    },
    {
     "name": "stdout",
     "output_type": "stream",
     "text": [
      "Pearson Top 20 DEG (true vs. control): nan | p-value: nan\n",
      "Pearson Top 20 DEG (true vs. predicted): 0.065177 | p-value: 0.784851\n",
      "Evaluating for intervention pair 101/131: KLF1+TGFBR2\n",
      "MMD (true vs. control):     0.507172\n",
      "MMD (true vs. predicted):   0.537798\n",
      "MSE (true vs. control):     0.067417\n",
      "MSE (true vs. predicted):   0.071152\n",
      "KLD (true vs. control):     0.011768\n",
      "KLD (true vs. predicted):   0.011280\n",
      "Pearson Top 20 DEG (true vs. control): nan | p-value: nan\n",
      "Pearson Top 20 DEG (true vs. predicted): 0.118214 | p-value: 0.619629\n",
      "Evaluating for intervention pair 102/131: MAP2K3+MAP2K6\n"
     ]
    },
    {
     "name": "stderr",
     "output_type": "stream",
     "text": [
      "/opt/conda/lib/python3.10/site-packages/scipy/stats/_stats_py.py:4068: PearsonRConstantInputWarning: An input array is constant; the correlation coefficient is not defined.\n",
      "  warnings.warn(PearsonRConstantInputWarning())\n"
     ]
    },
    {
     "name": "stdout",
     "output_type": "stream",
     "text": [
      "MMD (true vs. control):     0.425735\n",
      "MMD (true vs. predicted):   0.512934\n",
      "MSE (true vs. control):     0.066322\n",
      "MSE (true vs. predicted):   0.069882\n",
      "KLD (true vs. control):     0.006294\n",
      "KLD (true vs. predicted):   0.006602\n",
      "Pearson Top 20 DEG (true vs. control): nan | p-value: nan\n",
      "Pearson Top 20 DEG (true vs. predicted): 0.303876 | p-value: 0.192735\n",
      "Evaluating for intervention pair 103/131: MAP2K3+SLC38A2\n"
     ]
    },
    {
     "name": "stderr",
     "output_type": "stream",
     "text": [
      "/opt/conda/lib/python3.10/site-packages/scipy/stats/_stats_py.py:4068: PearsonRConstantInputWarning: An input array is constant; the correlation coefficient is not defined.\n",
      "  warnings.warn(PearsonRConstantInputWarning())\n"
     ]
    },
    {
     "name": "stdout",
     "output_type": "stream",
     "text": [
      "MMD (true vs. control):     0.438420\n",
      "MMD (true vs. predicted):   0.506450\n",
      "MSE (true vs. control):     0.069720\n",
      "MSE (true vs. predicted):   0.068987\n",
      "KLD (true vs. control):     0.006983\n",
      "KLD (true vs. predicted):   0.005902\n"
     ]
    },
    {
     "name": "stderr",
     "output_type": "stream",
     "text": [
      "/opt/conda/lib/python3.10/site-packages/scipy/stats/_stats_py.py:4068: PearsonRConstantInputWarning: An input array is constant; the correlation coefficient is not defined.\n",
      "  warnings.warn(PearsonRConstantInputWarning())\n"
     ]
    },
    {
     "name": "stdout",
     "output_type": "stream",
     "text": [
      "Pearson Top 20 DEG (true vs. control): nan | p-value: nan\n",
      "Pearson Top 20 DEG (true vs. predicted): -0.047622 | p-value: 0.841973\n",
      "Evaluating for intervention pair 104/131: MAP2K6+SPI1\n",
      "MMD (true vs. control):     0.419705\n",
      "MMD (true vs. predicted):   0.463728\n",
      "MSE (true vs. control):     0.067858\n",
      "MSE (true vs. predicted):   0.070838\n",
      "KLD (true vs. control):     0.004502\n",
      "KLD (true vs. predicted):   0.003581\n",
      "Pearson Top 20 DEG (true vs. control): nan | p-value: nan\n",
      "Pearson Top 20 DEG (true vs. predicted): 0.292253 | p-value: 0.211170\n",
      "Evaluating for intervention pair 105/131: MAPK1+PRTG\n"
     ]
    },
    {
     "name": "stderr",
     "output_type": "stream",
     "text": [
      "/opt/conda/lib/python3.10/site-packages/scipy/stats/_stats_py.py:4068: PearsonRConstantInputWarning: An input array is constant; the correlation coefficient is not defined.\n",
      "  warnings.warn(PearsonRConstantInputWarning())\n"
     ]
    },
    {
     "name": "stdout",
     "output_type": "stream",
     "text": [
      "MMD (true vs. control):     0.445124\n",
      "MMD (true vs. predicted):   0.538572\n",
      "MSE (true vs. control):     0.069199\n",
      "MSE (true vs. predicted):   0.077575\n",
      "KLD (true vs. control):     0.005767\n",
      "KLD (true vs. predicted):   0.011036\n"
     ]
    },
    {
     "name": "stderr",
     "output_type": "stream",
     "text": [
      "/opt/conda/lib/python3.10/site-packages/scipy/stats/_stats_py.py:4068: PearsonRConstantInputWarning: An input array is constant; the correlation coefficient is not defined.\n",
      "  warnings.warn(PearsonRConstantInputWarning())\n"
     ]
    },
    {
     "name": "stdout",
     "output_type": "stream",
     "text": [
      "Pearson Top 20 DEG (true vs. control): nan | p-value: nan\n",
      "Pearson Top 20 DEG (true vs. predicted): 0.731553 | p-value: 0.000247\n",
      "Evaluating for intervention pair 106/131: MAPK1+TGFBR2\n",
      "MMD (true vs. control):     0.501084\n",
      "MMD (true vs. predicted):   0.532592\n",
      "MSE (true vs. control):     0.075320\n",
      "MSE (true vs. predicted):   0.077126\n",
      "KLD (true vs. control):     0.010120\n",
      "KLD (true vs. predicted):   0.006814\n"
     ]
    },
    {
     "name": "stderr",
     "output_type": "stream",
     "text": [
      "/opt/conda/lib/python3.10/site-packages/scipy/stats/_stats_py.py:4068: PearsonRConstantInputWarning: An input array is constant; the correlation coefficient is not defined.\n",
      "  warnings.warn(PearsonRConstantInputWarning())\n"
     ]
    },
    {
     "name": "stdout",
     "output_type": "stream",
     "text": [
      "Pearson Top 20 DEG (true vs. control): nan | p-value: nan\n",
      "Pearson Top 20 DEG (true vs. predicted): 0.510660 | p-value: 0.021404\n",
      "Evaluating for intervention pair 107/131: OSR2+PTPN12\n",
      "MMD (true vs. control):     0.412585\n",
      "MMD (true vs. predicted):   0.467550\n",
      "MSE (true vs. control):     0.071825\n",
      "MSE (true vs. predicted):   0.076782\n",
      "KLD (true vs. control):     0.002842\n",
      "KLD (true vs. predicted):   0.004806\n"
     ]
    },
    {
     "name": "stderr",
     "output_type": "stream",
     "text": [
      "/opt/conda/lib/python3.10/site-packages/scipy/stats/_stats_py.py:4068: PearsonRConstantInputWarning: An input array is constant; the correlation coefficient is not defined.\n",
      "  warnings.warn(PearsonRConstantInputWarning())\n"
     ]
    },
    {
     "name": "stdout",
     "output_type": "stream",
     "text": [
      "Pearson Top 20 DEG (true vs. control): nan | p-value: nan\n",
      "Pearson Top 20 DEG (true vs. predicted): 0.480281 | p-value: 0.032087\n",
      "Evaluating for intervention pair 108/131: OSR2+UBASH3B\n",
      "MMD (true vs. control):     0.421077\n",
      "MMD (true vs. predicted):   0.464260\n",
      "MSE (true vs. control):     0.069144\n",
      "MSE (true vs. predicted):   0.072736\n",
      "KLD (true vs. control):     0.003772\n",
      "KLD (true vs. predicted):   0.004206\n"
     ]
    },
    {
     "name": "stderr",
     "output_type": "stream",
     "text": [
      "/opt/conda/lib/python3.10/site-packages/scipy/stats/_stats_py.py:4068: PearsonRConstantInputWarning: An input array is constant; the correlation coefficient is not defined.\n",
      "  warnings.warn(PearsonRConstantInputWarning())\n"
     ]
    },
    {
     "name": "stdout",
     "output_type": "stream",
     "text": [
      "Pearson Top 20 DEG (true vs. control): nan | p-value: nan\n",
      "Pearson Top 20 DEG (true vs. predicted): 0.239002 | p-value: 0.310186\n",
      "Evaluating for intervention pair 109/131: PLK4+STIL\n",
      "MMD (true vs. control):     0.418380\n",
      "MMD (true vs. predicted):   0.478232\n",
      "MSE (true vs. control):     0.079217\n",
      "MSE (true vs. predicted):   0.085121\n",
      "KLD (true vs. control):     0.005042\n",
      "KLD (true vs. predicted):   0.004542\n"
     ]
    },
    {
     "name": "stderr",
     "output_type": "stream",
     "text": [
      "/opt/conda/lib/python3.10/site-packages/scipy/stats/_stats_py.py:4068: PearsonRConstantInputWarning: An input array is constant; the correlation coefficient is not defined.\n",
      "  warnings.warn(PearsonRConstantInputWarning())\n"
     ]
    },
    {
     "name": "stdout",
     "output_type": "stream",
     "text": [
      "Pearson Top 20 DEG (true vs. control): nan | p-value: nan\n",
      "Pearson Top 20 DEG (true vs. predicted): 0.461340 | p-value: 0.040612\n",
      "Evaluating for intervention pair 110/131: PRTG+TGFBR2\n",
      "MMD (true vs. control):     0.513793\n",
      "MMD (true vs. predicted):   0.527275\n",
      "MSE (true vs. control):     0.077077\n",
      "MSE (true vs. predicted):   0.079373\n",
      "KLD (true vs. control):     0.016369\n",
      "KLD (true vs. predicted):   0.014696\n"
     ]
    },
    {
     "name": "stderr",
     "output_type": "stream",
     "text": [
      "/opt/conda/lib/python3.10/site-packages/scipy/stats/_stats_py.py:4068: PearsonRConstantInputWarning: An input array is constant; the correlation coefficient is not defined.\n",
      "  warnings.warn(PearsonRConstantInputWarning())\n"
     ]
    },
    {
     "name": "stdout",
     "output_type": "stream",
     "text": [
      "Pearson Top 20 DEG (true vs. control): nan | p-value: nan\n",
      "Pearson Top 20 DEG (true vs. predicted): 0.540227 | p-value: 0.013934\n",
      "Evaluating for intervention pair 111/131: PTPN12+PTPN9\n",
      "MMD (true vs. control):     0.566095\n",
      "MMD (true vs. predicted):   0.605937\n",
      "MSE (true vs. control):     0.078266\n",
      "MSE (true vs. predicted):   0.079368\n",
      "KLD (true vs. control):     0.019241\n",
      "KLD (true vs. predicted):   0.019012\n"
     ]
    },
    {
     "name": "stderr",
     "output_type": "stream",
     "text": [
      "/opt/conda/lib/python3.10/site-packages/scipy/stats/_stats_py.py:4068: PearsonRConstantInputWarning: An input array is constant; the correlation coefficient is not defined.\n",
      "  warnings.warn(PearsonRConstantInputWarning())\n"
     ]
    },
    {
     "name": "stdout",
     "output_type": "stream",
     "text": [
      "Pearson Top 20 DEG (true vs. control): nan | p-value: nan\n",
      "Pearson Top 20 DEG (true vs. predicted): 0.320917 | p-value: 0.167713\n",
      "Evaluating for intervention pair 112/131: PTPN12+SAMD1\n",
      "MMD (true vs. control):     0.602181\n",
      "MMD (true vs. predicted):   0.613674\n",
      "MSE (true vs. control):     0.086312\n",
      "MSE (true vs. predicted):   0.096526\n",
      "KLD (true vs. control):     0.024878\n",
      "KLD (true vs. predicted):   0.025046\n"
     ]
    },
    {
     "name": "stderr",
     "output_type": "stream",
     "text": [
      "/opt/conda/lib/python3.10/site-packages/scipy/stats/_stats_py.py:4068: PearsonRConstantInputWarning: An input array is constant; the correlation coefficient is not defined.\n",
      "  warnings.warn(PearsonRConstantInputWarning())\n"
     ]
    },
    {
     "name": "stdout",
     "output_type": "stream",
     "text": [
      "Pearson Top 20 DEG (true vs. control): nan | p-value: nan\n",
      "Pearson Top 20 DEG (true vs. predicted): 0.507408 | p-value: 0.022390\n",
      "Evaluating for intervention pair 113/131: PTPN12+SNAI1\n",
      "MMD (true vs. control):     0.447563\n",
      "MMD (true vs. predicted):   0.478155\n",
      "MSE (true vs. control):     0.077691\n",
      "MSE (true vs. predicted):   0.081926\n",
      "KLD (true vs. control):     0.006805\n",
      "KLD (true vs. predicted):   0.007074\n"
     ]
    },
    {
     "name": "stderr",
     "output_type": "stream",
     "text": [
      "/opt/conda/lib/python3.10/site-packages/scipy/stats/_stats_py.py:4068: PearsonRConstantInputWarning: An input array is constant; the correlation coefficient is not defined.\n",
      "  warnings.warn(PearsonRConstantInputWarning())\n"
     ]
    },
    {
     "name": "stdout",
     "output_type": "stream",
     "text": [
      "Pearson Top 20 DEG (true vs. control): nan | p-value: nan\n",
      "Pearson Top 20 DEG (true vs. predicted): 0.704553 | p-value: 0.000524\n",
      "Evaluating for intervention pair 114/131: PTPN12+UBASH3A\n",
      "MMD (true vs. control):     0.605729\n",
      "MMD (true vs. predicted):   0.688519\n",
      "MSE (true vs. control):     0.079770\n",
      "MSE (true vs. predicted):   0.081390\n",
      "KLD (true vs. control):     0.026240\n",
      "KLD (true vs. predicted):   0.031267\n"
     ]
    },
    {
     "name": "stderr",
     "output_type": "stream",
     "text": [
      "/opt/conda/lib/python3.10/site-packages/scipy/stats/_stats_py.py:4068: PearsonRConstantInputWarning: An input array is constant; the correlation coefficient is not defined.\n",
      "  warnings.warn(PearsonRConstantInputWarning())\n"
     ]
    },
    {
     "name": "stdout",
     "output_type": "stream",
     "text": [
      "Pearson Top 20 DEG (true vs. control): nan | p-value: nan\n",
      "Pearson Top 20 DEG (true vs. predicted): 0.334485 | p-value: 0.149458\n",
      "Evaluating for intervention pair 115/131: PTPN12+UBASH3B\n",
      "MMD (true vs. control):     0.509283\n",
      "MMD (true vs. predicted):   0.529374\n",
      "MSE (true vs. control):     0.077377\n",
      "MSE (true vs. predicted):   0.077215\n",
      "KLD (true vs. control):     0.012350\n",
      "KLD (true vs. predicted):   0.013548\n"
     ]
    },
    {
     "name": "stderr",
     "output_type": "stream",
     "text": [
      "/opt/conda/lib/python3.10/site-packages/scipy/stats/_stats_py.py:4068: PearsonRConstantInputWarning: An input array is constant; the correlation coefficient is not defined.\n",
      "  warnings.warn(PearsonRConstantInputWarning())\n"
     ]
    },
    {
     "name": "stdout",
     "output_type": "stream",
     "text": [
      "Pearson Top 20 DEG (true vs. control): nan | p-value: nan\n",
      "Pearson Top 20 DEG (true vs. predicted): 0.523427 | p-value: 0.017863\n",
      "Evaluating for intervention pair 116/131: PTPN12+ZBTB10\n",
      "MMD (true vs. control):     0.547314\n",
      "MMD (true vs. predicted):   0.568945\n",
      "MSE (true vs. control):     0.091571\n",
      "MSE (true vs. predicted):   0.091625\n",
      "KLD (true vs. control):     0.015455\n",
      "KLD (true vs. predicted):   0.015322\n"
     ]
    },
    {
     "name": "stderr",
     "output_type": "stream",
     "text": [
      "/opt/conda/lib/python3.10/site-packages/scipy/stats/_stats_py.py:4068: PearsonRConstantInputWarning: An input array is constant; the correlation coefficient is not defined.\n",
      "  warnings.warn(PearsonRConstantInputWarning())\n"
     ]
    },
    {
     "name": "stdout",
     "output_type": "stream",
     "text": [
      "Pearson Top 20 DEG (true vs. control): nan | p-value: nan\n",
      "Pearson Top 20 DEG (true vs. predicted): 0.561765 | p-value: 0.009947\n",
      "Evaluating for intervention pair 117/131: PTPN12+ZBTB25\n",
      "MMD (true vs. control):     0.600481\n",
      "MMD (true vs. predicted):   0.604925\n",
      "MSE (true vs. control):     0.080838\n",
      "MSE (true vs. predicted):   0.081727\n",
      "KLD (true vs. control):     0.026276\n",
      "KLD (true vs. predicted):   0.024882\n"
     ]
    },
    {
     "name": "stderr",
     "output_type": "stream",
     "text": [
      "/opt/conda/lib/python3.10/site-packages/scipy/stats/_stats_py.py:4068: PearsonRConstantInputWarning: An input array is constant; the correlation coefficient is not defined.\n",
      "  warnings.warn(PearsonRConstantInputWarning())\n"
     ]
    },
    {
     "name": "stdout",
     "output_type": "stream",
     "text": [
      "Pearson Top 20 DEG (true vs. control): nan | p-value: nan\n",
      "Pearson Top 20 DEG (true vs. predicted): 0.587984 | p-value: 0.006399\n",
      "Evaluating for intervention pair 118/131: PTPN9+UBASH3B\n",
      "MMD (true vs. control):     0.572574\n",
      "MMD (true vs. predicted):   0.563629\n",
      "MSE (true vs. control):     0.078582\n",
      "MSE (true vs. predicted):   0.085456\n",
      "KLD (true vs. control):     0.017928\n",
      "KLD (true vs. predicted):   0.014380\n"
     ]
    },
    {
     "name": "stderr",
     "output_type": "stream",
     "text": [
      "/opt/conda/lib/python3.10/site-packages/scipy/stats/_stats_py.py:4068: PearsonRConstantInputWarning: An input array is constant; the correlation coefficient is not defined.\n",
      "  warnings.warn(PearsonRConstantInputWarning())\n"
     ]
    },
    {
     "name": "stdout",
     "output_type": "stream",
     "text": [
      "Pearson Top 20 DEG (true vs. control): nan | p-value: nan\n",
      "Pearson Top 20 DEG (true vs. predicted): 0.594024 | p-value: 0.005750\n",
      "Evaluating for intervention pair 119/131: RHOXF2+SET\n",
      "MMD (true vs. control):     0.602384\n",
      "MMD (true vs. predicted):   0.608202\n",
      "MSE (true vs. control):     0.088200\n",
      "MSE (true vs. predicted):   0.097581\n",
      "KLD (true vs. control):     0.025542\n",
      "KLD (true vs. predicted):   0.029841\n"
     ]
    },
    {
     "name": "stderr",
     "output_type": "stream",
     "text": [
      "/opt/conda/lib/python3.10/site-packages/scipy/stats/_stats_py.py:4068: PearsonRConstantInputWarning: An input array is constant; the correlation coefficient is not defined.\n",
      "  warnings.warn(PearsonRConstantInputWarning())\n"
     ]
    },
    {
     "name": "stdout",
     "output_type": "stream",
     "text": [
      "Pearson Top 20 DEG (true vs. control): nan | p-value: nan\n",
      "Pearson Top 20 DEG (true vs. predicted): 0.312095 | p-value: 0.180372\n",
      "Evaluating for intervention pair 120/131: RHOXF2+ZBTB25\n",
      "MMD (true vs. control):     0.608663\n",
      "MMD (true vs. predicted):   0.646182\n",
      "MSE (true vs. control):     0.086571\n",
      "MSE (true vs. predicted):   0.081953\n",
      "KLD (true vs. control):     0.030696\n",
      "KLD (true vs. predicted):   0.030542\n",
      "Pearson Top 20 DEG (true vs. control): nan | p-value: nan\n",
      "Pearson Top 20 DEG (true vs. predicted): 0.716442 | p-value: 0.000380\n",
      "Evaluating for intervention pair 121/131: S1PR2+SGK1\n"
     ]
    },
    {
     "name": "stderr",
     "output_type": "stream",
     "text": [
      "/opt/conda/lib/python3.10/site-packages/scipy/stats/_stats_py.py:4068: PearsonRConstantInputWarning: An input array is constant; the correlation coefficient is not defined.\n",
      "  warnings.warn(PearsonRConstantInputWarning())\n"
     ]
    },
    {
     "name": "stdout",
     "output_type": "stream",
     "text": [
      "MMD (true vs. control):     0.575682\n",
      "MMD (true vs. predicted):   0.586626\n",
      "MSE (true vs. control):     0.084860\n",
      "MSE (true vs. predicted):   0.084807\n",
      "KLD (true vs. control):     0.013361\n",
      "KLD (true vs. predicted):   0.011974\n"
     ]
    },
    {
     "name": "stderr",
     "output_type": "stream",
     "text": [
      "/opt/conda/lib/python3.10/site-packages/scipy/stats/_stats_py.py:4068: PearsonRConstantInputWarning: An input array is constant; the correlation coefficient is not defined.\n",
      "  warnings.warn(PearsonRConstantInputWarning())\n"
     ]
    },
    {
     "name": "stdout",
     "output_type": "stream",
     "text": [
      "Pearson Top 20 DEG (true vs. control): nan | p-value: nan\n",
      "Pearson Top 20 DEG (true vs. predicted): 0.331381 | p-value: 0.153506\n",
      "Evaluating for intervention pair 122/131: SAMD1+TGFBR2\n",
      "MMD (true vs. control):     0.474635\n",
      "MMD (true vs. predicted):   0.544457\n",
      "MSE (true vs. control):     0.077328\n",
      "MSE (true vs. predicted):   0.078974\n",
      "KLD (true vs. control):     0.012194\n",
      "KLD (true vs. predicted):   0.018330\n",
      "Pearson Top 20 DEG (true vs. control): nan | p-value: nan\n",
      "Pearson Top 20 DEG (true vs. predicted): 0.473671 | p-value: 0.034886\n",
      "Evaluating for intervention pair 123/131: SAMD1+UBASH3B\n"
     ]
    },
    {
     "name": "stderr",
     "output_type": "stream",
     "text": [
      "/opt/conda/lib/python3.10/site-packages/scipy/stats/_stats_py.py:4068: PearsonRConstantInputWarning: An input array is constant; the correlation coefficient is not defined.\n",
      "  warnings.warn(PearsonRConstantInputWarning())\n"
     ]
    },
    {
     "name": "stdout",
     "output_type": "stream",
     "text": [
      "MMD (true vs. control):     0.533364\n",
      "MMD (true vs. predicted):   0.595140\n",
      "MSE (true vs. control):     0.085594\n",
      "MSE (true vs. predicted):   0.097461\n",
      "KLD (true vs. control):     0.016662\n",
      "KLD (true vs. predicted):   0.018883\n"
     ]
    },
    {
     "name": "stderr",
     "output_type": "stream",
     "text": [
      "/opt/conda/lib/python3.10/site-packages/scipy/stats/_stats_py.py:4068: PearsonRConstantInputWarning: An input array is constant; the correlation coefficient is not defined.\n",
      "  warnings.warn(PearsonRConstantInputWarning())\n"
     ]
    },
    {
     "name": "stdout",
     "output_type": "stream",
     "text": [
      "Pearson Top 20 DEG (true vs. control): nan | p-value: nan\n",
      "Pearson Top 20 DEG (true vs. predicted): 0.654574 | p-value: 0.001738\n",
      "Evaluating for intervention pair 124/131: SAMD1+ZBTB1\n",
      "MMD (true vs. control):     0.644991\n",
      "MMD (true vs. predicted):   0.628883\n",
      "MSE (true vs. control):     0.092784\n",
      "MSE (true vs. predicted):   0.095206\n",
      "KLD (true vs. control):     0.035535\n",
      "KLD (true vs. predicted):   0.039795\n"
     ]
    },
    {
     "name": "stderr",
     "output_type": "stream",
     "text": [
      "/opt/conda/lib/python3.10/site-packages/scipy/stats/_stats_py.py:4068: PearsonRConstantInputWarning: An input array is constant; the correlation coefficient is not defined.\n",
      "  warnings.warn(PearsonRConstantInputWarning())\n"
     ]
    },
    {
     "name": "stdout",
     "output_type": "stream",
     "text": [
      "Pearson Top 20 DEG (true vs. control): nan | p-value: nan\n",
      "Pearson Top 20 DEG (true vs. predicted): 0.558641 | p-value: 0.010459\n",
      "Evaluating for intervention pair 125/131: SGK1+TBX2\n",
      "MMD (true vs. control):     0.559756\n",
      "MMD (true vs. predicted):   0.589809\n",
      "MSE (true vs. control):     0.080627\n",
      "MSE (true vs. predicted):   0.085152\n",
      "KLD (true vs. control):     0.013747\n",
      "KLD (true vs. predicted):   0.015172\n"
     ]
    },
    {
     "name": "stderr",
     "output_type": "stream",
     "text": [
      "/opt/conda/lib/python3.10/site-packages/scipy/stats/_stats_py.py:4068: PearsonRConstantInputWarning: An input array is constant; the correlation coefficient is not defined.\n",
      "  warnings.warn(PearsonRConstantInputWarning())\n"
     ]
    },
    {
     "name": "stdout",
     "output_type": "stream",
     "text": [
      "Pearson Top 20 DEG (true vs. control): nan | p-value: nan\n",
      "Pearson Top 20 DEG (true vs. predicted): 0.590135 | p-value: 0.006161\n",
      "Evaluating for intervention pair 126/131: SGK1+TBX3\n",
      "MMD (true vs. control):     0.550269\n",
      "MMD (true vs. predicted):   0.590956\n",
      "MSE (true vs. control):     0.082185\n",
      "MSE (true vs. predicted):   0.087309\n",
      "KLD (true vs. control):     0.022540\n",
      "KLD (true vs. predicted):   0.030394\n"
     ]
    },
    {
     "name": "stderr",
     "output_type": "stream",
     "text": [
      "/opt/conda/lib/python3.10/site-packages/scipy/stats/_stats_py.py:4068: PearsonRConstantInputWarning: An input array is constant; the correlation coefficient is not defined.\n",
      "  warnings.warn(PearsonRConstantInputWarning())\n"
     ]
    },
    {
     "name": "stdout",
     "output_type": "stream",
     "text": [
      "Pearson Top 20 DEG (true vs. control): nan | p-value: nan\n",
      "Pearson Top 20 DEG (true vs. predicted): 0.601782 | p-value: 0.004998\n",
      "Evaluating for intervention pair 127/131: SNAI1+UBASH3B\n",
      "MMD (true vs. control):     0.454423\n",
      "MMD (true vs. predicted):   0.514041\n",
      "MSE (true vs. control):     0.075972\n",
      "MSE (true vs. predicted):   0.084358\n",
      "KLD (true vs. control):     0.009244\n",
      "KLD (true vs. predicted):   0.010687\n"
     ]
    },
    {
     "name": "stderr",
     "output_type": "stream",
     "text": [
      "/opt/conda/lib/python3.10/site-packages/scipy/stats/_stats_py.py:4068: PearsonRConstantInputWarning: An input array is constant; the correlation coefficient is not defined.\n",
      "  warnings.warn(PearsonRConstantInputWarning())\n"
     ]
    },
    {
     "name": "stdout",
     "output_type": "stream",
     "text": [
      "Pearson Top 20 DEG (true vs. control): nan | p-value: nan\n",
      "Pearson Top 20 DEG (true vs. predicted): 0.895767 | p-value: 0.000000\n",
      "Evaluating for intervention pair 128/131: SNAI1+ZBTB10\n",
      "MMD (true vs. control):     0.771285\n",
      "MMD (true vs. predicted):   0.702781\n",
      "MSE (true vs. control):     0.114876\n",
      "MSE (true vs. predicted):   0.127682\n",
      "KLD (true vs. control):     0.035458\n",
      "KLD (true vs. predicted):   0.039644\n",
      "Pearson Top 20 DEG (true vs. control): nan | p-value: nan\n",
      "Pearson Top 20 DEG (true vs. predicted): 0.560491 | p-value: 0.010153\n",
      "Evaluating for intervention pair 129/131: TBX2+TBX3\n"
     ]
    },
    {
     "name": "stderr",
     "output_type": "stream",
     "text": [
      "/opt/conda/lib/python3.10/site-packages/scipy/stats/_stats_py.py:4068: PearsonRConstantInputWarning: An input array is constant; the correlation coefficient is not defined.\n",
      "  warnings.warn(PearsonRConstantInputWarning())\n"
     ]
    },
    {
     "name": "stdout",
     "output_type": "stream",
     "text": [
      "MMD (true vs. control):     0.552896\n",
      "MMD (true vs. predicted):   0.575162\n",
      "MSE (true vs. control):     0.079332\n",
      "MSE (true vs. predicted):   0.082652\n",
      "KLD (true vs. control):     0.014430\n",
      "KLD (true vs. predicted):   0.015578\n"
     ]
    },
    {
     "name": "stderr",
     "output_type": "stream",
     "text": [
      "/opt/conda/lib/python3.10/site-packages/scipy/stats/_stats_py.py:4068: PearsonRConstantInputWarning: An input array is constant; the correlation coefficient is not defined.\n",
      "  warnings.warn(PearsonRConstantInputWarning())\n"
     ]
    },
    {
     "name": "stdout",
     "output_type": "stream",
     "text": [
      "Pearson Top 20 DEG (true vs. control): nan | p-value: nan\n",
      "Pearson Top 20 DEG (true vs. predicted): 0.485521 | p-value: 0.029996\n",
      "Evaluating for intervention pair 130/131: UBASH3A+UBASH3B\n",
      "MMD (true vs. control):     0.434944\n",
      "MMD (true vs. predicted):   0.493677\n",
      "MSE (true vs. control):     0.071933\n",
      "MSE (true vs. predicted):   0.075035\n",
      "KLD (true vs. control):     0.006123\n",
      "KLD (true vs. predicted):   0.006115\n"
     ]
    },
    {
     "name": "stderr",
     "output_type": "stream",
     "text": [
      "/opt/conda/lib/python3.10/site-packages/scipy/stats/_stats_py.py:4068: PearsonRConstantInputWarning: An input array is constant; the correlation coefficient is not defined.\n",
      "  warnings.warn(PearsonRConstantInputWarning())\n"
     ]
    },
    {
     "name": "stdout",
     "output_type": "stream",
     "text": [
      "Pearson Top 20 DEG (true vs. control): nan | p-value: nan\n",
      "Pearson Top 20 DEG (true vs. predicted): 0.656947 | p-value: 0.001650\n",
      "Evaluating for intervention pair 131/131: UBASH3B+ZBTB25\n",
      "MMD (true vs. control):     0.533852\n",
      "MMD (true vs. predicted):   0.575637\n",
      "MSE (true vs. control):     0.076611\n",
      "MSE (true vs. predicted):   0.081746\n",
      "KLD (true vs. control):     0.016970\n",
      "KLD (true vs. predicted):   0.015499\n"
     ]
    },
    {
     "name": "stderr",
     "output_type": "stream",
     "text": [
      "/opt/conda/lib/python3.10/site-packages/scipy/stats/_stats_py.py:4068: PearsonRConstantInputWarning: An input array is constant; the correlation coefficient is not defined.\n",
      "  warnings.warn(PearsonRConstantInputWarning())\n"
     ]
    },
    {
     "name": "stdout",
     "output_type": "stream",
     "text": [
      "Pearson Top 20 DEG (true vs. control): nan | p-value: nan\n",
      "Pearson Top 20 DEG (true vs. predicted): 0.626779 | p-value: 0.003103\n",
      "Saved predictions at ../cris_test/results/demo_test/demo_test_seed_42_double_prediction.csv\n",
      "Process end.\n"
     ]
    }
   ],
   "source": [
    "# Preparations for evaluation\n",
    "model = model.to(device)\n",
    "model.eval()\n",
    "\n",
    "# Given that it is still in SENA folder\n",
    "raw_data_path = os.path.join('../SENA/data',f\"{opts.dataset_name}.h5ad\")\n",
    "\n",
    "# Current model evaluation and saving metrics to the directory as CSV\n",
    "evaluate_double(\n",
    "    model=model,\n",
    "    dataloader=dataloader,\n",
    "    data_path=raw_data_path,\n",
    "    config=config,\n",
    "    ptb_genes=ptb_genes,\n",
    "    results_dir_path=eval_dir,\n",
    "    run_name=run_name,\n",
    "    device=device,\n",
    "    numint=opts.numint\n",
    ")\n",
    "\n",
    "print(\"Process end.\")"
   ]
  },
  {
   "cell_type": "markdown",
   "id": "4b56eaeb",
   "metadata": {},
   "source": [
    "## Results"
   ]
  },
  {
   "cell_type": "code",
   "execution_count": 20,
   "id": "9c2240ec",
   "metadata": {},
   "outputs": [],
   "source": [
    "filepath = '../cris_test/results/demo_test/demo_test_seed_42_double_metrics.csv'\n",
    "# filepath = '../cris_test/results/demo_test/demo_test_seed_42_double_prediction.csv'\n",
    "\n",
    "results = pd.read_csv(filepath)"
   ]
  },
  {
   "cell_type": "code",
   "execution_count": 21,
   "id": "cca04c51",
   "metadata": {},
   "outputs": [
    {
     "data": {
      "text/html": [
       "<div>\n",
       "<style scoped>\n",
       "    .dataframe tbody tr th:only-of-type {\n",
       "        vertical-align: middle;\n",
       "    }\n",
       "\n",
       "    .dataframe tbody tr th {\n",
       "        vertical-align: top;\n",
       "    }\n",
       "\n",
       "    .dataframe thead th {\n",
       "        text-align: right;\n",
       "    }\n",
       "</style>\n",
       "<table border=\"1\" class=\"dataframe\">\n",
       "  <thead>\n",
       "    <tr style=\"text-align: right;\">\n",
       "      <th></th>\n",
       "      <th>double</th>\n",
       "      <th>mmd_true_vs_ctrl</th>\n",
       "      <th>mmd_true_vs_pred</th>\n",
       "      <th>mse_true_vs_ctrl</th>\n",
       "      <th>mse_true_vs_pred</th>\n",
       "      <th>kld_true_vs_ctrl</th>\n",
       "      <th>kld_true_vs_pred</th>\n",
       "      <th>PearsonTop20_true_vs_ctrl</th>\n",
       "      <th>Pearson_pval_true_vs_ctrl</th>\n",
       "      <th>PearsonTop20_true_vs_pred</th>\n",
       "      <th>Pearson_pval_true_vs_pred</th>\n",
       "    </tr>\n",
       "  </thead>\n",
       "  <tbody>\n",
       "    <tr>\n",
       "      <th>0</th>\n",
       "      <td>AHR+FEV</td>\n",
       "      <td>0.866754</td>\n",
       "      <td>0.891912</td>\n",
       "      <td>0.118583</td>\n",
       "      <td>0.126756</td>\n",
       "      <td>0.090812</td>\n",
       "      <td>0.096792</td>\n",
       "      <td>NaN</td>\n",
       "      <td>NaN</td>\n",
       "      <td>-0.393490</td>\n",
       "      <td>8.607579e-02</td>\n",
       "    </tr>\n",
       "    <tr>\n",
       "      <th>1</th>\n",
       "      <td>AHR+KLF1</td>\n",
       "      <td>0.506677</td>\n",
       "      <td>0.565586</td>\n",
       "      <td>0.071022</td>\n",
       "      <td>0.075731</td>\n",
       "      <td>0.012072</td>\n",
       "      <td>0.017185</td>\n",
       "      <td>NaN</td>\n",
       "      <td>NaN</td>\n",
       "      <td>0.254020</td>\n",
       "      <td>2.798235e-01</td>\n",
       "    </tr>\n",
       "    <tr>\n",
       "      <th>2</th>\n",
       "      <td>BAK1+BCL2L11</td>\n",
       "      <td>0.392806</td>\n",
       "      <td>0.466893</td>\n",
       "      <td>0.066550</td>\n",
       "      <td>0.071575</td>\n",
       "      <td>0.003831</td>\n",
       "      <td>0.004644</td>\n",
       "      <td>NaN</td>\n",
       "      <td>NaN</td>\n",
       "      <td>0.708671</td>\n",
       "      <td>4.695582e-04</td>\n",
       "    </tr>\n",
       "    <tr>\n",
       "      <th>3</th>\n",
       "      <td>BAK1+KLF1</td>\n",
       "      <td>0.485175</td>\n",
       "      <td>0.603236</td>\n",
       "      <td>0.068348</td>\n",
       "      <td>0.072059</td>\n",
       "      <td>0.010004</td>\n",
       "      <td>0.010587</td>\n",
       "      <td>NaN</td>\n",
       "      <td>NaN</td>\n",
       "      <td>0.196517</td>\n",
       "      <td>4.063097e-01</td>\n",
       "    </tr>\n",
       "    <tr>\n",
       "      <th>4</th>\n",
       "      <td>BAK1+TMSB4X</td>\n",
       "      <td>0.422107</td>\n",
       "      <td>0.475627</td>\n",
       "      <td>0.069899</td>\n",
       "      <td>0.073665</td>\n",
       "      <td>0.025339</td>\n",
       "      <td>0.021995</td>\n",
       "      <td>NaN</td>\n",
       "      <td>NaN</td>\n",
       "      <td>0.766091</td>\n",
       "      <td>8.209391e-05</td>\n",
       "    </tr>\n",
       "    <tr>\n",
       "      <th>...</th>\n",
       "      <td>...</td>\n",
       "      <td>...</td>\n",
       "      <td>...</td>\n",
       "      <td>...</td>\n",
       "      <td>...</td>\n",
       "      <td>...</td>\n",
       "      <td>...</td>\n",
       "      <td>...</td>\n",
       "      <td>...</td>\n",
       "      <td>...</td>\n",
       "      <td>...</td>\n",
       "    </tr>\n",
       "    <tr>\n",
       "      <th>126</th>\n",
       "      <td>SNAI1+UBASH3B</td>\n",
       "      <td>0.454423</td>\n",
       "      <td>0.514041</td>\n",
       "      <td>0.075972</td>\n",
       "      <td>0.084358</td>\n",
       "      <td>0.009244</td>\n",
       "      <td>0.010687</td>\n",
       "      <td>NaN</td>\n",
       "      <td>NaN</td>\n",
       "      <td>0.895767</td>\n",
       "      <td>9.397110e-08</td>\n",
       "    </tr>\n",
       "    <tr>\n",
       "      <th>127</th>\n",
       "      <td>SNAI1+ZBTB10</td>\n",
       "      <td>0.771285</td>\n",
       "      <td>0.702781</td>\n",
       "      <td>0.114876</td>\n",
       "      <td>0.127682</td>\n",
       "      <td>0.035458</td>\n",
       "      <td>0.039644</td>\n",
       "      <td>NaN</td>\n",
       "      <td>NaN</td>\n",
       "      <td>0.560491</td>\n",
       "      <td>1.015346e-02</td>\n",
       "    </tr>\n",
       "    <tr>\n",
       "      <th>128</th>\n",
       "      <td>TBX2+TBX3</td>\n",
       "      <td>0.552896</td>\n",
       "      <td>0.575162</td>\n",
       "      <td>0.079332</td>\n",
       "      <td>0.082652</td>\n",
       "      <td>0.014430</td>\n",
       "      <td>0.015578</td>\n",
       "      <td>NaN</td>\n",
       "      <td>NaN</td>\n",
       "      <td>0.485521</td>\n",
       "      <td>2.999571e-02</td>\n",
       "    </tr>\n",
       "    <tr>\n",
       "      <th>129</th>\n",
       "      <td>UBASH3A+UBASH3B</td>\n",
       "      <td>0.434944</td>\n",
       "      <td>0.493677</td>\n",
       "      <td>0.071933</td>\n",
       "      <td>0.075035</td>\n",
       "      <td>0.006123</td>\n",
       "      <td>0.006115</td>\n",
       "      <td>NaN</td>\n",
       "      <td>NaN</td>\n",
       "      <td>0.656947</td>\n",
       "      <td>1.650200e-03</td>\n",
       "    </tr>\n",
       "    <tr>\n",
       "      <th>130</th>\n",
       "      <td>UBASH3B+ZBTB25</td>\n",
       "      <td>0.533852</td>\n",
       "      <td>0.575637</td>\n",
       "      <td>0.076611</td>\n",
       "      <td>0.081746</td>\n",
       "      <td>0.016970</td>\n",
       "      <td>0.015499</td>\n",
       "      <td>NaN</td>\n",
       "      <td>NaN</td>\n",
       "      <td>0.626779</td>\n",
       "      <td>3.102683e-03</td>\n",
       "    </tr>\n",
       "  </tbody>\n",
       "</table>\n",
       "<p>131 rows × 11 columns</p>\n",
       "</div>"
      ],
      "text/plain": [
       "              double  mmd_true_vs_ctrl  mmd_true_vs_pred  mse_true_vs_ctrl  \\\n",
       "0            AHR+FEV          0.866754          0.891912          0.118583   \n",
       "1           AHR+KLF1          0.506677          0.565586          0.071022   \n",
       "2       BAK1+BCL2L11          0.392806          0.466893          0.066550   \n",
       "3          BAK1+KLF1          0.485175          0.603236          0.068348   \n",
       "4        BAK1+TMSB4X          0.422107          0.475627          0.069899   \n",
       "..               ...               ...               ...               ...   \n",
       "126    SNAI1+UBASH3B          0.454423          0.514041          0.075972   \n",
       "127     SNAI1+ZBTB10          0.771285          0.702781          0.114876   \n",
       "128        TBX2+TBX3          0.552896          0.575162          0.079332   \n",
       "129  UBASH3A+UBASH3B          0.434944          0.493677          0.071933   \n",
       "130   UBASH3B+ZBTB25          0.533852          0.575637          0.076611   \n",
       "\n",
       "     mse_true_vs_pred  kld_true_vs_ctrl  kld_true_vs_pred  \\\n",
       "0            0.126756          0.090812          0.096792   \n",
       "1            0.075731          0.012072          0.017185   \n",
       "2            0.071575          0.003831          0.004644   \n",
       "3            0.072059          0.010004          0.010587   \n",
       "4            0.073665          0.025339          0.021995   \n",
       "..                ...               ...               ...   \n",
       "126          0.084358          0.009244          0.010687   \n",
       "127          0.127682          0.035458          0.039644   \n",
       "128          0.082652          0.014430          0.015578   \n",
       "129          0.075035          0.006123          0.006115   \n",
       "130          0.081746          0.016970          0.015499   \n",
       "\n",
       "     PearsonTop20_true_vs_ctrl  Pearson_pval_true_vs_ctrl  \\\n",
       "0                          NaN                        NaN   \n",
       "1                          NaN                        NaN   \n",
       "2                          NaN                        NaN   \n",
       "3                          NaN                        NaN   \n",
       "4                          NaN                        NaN   \n",
       "..                         ...                        ...   \n",
       "126                        NaN                        NaN   \n",
       "127                        NaN                        NaN   \n",
       "128                        NaN                        NaN   \n",
       "129                        NaN                        NaN   \n",
       "130                        NaN                        NaN   \n",
       "\n",
       "     PearsonTop20_true_vs_pred  Pearson_pval_true_vs_pred  \n",
       "0                    -0.393490               8.607579e-02  \n",
       "1                     0.254020               2.798235e-01  \n",
       "2                     0.708671               4.695582e-04  \n",
       "3                     0.196517               4.063097e-01  \n",
       "4                     0.766091               8.209391e-05  \n",
       "..                         ...                        ...  \n",
       "126                   0.895767               9.397110e-08  \n",
       "127                   0.560491               1.015346e-02  \n",
       "128                   0.485521               2.999571e-02  \n",
       "129                   0.656947               1.650200e-03  \n",
       "130                   0.626779               3.102683e-03  \n",
       "\n",
       "[131 rows x 11 columns]"
      ]
     },
     "execution_count": 21,
     "metadata": {},
     "output_type": "execute_result"
    }
   ],
   "source": [
    "results"
   ]
  },
  {
   "cell_type": "code",
   "execution_count": null,
   "id": "ae0ed370",
   "metadata": {},
   "outputs": [],
   "source": []
  }
 ],
 "metadata": {
  "kernelspec": {
   "display_name": "Python 3 (ipykernel)",
   "language": "python",
   "name": "python3"
  }
 },
 "nbformat": 4,
 "nbformat_minor": 5
}
