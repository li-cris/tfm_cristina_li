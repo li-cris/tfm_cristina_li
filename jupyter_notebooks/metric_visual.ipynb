{
 "cells": [
  {
   "cell_type": "markdown",
   "metadata": {},
   "source": [
    "## Visualising metrics"
   ]
  },
  {
   "cell_type": "code",
   "execution_count": 8,
   "metadata": {},
   "outputs": [],
   "source": [
    "import pandas as pd\n",
    "import numpy as np\n",
    "import os\n",
    "import sys\n",
    "import seaborn as sb"
   ]
  },
  {
   "cell_type": "code",
   "execution_count": 2,
   "metadata": {},
   "outputs": [
    {
     "name": "stdout",
     "output_type": "stream",
     "text": [
      "/wdir/tfm/cris_test\n"
     ]
    }
   ],
   "source": [
    "!pwd"
   ]
  },
  {
   "cell_type": "code",
   "execution_count": null,
   "metadata": {},
   "outputs": [],
   "source": [
    "path_to_file = './results/sena_norman_1_double_metrics.csv'\n",
    "df = pd.read_csv(path_to_file)"
   ]
  },
  {
   "cell_type": "code",
   "execution_count": 17,
   "metadata": {},
   "outputs": [
    {
     "data": {
      "text/plain": [
       "mmd_true_vs_ctrl    0.201363\n",
       "mmd_true_vs_pred    1.154995\n",
       "mse_true_vs_ctrl    0.080576\n",
       "mse_true_vs_pred    0.172373\n",
       "kld_true_vs_ctrl    0.007321\n",
       "kld_true_vs_pred    0.155714\n",
       "dtype: float64"
      ]
     },
     "execution_count": 17,
     "metadata": {},
     "output_type": "execute_result"
    }
   ],
   "source": [
    "df.iloc[:, 1:].mean(axis=0)"
   ]
  },
  {
   "cell_type": "code",
   "execution_count": 75,
   "metadata": {},
   "outputs": [
    {
     "data": {
      "text/html": [
       "<div>\n",
       "<style scoped>\n",
       "    .dataframe tbody tr th:only-of-type {\n",
       "        vertical-align: middle;\n",
       "    }\n",
       "\n",
       "    .dataframe tbody tr th {\n",
       "        vertical-align: top;\n",
       "    }\n",
       "\n",
       "    .dataframe thead th {\n",
       "        text-align: right;\n",
       "    }\n",
       "</style>\n",
       "<table border=\"1\" class=\"dataframe\">\n",
       "  <thead>\n",
       "    <tr style=\"text-align: right;\">\n",
       "      <th></th>\n",
       "      <th>double</th>\n",
       "      <th>mmd_true_vs_ctrl</th>\n",
       "      <th>mmd_true_vs_pred</th>\n",
       "      <th>mse_true_vs_ctrl</th>\n",
       "      <th>mse_true_vs_pred</th>\n",
       "      <th>kld_true_vs_ctrl</th>\n",
       "      <th>kld_true_vs_pred</th>\n",
       "    </tr>\n",
       "  </thead>\n",
       "  <tbody>\n",
       "    <tr>\n",
       "      <th>0</th>\n",
       "      <td>AHR+FEV</td>\n",
       "      <td>0.101555</td>\n",
       "      <td>1.427069</td>\n",
       "      <td>0.075449</td>\n",
       "      <td>0.184683</td>\n",
       "      <td>0.003209</td>\n",
       "      <td>0.197176</td>\n",
       "    </tr>\n",
       "    <tr>\n",
       "      <th>1</th>\n",
       "      <td>AHR+KLF1</td>\n",
       "      <td>0.163904</td>\n",
       "      <td>0.974736</td>\n",
       "      <td>0.083472</td>\n",
       "      <td>0.168017</td>\n",
       "      <td>0.005238</td>\n",
       "      <td>0.126148</td>\n",
       "    </tr>\n",
       "    <tr>\n",
       "      <th>2</th>\n",
       "      <td>BAK1+BCL2L11</td>\n",
       "      <td>0.155179</td>\n",
       "      <td>0.709171</td>\n",
       "      <td>0.076095</td>\n",
       "      <td>0.138176</td>\n",
       "      <td>0.004691</td>\n",
       "      <td>0.059115</td>\n",
       "    </tr>\n",
       "    <tr>\n",
       "      <th>3</th>\n",
       "      <td>BAK1+KLF1</td>\n",
       "      <td>0.272017</td>\n",
       "      <td>0.730316</td>\n",
       "      <td>0.081424</td>\n",
       "      <td>0.140850</td>\n",
       "      <td>0.012928</td>\n",
       "      <td>0.062925</td>\n",
       "    </tr>\n",
       "    <tr>\n",
       "      <th>4</th>\n",
       "      <td>BAK1+TMSB4X</td>\n",
       "      <td>0.094348</td>\n",
       "      <td>0.730903</td>\n",
       "      <td>0.079186</td>\n",
       "      <td>0.147247</td>\n",
       "      <td>0.002892</td>\n",
       "      <td>0.071244</td>\n",
       "    </tr>\n",
       "    <tr>\n",
       "      <th>...</th>\n",
       "      <td>...</td>\n",
       "      <td>...</td>\n",
       "      <td>...</td>\n",
       "      <td>...</td>\n",
       "      <td>...</td>\n",
       "      <td>...</td>\n",
       "      <td>...</td>\n",
       "    </tr>\n",
       "    <tr>\n",
       "      <th>126</th>\n",
       "      <td>SNAI1+UBASH3B</td>\n",
       "      <td>0.124801</td>\n",
       "      <td>0.988197</td>\n",
       "      <td>0.081481</td>\n",
       "      <td>0.165803</td>\n",
       "      <td>0.004129</td>\n",
       "      <td>0.123858</td>\n",
       "    </tr>\n",
       "    <tr>\n",
       "      <th>127</th>\n",
       "      <td>SNAI1+ZBTB10</td>\n",
       "      <td>0.227714</td>\n",
       "      <td>1.793176</td>\n",
       "      <td>0.073301</td>\n",
       "      <td>0.198469</td>\n",
       "      <td>0.009220</td>\n",
       "      <td>0.269565</td>\n",
       "    </tr>\n",
       "    <tr>\n",
       "      <th>128</th>\n",
       "      <td>TBX2+TBX3</td>\n",
       "      <td>0.122947</td>\n",
       "      <td>1.054041</td>\n",
       "      <td>0.078340</td>\n",
       "      <td>0.167026</td>\n",
       "      <td>0.003947</td>\n",
       "      <td>0.133229</td>\n",
       "    </tr>\n",
       "    <tr>\n",
       "      <th>129</th>\n",
       "      <td>UBASH3A+UBASH3B</td>\n",
       "      <td>0.170676</td>\n",
       "      <td>0.731447</td>\n",
       "      <td>0.086566</td>\n",
       "      <td>0.156165</td>\n",
       "      <td>0.007307</td>\n",
       "      <td>0.080214</td>\n",
       "    </tr>\n",
       "    <tr>\n",
       "      <th>130</th>\n",
       "      <td>UBASH3B+ZBTB25</td>\n",
       "      <td>0.104365</td>\n",
       "      <td>0.940207</td>\n",
       "      <td>0.074078</td>\n",
       "      <td>0.150750</td>\n",
       "      <td>0.002882</td>\n",
       "      <td>0.089934</td>\n",
       "    </tr>\n",
       "  </tbody>\n",
       "</table>\n",
       "<p>131 rows × 7 columns</p>\n",
       "</div>"
      ],
      "text/plain": [
       "              double  mmd_true_vs_ctrl  mmd_true_vs_pred  mse_true_vs_ctrl  \\\n",
       "0            AHR+FEV          0.101555          1.427069          0.075449   \n",
       "1           AHR+KLF1          0.163904          0.974736          0.083472   \n",
       "2       BAK1+BCL2L11          0.155179          0.709171          0.076095   \n",
       "3          BAK1+KLF1          0.272017          0.730316          0.081424   \n",
       "4        BAK1+TMSB4X          0.094348          0.730903          0.079186   \n",
       "..               ...               ...               ...               ...   \n",
       "126    SNAI1+UBASH3B          0.124801          0.988197          0.081481   \n",
       "127     SNAI1+ZBTB10          0.227714          1.793176          0.073301   \n",
       "128        TBX2+TBX3          0.122947          1.054041          0.078340   \n",
       "129  UBASH3A+UBASH3B          0.170676          0.731447          0.086566   \n",
       "130   UBASH3B+ZBTB25          0.104365          0.940207          0.074078   \n",
       "\n",
       "     mse_true_vs_pred  kld_true_vs_ctrl  kld_true_vs_pred  \n",
       "0            0.184683          0.003209          0.197176  \n",
       "1            0.168017          0.005238          0.126148  \n",
       "2            0.138176          0.004691          0.059115  \n",
       "3            0.140850          0.012928          0.062925  \n",
       "4            0.147247          0.002892          0.071244  \n",
       "..                ...               ...               ...  \n",
       "126          0.165803          0.004129          0.123858  \n",
       "127          0.198469          0.009220          0.269565  \n",
       "128          0.167026          0.003947          0.133229  \n",
       "129          0.156165          0.007307          0.080214  \n",
       "130          0.150750          0.002882          0.089934  \n",
       "\n",
       "[131 rows x 7 columns]"
      ]
     },
     "execution_count": 75,
     "metadata": {},
     "output_type": "execute_result"
    }
   ],
   "source": [
    "df"
   ]
  },
  {
   "cell_type": "code",
   "execution_count": 27,
   "metadata": {},
   "outputs": [
    {
     "data": {
      "text/plain": [
       "<AxesSubplot:xlabel='variable', ylabel='value'>"
      ]
     },
     "execution_count": 27,
     "metadata": {},
     "output_type": "execute_result"
    },
    {
     "data": {
      "image/png": "[encoded data removed]",
      "text/plain": [
       "<Figure size 640x480 with 1 Axes>"
      ]
     },
     "metadata": {},
     "output_type": "display_data"
    }
   ],
   "source": [
    "sb.boxplot(data = df.iloc[:, 5:7].melt(), x=\"variable\", y=\"value\") "
   ]
  },
  {
   "cell_type": "code",
   "execution_count": null,
   "metadata": {},
   "outputs": [],
   "source": []
  },
  {
   "cell_type": "code",
   "execution_count": 28,
   "metadata": {},
   "outputs": [],
   "source": [
    "path_gears_og = \"./results/gears_norman_split_simulation_seed_7_hidden_size_64_double_metrics.csv\"\n",
    "path_gears_change = \"./results/gears_norman_split_simulation_seed_7_hidden_size_64_double_change_metrics.csv\"\n",
    "path_sena_1 = './results/sena_norman_1_double_metrics.csv'\n",
    "df_gears_og = pd.read_csv(path_gears_og)\n",
    "df_gears_change = pd.read_csv(path_gears_change)\n",
    "df_sena_1 = pd.read_csv(path_sena_1)"
   ]
  },
  {
   "cell_type": "code",
   "execution_count": 32,
   "metadata": {},
   "outputs": [],
   "source": [
    "df_gears_og['Group'] = 'GEARS OG'\n",
    "df_gears_change['Group'] = 'GEARS change'\n",
    "df_sena_1['Group'] = 'SENA'"
   ]
  },
  {
   "cell_type": "code",
   "execution_count": 42,
   "metadata": {},
   "outputs": [
    {
     "data": {
      "text/html": [
       "<div>\n",
       "<style scoped>\n",
       "    .dataframe tbody tr th:only-of-type {\n",
       "        vertical-align: middle;\n",
       "    }\n",
       "\n",
       "    .dataframe tbody tr th {\n",
       "        vertical-align: top;\n",
       "    }\n",
       "\n",
       "    .dataframe thead th {\n",
       "        text-align: right;\n",
       "    }\n",
       "</style>\n",
       "<table border=\"1\" class=\"dataframe\">\n",
       "  <thead>\n",
       "    <tr style=\"text-align: right;\">\n",
       "      <th></th>\n",
       "      <th>mmd_true_vs_ctrl</th>\n",
       "      <th>mmd_true_vs_pred</th>\n",
       "      <th>Group</th>\n",
       "    </tr>\n",
       "  </thead>\n",
       "  <tbody>\n",
       "    <tr>\n",
       "      <th>0</th>\n",
       "      <td>0.301072</td>\n",
       "      <td>6.048503</td>\n",
       "      <td>GEARS OG</td>\n",
       "    </tr>\n",
       "    <tr>\n",
       "      <th>1</th>\n",
       "      <td>0.322025</td>\n",
       "      <td>6.059979</td>\n",
       "      <td>GEARS OG</td>\n",
       "    </tr>\n",
       "    <tr>\n",
       "      <th>2</th>\n",
       "      <td>0.237478</td>\n",
       "      <td>5.709274</td>\n",
       "      <td>GEARS OG</td>\n",
       "    </tr>\n",
       "    <tr>\n",
       "      <th>3</th>\n",
       "      <td>0.362707</td>\n",
       "      <td>5.584922</td>\n",
       "      <td>GEARS OG</td>\n",
       "    </tr>\n",
       "    <tr>\n",
       "      <th>4</th>\n",
       "      <td>0.554805</td>\n",
       "      <td>6.382120</td>\n",
       "      <td>GEARS OG</td>\n",
       "    </tr>\n",
       "    <tr>\n",
       "      <th>...</th>\n",
       "      <td>...</td>\n",
       "      <td>...</td>\n",
       "      <td>...</td>\n",
       "    </tr>\n",
       "    <tr>\n",
       "      <th>123</th>\n",
       "      <td>0.217237</td>\n",
       "      <td>5.875245</td>\n",
       "      <td>GEARS OG</td>\n",
       "    </tr>\n",
       "    <tr>\n",
       "      <th>124</th>\n",
       "      <td>0.465777</td>\n",
       "      <td>6.051925</td>\n",
       "      <td>GEARS OG</td>\n",
       "    </tr>\n",
       "    <tr>\n",
       "      <th>125</th>\n",
       "      <td>0.292525</td>\n",
       "      <td>5.497470</td>\n",
       "      <td>GEARS OG</td>\n",
       "    </tr>\n",
       "    <tr>\n",
       "      <th>126</th>\n",
       "      <td>0.415082</td>\n",
       "      <td>6.294958</td>\n",
       "      <td>GEARS OG</td>\n",
       "    </tr>\n",
       "    <tr>\n",
       "      <th>127</th>\n",
       "      <td>0.231696</td>\n",
       "      <td>5.341892</td>\n",
       "      <td>GEARS OG</td>\n",
       "    </tr>\n",
       "  </tbody>\n",
       "</table>\n",
       "<p>128 rows × 3 columns</p>\n",
       "</div>"
      ],
      "text/plain": [
       "     mmd_true_vs_ctrl  mmd_true_vs_pred     Group\n",
       "0            0.301072          6.048503  GEARS OG\n",
       "1            0.322025          6.059979  GEARS OG\n",
       "2            0.237478          5.709274  GEARS OG\n",
       "3            0.362707          5.584922  GEARS OG\n",
       "4            0.554805          6.382120  GEARS OG\n",
       "..                ...               ...       ...\n",
       "123          0.217237          5.875245  GEARS OG\n",
       "124          0.465777          6.051925  GEARS OG\n",
       "125          0.292525          5.497470  GEARS OG\n",
       "126          0.415082          6.294958  GEARS OG\n",
       "127          0.231696          5.341892  GEARS OG\n",
       "\n",
       "[128 rows x 3 columns]"
      ]
     },
     "execution_count": 42,
     "metadata": {},
     "output_type": "execute_result"
    }
   ],
   "source": [
    "df_gears_og.iloc[:, [1, 2, 7]]"
   ]
  },
  {
   "cell_type": "code",
   "execution_count": 46,
   "metadata": {},
   "outputs": [],
   "source": [
    "df_mmd = pd.concat([df_gears_og.iloc[:, [1, 2, 7]], df_gears_change.iloc[:, [1, 2, 7]], df_sena_1.iloc[:, [1, 2, 7]]], ignore_index=True)\n",
    "df_mse = pd.concat([df_gears_og.iloc[:, [3, 4, 7]], df_gears_change.iloc[:, [3, 4, 7]], df_sena_1.iloc[:, [3, 4, 7]]], ignore_index=True)\n",
    "df_kld = pd.concat([df_gears_og.iloc[:, [5, 6, 7]], df_gears_change.iloc[:, [5, 6, 7]], df_sena_1.iloc[:, [5, 6, 7]]], ignore_index=True)"
   ]
  },
  {
   "cell_type": "code",
   "execution_count": 47,
   "metadata": {},
   "outputs": [
    {
     "data": {
      "text/html": [
       "<div>\n",
       "<style scoped>\n",
       "    .dataframe tbody tr th:only-of-type {\n",
       "        vertical-align: middle;\n",
       "    }\n",
       "\n",
       "    .dataframe tbody tr th {\n",
       "        vertical-align: top;\n",
       "    }\n",
       "\n",
       "    .dataframe thead th {\n",
       "        text-align: right;\n",
       "    }\n",
       "</style>\n",
       "<table border=\"1\" class=\"dataframe\">\n",
       "  <thead>\n",
       "    <tr style=\"text-align: right;\">\n",
       "      <th></th>\n",
       "      <th>mmd_true_vs_ctrl</th>\n",
       "      <th>mmd_true_vs_pred</th>\n",
       "      <th>Group</th>\n",
       "    </tr>\n",
       "  </thead>\n",
       "  <tbody>\n",
       "    <tr>\n",
       "      <th>0</th>\n",
       "      <td>0.301072</td>\n",
       "      <td>6.048503</td>\n",
       "      <td>GEARS OG</td>\n",
       "    </tr>\n",
       "    <tr>\n",
       "      <th>1</th>\n",
       "      <td>0.322025</td>\n",
       "      <td>6.059979</td>\n",
       "      <td>GEARS OG</td>\n",
       "    </tr>\n",
       "    <tr>\n",
       "      <th>2</th>\n",
       "      <td>0.237478</td>\n",
       "      <td>5.709274</td>\n",
       "      <td>GEARS OG</td>\n",
       "    </tr>\n",
       "    <tr>\n",
       "      <th>3</th>\n",
       "      <td>0.362707</td>\n",
       "      <td>5.584922</td>\n",
       "      <td>GEARS OG</td>\n",
       "    </tr>\n",
       "    <tr>\n",
       "      <th>4</th>\n",
       "      <td>0.554805</td>\n",
       "      <td>6.382120</td>\n",
       "      <td>GEARS OG</td>\n",
       "    </tr>\n",
       "    <tr>\n",
       "      <th>...</th>\n",
       "      <td>...</td>\n",
       "      <td>...</td>\n",
       "      <td>...</td>\n",
       "    </tr>\n",
       "    <tr>\n",
       "      <th>382</th>\n",
       "      <td>0.124801</td>\n",
       "      <td>0.988197</td>\n",
       "      <td>SENA</td>\n",
       "    </tr>\n",
       "    <tr>\n",
       "      <th>383</th>\n",
       "      <td>0.227714</td>\n",
       "      <td>1.793176</td>\n",
       "      <td>SENA</td>\n",
       "    </tr>\n",
       "    <tr>\n",
       "      <th>384</th>\n",
       "      <td>0.122947</td>\n",
       "      <td>1.054041</td>\n",
       "      <td>SENA</td>\n",
       "    </tr>\n",
       "    <tr>\n",
       "      <th>385</th>\n",
       "      <td>0.170676</td>\n",
       "      <td>0.731447</td>\n",
       "      <td>SENA</td>\n",
       "    </tr>\n",
       "    <tr>\n",
       "      <th>386</th>\n",
       "      <td>0.104365</td>\n",
       "      <td>0.940207</td>\n",
       "      <td>SENA</td>\n",
       "    </tr>\n",
       "  </tbody>\n",
       "</table>\n",
       "<p>387 rows × 3 columns</p>\n",
       "</div>"
      ],
      "text/plain": [
       "     mmd_true_vs_ctrl  mmd_true_vs_pred     Group\n",
       "0            0.301072          6.048503  GEARS OG\n",
       "1            0.322025          6.059979  GEARS OG\n",
       "2            0.237478          5.709274  GEARS OG\n",
       "3            0.362707          5.584922  GEARS OG\n",
       "4            0.554805          6.382120  GEARS OG\n",
       "..                ...               ...       ...\n",
       "382          0.124801          0.988197      SENA\n",
       "383          0.227714          1.793176      SENA\n",
       "384          0.122947          1.054041      SENA\n",
       "385          0.170676          0.731447      SENA\n",
       "386          0.104365          0.940207      SENA\n",
       "\n",
       "[387 rows x 3 columns]"
      ]
     },
     "execution_count": 47,
     "metadata": {},
     "output_type": "execute_result"
    }
   ],
   "source": [
    "df_mmd"
   ]
  },
  {
   "cell_type": "code",
   "execution_count": 59,
   "metadata": {},
   "outputs": [
    {
     "data": {
      "text/plain": [
       "[Text(0.5, 0, 'MMD for double prediction'), Text(0, 0.5, 'Value')]"
      ]
     },
     "execution_count": 59,
     "metadata": {},
     "output_type": "execute_result"
    },
    {
     "data": {
      "image/png": "[encoded data removed]",
      "text/plain": [
       "<Figure size 640x480 with 1 Axes>"
      ]
     },
     "metadata": {},
     "output_type": "display_data"
    }
   ],
   "source": [
    "df_melted = df_mmd.melt(id_vars='Group', value_vars=['mmd_true_vs_ctrl', 'mmd_true_vs_pred'], var_name='variable', value_name='value')\n",
    "ax = sb.boxplot(data=df_melted, x='Group', y='value', hue='variable', showmeans=True)\n",
    "ax.set(xlabel=\"MMD for double prediction\", ylabel=\"Value\")"
   ]
  },
  {
   "cell_type": "code",
   "execution_count": 57,
   "metadata": {},
   "outputs": [
    {
     "data": {
      "text/plain": [
       "[Text(0.5, 0, 'MSE for double prediction'), Text(0, 0.5, 'Value')]"
      ]
     },
     "execution_count": 57,
     "metadata": {},
     "output_type": "execute_result"
    },
    {
     "data": {
      "image/png": "[encoded data removed]",
      "text/plain": [
       "<Figure size 640x480 with 1 Axes>"
      ]
     },
     "metadata": {},
     "output_type": "display_data"
    }
   ],
   "source": [
    "df_melted = df_mse.melt(id_vars='Group', value_vars=['mse_true_vs_ctrl', 'mse_true_vs_pred'], var_name='variable', value_name='value')\n",
    "ax = sb.boxplot(data=df_melted, x='Group', y='value', hue='variable', showmeans=True)\n",
    "ax.set(xlabel=\"MSE for double prediction\", ylabel=\"Value\")"
   ]
  },
  {
   "cell_type": "code",
   "execution_count": 55,
   "metadata": {},
   "outputs": [
    {
     "data": {
      "text/plain": [
       "[Text(0.5, 0, 'KLD for double prediction'), Text(0, 0.5, 'Value')]"
      ]
     },
     "execution_count": 55,
     "metadata": {},
     "output_type": "execute_result"
    },
    {
     "data": {
      "image/png": "[encoded data removed]",
      "text/plain": [
       "<Figure size 640x480 with 1 Axes>"
      ]
     },
     "metadata": {},
     "output_type": "display_data"
    }
   ],
   "source": [
    "df_melted = df_kld.melt(id_vars='Group', value_vars=['kld_true_vs_ctrl', 'kld_true_vs_pred'], var_name='variable', value_name='value')\n",
    "ax = sb.boxplot(data=df_melted, x='Group', y='value', hue='variable', showmeans=True)\n",
    "ax.set(xlabel=\"KLD for double prediction\", ylabel=\"Value\")"
   ]
  },
  {
   "cell_type": "markdown",
   "metadata": {},
   "source": [
    "## SENA metrics from inference code"
   ]
  },
  {
   "cell_type": "code",
   "execution_count": 62,
   "metadata": {},
   "outputs": [],
   "source": [
    "path_sena = \"./models/sena_norman_1/sena_norman_1_metrics_summary.tsv\"\n",
    "df_inf = pd.read_csv(path_sena, delimiter=\"\\t\")"
   ]
  },
  {
   "cell_type": "code",
   "execution_count": 74,
   "metadata": {},
   "outputs": [
    {
     "data": {
      "text/html": [
       "<div>\n",
       "<style scoped>\n",
       "    .dataframe tbody tr th:only-of-type {\n",
       "        vertical-align: middle;\n",
       "    }\n",
       "\n",
       "    .dataframe tbody tr th {\n",
       "        vertical-align: top;\n",
       "    }\n",
       "\n",
       "    .dataframe thead th {\n",
       "        text-align: right;\n",
       "    }\n",
       "</style>\n",
       "<table border=\"1\" class=\"dataframe\">\n",
       "  <thead>\n",
       "    <tr style=\"text-align: right;\">\n",
       "      <th></th>\n",
       "      <th>Metric</th>\n",
       "      <th>Values</th>\n",
       "      <th>mode</th>\n",
       "      <th>seed</th>\n",
       "      <th>latdim</th>\n",
       "      <th>model_name</th>\n",
       "    </tr>\n",
       "  </thead>\n",
       "  <tbody>\n",
       "    <tr>\n",
       "      <th>8</th>\n",
       "      <td>MMD</td>\n",
       "      <td>1.031641</td>\n",
       "      <td>double</td>\n",
       "      <td>42</td>\n",
       "      <td>105</td>\n",
       "      <td>sena_norman_1</td>\n",
       "    </tr>\n",
       "    <tr>\n",
       "      <th>9</th>\n",
       "      <td>MSE</td>\n",
       "      <td>0.026592</td>\n",
       "      <td>double</td>\n",
       "      <td>42</td>\n",
       "      <td>105</td>\n",
       "      <td>sena_norman_1</td>\n",
       "    </tr>\n",
       "  </tbody>\n",
       "</table>\n",
       "</div>"
      ],
      "text/plain": [
       "  Metric    Values    mode  seed  latdim     model_name\n",
       "8    MMD  1.031641  double    42     105  sena_norman_1\n",
       "9    MSE  0.026592  double    42     105  sena_norman_1"
      ]
     },
     "execution_count": 74,
     "metadata": {},
     "output_type": "execute_result"
    }
   ],
   "source": [
    "df_double = df_inf[df_inf[\"mode\"] == \"double\"]\n",
    "df_double[:2]"
   ]
  },
  {
   "cell_type": "code",
   "execution_count": null,
   "metadata": {},
   "outputs": [],
   "source": [
    "df_metrics_comparison = pd.DataFrame()"
   ]
  },
  {
   "cell_type": "code",
   "execution_count": 82,
   "metadata": {},
   "outputs": [
    {
     "data": {
      "text/html": [
       "<div>\n",
       "<style scoped>\n",
       "    .dataframe tbody tr th:only-of-type {\n",
       "        vertical-align: middle;\n",
       "    }\n",
       "\n",
       "    .dataframe tbody tr th {\n",
       "        vertical-align: top;\n",
       "    }\n",
       "\n",
       "    .dataframe thead th {\n",
       "        text-align: right;\n",
       "    }\n",
       "</style>\n",
       "<table border=\"1\" class=\"dataframe\">\n",
       "  <thead>\n",
       "    <tr style=\"text-align: right;\">\n",
       "      <th></th>\n",
       "      <th>Metric</th>\n",
       "      <th>Values</th>\n",
       "    </tr>\n",
       "  </thead>\n",
       "  <tbody>\n",
       "    <tr>\n",
       "      <th>8</th>\n",
       "      <td>MMD</td>\n",
       "      <td>1.154995</td>\n",
       "    </tr>\n",
       "    <tr>\n",
       "      <th>9</th>\n",
       "      <td>MSE</td>\n",
       "      <td>0.172373</td>\n",
       "    </tr>\n",
       "  </tbody>\n",
       "</table>\n",
       "</div>"
      ],
      "text/plain": [
       "  Metric    Values\n",
       "8    MMD  1.154995\n",
       "9    MSE  0.172373"
      ]
     },
     "execution_count": 82,
     "metadata": {},
     "output_type": "execute_result"
    }
   ],
   "source": [
    "df_sample = df_double[:2].iloc[:, [0, 1]]\n",
    "df_sample[\"Values\"] = [df.iloc[:, 1:].mean(axis=0)[1], df.iloc[:, 1:].mean(axis=0)[3]]\n",
    "df_sample"
   ]
  },
  {
   "cell_type": "code",
   "execution_count": 81,
   "metadata": {},
   "outputs": [
    {
     "data": {
      "text/plain": [
       "1.154994859970846"
      ]
     },
     "execution_count": 81,
     "metadata": {},
     "output_type": "execute_result"
    }
   ],
   "source": [
    "df.iloc[:, 1:].mean(axis=0)[1]"
   ]
  }
 ],
 "metadata": {
  "kernelspec": {
   "display_name": "Python 3 (ipykernel)",
   "language": "python",
   "name": "python3"
  },
  "language_info": {
   "codemirror_mode": {
    "name": "ipython",
    "version": 3
   },
   "file_extension": ".py",
   "mimetype": "text/x-python",
   "name": "python",
   "nbconvert_exporter": "python",
   "pygments_lexer": "ipython3",
   "version": "3.10.9"
  }
 },
 "nbformat": 4,
 "nbformat_minor": 2
}
