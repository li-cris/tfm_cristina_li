{
 "cells": [
  {
   "cell_type": "markdown",
   "metadata": {},
   "source": [
    "# Load and Preprocess the scRNA-seq Data"
   ]
  },
  {
   "cell_type": "markdown",
   "metadata": {},
   "source": [
    "Show available datasets from the `pertdata` package:"
   ]
  },
  {
   "cell_type": "code",
   "execution_count": 1,
   "metadata": {},
   "outputs": [
    {
     "name": "stdout",
     "output_type": "stream",
     "text": [
      "Available datasets:\n",
      "  DixitRegev2016\n",
      "  NormanWeissman2019_filtered\n",
      "  ReplogleWeissman2022_K562_essential\n",
      "  ReplogleWeissman2022_rpe1\n",
      "  adamson\n",
      "  dixit\n",
      "  norman\n",
      "  replogle_k562_essential\n",
      "  replogle_rpe1_essential\n",
      "  wessel_dataset\n"
     ]
    }
   ],
   "source": [
    "import pertdata as pt\n",
    "\n",
    "datasets_dict = pt.datasets()\n",
    "print(\"Available datasets:\")\n",
    "for key in datasets_dict.keys():\n",
    "    print(f\"  {key}\")"
   ]
  },
  {
   "cell_type": "markdown",
   "metadata": {},
   "source": [
    "Load the \"NormanWeissman2019_filtered\" dataset:"
   ]
  },
  {
   "cell_type": "code",
   "execution_count": 2,
   "metadata": {},
   "outputs": [
    {
     "name": "stdout",
     "output_type": "stream",
     "text": [
      "Dataset already cached: /workspaces/transmet/cache/pertdata/NormanWeissman2019_filtered\n",
      "Loading: /workspaces/transmet/cache/pertdata/NormanWeissman2019_filtered/adata.h5ad\n",
      "PertDataset object\n",
      "    name: NormanWeissman2019_filtered\n",
      "    cache_dir_path: /workspaces/transmet/cache/pertdata\n",
      "    path: /workspaces/transmet/cache/pertdata/NormanWeissman2019_filtered\n",
      "    adata: AnnData object with n_obs ✕ n_vars = 111445 ✕ 33694\n"
     ]
    }
   ],
   "source": [
    "import os\n",
    "\n",
    "NormanWeissman2019_filtered = pt.PertDataset(\n",
    "    name=\"NormanWeissman2019_filtered\",\n",
    "    cache_dir_path=os.path.join(\"..\", \"cache\", \"pertdata\"),\n",
    ")\n",
    "print(NormanWeissman2019_filtered)\n",
    "adata = NormanWeissman2019_filtered.adata"
   ]
  },
  {
   "cell_type": "markdown",
   "metadata": {},
   "source": [
    "- The expression matrix is in `adata.X` with cells as rows and genes as columns.\n",
    "- Perturbation labels are stored in `adata.obs[\"perturbation\"]`.\n",
    "- Gene names are in `adata.var_names`."
   ]
  },
  {
   "cell_type": "code",
   "execution_count": 3,
   "metadata": {},
   "outputs": [
    {
     "name": "stdout",
     "output_type": "stream",
     "text": [
      "Unique perturbations: 237\n",
      "Unique genes: 33694\n"
     ]
    }
   ],
   "source": [
    "perturbations = adata.obs[\"perturbation\"].unique()\n",
    "genes = adata.var_names\n",
    "print(f\"Unique perturbations: {len(perturbations)}\")\n",
    "print(f\"Unique genes: {len(genes)}\")"
   ]
  },
  {
   "cell_type": "markdown",
   "metadata": {},
   "source": [
    "Demultiplex `adata` for control/single/double perturbations."
   ]
  },
  {
   "cell_type": "code",
   "execution_count": 4,
   "metadata": {},
   "outputs": [],
   "source": [
    "adata_control = adata[adata.obs[\"nperts\"] == 0].copy()\n",
    "adata_single = adata[adata.obs[\"nperts\"] == 1].copy()\n",
    "adata_double = adata[adata.obs[\"nperts\"] == 2].copy()"
   ]
  },
  {
   "cell_type": "code",
   "execution_count": 5,
   "metadata": {},
   "outputs": [
    {
     "name": "stdout",
     "output_type": "stream",
     "text": [
      "Unique control perturbations: 1\n",
      "Unique single perturbations: 105\n",
      "Unique double perturbations: 131\n"
     ]
    }
   ],
   "source": [
    "perturbations_control = adata_control.obs[\"perturbation\"].unique()\n",
    "perturbations_single = adata_single.obs[\"perturbation\"].unique()\n",
    "perturbations_double = adata_double.obs[\"perturbation\"].unique()\n",
    "\n",
    "print(f\"Unique control perturbations: {len(perturbations_control)}\")\n",
    "print(f\"Unique single perturbations: {len(perturbations_single)}\")\n",
    "print(f\"Unique double perturbations: {len(perturbations_double)}\")"
   ]
  },
  {
   "cell_type": "markdown",
   "metadata": {},
   "source": [
    "We will continue working **with single-gene perturbations only**.\n",
    "Also, we remove perturbations that are not measured."
   ]
  },
  {
   "cell_type": "code",
   "execution_count": 6,
   "metadata": {},
   "outputs": [
    {
     "name": "stdout",
     "output_type": "stream",
     "text": [
      "Removing 3 perturbations: ['C3orf72', 'C19orf26', 'KIAA1804']\n",
      "Unique single filtered perturbations: 102\n"
     ]
    }
   ],
   "source": [
    "to_remove = []\n",
    "for perturbation in perturbations_single:\n",
    "    if perturbation not in adata_single.var_names:\n",
    "        to_remove.append(perturbation)\n",
    "\n",
    "print(f\"Removing {len(to_remove)} perturbations: {to_remove}\")\n",
    "\n",
    "adata_single_filtered = adata_single[\n",
    "    ~adata_single.obs[\"perturbation\"].isin(to_remove)\n",
    "].copy()\n",
    "\n",
    "perturbations_single_filtered = adata_single_filtered.obs[\"perturbation\"].unique()\n",
    "print(f\"Unique single filtered perturbations: {len(perturbations_single_filtered)}\")"
   ]
  },
  {
   "cell_type": "markdown",
   "metadata": {},
   "source": [
    "Ensure that the expression matrix is in a dense format:"
   ]
  },
  {
   "cell_type": "code",
   "execution_count": 7,
   "metadata": {},
   "outputs": [],
   "source": [
    "from scipy.sparse import issparse\n",
    "\n",
    "if issparse(adata_single_filtered):\n",
    "    adata_single_filtered.X = adata_single_filtered.X.toarray()"
   ]
  },
  {
   "cell_type": "markdown",
   "metadata": {},
   "source": [
    "Aggregate (pseudobulk) the single-cell data per perturbation:"
   ]
  },
  {
   "cell_type": "code",
   "execution_count": 8,
   "metadata": {},
   "outputs": [],
   "source": [
    "Y_train = []\n",
    "\n",
    "for perturbation in perturbations_single_filtered:\n",
    "    # Subset the data for the current perturbation.\n",
    "    cells = adata_single_filtered[\n",
    "        adata_single_filtered.obs[\"perturbation\"] == perturbation\n",
    "    ]\n",
    "\n",
    "    # Compute the average expressions across cells.\n",
    "    mean_expressions = cells.X.mean(axis=0)\n",
    "\n",
    "    # Append the mean expression to Y_train.\n",
    "    Y_train.append(mean_expressions)"
   ]
  },
  {
   "cell_type": "markdown",
   "metadata": {},
   "source": [
    "Convert `Y_train` to a numpy array:"
   ]
  },
  {
   "cell_type": "code",
   "execution_count": 9,
   "metadata": {},
   "outputs": [],
   "source": [
    "import numpy as np\n",
    "\n",
    "Y_train = np.array(Y_train).squeeze()"
   ]
  },
  {
   "cell_type": "markdown",
   "metadata": {},
   "source": [
    "# The Linear Gene Expression Model"
   ]
  },
  {
   "cell_type": "markdown",
   "metadata": {},
   "source": [
    "In the Linear Gene Expression Model (LGEM) by [Ahlmann-Eltze et al. (2024)](https://doi.org/10.1101/2024.09.16.613342), we have:\n",
    "- Embeddings for read-out genes: $G$ (an $n \\times K$ matrix, where $n$ is the number of read-out genes and $K$ is the dimensionality of the embeddings).\n",
    "- Embeddings for perturbations: $P$ (an $m \\times K$ matrix, where $m$ is the number of perturbations).\n",
    "\n",
    "Given a data matrix $Y_{\\text{train}}$ of gene expression values, the model then fits the matrix $W$ by minimizing:\n",
    "$$\n",
    "\\arg\\min_{W} \\| Y_{\\text{train}} - (G W P^\\top + b) \\|^2\n",
    "$$\n",
    "\n",
    "Hence, we furthermore have:\n",
    "- Data matrix: $Y_{\\text{train}}$ (an $n \\times m$ matrix, i.e., pseudobulked per condition/perturbation).\n",
    "- Weight matrix: $W$ (a $K \\times K$ matrix to be learned).\n",
    "- Bias vector: $b$ (an $n \\times 1$ vector of average gene expressions).\n",
    "\n",
    "The model then predicts gene expression values using:\n",
    "$$\n",
    "Y_{\\text{train}} \\approx G W P^\\top + b\n",
    "$$\n",
    "\n",
    "Note: The bias vector $b$ (with dimensions $n \\times 1$) is added to each column of the matrix $G W P^\\top$ (with dimensions $n \\times m$).\n",
    "This operation effectively _broadcasts_ the vector $b$ across all $m$ columns, repeating it $m$ times to match the dimensions of $G W P^\\top$.\n",
    "PyTorch handles broadcasting automatically implicitly.\n",
    "\n",
    "In the paper, to obtain the embeddings $G$ and $P$, they performed a PCA on $Y_{\\text{train}}$ and used the top $K$ principal components for $G$.\n",
    "They then subset this $G$ to only the rows corresponding to genes that have been perturbed in the training data (and hence appear as columns in $Y_{\\text{train}}$) and used the resulting matrix for $P$.\n",
    "When using the model for prediction, they replace $P$ with the matrix formed by the rows of $G$ corresponding to genes perturbed in the test data."
   ]
  },
  {
   "cell_type": "markdown",
   "metadata": {},
   "source": [
    "Prepare the expression matrix $Y_{\\text{train}}$:"
   ]
  },
  {
   "cell_type": "code",
   "execution_count": 10,
   "metadata": {},
   "outputs": [],
   "source": [
    "Y_train_copy = Y_train.copy()\n",
    "Y_train = Y_train.T  # Shape: (n_genes, n_perturbations)"
   ]
  },
  {
   "cell_type": "markdown",
   "metadata": {},
   "source": [
    "Perform a PCA on $Y_{\\text{train}}$ to obtain the top $K$ principal components, which will serve as the gene embeddings $G$:"
   ]
  },
  {
   "cell_type": "code",
   "execution_count": 11,
   "metadata": {},
   "outputs": [],
   "source": [
    "from sklearn.decomposition import PCA\n",
    "\n",
    "K = 10\n",
    "pca = PCA(n_components=K)\n",
    "G = pca.fit_transform(Y_train)  # Shape: (n_genes, K)"
   ]
  },
  {
   "cell_type": "markdown",
   "metadata": {},
   "source": [
    "Extract perturbation embeddings $P$ from $G$ by subsetting $G$ to only the rows corresponding to genes that have been perturbed in the training data:"
   ]
  },
  {
   "cell_type": "code",
   "execution_count": 12,
   "metadata": {},
   "outputs": [],
   "source": [
    "# Identify the indexes of perturbations.\n",
    "indexes = [\n",
    "    list(adata_single_filtered.var_names).index(gene_name)\n",
    "    for gene_name in perturbations_single_filtered\n",
    "]\n",
    "\n",
    "# Extract P from G.\n",
    "P = G[indexes, :]  # Shape: (n_perturbations, K)"
   ]
  },
  {
   "cell_type": "markdown",
   "metadata": {},
   "source": [
    "Compute $b$ as the average expression of each gene across all perturbations:"
   ]
  },
  {
   "cell_type": "code",
   "execution_count": 13,
   "metadata": {},
   "outputs": [],
   "source": [
    "b = Y_train.mean(axis=1, keepdims=True)  # Shape: (n_genes, 1)"
   ]
  },
  {
   "cell_type": "markdown",
   "metadata": {},
   "source": [
    "Center $Y_{\\text{train}}$ by subtracting $b$:"
   ]
  },
  {
   "cell_type": "code",
   "execution_count": 14,
   "metadata": {},
   "outputs": [],
   "source": [
    "Y_centered = Y_train - b  # Shape: (n_genes, n_perturbations)"
   ]
  },
  {
   "cell_type": "markdown",
   "metadata": {},
   "source": [
    "We can vectorize the equation $Y_{\\text{centered}} = G W P^\\top$ and set it up in a form suitable for least squares.\n",
    "\n",
    "Using the mixed-product property of the Kronecker product, we have:\n",
    "$$\n",
    "\\text{vec} (Y_{\\text{centered}}) = (P \\otimes G) \\text{vec} (W)\n",
    "$$\n",
    "\n",
    "Here:\n",
    "- $\\text{vec} (Y_{\\text{centered}})$ is the vectorization of $Y_{\\text{centered}}$ (flattened column-wise).\n",
    "- $P \\otimes G$ is the Kronecker product of $P$ and $G$.\n",
    "- $\\text{vec} (W)$ is the vectorization of $W$ (flattened column-wise)."
   ]
  },
  {
   "cell_type": "code",
   "execution_count": 15,
   "metadata": {},
   "outputs": [],
   "source": [
    "from scipy.linalg import kron\n",
    "\n",
    "# Flatten Y_centered.\n",
    "Y_vec = Y_centered.flatten(order=\"F\")\n",
    "\n",
    "# Ensure that P and G are numpy arrays.\n",
    "P = np.array(P)\n",
    "G = np.array(G)\n",
    "\n",
    "# Compute the Kronecker product of P and G.\n",
    "Kron_P_G = kron(P, G)  # Shape: (n_genes * n_perturbations, K * K)"
   ]
  },
  {
   "cell_type": "markdown",
   "metadata": {},
   "source": [
    "We can now solve the linear equation:\n",
    "$$\n",
    "Y_{\\text{vec}} = (P \\otimes G) \\cdot W_{\\text{vec}}\n",
    "$$"
   ]
  },
  {
   "cell_type": "code",
   "execution_count": 16,
   "metadata": {},
   "outputs": [],
   "source": [
    "from numpy.linalg import lstsq\n",
    "\n",
    "# Solve the least squares problem.\n",
    "W_vec, residuals, rank, s = lstsq(Kron_P_G, Y_vec, rcond=None)\n",
    "\n",
    "# Reshape vec(W) back to matrix W.\n",
    "W = W_vec.reshape(K, K, order=\"F\")"
   ]
  },
  {
   "cell_type": "markdown",
   "metadata": {},
   "source": [
    "Verify:"
   ]
  },
  {
   "cell_type": "code",
   "execution_count": 17,
   "metadata": {},
   "outputs": [
    {
     "name": "stdout",
     "output_type": "stream",
     "text": [
      "MSE: 0.4264335036277771\n"
     ]
    }
   ],
   "source": [
    "# Reconstruct Y_centered using G, W, and P.\n",
    "Y_centered_pred = G @ W @ P.T  # Shape: (n_genes, n_perturbations)\n",
    "\n",
    "# Compute the mean squared error.\n",
    "mse = np.mean((Y_centered - Y_centered_pred) ** 2)\n",
    "print(f\"MSE: {mse}\")"
   ]
  },
  {
   "cell_type": "markdown",
   "metadata": {},
   "source": [
    "# Formulating the Linear Gene Expression Model As a Neural Network"
   ]
  },
  {
   "cell_type": "markdown",
   "metadata": {},
   "source": [
    "The LGEM formulation matches the standard linear layer in neural networks, where the output is a linear transformation of the input plus a bias term.\n",
    "By combining $G$ and $W$ into a single matrix $M = G W$ with dimensions $n \\times K$, we can write the prediction for each perturbation as:\n",
    "$$\n",
    "y = M p^\\top + b\n",
    "$$\n",
    "\n",
    "Here:\n",
    "- $y$ is the predicted gene expression vector ($n \\times 1$).\n",
    "- $p^\\top$ is the transpose of the perturbation embedding vector ($K \\times 1$).\n",
    "- $M$ serves as the weight matrix in the neural network.\n",
    "- $b$ is the bias vector.\n",
    "\n",
    "This can directly be interpreted as the standard linear layer given by:\n",
    "$$\n",
    "y = W x + b\n",
    "$$\n",
    "\n",
    "Note that both models are linear.\n",
    "We can now choose to keep $G$ fixed (i.e., it consists of the top $K$ principal components from a PCA on $Y_{\\text{train}}$), and only learn $W$.\n",
    "Then, the neural network (_without activation functions_) is equivalent to the original LGEM.\n",
    "$M = G W$ would then be a combination of the fixed $G$ and the learned $W$.\n",
    "\n",
    "Options for improvement:\n",
    "- We can choose to set $G$ to be learnable.\n",
    "- We can include non-linearity (i.e., activation functions) in the model."
   ]
  },
  {
   "cell_type": "code",
   "execution_count": 18,
   "metadata": {},
   "outputs": [],
   "source": [
    "# Ensure that G, P, b, and Y_train are numpy arrays.\n",
    "G_np = np.array(G)  # Shape: (n_genes, K)\n",
    "P_np = np.array(P)  # Shape: (n_perturbations, K)\n",
    "b_np = np.array(b)  # Shape: (n_genes, 1)\n",
    "Y_train_np = np.array(Y_train)  # Shape: (n_genes, n_perturbations)"
   ]
  },
  {
   "cell_type": "code",
   "execution_count": 19,
   "metadata": {},
   "outputs": [],
   "source": [
    "import torch\n",
    "\n",
    "# Convert numpy arrays to torch tensors.\n",
    "# Note: By default tensors created from numpy arrays have requires_grad=False, which is\n",
    "# what we want for fixed G, P, and b.\n",
    "G_tensor = torch.from_numpy(G_np).float()\n",
    "P_tensor = torch.from_numpy(P_np).float()\n",
    "b_tensor = torch.from_numpy(b_np).float()\n",
    "Y_train_tensor = torch.from_numpy(Y_train_np).float()"
   ]
  },
  {
   "cell_type": "markdown",
   "metadata": {
    "vscode": {
     "languageId": "bat"
    }
   },
   "source": [
    "We create a custom PyTorch `nn.Module` where `W` is the only learnable parameter:"
   ]
  },
  {
   "cell_type": "code",
   "execution_count": 20,
   "metadata": {},
   "outputs": [],
   "source": [
    "import torch.nn as nn\n",
    "\n",
    "\n",
    "class LinearGeneExpressionModel(nn.Module):  # noqa: D101\n",
    "    def __init__(self, G, b):  # noqa: D107, N803\n",
    "        super(LinearGeneExpressionModel, self).__init__()\n",
    "        self.G = G\n",
    "        self.b = b\n",
    "        K = G.shape[1]  # noqa: N806\n",
    "        self.W = nn.Parameter(data=torch.randn(K, K))\n",
    "\n",
    "    def forward(self, P):  # noqa: D102, N803\n",
    "        M = self.G @ self.W  # noqa: N806\n",
    "        Y_pred = M @ P.T  # noqa: N806\n",
    "        Y_pred = Y_pred + self.b  # noqa: N806\n",
    "        return Y_pred"
   ]
  },
  {
   "cell_type": "markdown",
   "metadata": {},
   "source": [
    "Set up everything for training:"
   ]
  },
  {
   "cell_type": "code",
   "execution_count": 21,
   "metadata": {},
   "outputs": [],
   "source": [
    "torch.manual_seed(seed=42)\n",
    "model = LinearGeneExpressionModel(G=G_tensor, b=b_tensor)\n",
    "criterion = nn.MSELoss()\n",
    "optimizer = torch.optim.Adam(params=model.parameters(), lr=1e-3)"
   ]
  },
  {
   "cell_type": "markdown",
   "metadata": {},
   "source": [
    "Note: Only model parameters that have `requires_grad=True` will be updated."
   ]
  },
  {
   "cell_type": "code",
   "execution_count": 22,
   "metadata": {},
   "outputs": [
    {
     "name": "stdout",
     "output_type": "stream",
     "text": [
      "Parameter 'W' will be updated during training.\n"
     ]
    }
   ],
   "source": [
    "for name, param in model.named_parameters():\n",
    "    if param.requires_grad:\n",
    "        print(f\"Parameter '{name}' will be updated during training.\")"
   ]
  },
  {
   "cell_type": "code",
   "execution_count": 23,
   "metadata": {},
   "outputs": [],
   "source": [
    "from torch.utils.data import DataLoader, TensorDataset\n",
    "\n",
    "# Create a dataset and dataloader.\n",
    "dataset = TensorDataset(P_tensor, Y_train_tensor.T)  # Transpose Y_train to match P.\n",
    "batch_size = P_tensor.shape[0]  # Use the full dataset.\n",
    "dataloader = DataLoader(dataset, batch_size=batch_size, shuffle=True)"
   ]
  },
  {
   "cell_type": "code",
   "execution_count": 24,
   "metadata": {},
   "outputs": [
    {
     "name": "stdout",
     "output_type": "stream",
     "text": [
      "Epoch [100/20000], Loss: 2730787.5000\n",
      "Epoch [200/20000], Loss: 2173780.5000\n",
      "Epoch [300/20000], Loss: 1843706.7500\n",
      "Epoch [400/20000], Loss: 1622741.0000\n",
      "Epoch [500/20000], Loss: 1451387.0000\n",
      "Epoch [600/20000], Loss: 1303016.5000\n",
      "Epoch [700/20000], Loss: 1167628.1250\n",
      "Epoch [800/20000], Loss: 1042005.3750\n",
      "Epoch [900/20000], Loss: 925242.4375\n",
      "Epoch [1000/20000], Loss: 817101.1250\n",
      "Epoch [1100/20000], Loss: 717489.6250\n",
      "Epoch [1200/20000], Loss: 626303.7500\n",
      "Epoch [1300/20000], Loss: 543382.6250\n",
      "Epoch [1400/20000], Loss: 468498.9062\n",
      "Epoch [1500/20000], Loss: 401361.7812\n",
      "Epoch [1600/20000], Loss: 341620.5625\n",
      "Epoch [1700/20000], Loss: 288876.2812\n",
      "Epoch [1800/20000], Loss: 242690.8750\n",
      "Epoch [1900/20000], Loss: 202596.1094\n",
      "Epoch [2000/20000], Loss: 168103.8438\n",
      "Epoch [2100/20000], Loss: 138714.1250\n",
      "Epoch [2200/20000], Loss: 113924.0234\n",
      "Epoch [2300/20000], Loss: 93236.0469\n",
      "Epoch [2400/20000], Loss: 76165.3828\n",
      "Epoch [2500/20000], Loss: 62246.4141\n",
      "Epoch [2600/20000], Loss: 51038.9297\n",
      "Epoch [2700/20000], Loss: 42132.8828\n",
      "Epoch [2800/20000], Loss: 35152.4570\n",
      "Epoch [2900/20000], Loss: 29758.7676\n",
      "Epoch [3000/20000], Loss: 25651.4180\n",
      "Epoch [3100/20000], Loss: 22569.0371\n",
      "Epoch [3200/20000], Loss: 20288.4863\n",
      "Epoch [3300/20000], Loss: 18622.9609\n",
      "Epoch [3400/20000], Loss: 17419.4512\n",
      "Epoch [3500/20000], Loss: 16555.3223\n",
      "Epoch [3600/20000], Loss: 15934.5908\n",
      "Epoch [3700/20000], Loss: 15483.9043\n",
      "Epoch [3800/20000], Loss: 15148.6465\n",
      "Epoch [3900/20000], Loss: 14889.2119\n",
      "Epoch [4000/20000], Loss: 14677.6777\n",
      "Epoch [4100/20000], Loss: 14494.9268\n",
      "Epoch [4200/20000], Loss: 14328.2393\n",
      "Epoch [4300/20000], Loss: 14169.4160\n",
      "Epoch [4400/20000], Loss: 14013.3506\n",
      "Epoch [4500/20000], Loss: 13856.9316\n",
      "Epoch [4600/20000], Loss: 13698.3555\n",
      "Epoch [4700/20000], Loss: 13536.5947\n",
      "Epoch [4800/20000], Loss: 13371.0879\n",
      "Epoch [4900/20000], Loss: 13201.5303\n",
      "Epoch [5000/20000], Loss: 13027.7725\n",
      "Epoch [5100/20000], Loss: 12849.7471\n",
      "Epoch [5200/20000], Loss: 12667.4316\n",
      "Epoch [5300/20000], Loss: 12480.8369\n",
      "Epoch [5400/20000], Loss: 12289.9902\n",
      "Epoch [5500/20000], Loss: 12094.9434\n",
      "Epoch [5600/20000], Loss: 11895.7637\n",
      "Epoch [5700/20000], Loss: 11692.5117\n",
      "Epoch [5800/20000], Loss: 11485.2891\n",
      "Epoch [5900/20000], Loss: 11274.1963\n",
      "Epoch [6000/20000], Loss: 11059.3496\n",
      "Epoch [6100/20000], Loss: 10840.8799\n",
      "Epoch [6200/20000], Loss: 10618.9287\n",
      "Epoch [6300/20000], Loss: 10393.6582\n",
      "Epoch [6400/20000], Loss: 10165.2334\n",
      "Epoch [6500/20000], Loss: 9933.8428\n",
      "Epoch [6600/20000], Loss: 9699.6904\n",
      "Epoch [6700/20000], Loss: 9462.9912\n",
      "Epoch [6800/20000], Loss: 9223.9727\n",
      "Epoch [6900/20000], Loss: 8982.8867\n",
      "Epoch [7000/20000], Loss: 8739.9971\n",
      "Epoch [7100/20000], Loss: 8495.5820\n",
      "Epoch [7200/20000], Loss: 8249.9375\n",
      "Epoch [7300/20000], Loss: 8003.3691\n",
      "Epoch [7400/20000], Loss: 7756.2012\n",
      "Epoch [7500/20000], Loss: 7508.7700\n",
      "Epoch [7600/20000], Loss: 7261.4199\n",
      "Epoch [7700/20000], Loss: 7014.5054\n",
      "Epoch [7800/20000], Loss: 6768.3931\n",
      "Epoch [7900/20000], Loss: 6523.4487\n",
      "Epoch [8000/20000], Loss: 6280.0415\n",
      "Epoch [8100/20000], Loss: 6038.5400\n",
      "Epoch [8200/20000], Loss: 5799.3135\n",
      "Epoch [8300/20000], Loss: 5562.7183\n",
      "Epoch [8400/20000], Loss: 5329.1084\n",
      "Epoch [8500/20000], Loss: 5098.8184\n",
      "Epoch [8600/20000], Loss: 4872.1699\n",
      "Epoch [8700/20000], Loss: 4649.4668\n",
      "Epoch [8800/20000], Loss: 4430.9907\n",
      "Epoch [8900/20000], Loss: 4217.0059\n",
      "Epoch [9000/20000], Loss: 4007.7471\n",
      "Epoch [9100/20000], Loss: 3803.4265\n",
      "Epoch [9200/20000], Loss: 3604.2317\n",
      "Epoch [9300/20000], Loss: 3410.3228\n",
      "Epoch [9400/20000], Loss: 3221.8398\n",
      "Epoch [9500/20000], Loss: 3038.8938\n",
      "Epoch [9600/20000], Loss: 2861.5811\n",
      "Epoch [9700/20000], Loss: 2689.9758\n",
      "Epoch [9800/20000], Loss: 2524.1343\n",
      "Epoch [9900/20000], Loss: 2364.1001\n",
      "Epoch [10000/20000], Loss: 2209.9058\n",
      "Epoch [10100/20000], Loss: 2061.5737\n",
      "Epoch [10200/20000], Loss: 1919.1200\n",
      "Epoch [10300/20000], Loss: 1782.5564\n",
      "Epoch [10400/20000], Loss: 1651.8833\n",
      "Epoch [10500/20000], Loss: 1527.1038\n",
      "Epoch [10600/20000], Loss: 1408.2142\n",
      "Epoch [10700/20000], Loss: 1295.2042\n",
      "Epoch [10800/20000], Loss: 1188.0566\n",
      "Epoch [10900/20000], Loss: 1086.7458\n",
      "Epoch [11000/20000], Loss: 991.2341\n",
      "Epoch [11100/20000], Loss: 901.4697\n",
      "Epoch [11200/20000], Loss: 817.3856\n",
      "Epoch [11300/20000], Loss: 738.8962\n",
      "Epoch [11400/20000], Loss: 665.8945\n",
      "Epoch [11500/20000], Loss: 598.2542\n",
      "Epoch [11600/20000], Loss: 535.8262\n",
      "Epoch [11700/20000], Loss: 478.4409\n",
      "Epoch [11800/20000], Loss: 425.9067\n",
      "Epoch [11900/20000], Loss: 378.0140\n",
      "Epoch [12000/20000], Loss: 334.5349\n",
      "Epoch [12100/20000], Loss: 295.2269\n",
      "Epoch [12200/20000], Loss: 259.8362\n",
      "Epoch [12300/20000], Loss: 228.1004\n",
      "Epoch [12400/20000], Loss: 199.7526\n",
      "Epoch [12500/20000], Loss: 174.5240\n",
      "Epoch [12600/20000], Loss: 152.1492\n",
      "Epoch [12700/20000], Loss: 132.3682\n",
      "Epoch [12800/20000], Loss: 114.9305\n",
      "Epoch [12900/20000], Loss: 99.5972\n",
      "Epoch [13000/20000], Loss: 86.1437\n",
      "Epoch [13100/20000], Loss: 74.3615\n",
      "Epoch [13200/20000], Loss: 64.0590\n",
      "Epoch [13300/20000], Loss: 55.0623\n",
      "Epoch [13400/20000], Loss: 47.2154\n",
      "Epoch [13500/20000], Loss: 40.3792\n",
      "Epoch [13600/20000], Loss: 34.4311\n",
      "Epoch [13700/20000], Loss: 29.2634\n",
      "Epoch [13800/20000], Loss: 24.7821\n",
      "Epoch [13900/20000], Loss: 20.9050\n",
      "Epoch [14000/20000], Loss: 17.5604\n",
      "Epoch [14100/20000], Loss: 14.6855\n",
      "Epoch [14200/20000], Loss: 12.2246\n",
      "Epoch [14300/20000], Loss: 10.1289\n",
      "Epoch [14400/20000], Loss: 8.3536\n",
      "Epoch [14500/20000], Loss: 6.8601\n",
      "Epoch [14600/20000], Loss: 5.6118\n",
      "Epoch [14700/20000], Loss: 4.5768\n",
      "Epoch [14800/20000], Loss: 3.7254\n",
      "Epoch [14900/20000], Loss: 3.0312\n",
      "Epoch [15000/20000], Loss: 2.4704\n",
      "Epoch [15100/20000], Loss: 2.0209\n",
      "Epoch [15200/20000], Loss: 1.6646\n",
      "Epoch [15300/20000], Loss: 1.3845\n",
      "Epoch [15400/20000], Loss: 1.1663\n",
      "Epoch [15500/20000], Loss: 0.9978\n",
      "Epoch [15600/20000], Loss: 0.8688\n",
      "Epoch [15700/20000], Loss: 0.7705\n",
      "Epoch [15800/20000], Loss: 0.6961\n",
      "Epoch [15900/20000], Loss: 0.6400\n",
      "Epoch [16000/20000], Loss: 0.5977\n",
      "Epoch [16100/20000], Loss: 0.5661\n",
      "Epoch [16200/20000], Loss: 0.5415\n",
      "Epoch [16300/20000], Loss: 0.5230\n",
      "Epoch [16400/20000], Loss: 0.5086\n",
      "Epoch [16500/20000], Loss: 0.4976\n",
      "Epoch [16600/20000], Loss: 0.4884\n",
      "Epoch [16700/20000], Loss: 0.4810\n",
      "Epoch [16800/20000], Loss: 0.4749\n",
      "Epoch [16900/20000], Loss: 0.4697\n",
      "Epoch [17000/20000], Loss: 0.4652\n",
      "Epoch [17100/20000], Loss: 0.4613\n",
      "Epoch [17200/20000], Loss: 0.4576\n",
      "Epoch [17300/20000], Loss: 0.4555\n",
      "Epoch [17400/20000], Loss: 0.4561\n",
      "Epoch [17500/20000], Loss: 0.4488\n",
      "Epoch [17600/20000], Loss: 0.4464\n",
      "Epoch [17700/20000], Loss: 0.4472\n",
      "Epoch [17800/20000], Loss: 0.4420\n",
      "Epoch [17900/20000], Loss: 0.4399\n",
      "Epoch [18000/20000], Loss: 0.4419\n",
      "Epoch [18100/20000], Loss: 0.4366\n",
      "Epoch [18200/20000], Loss: 0.4351\n",
      "Epoch [18300/20000], Loss: 0.5758\n",
      "Epoch [18400/20000], Loss: 0.4327\n",
      "Epoch [18500/20000], Loss: 0.4318\n",
      "Epoch [18600/20000], Loss: 0.4308\n",
      "Epoch [18700/20000], Loss: 0.4303\n",
      "Epoch [18800/20000], Loss: 0.4294\n",
      "Epoch [18900/20000], Loss: 0.4288\n",
      "Epoch [19000/20000], Loss: 0.4304\n",
      "Epoch [19100/20000], Loss: 0.4279\n",
      "Epoch [19200/20000], Loss: 0.4276\n",
      "Epoch [19300/20000], Loss: 0.4275\n",
      "Epoch [19400/20000], Loss: 0.4271\n",
      "Epoch [19500/20000], Loss: 0.4271\n",
      "Epoch [19600/20000], Loss: 0.4268\n",
      "Epoch [19700/20000], Loss: 0.4295\n",
      "Epoch [19800/20000], Loss: 0.4266\n",
      "Epoch [19900/20000], Loss: 0.4266\n",
      "Epoch [20000/20000], Loss: 0.4266\n"
     ]
    }
   ],
   "source": [
    "train_losses = []\n",
    "num_epochs = 20000\n",
    "\n",
    "for epoch in range(num_epochs):\n",
    "    model.train()\n",
    "    epoch_loss = 0\n",
    "\n",
    "    for batch_P, batch_Y in dataloader:  # noqa: N816\n",
    "        optimizer.zero_grad()\n",
    "        Y_pred = model(batch_P)\n",
    "        loss = criterion(Y_pred, batch_Y.T)  # Transpose back to (n_genes x batch_size).\n",
    "        loss.backward()\n",
    "        optimizer.step()\n",
    "        epoch_loss += loss.item()\n",
    "\n",
    "    avg_epoch_loss = epoch_loss / len(dataloader)\n",
    "    train_losses.append(avg_epoch_loss)\n",
    "\n",
    "    if (epoch + 1) % 100 == 0:\n",
    "        print(f\"Epoch [{epoch+1}/{num_epochs}], Loss: {avg_epoch_loss:.4f}\")"
   ]
  },
  {
   "cell_type": "code",
   "execution_count": 25,
   "metadata": {},
   "outputs": [
    {
     "data": {
      "image/png": "[encoded data removed]",
      "text/plain": [
       "<Figure size 640x480 with 1 Axes>"
      ]
     },
     "metadata": {},
     "output_type": "display_data"
    }
   ],
   "source": [
    "import matplotlib.pyplot as plt\n",
    "\n",
    "plt.plot(train_losses)\n",
    "plt.xlim(0, num_epochs)\n",
    "plt.xlabel(\"Epoch\")\n",
    "plt.ylabel(\"MSE\")\n",
    "plt.title(\"Training Loss\")\n",
    "plt.show()"
   ]
  },
  {
   "cell_type": "code",
   "execution_count": 26,
   "metadata": {},
   "outputs": [
    {
     "name": "stdout",
     "output_type": "stream",
     "text": [
      "MSE: 1.4702258340548724e-05\n"
     ]
    }
   ],
   "source": [
    "# Compute the mean squared error between the W obtained via least squares optimization\n",
    "# and via learning.\n",
    "mse = np.mean((W - model.W.detach().numpy()) ** 2)\n",
    "print(f\"MSE: {mse}\")"
   ]
  }
 ],
 "metadata": {
  "kernelspec": {
   "display_name": "Python 3",
   "language": "python",
   "name": "python3"
  },
  "language_info": {
   "codemirror_mode": {
    "name": "ipython",
    "version": 3
   },
   "file_extension": ".py",
   "mimetype": "text/x-python",
   "name": "python",
   "nbconvert_exporter": "python",
   "pygments_lexer": "ipython3",
   "version": "3.12.7"
  }
 },
 "nbformat": 4,
 "nbformat_minor": 2
}
