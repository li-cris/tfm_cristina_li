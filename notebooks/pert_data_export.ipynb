{
 "cells": [
  {
   "cell_type": "code",
   "execution_count": 30,
   "metadata": {},
   "outputs": [],
   "source": [
    "import json\n",
    "\n",
    "import pertdata"
   ]
  },
  {
   "cell_type": "code",
   "execution_count": 31,
   "metadata": {},
   "outputs": [],
   "source": [
    "def filter_genes(dataset, column_name, genes):\n",
    "    \"\"\"Filter the genes in the dataset based on a provided list and column name.\n",
    "\n",
    "    Args:\n",
    "        dataset: The dataset (e.g., an AnnData object) containing .obs with gene information.\n",
    "        column_name (str): The column name in dataset.obs to filter on.\n",
    "        genes (list): A list of gene identifiers to filter for.\n",
    "\n",
    "    Returns:\n",
    "        list: A list of unique genes from the column that are present in the provided gene list.\n",
    "    \"\"\"\n",
    "    filtered_genes = (\n",
    "        dataset.obs[column_name][dataset.obs[column_name].isin(genes)].unique().tolist()\n",
    "    )\n",
    "    return filtered_genes\n"
   ]
  },
  {
   "cell_type": "code",
   "execution_count": 32,
   "metadata": {},
   "outputs": [
    {
     "name": "stdout",
     "output_type": "stream",
     "text": [
      "Available datasets:\n",
      "  DixitRegev2016\n",
      "  NormanWeissman2019_filtered\n",
      "  ReplogleWeissman2022_K562_essential\n",
      "  ReplogleWeissman2022_rpe1\n",
      "  adamson\n",
      "  dixit\n",
      "  jHepG2_essential\n",
      "  jurkat_essential\n",
      "  norman\n",
      "  replogle_k562_essential\n",
      "  replogle_rpe1_essential\n",
      "  wessel_dataset\n"
     ]
    }
   ],
   "source": [
    "datasets_dict = pertdata.datasets()\n",
    "print(\"Available datasets:\")\n",
    "for key in datasets_dict.keys():\n",
    "    print(f\"  {key}\")\n"
   ]
  },
  {
   "cell_type": "code",
   "execution_count": 33,
   "metadata": {},
   "outputs": [
    {
     "name": "stdout",
     "output_type": "stream",
     "text": [
      "Initializing metabolic model 'RECON2_mat' with the following parameters:\n",
      "  species: homo_sapiens\n",
      "  media: default-media\n",
      "  isoform_summing: remove-summing\n",
      "  exchange_limit: 1.0\n",
      "Loaded 6941 reaction-subsystem pairs.\n",
      "Metabolic model initialized successfully.\n",
      "Removing empty gene associations...\n",
      "Empty gene associations removed.\n",
      "Converting gene symbols to Ensembl IDs...\n",
      "Gene symbols converted to Ensembl IDs.\n",
      "Metabolic model loading complete.\n"
     ]
    }
   ],
   "source": [
    "from metavis import init_model_metavis\n",
    "\n",
    "recon2_mat_model = init_model_metavis(\"RECON2_mat\")\n",
    "meta_genes = recon2_mat_model.get_genes_ensembl_ids()"
   ]
  },
  {
   "cell_type": "code",
   "execution_count": 34,
   "metadata": {},
   "outputs": [],
   "source": [
    "carlos_genes = [\n",
    "    \"DHFR\",\n",
    "    \"PSAT1\",\n",
    "    \"RRM1\",\n",
    "    \"RRM2\",\n",
    "]\n",
    "\n",
    "carlos_genes_ensmbl_ids = [\n",
    "    \"ENSG00000228716\",\n",
    "    \"ENSG00000135069\",\n",
    "    \"ENSG00000167325\",\n",
    "    \"ENSG00000171848\",\n",
    "]"
   ]
  },
  {
   "cell_type": "code",
   "execution_count": 35,
   "metadata": {},
   "outputs": [],
   "source": [
    "min_cell_count = 100\n",
    "percentage = 0.5\n",
    "amount = 30"
   ]
  },
  {
   "cell_type": "markdown",
   "metadata": {},
   "source": [
    "# jHepG2 essential"
   ]
  },
  {
   "cell_type": "code",
   "execution_count": 36,
   "metadata": {},
   "outputs": [
    {
     "name": "stdout",
     "output_type": "stream",
     "text": [
      "Details for 'jHepG2_essential':\n",
      "{\n",
      "  \"name\": \"jHepG2-essential\",\n",
      "  \"info\": \"\",\n",
      "  \"publication\": {\n",
      "    \"doi\": \"https://www.biorxiv.org/content/10.1101/2024.07.03.601903v1.full.pdf\"\n",
      "  },\n",
      "  \"repository\": \"GEO\",\n",
      "  \"url\": \"https://www.ncbi.nlm.nih.gov/geo/download/?acc=GSE264667&format=file&file=GSE264667%5Fhepg2%5Fraw%5Fsinglecell%5F01%2Eh5ad\"\n",
      "}\n"
     ]
    }
   ],
   "source": [
    "selected_dataset = \"jHepG2_essential\"\n",
    "print(f\"Details for '{selected_dataset}':\")\n",
    "print(json.dumps(datasets_dict[selected_dataset], indent=2))"
   ]
  },
  {
   "cell_type": "code",
   "execution_count": 37,
   "metadata": {},
   "outputs": [
    {
     "name": "stdout",
     "output_type": "stream",
     "text": [
      "Dataset already cached: /home/gdufort/.cache/pertdata/jHepG2_essential\n",
      "Loading: /home/gdufort/.cache/pertdata/jHepG2_essential/adata.h5ad\n",
      "PertDataset object\n",
      "    name: jHepG2_essential\n",
      "    cache_dir_path: /home/gdufort/.cache/pertdata\n",
      "    path: /home/gdufort/.cache/pertdata/jHepG2_essential\n",
      "    adata: AnnData object with n_obs ✕ n_vars = 145473 ✕ 9624\n"
     ]
    }
   ],
   "source": [
    "jHepG2_essential = pertdata.PertDataset(name=\"jHepG2_essential\")\n",
    "print(jHepG2_essential)\n"
   ]
  },
  {
   "cell_type": "code",
   "execution_count": 38,
   "metadata": {},
   "outputs": [
    {
     "name": "stdout",
     "output_type": "stream",
     "text": [
      "4\n"
     ]
    }
   ],
   "source": [
    "column_name = \"gene_id\"\n",
    "\n",
    "jHepG2_unique_filtered_genes = filter_genes(\n",
    "    jHepG2_essential.adata, column_name, carlos_genes_ensmbl_ids\n",
    ")\n",
    "\n",
    "print(len(jHepG2_unique_filtered_genes))\n"
   ]
  },
  {
   "cell_type": "code",
   "execution_count": 39,
   "metadata": {},
   "outputs": [],
   "source": [
    "# Add the control cell line\n",
    "jHepG2_unique_filtered_genes.append(\"non-targeting\")\n"
   ]
  },
  {
   "cell_type": "code",
   "execution_count": 40,
   "metadata": {},
   "outputs": [
    {
     "name": "stdout",
     "output_type": "stream",
     "text": [
      "Processing group non-targeting with 4976 cells.\n",
      "Processing group ENSG00000171848 with 54 cells.\n",
      "Processing group ENSG00000228716 with 21 cells.\n",
      "Processing group ENSG00000167325 with 12 cells.\n",
      "Processing group ENSG00000135069 with 69 cells.\n"
     ]
    }
   ],
   "source": [
    "jHepG2_essential.pseudobulk_by_condition(\n",
    "    \"gene_id\",\n",
    "    replace=True,\n",
    "    filter_values=jHepG2_unique_filtered_genes,\n",
    "    min_cell_count=0,\n",
    "    percentage=percentage,\n",
    "    amount=amount,\n",
    ")\n"
   ]
  },
  {
   "cell_type": "code",
   "execution_count": 41,
   "metadata": {},
   "outputs": [],
   "source": [
    "# jHepG2_essential.normalize(type=\"CPM\")\n"
   ]
  },
  {
   "cell_type": "code",
   "execution_count": 42,
   "metadata": {},
   "outputs": [
    {
     "name": "stdout",
     "output_type": "stream",
     "text": [
      "Exporting all 150 samples to: Not-norm-jHepG2_essential_Carlos_genes_pseudobulk_m100_p0.5_a30.tsv\n"
     ]
    }
   ],
   "source": [
    "jHepG2_essential.export_tsv(\n",
    "    \"Not-norm-jHepG2_essential_Carlos_genes_pseudobulk\"\n",
    "    + \"_m\"\n",
    "    + str(min_cell_count)\n",
    "    + \"_p\"\n",
    "    + str(percentage)\n",
    "    + \"_a\"\n",
    "    + str(amount)\n",
    "    + \".tsv\"\n",
    ")\n"
   ]
  },
  {
   "cell_type": "markdown",
   "metadata": {},
   "source": [
    "# Jurkat essential"
   ]
  },
  {
   "cell_type": "code",
   "execution_count": 43,
   "metadata": {},
   "outputs": [
    {
     "name": "stdout",
     "output_type": "stream",
     "text": [
      "Details for 'jurkat_essential':\n",
      "{\n",
      "  \"name\": \"jurkat-essential\",\n",
      "  \"info\": \"\",\n",
      "  \"publication\": {\n",
      "    \"doi\": \"https://www.biorxiv.org/content/10.1101/2024.07.03.601903v1.full.pdf\"\n",
      "  },\n",
      "  \"repository\": \"GEO\",\n",
      "  \"url\": \"https://www.ncbi.nlm.nih.gov/geo/download/?acc=GSE264667&format=file&file=GSE264667%5Fjurkat%5Fraw%5Fsinglecell%5F01%2Eh5ad\"\n",
      "}\n"
     ]
    }
   ],
   "source": [
    "selected_dataset = \"jurkat_essential\"\n",
    "print(f\"Details for '{selected_dataset}':\")\n",
    "print(json.dumps(datasets_dict[selected_dataset], indent=2))\n"
   ]
  },
  {
   "cell_type": "code",
   "execution_count": 44,
   "metadata": {},
   "outputs": [
    {
     "name": "stdout",
     "output_type": "stream",
     "text": [
      "Dataset already cached: /home/gdufort/.cache/pertdata/jurkat_essential\n",
      "Loading: /home/gdufort/.cache/pertdata/jurkat_essential/adata.h5ad\n",
      "PertDataset object\n",
      "    name: jurkat_essential\n",
      "    cache_dir_path: /home/gdufort/.cache/pertdata\n",
      "    path: /home/gdufort/.cache/pertdata/jurkat_essential\n",
      "    adata: AnnData object with n_obs ✕ n_vars = 262956 ✕ 8882\n"
     ]
    }
   ],
   "source": [
    "jurkat_essential = pertdata.PertDataset(name=\"jurkat_essential\")\n",
    "print(jurkat_essential)"
   ]
  },
  {
   "cell_type": "code",
   "execution_count": 45,
   "metadata": {},
   "outputs": [
    {
     "name": "stdout",
     "output_type": "stream",
     "text": [
      "4\n"
     ]
    }
   ],
   "source": [
    "column_name = \"gene_id\"\n",
    "\n",
    "jurkat_unique_filtered_genes = filter_genes(\n",
    "    jurkat_essential.adata, column_name, carlos_genes_ensmbl_ids\n",
    ")\n",
    "print(len(jurkat_unique_filtered_genes))\n"
   ]
  },
  {
   "cell_type": "code",
   "execution_count": 46,
   "metadata": {},
   "outputs": [],
   "source": [
    "# Add the control cell line\n",
    "jurkat_unique_filtered_genes.append(\"non-targeting\")\n"
   ]
  },
  {
   "cell_type": "code",
   "execution_count": 47,
   "metadata": {},
   "outputs": [
    {
     "name": "stdout",
     "output_type": "stream",
     "text": [
      "Processing group non-targeting with 12013 cells.\n",
      "Processing group ENSG00000135069 with 122 cells.\n",
      "Processing group ENSG00000171848 with 40 cells.\n",
      "Processing group ENSG00000228716 with 63 cells.\n",
      "Processing group ENSG00000167325 with 3 cells.\n"
     ]
    }
   ],
   "source": [
    "jurkat_essential.pseudobulk_by_condition(\n",
    "    \"gene_id\",\n",
    "    replace=True,\n",
    "    filter_values=jHepG2_unique_filtered_genes,\n",
    "    min_cell_count=0,\n",
    "    percentage=percentage,\n",
    "    amount=amount,\n",
    ")\n"
   ]
  },
  {
   "cell_type": "code",
   "execution_count": 48,
   "metadata": {},
   "outputs": [],
   "source": [
    "# jurkat_essential.normalize(type=\"CPM\")\n"
   ]
  },
  {
   "cell_type": "code",
   "execution_count": 49,
   "metadata": {},
   "outputs": [
    {
     "name": "stdout",
     "output_type": "stream",
     "text": [
      "Exporting all 150 samples to: Not-norm-jurkat_essential_Carlos_genes_pseudobulk_m100_p0.5_a30.tsv\n"
     ]
    }
   ],
   "source": [
    "jurkat_essential.export_tsv(\n",
    "    \"Not-norm-jurkat_essential_Carlos_genes_pseudobulk\"\n",
    "    + \"_m\"\n",
    "    + str(min_cell_count)\n",
    "    + \"_p\"\n",
    "    + str(percentage)\n",
    "    + \"_a\"\n",
    "    + str(amount)\n",
    "    + \".tsv\"\n",
    ")\n"
   ]
  },
  {
   "cell_type": "markdown",
   "metadata": {},
   "source": [
    "# ReplogleRPE1 essential"
   ]
  },
  {
   "cell_type": "code",
   "execution_count": 50,
   "metadata": {},
   "outputs": [
    {
     "name": "stdout",
     "output_type": "stream",
     "text": [
      "Details for 'ReplogleWeissman2022_rpe1':\n",
      "{\n",
      "  \"name\": \"ReplogleWeissman2022_rpe1\",\n",
      "  \"info\": \"\",\n",
      "  \"publication\": {\n",
      "    \"doi\": \"10.1016/j.cell.2022.05.013\"\n",
      "  },\n",
      "  \"repository\": \"scPerturb\",\n",
      "  \"url\": \"https://zenodo.org/record/7041849/files/ReplogleWeissman2022_rpe1.h5ad\"\n",
      "}\n"
     ]
    }
   ],
   "source": [
    "selected_dataset = \"ReplogleWeissman2022_rpe1\"\n",
    "print(f\"Details for '{selected_dataset}':\")\n",
    "print(json.dumps(datasets_dict[selected_dataset], indent=2))\n"
   ]
  },
  {
   "cell_type": "code",
   "execution_count": 51,
   "metadata": {},
   "outputs": [
    {
     "name": "stdout",
     "output_type": "stream",
     "text": [
      "Dataset already cached: /home/gdufort/.cache/pertdata/ReplogleWeissman2022_rpe1\n",
      "Loading: /home/gdufort/.cache/pertdata/ReplogleWeissman2022_rpe1/adata.h5ad\n",
      "PertDataset object\n",
      "    name: ReplogleWeissman2022_rpe1\n",
      "    cache_dir_path: /home/gdufort/.cache/pertdata\n",
      "    path: /home/gdufort/.cache/pertdata/ReplogleWeissman2022_rpe1\n",
      "    adata: AnnData object with n_obs ✕ n_vars = 247914 ✕ 8749\n"
     ]
    }
   ],
   "source": [
    "ReplogleWeissman2022_rpe1 = pertdata.PertDataset(name=\"ReplogleWeissman2022_rpe1\")\n",
    "print(ReplogleWeissman2022_rpe1)\n"
   ]
  },
  {
   "cell_type": "code",
   "execution_count": 52,
   "metadata": {},
   "outputs": [
    {
     "name": "stdout",
     "output_type": "stream",
     "text": [
      "4\n"
     ]
    }
   ],
   "source": [
    "column_name = \"gene_id\"\n",
    "\n",
    "rpe1_unique_filtered_genes = filter_genes(\n",
    "    ReplogleWeissman2022_rpe1.adata, column_name, carlos_genes_ensmbl_ids\n",
    ")\n",
    "print(len(rpe1_unique_filtered_genes))\n"
   ]
  },
  {
   "cell_type": "code",
   "execution_count": 53,
   "metadata": {},
   "outputs": [],
   "source": [
    "# Add the control cell line\n",
    "rpe1_unique_filtered_genes.append(\"non-targeting\")\n"
   ]
  },
  {
   "cell_type": "code",
   "execution_count": 54,
   "metadata": {},
   "outputs": [
    {
     "name": "stdout",
     "output_type": "stream",
     "text": [
      "Processing group non-targeting with 11485 cells.\n",
      "Processing group ENSG00000167325 with 67 cells.\n",
      "Processing group ENSG00000171848 with 229 cells.\n",
      "Processing group ENSG00000135069 with 160 cells.\n",
      "Processing group ENSG00000228716 with 63 cells.\n"
     ]
    }
   ],
   "source": [
    "ReplogleWeissman2022_rpe1.pseudobulk_by_condition(\n",
    "    \"gene_id\",\n",
    "    replace=True,\n",
    "    filter_values=rpe1_unique_filtered_genes,\n",
    "    min_cell_count=0,\n",
    "    percentage=percentage,\n",
    "    amount=amount,\n",
    ")\n"
   ]
  },
  {
   "cell_type": "code",
   "execution_count": 55,
   "metadata": {},
   "outputs": [],
   "source": [
    "# ReplogleWeissman2022_rpe1.normalize(type=\"CPM\")\n"
   ]
  },
  {
   "cell_type": "code",
   "execution_count": 56,
   "metadata": {},
   "outputs": [
    {
     "name": "stdout",
     "output_type": "stream",
     "text": [
      "Exporting all 150 samples to: Not-norm-ReplogleWeissman2022_rpe1_essential_Carlos_genes_pseudobulk_m100_p0.5_a30.tsv\n"
     ]
    }
   ],
   "source": [
    "ReplogleWeissman2022_rpe1.export_tsv(\n",
    "    \"Not-norm-ReplogleWeissman2022_rpe1_essential_Carlos_genes_pseudobulk\"\n",
    "    + \"_m\"\n",
    "    + str(min_cell_count)\n",
    "    + \"_p\"\n",
    "    + str(percentage)\n",
    "    + \"_a\"\n",
    "    + str(amount)\n",
    "    + \".tsv\"\n",
    ")\n"
   ]
  },
  {
   "cell_type": "markdown",
   "metadata": {},
   "source": [
    "# ReplogleK526 essential"
   ]
  },
  {
   "cell_type": "code",
   "execution_count": 57,
   "metadata": {},
   "outputs": [
    {
     "name": "stdout",
     "output_type": "stream",
     "text": [
      "Details for 'ReplogleWeissman2022_K562_essential':\n",
      "{\n",
      "  \"name\": \"ReplogleWeissman2022_K562_essential\",\n",
      "  \"info\": \"\",\n",
      "  \"publication\": {\n",
      "    \"doi\": \"10.1016/j.cell.2022.05.013\"\n",
      "  },\n",
      "  \"repository\": \"scPerturb\",\n",
      "  \"url\": \"https://zenodo.org/record/7041849/files/ReplogleWeissman2022_K562_essential.h5ad\"\n",
      "}\n"
     ]
    }
   ],
   "source": [
    "selected_dataset = \"ReplogleWeissman2022_K562_essential\"\n",
    "print(f\"Details for '{selected_dataset}':\")\n",
    "print(json.dumps(datasets_dict[selected_dataset], indent=2))\n"
   ]
  },
  {
   "cell_type": "code",
   "execution_count": 58,
   "metadata": {},
   "outputs": [
    {
     "name": "stdout",
     "output_type": "stream",
     "text": [
      "Dataset already cached: /home/gdufort/.cache/pertdata/ReplogleWeissman2022_K562_essential\n",
      "Loading: /home/gdufort/.cache/pertdata/ReplogleWeissman2022_K562_essential/adata.h5ad\n",
      "PertDataset object\n",
      "    name: ReplogleWeissman2022_K562_essential\n",
      "    cache_dir_path: /home/gdufort/.cache/pertdata\n",
      "    path: /home/gdufort/.cache/pertdata/ReplogleWeissman2022_K562_essential\n",
      "    adata: AnnData object with n_obs ✕ n_vars = 310385 ✕ 8563\n"
     ]
    }
   ],
   "source": [
    "ReplogleWeissman2022_K562_essential = pertdata.PertDataset(\n",
    "    name=\"ReplogleWeissman2022_K562_essential\"\n",
    ")\n",
    "print(ReplogleWeissman2022_K562_essential)\n"
   ]
  },
  {
   "cell_type": "code",
   "execution_count": 59,
   "metadata": {},
   "outputs": [
    {
     "name": "stdout",
     "output_type": "stream",
     "text": [
      "4\n"
     ]
    }
   ],
   "source": [
    "column_name = \"gene_id\"\n",
    "\n",
    "replogle_unique_filtered_genes = filter_genes(\n",
    "    ReplogleWeissman2022_K562_essential.adata, column_name, carlos_genes_ensmbl_ids\n",
    ")\n",
    "print(len(replogle_unique_filtered_genes))"
   ]
  },
  {
   "cell_type": "code",
   "execution_count": 60,
   "metadata": {},
   "outputs": [],
   "source": [
    "# Add the control cell line\n",
    "replogle_unique_filtered_genes.append(\"non-targeting\")\n"
   ]
  },
  {
   "cell_type": "code",
   "execution_count": 61,
   "metadata": {},
   "outputs": [
    {
     "name": "stdout",
     "output_type": "stream",
     "text": [
      "Processing group ENSG00000171848 with 577 cells.\n",
      "Processing group non-targeting with 10691 cells.\n",
      "Processing group ENSG00000228716 with 125 cells.\n",
      "Processing group ENSG00000135069 with 72 cells.\n",
      "Processing group ENSG00000167325 with 103 cells.\n"
     ]
    }
   ],
   "source": [
    "ReplogleWeissman2022_K562_essential.pseudobulk_by_condition(\n",
    "    \"gene_id\",\n",
    "    replace=True,\n",
    "    filter_values=replogle_unique_filtered_genes,\n",
    "    min_cell_count=0,\n",
    "    percentage=percentage,\n",
    "    amount=amount,\n",
    ")\n"
   ]
  },
  {
   "cell_type": "code",
   "execution_count": 62,
   "metadata": {},
   "outputs": [],
   "source": [
    "# ReplogleWeissman2022_K562_essential.normalize(type=\"CPM\")\n"
   ]
  },
  {
   "cell_type": "code",
   "execution_count": 63,
   "metadata": {},
   "outputs": [
    {
     "name": "stdout",
     "output_type": "stream",
     "text": [
      "Exporting all 150 samples to: Not-norm-ReplogleWeissman2022_K562_essential_Carlos_genes_pseudobulk_m100_p0.5_a30.tsv\n"
     ]
    }
   ],
   "source": [
    "ReplogleWeissman2022_K562_essential.export_tsv(\n",
    "    \"Not-norm-ReplogleWeissman2022_K562_essential_Carlos_genes_pseudobulk\"\n",
    "    + \"_m\"\n",
    "    + str(min_cell_count)\n",
    "    + \"_p\"\n",
    "    + str(percentage)\n",
    "    + \"_a\"\n",
    "    + str(amount)\n",
    "    + \".tsv\"\n",
    ")\n"
   ]
  },
  {
   "cell_type": "code",
   "execution_count": null,
   "metadata": {},
   "outputs": [
    {
     "name": "stdout",
     "output_type": "stream",
     "text": [
      "Details for 'ReplogleWeissman2022_rpe1':\n",
      "{\n",
      "  \"name\": \"ReplogleWeissman2022_rpe1\",\n",
      "  \"info\": \"\",\n",
      "  \"publication\": {\n",
      "    \"doi\": \"10.1016/j.cell.2022.05.013\"\n",
      "  },\n",
      "  \"repository\": \"scPerturb\",\n",
      "  \"url\": \"https://zenodo.org/record/7041849/files/ReplogleWeissman2022_rpe1.h5ad\"\n",
      "}\n"
     ]
    }
   ],
   "source": [
    "selected_dataset = \"ReplogleWeissman2022_rpe1\"\n",
    "print(f\"Details for '{selected_dataset}':\")\n",
    "print(json.dumps(datasets_dict[selected_dataset], indent=2))\n"
   ]
  },
  {
   "cell_type": "code",
   "execution_count": null,
   "metadata": {},
   "outputs": [],
   "source": [
    "# Find the intersection between the three unique filtered genes lists\n",
    "common_genes = set(jHepG2_unique_filtered_genes).intersection(\n",
    "    jurkat_unique_filtered_genes,\n",
    "    replogle_unique_filtered_genes,\n",
    "    rpe1_unique_filtered_genes,\n",
    ")"
   ]
  },
  {
   "cell_type": "code",
   "execution_count": null,
   "metadata": {},
   "outputs": [],
   "source": [
    "print(len(common_genes))"
   ]
  },
  {
   "cell_type": "code",
   "execution_count": null,
   "metadata": {},
   "outputs": [],
   "source": [
    "print(common_genes)"
   ]
  },
  {
   "cell_type": "code",
   "execution_count": null,
   "metadata": {},
   "outputs": [],
   "source": [
    "# Print the gene names associated to the common genes (in column gene_id) obtained from ReplogleWeissman2022_K562_essential\n",
    "column_name = \"gene_id\"\n",
    "common_genes_names = (\n",
    "    ReplogleWeissman2022_K562_essential.adata.obs[\"gene\"][\n",
    "        ReplogleWeissman2022_K562_essential.adata.obs[column_name].isin(common_genes)\n",
    "    ]\n",
    "    .unique()\n",
    "    .tolist()\n",
    ")\n",
    "print(common_genes_names)"
   ]
  },
  {
   "cell_type": "code",
   "execution_count": null,
   "metadata": {},
   "outputs": [],
   "source": [
    "# Add the control cell line\n",
    "unique_filtered_genes.append(\"non-targeting\")"
   ]
  },
  {
   "cell_type": "code",
   "execution_count": null,
   "metadata": {},
   "outputs": [],
   "source": [
    "min_cell_count = 100\n",
    "percentage = 0.5\n",
    "amount = 30"
   ]
  },
  {
   "cell_type": "code",
   "execution_count": null,
   "metadata": {},
   "outputs": [],
   "source": [
    "ReplogleWeissman2022_K562_essential.pseudobulk_by_condition(\n",
    "    \"gene_id\",\n",
    "    replace=True,\n",
    "    filter_values=unique_filtered_genes,\n",
    "    min_cell_count=min_cell_count,\n",
    "    percentage=percentage,\n",
    "    amount=amount,\n",
    ")\n"
   ]
  },
  {
   "cell_type": "code",
   "execution_count": null,
   "metadata": {},
   "outputs": [],
   "source": [
    "ReplogleWeissman2022_K562_essential.adata.obs\n"
   ]
  },
  {
   "cell_type": "code",
   "execution_count": null,
   "metadata": {},
   "outputs": [],
   "source": [
    "# ReplogleWeissman2022_K562_essential.normalize(type=\"CPM\")\n"
   ]
  },
  {
   "cell_type": "code",
   "execution_count": null,
   "metadata": {},
   "outputs": [],
   "source": [
    "ReplogleWeissman2022_K562_essential.export_tsv(\n",
    "    \"Non-norm-ReplogleWeissman2022_K562_essential_pseudobulk\"\n",
    "    + \"_m\"\n",
    "    + str(min_cell_count)\n",
    "    + \"_p\"\n",
    "    + str(percentage)\n",
    "    + \"_a\"\n",
    "    + str(amount)\n",
    "    + \".tsv\"\n",
    ")"
   ]
  }
 ],
 "metadata": {
  "kernelspec": {
   "display_name": "pytorch",
   "language": "python",
   "name": "python3"
  },
  "language_info": {
   "codemirror_mode": {
    "name": "ipython",
    "version": 3
   },
   "file_extension": ".py",
   "mimetype": "text/x-python",
   "name": "python",
   "nbconvert_exporter": "python",
   "pygments_lexer": "ipython3",
   "version": "3.12.2"
  }
 },
 "nbformat": 4,
 "nbformat_minor": 2
}
