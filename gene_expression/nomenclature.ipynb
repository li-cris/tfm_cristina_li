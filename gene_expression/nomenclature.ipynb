{
 "cells": [
  {
   "cell_type": "markdown",
   "metadata": {},
   "source": [
    "To map Ensembl stable IDs (such as gene, transcript, or protein IDs) to gene names (i.e., HGNC symbols from the [HUGO Gene Nomenclature Committee](https://www.genenames.org)), we use Ensembl's REST API."
   ]
  },
  {
   "cell_type": "code",
   "execution_count": null,
   "metadata": {},
   "outputs": [],
   "source": [
    "import nomenclature\n",
    "\n",
    "ensembl_id = \"ENSG00000139618\"\n",
    "gene_name = nomenclature.ensembl_id_to_gene_name(ensembl_id=ensembl_id)\n",
    "print(f\"Gene name for {ensembl_id}: {gene_name}\")"
   ]
  }
 ],
 "metadata": {
  "kernelspec": {
   "display_name": ".venv",
   "language": "python",
   "name": "python3"
  },
  "language_info": {
   "codemirror_mode": {
    "name": "ipython",
    "version": 3
   },
   "file_extension": ".py",
   "mimetype": "text/x-python",
   "name": "python",
   "nbconvert_exporter": "python",
   "pygments_lexer": "ipython3",
   "version": "3.10.12"
  }
 },
 "nbformat": 4,
 "nbformat_minor": 2
}
