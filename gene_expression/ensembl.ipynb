{
 "cells": [
  {
   "cell_type": "markdown",
   "metadata": {},
   "source": [
    "To map Ensembl stable IDs (such as gene, transcript, or protein IDs) to gene names (i.e., HGNC symbols from the [HUGO Gene Nomenclature Committee](https://www.genenames.org)), we use Ensembl's REST API."
   ]
  },
  {
   "cell_type": "code",
   "execution_count": 3,
   "metadata": {},
   "outputs": [],
   "source": [
    "import requests\n",
    "\n",
    "\n",
    "def get_gene_name(ensembl_id: str) -> str:\n",
    "    \"\"\"\n",
    "    Get the gene name for an Ensembl ID using the Ensembl REST API.\n",
    "\n",
    "    Args:\n",
    "        ensembl_id (str): The Ensembl ID for the gene.\n",
    "\n",
    "    Returns:\n",
    "        The gene name.\n",
    "\n",
    "    Raises:\n",
    "        Exception: If the request to the Ensembl REST API fails.\n",
    "    \"\"\"\n",
    "    # The URL for the Ensembl REST API\n",
    "    url = (\n",
    "        f\"https://rest.ensembl.org/lookup/id/{ensembl_id}?content-type=application/json\"\n",
    "    )\n",
    "\n",
    "    try:\n",
    "        # Send a GET request to the Ensembl REST API\n",
    "        response = requests.get(url=url)\n",
    "        response.raise_for_status()\n",
    "\n",
    "        # Return the gene name from the JSON response\n",
    "        data = response.json()\n",
    "        return data.get(\"display_name\", \"No gene name found\")\n",
    "    except requests.exceptions.RequestException as e:\n",
    "        print(f\"Error: Failed to get gene name from Ensembl REST API: {e}\")\n",
    "        raise"
   ]
  },
  {
   "cell_type": "code",
   "execution_count": 4,
   "metadata": {},
   "outputs": [
    {
     "name": "stdout",
     "output_type": "stream",
     "text": [
      "Gene name for ENSG00000139618: BRCA2\n"
     ]
    }
   ],
   "source": [
    "ensembl_id = \"ENSG00000139618\"\n",
    "gene_name = get_gene_name(ensembl_id=ensembl_id)\n",
    "print(f\"Gene name for {ensembl_id}: {gene_name}\")"
   ]
  }
 ],
 "metadata": {
  "kernelspec": {
   "display_name": ".venv",
   "language": "python",
   "name": "python3"
  },
  "language_info": {
   "codemirror_mode": {
    "name": "ipython",
    "version": 3
   },
   "file_extension": ".py",
   "mimetype": "text/x-python",
   "name": "python",
   "nbconvert_exporter": "python",
   "pygments_lexer": "ipython3",
   "version": "3.12.6"
  }
 },
 "nbformat": 4,
 "nbformat_minor": 2
}
